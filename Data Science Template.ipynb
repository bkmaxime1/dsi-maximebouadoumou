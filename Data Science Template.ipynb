{
 "cells": [
  {
   "cell_type": "markdown",
   "metadata": {},
   "source": [
    "# Executive Summary Section\n",
    "\n",
    "1. What is the business/product objectives of the project\n",
    "1. identify hypothesize goals and criteria for success\n",
    "1. My hypothesis for features we need to capture\n",
    "1. My guess at most important features \n",
    "1. Create a set of questions for identifying correct dataset \n",
    "1. Probable timeline\n",
    "\n",
    "\n",
    "- Acknowledgements\n",
    "- Links to helpful articles and resources\n"
   ]
  },
  {
   "cell_type": "markdown",
   "metadata": {},
   "source": [
    "* it's possible to go to File > download as .py this will allow you to save your Jupyter notebook as code that can be run in python."
   ]
  },
  {
   "cell_type": "code",
   "execution_count": null,
   "metadata": {
    "collapsed": true
   },
   "outputs": [],
   "source": [
    "# imports"
   ]
  },
  {
   "cell_type": "code",
   "execution_count": null,
   "metadata": {
    "collapsed": true
   },
   "outputs": [],
   "source": [
    "# read in data \n",
    "df = pd.read_csv()"
   ]
  },
  {
   "cell_type": "markdown",
   "metadata": {},
   "source": [
    "# Exploratory Data Analysis"
   ]
  },
  {
   "cell_type": "code",
   "execution_count": null,
   "metadata": {
    "collapsed": true
   },
   "outputs": [],
   "source": [
    "df.info()"
   ]
  },
  {
   "cell_type": "code",
   "execution_count": null,
   "metadata": {
    "collapsed": true
   },
   "outputs": [],
   "source": [
    "# recasting - Example be sure SS#'s are not integers "
   ]
  },
  {
   "cell_type": "code",
   "execution_count": null,
   "metadata": {
    "collapsed": true
   },
   "outputs": [],
   "source": [
    "# datetime conversions"
   ]
  },
  {
   "cell_type": "code",
   "execution_count": null,
   "metadata": {
    "collapsed": true
   },
   "outputs": [],
   "source": [
    "df.drop(['badcolumn1', 'terriblecolumn2'], inplace=True)\n",
    "\n",
    ".dropna axis=1 (axis=1 looking down the columns) #drop if missing more than 15% for example.\n",
    "# you can use the same logic for dropping rows drop rows if missing more than 20% of the data\n",
    "\n",
    "\n",
    ".isnull().sum().sum() This would give a cummulative total\n",
    "\n",
    "you can specify a\n",
    "\n",
    ".drop_duplicates() #be sure to be aware of which axis rows or columns\n",
    "\n"
   ]
  },
  {
   "cell_type": "code",
   "execution_count": null,
   "metadata": {
    "collapsed": true
   },
   "outputs": [],
   "source": [
    "# recasting changing the type float, integer, strings, etc..."
   ]
  },
  {
   "cell_type": "code",
   "execution_count": null,
   "metadata": {
    "collapsed": true
   },
   "outputs": [],
   "source": [
    ".info()\n",
    ".describe().round(3)  #helpful to take out the scientific notation "
   ]
  },
  {
   "cell_type": "code",
   "execution_count": null,
   "metadata": {
    "collapsed": true
   },
   "outputs": [],
   "source": [
    ".apply(lambda x) #use .apply to create some additional columns or modify columns"
   ]
  },
  {
   "cell_type": "code",
   "execution_count": null,
   "metadata": {
    "collapsed": true
   },
   "outputs": [],
   "source": [
    ".corr()\n",
    "#various pandas plots\n",
    ".plot(kind='pie, bar, hist')\n",
    "# seaborn plots: violin, heatmap, lmplot, scatter or hex plots \n",
    "#(if lots of data hex plots are better combines scatter with heatmap plots) boxplots"
   ]
  },
  {
   "cell_type": "code",
   "execution_count": null,
   "metadata": {
    "collapsed": true
   },
   "outputs": [],
   "source": [
    "# pivot tables and aggregation viz "
   ]
  },
  {
   "cell_type": "markdown",
   "metadata": {},
   "source": [
    "## Scaling Data"
   ]
  },
  {
   "cell_type": "code",
   "execution_count": null,
   "metadata": {
    "collapsed": true
   },
   "outputs": [],
   "source": [
    "# other viz"
   ]
  },
  {
   "cell_type": "code",
   "execution_count": null,
   "metadata": {
    "collapsed": true
   },
   "outputs": [],
   "source": [
    "StandardScaler(), MinMaxScaler(), RobustScaler(), etc...\n",
    "# good to keep the scaled version in a seperate DataFrame"
   ]
  },
  {
   "cell_type": "code",
   "execution_count": null,
   "metadata": {
    "collapsed": true
   },
   "outputs": [],
   "source": [
    "#dummies and join to the original \n",
    "pandas or patsy\n",
    "\n",
    "#subset our features - \n",
    "\n",
    "X = df.ix(:,1:-1)\n",
    "y = df.ix(:,-1)\n",
    "\n",
    "#crossvalidation or train_test_split"
   ]
  },
  {
   "cell_type": "code",
   "execution_count": null,
   "metadata": {
    "collapsed": true
   },
   "outputs": [],
   "source": [
    "#statsmodel or sklearn\n",
    "#statsmodel has a great summary - probaby better for one-off analysis\n",
    "sm.Logit(y,X)\n",
    "\n",
    "#sklearn - scales much better \n",
    "clf = LogisticRegressionCV(penalty='l1')\n",
    "clf.fit(X,y)"
   ]
  },
  {
   "cell_type": "code",
   "execution_count": null,
   "metadata": {
    "collapsed": true
   },
   "outputs": [],
   "source": [
    "from sklearn.cross_validation import cross_val_score\n",
    "# trying to see how well it generalizes - is there a big drop in performance of the model \n",
    "# when running the cross validation "
   ]
  },
  {
   "cell_type": "code",
   "execution_count": null,
   "metadata": {
    "collapsed": true
   },
   "outputs": [],
   "source": [
    "y_pred = model.predict(X_test)\n",
    "# confusion matrix\n",
    "# classification report"
   ]
  },
  {
   "cell_type": "code",
   "execution_count": null,
   "metadata": {
    "collapsed": true
   },
   "outputs": [],
   "source": [
    "KNearestNeighbor\n",
    "# confusion matrix, classification report"
   ]
  },
  {
   "cell_type": "code",
   "execution_count": null,
   "metadata": {
    "collapsed": true
   },
   "outputs": [],
   "source": [
    "#ROC curve, AUC (Area Under the Curve) for both"
   ]
  },
  {
   "cell_type": "markdown",
   "metadata": {},
   "source": [
    "# Conclusion\n",
    "\n",
    "1. Coefficient importance: statistically significant, plus or minus, size etc.\n",
    "1. Give examples, create a story\n",
    "1. Vizualizations \n",
    "1. Next Steps\n",
    "1. Risks/Assumptions\n",
    "\n",
    "\n",
    "#whenever you start to write start with the 2nd paragraph write the 1st paragraph last!"
   ]
  },
  {
   "cell_type": "code",
   "execution_count": 1,
   "metadata": {
    "collapsed": true
   },
   "outputs": [],
   "source": [
    "# more data needed, business rules check, involvement with other departments "
   ]
  },
  {
   "cell_type": "code",
   "execution_count": null,
   "metadata": {
    "collapsed": true
   },
   "outputs": [],
   "source": [
    "#Jupyter: cell > all Output > clear = takes all the code output errors and junk out to \n",
    "#clean up the Jupyter notebook"
   ]
  }
 ],
 "metadata": {
  "anaconda-cloud": {},
  "kernelspec": {
   "display_name": "Python [default]",
   "language": "python",
   "name": "python2"
  },
  "language_info": {
   "codemirror_mode": {
    "name": "ipython",
    "version": 2
   },
   "file_extension": ".py",
   "mimetype": "text/x-python",
   "name": "python",
   "nbconvert_exporter": "python",
   "pygments_lexer": "ipython2",
   "version": "2.7.12"
  }
 },
 "nbformat": 4,
 "nbformat_minor": 1
}
