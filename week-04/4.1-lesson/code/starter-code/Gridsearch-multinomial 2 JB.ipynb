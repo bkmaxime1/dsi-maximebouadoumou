{
 "cells": [
  {
   "cell_type": "code",
   "execution_count": 22,
   "metadata": {
    "collapsed": false
   },
   "outputs": [
    {
     "name": "stderr",
     "output_type": "stream",
     "text": [
      "//anaconda/lib/python2.7/site-packages/sklearn/metrics/metrics.py:4: DeprecationWarning: sklearn.metrics.metrics is deprecated and will be removed in 0.18. Please import from sklearn.metrics\n",
      "  DeprecationWarning)\n"
     ]
    }
   ],
   "source": [
    "import numpy as np\n",
    "import pandas as pd\n",
    "import patsy\n",
    "import matplotlib.pyplot as plt\n",
    "\n",
    "from sklearn.metrics import classification_report, confusion_matrix, accuracy_score,metrics\n",
    "from sklearn.cross_validation import train_test_split\n",
    "from sklearn.linear_model import LogisticRegression, LogisticRegressionCV\n",
    "from sklearn.grid_search import GridSearchCV"
   ]
  },
  {
   "cell_type": "markdown",
   "metadata": {},
   "source": [
    "Multinomial Logit\n",
    "Basically we have more than two(binomial) outcomes or classes. Let's look at recent San Francisco data set"
   ]
  },
  {
   "cell_type": "code",
   "execution_count": 23,
   "metadata": {
    "collapsed": true
   },
   "outputs": [],
   "source": [
    "# prep data, covert date to datetime, split for train and test, and build model\n",
    "sf_crime = pd.read_csv('../../assets/datasets/sf_crime_train.csv')\n",
    "sf_crime = sf_crime.dropna(inplace=True)\n",
    "# sf_crime.describes()\n",
    "\n",
    "# sf_crime.describe(include='all')"
   ]
  },
  {
   "cell_type": "code",
   "execution_count": 24,
   "metadata": {
    "collapsed": true
   },
   "outputs": [],
   "source": [
    "# prep data, covert date to datetime, split for train and test, and build model\n",
    "sf_crime = pd.read_csv('../../assets/datasets/sf_crime_train.csv')\n",
    "\n",
    "sf_crime = sf_crime.dropna()\n",
    "\n",
    "sf_crime['Dates'] = pd.to_datetime(sf_crime.Dates)\n",
    "sf_crime_dates = pd.DatetimeIndex(sf_crime.Dates.values, dtype='datetime64[ns]', freq=None)\n",
    "\n",
    "sf_crime['hour'] = sf_crime_dates.hour\n",
    "sf_crime['month'] = sf_crime_dates.month\n",
    "sf_crime['year'] = sf_crime_dates.year"
   ]
  },
  {
   "cell_type": "code",
   "execution_count": 25,
   "metadata": {
    "collapsed": false,
    "scrolled": true
   },
   "outputs": [
    {
     "data": {
      "text/html": [
       "<div>\n",
       "<table border=\"1\" class=\"dataframe\">\n",
       "  <thead>\n",
       "    <tr style=\"text-align: right;\">\n",
       "      <th></th>\n",
       "      <th>Dates</th>\n",
       "      <th>Category</th>\n",
       "      <th>Descript</th>\n",
       "      <th>DayOfWeek</th>\n",
       "      <th>PdDistrict</th>\n",
       "      <th>Resolution</th>\n",
       "      <th>Address</th>\n",
       "      <th>X</th>\n",
       "      <th>Y</th>\n",
       "      <th>hour</th>\n",
       "      <th>month</th>\n",
       "      <th>year</th>\n",
       "    </tr>\n",
       "  </thead>\n",
       "  <tbody>\n",
       "    <tr>\n",
       "      <th>0</th>\n",
       "      <td>2015-05-13 23:53:00</td>\n",
       "      <td>WARRANTS</td>\n",
       "      <td>WARRANT ARREST</td>\n",
       "      <td>Wednesday</td>\n",
       "      <td>NORTHERN</td>\n",
       "      <td>ARREST, BOOKED</td>\n",
       "      <td>OAK ST / LAGUNA ST</td>\n",
       "      <td>-122.425892</td>\n",
       "      <td>37.774599</td>\n",
       "      <td>23</td>\n",
       "      <td>5</td>\n",
       "      <td>2015</td>\n",
       "    </tr>\n",
       "    <tr>\n",
       "      <th>1</th>\n",
       "      <td>2015-05-13 23:53:00</td>\n",
       "      <td>OTHER OFFENSES</td>\n",
       "      <td>TRAFFIC VIOLATION ARREST</td>\n",
       "      <td>Wednesday</td>\n",
       "      <td>NORTHERN</td>\n",
       "      <td>ARREST, BOOKED</td>\n",
       "      <td>OAK ST / LAGUNA ST</td>\n",
       "      <td>-122.425892</td>\n",
       "      <td>37.774599</td>\n",
       "      <td>23</td>\n",
       "      <td>5</td>\n",
       "      <td>2015</td>\n",
       "    </tr>\n",
       "    <tr>\n",
       "      <th>2</th>\n",
       "      <td>2015-05-13 23:33:00</td>\n",
       "      <td>OTHER OFFENSES</td>\n",
       "      <td>TRAFFIC VIOLATION ARREST</td>\n",
       "      <td>Wednesday</td>\n",
       "      <td>NORTHERN</td>\n",
       "      <td>ARREST, BOOKED</td>\n",
       "      <td>VANNESS AV / GREENWICH ST</td>\n",
       "      <td>-122.424363</td>\n",
       "      <td>37.800414</td>\n",
       "      <td>23</td>\n",
       "      <td>5</td>\n",
       "      <td>2015</td>\n",
       "    </tr>\n",
       "    <tr>\n",
       "      <th>3</th>\n",
       "      <td>2015-05-13 23:30:00</td>\n",
       "      <td>LARCENY/THEFT</td>\n",
       "      <td>GRAND THEFT FROM LOCKED AUTO</td>\n",
       "      <td>Wednesday</td>\n",
       "      <td>NORTHERN</td>\n",
       "      <td>NONE</td>\n",
       "      <td>1500 Block of LOMBARD ST</td>\n",
       "      <td>-122.426995</td>\n",
       "      <td>37.800873</td>\n",
       "      <td>23</td>\n",
       "      <td>5</td>\n",
       "      <td>2015</td>\n",
       "    </tr>\n",
       "    <tr>\n",
       "      <th>4</th>\n",
       "      <td>2015-05-13 23:30:00</td>\n",
       "      <td>LARCENY/THEFT</td>\n",
       "      <td>GRAND THEFT FROM LOCKED AUTO</td>\n",
       "      <td>Wednesday</td>\n",
       "      <td>PARK</td>\n",
       "      <td>NONE</td>\n",
       "      <td>100 Block of BRODERICK ST</td>\n",
       "      <td>-122.438738</td>\n",
       "      <td>37.771541</td>\n",
       "      <td>23</td>\n",
       "      <td>5</td>\n",
       "      <td>2015</td>\n",
       "    </tr>\n",
       "  </tbody>\n",
       "</table>\n",
       "</div>"
      ],
      "text/plain": [
       "                Dates        Category                      Descript  \\\n",
       "0 2015-05-13 23:53:00        WARRANTS                WARRANT ARREST   \n",
       "1 2015-05-13 23:53:00  OTHER OFFENSES      TRAFFIC VIOLATION ARREST   \n",
       "2 2015-05-13 23:33:00  OTHER OFFENSES      TRAFFIC VIOLATION ARREST   \n",
       "3 2015-05-13 23:30:00   LARCENY/THEFT  GRAND THEFT FROM LOCKED AUTO   \n",
       "4 2015-05-13 23:30:00   LARCENY/THEFT  GRAND THEFT FROM LOCKED AUTO   \n",
       "\n",
       "   DayOfWeek PdDistrict      Resolution                    Address  \\\n",
       "0  Wednesday   NORTHERN  ARREST, BOOKED         OAK ST / LAGUNA ST   \n",
       "1  Wednesday   NORTHERN  ARREST, BOOKED         OAK ST / LAGUNA ST   \n",
       "2  Wednesday   NORTHERN  ARREST, BOOKED  VANNESS AV / GREENWICH ST   \n",
       "3  Wednesday   NORTHERN            NONE   1500 Block of LOMBARD ST   \n",
       "4  Wednesday       PARK            NONE  100 Block of BRODERICK ST   \n",
       "\n",
       "            X          Y  hour  month  year  \n",
       "0 -122.425892  37.774599    23      5  2015  \n",
       "1 -122.425892  37.774599    23      5  2015  \n",
       "2 -122.424363  37.800414    23      5  2015  \n",
       "3 -122.426995  37.800873    23      5  2015  \n",
       "4 -122.438738  37.771541    23      5  2015  "
      ]
     },
     "execution_count": 25,
     "metadata": {},
     "output_type": "execute_result"
    }
   ],
   "source": [
    "sf_crime.head()"
   ]
  },
  {
   "cell_type": "code",
   "execution_count": 41,
   "metadata": {
    "collapsed": false,
    "scrolled": true
   },
   "outputs": [
    {
     "data": {
      "text/html": [
       "<div>\n",
       "<table border=\"1\" class=\"dataframe\">\n",
       "  <thead>\n",
       "    <tr style=\"text-align: right;\">\n",
       "      <th></th>\n",
       "      <th>Dates</th>\n",
       "      <th>Category</th>\n",
       "      <th>Descript</th>\n",
       "      <th>DayOfWeek</th>\n",
       "      <th>PdDistrict</th>\n",
       "      <th>Resolution</th>\n",
       "      <th>Address</th>\n",
       "      <th>X</th>\n",
       "      <th>Y</th>\n",
       "      <th>hour</th>\n",
       "      <th>month</th>\n",
       "      <th>year</th>\n",
       "    </tr>\n",
       "  </thead>\n",
       "  <tbody>\n",
       "    <tr>\n",
       "      <th>count</th>\n",
       "      <td>18000</td>\n",
       "      <td>18000</td>\n",
       "      <td>18000</td>\n",
       "      <td>18000</td>\n",
       "      <td>18000</td>\n",
       "      <td>18000</td>\n",
       "      <td>18000</td>\n",
       "      <td>18000.000000</td>\n",
       "      <td>18000.000000</td>\n",
       "      <td>18000.000000</td>\n",
       "      <td>18000.000000</td>\n",
       "      <td>18000.000000</td>\n",
       "    </tr>\n",
       "    <tr>\n",
       "      <th>unique</th>\n",
       "      <td>7855</td>\n",
       "      <td>36</td>\n",
       "      <td>510</td>\n",
       "      <td>7</td>\n",
       "      <td>10</td>\n",
       "      <td>10</td>\n",
       "      <td>6381</td>\n",
       "      <td>NaN</td>\n",
       "      <td>NaN</td>\n",
       "      <td>NaN</td>\n",
       "      <td>NaN</td>\n",
       "      <td>NaN</td>\n",
       "    </tr>\n",
       "    <tr>\n",
       "      <th>top</th>\n",
       "      <td>2015-02-20 00:01:00</td>\n",
       "      <td>LARCENY/THEFT</td>\n",
       "      <td>GRAND THEFT FROM LOCKED AUTO</td>\n",
       "      <td>Wednesday</td>\n",
       "      <td>SOUTHERN</td>\n",
       "      <td>NONE</td>\n",
       "      <td>800 Block of BRYANT ST</td>\n",
       "      <td>NaN</td>\n",
       "      <td>NaN</td>\n",
       "      <td>NaN</td>\n",
       "      <td>NaN</td>\n",
       "      <td>NaN</td>\n",
       "    </tr>\n",
       "    <tr>\n",
       "      <th>freq</th>\n",
       "      <td>25</td>\n",
       "      <td>4885</td>\n",
       "      <td>2127</td>\n",
       "      <td>2930</td>\n",
       "      <td>3287</td>\n",
       "      <td>12862</td>\n",
       "      <td>402</td>\n",
       "      <td>NaN</td>\n",
       "      <td>NaN</td>\n",
       "      <td>NaN</td>\n",
       "      <td>NaN</td>\n",
       "      <td>NaN</td>\n",
       "    </tr>\n",
       "    <tr>\n",
       "      <th>first</th>\n",
       "      <td>2015-02-17 20:00:00</td>\n",
       "      <td>NaN</td>\n",
       "      <td>NaN</td>\n",
       "      <td>NaN</td>\n",
       "      <td>NaN</td>\n",
       "      <td>NaN</td>\n",
       "      <td>NaN</td>\n",
       "      <td>NaN</td>\n",
       "      <td>NaN</td>\n",
       "      <td>NaN</td>\n",
       "      <td>NaN</td>\n",
       "      <td>NaN</td>\n",
       "    </tr>\n",
       "    <tr>\n",
       "      <th>last</th>\n",
       "      <td>2015-05-13 23:53:00</td>\n",
       "      <td>NaN</td>\n",
       "      <td>NaN</td>\n",
       "      <td>NaN</td>\n",
       "      <td>NaN</td>\n",
       "      <td>NaN</td>\n",
       "      <td>NaN</td>\n",
       "      <td>NaN</td>\n",
       "      <td>NaN</td>\n",
       "      <td>NaN</td>\n",
       "      <td>NaN</td>\n",
       "      <td>NaN</td>\n",
       "    </tr>\n",
       "    <tr>\n",
       "      <th>mean</th>\n",
       "      <td>NaN</td>\n",
       "      <td>NaN</td>\n",
       "      <td>NaN</td>\n",
       "      <td>NaN</td>\n",
       "      <td>NaN</td>\n",
       "      <td>NaN</td>\n",
       "      <td>NaN</td>\n",
       "      <td>-122.423639</td>\n",
       "      <td>37.768466</td>\n",
       "      <td>13.646833</td>\n",
       "      <td>3.489944</td>\n",
       "      <td>2015.000000</td>\n",
       "    </tr>\n",
       "    <tr>\n",
       "      <th>std</th>\n",
       "      <td>NaN</td>\n",
       "      <td>NaN</td>\n",
       "      <td>NaN</td>\n",
       "      <td>NaN</td>\n",
       "      <td>NaN</td>\n",
       "      <td>NaN</td>\n",
       "      <td>NaN</td>\n",
       "      <td>0.026532</td>\n",
       "      <td>0.024391</td>\n",
       "      <td>6.539098</td>\n",
       "      <td>0.868601</td>\n",
       "      <td>0.537351</td>\n",
       "    </tr>\n",
       "    <tr>\n",
       "      <th>min</th>\n",
       "      <td>NaN</td>\n",
       "      <td>NaN</td>\n",
       "      <td>NaN</td>\n",
       "      <td>NaN</td>\n",
       "      <td>NaN</td>\n",
       "      <td>NaN</td>\n",
       "      <td>NaN</td>\n",
       "      <td>-122.513642</td>\n",
       "      <td>37.708154</td>\n",
       "      <td>0.000000</td>\n",
       "      <td>2.000000</td>\n",
       "      <td>2015.000000</td>\n",
       "    </tr>\n",
       "    <tr>\n",
       "      <th>25%</th>\n",
       "      <td>NaN</td>\n",
       "      <td>NaN</td>\n",
       "      <td>NaN</td>\n",
       "      <td>NaN</td>\n",
       "      <td>NaN</td>\n",
       "      <td>NaN</td>\n",
       "      <td>NaN</td>\n",
       "      <td>-122.434199</td>\n",
       "      <td>37.753838</td>\n",
       "      <td>10.000000</td>\n",
       "      <td>3.000000</td>\n",
       "      <td>2015.000000</td>\n",
       "    </tr>\n",
       "    <tr>\n",
       "      <th>50%</th>\n",
       "      <td>NaN</td>\n",
       "      <td>NaN</td>\n",
       "      <td>NaN</td>\n",
       "      <td>NaN</td>\n",
       "      <td>NaN</td>\n",
       "      <td>NaN</td>\n",
       "      <td>NaN</td>\n",
       "      <td>-122.416949</td>\n",
       "      <td>37.775608</td>\n",
       "      <td>15.000000</td>\n",
       "      <td>3.000000</td>\n",
       "      <td>2015.000000</td>\n",
       "    </tr>\n",
       "    <tr>\n",
       "      <th>75%</th>\n",
       "      <td>NaN</td>\n",
       "      <td>NaN</td>\n",
       "      <td>NaN</td>\n",
       "      <td>NaN</td>\n",
       "      <td>NaN</td>\n",
       "      <td>NaN</td>\n",
       "      <td>NaN</td>\n",
       "      <td>-122.406539</td>\n",
       "      <td>37.785390</td>\n",
       "      <td>19.000000</td>\n",
       "      <td>4.000000</td>\n",
       "      <td>2015.000000</td>\n",
       "    </tr>\n",
       "    <tr>\n",
       "      <th>max</th>\n",
       "      <td>NaN</td>\n",
       "      <td>NaN</td>\n",
       "      <td>NaN</td>\n",
       "      <td>NaN</td>\n",
       "      <td>NaN</td>\n",
       "      <td>NaN</td>\n",
       "      <td>NaN</td>\n",
       "      <td>-122.365565</td>\n",
       "      <td>37.819923</td>\n",
       "      <td>23.000000</td>\n",
       "      <td>5.000000</td>\n",
       "      <td>2015.000000</td>\n",
       "    </tr>\n",
       "  </tbody>\n",
       "</table>\n",
       "</div>"
      ],
      "text/plain": [
       "                      Dates       Category                      Descript  \\\n",
       "count                 18000          18000                         18000   \n",
       "unique                 7855             36                           510   \n",
       "top     2015-02-20 00:01:00  LARCENY/THEFT  GRAND THEFT FROM LOCKED AUTO   \n",
       "freq                     25           4885                          2127   \n",
       "first   2015-02-17 20:00:00            NaN                           NaN   \n",
       "last    2015-05-13 23:53:00            NaN                           NaN   \n",
       "mean                    NaN            NaN                           NaN   \n",
       "std                     NaN            NaN                           NaN   \n",
       "min                     NaN            NaN                           NaN   \n",
       "25%                     NaN            NaN                           NaN   \n",
       "50%                     NaN            NaN                           NaN   \n",
       "75%                     NaN            NaN                           NaN   \n",
       "max                     NaN            NaN                           NaN   \n",
       "\n",
       "        DayOfWeek PdDistrict Resolution                 Address             X  \\\n",
       "count       18000      18000      18000                   18000  18000.000000   \n",
       "unique          7         10         10                    6381           NaN   \n",
       "top     Wednesday   SOUTHERN       NONE  800 Block of BRYANT ST           NaN   \n",
       "freq         2930       3287      12862                     402           NaN   \n",
       "first         NaN        NaN        NaN                     NaN           NaN   \n",
       "last          NaN        NaN        NaN                     NaN           NaN   \n",
       "mean          NaN        NaN        NaN                     NaN   -122.423639   \n",
       "std           NaN        NaN        NaN                     NaN      0.026532   \n",
       "min           NaN        NaN        NaN                     NaN   -122.513642   \n",
       "25%           NaN        NaN        NaN                     NaN   -122.434199   \n",
       "50%           NaN        NaN        NaN                     NaN   -122.416949   \n",
       "75%           NaN        NaN        NaN                     NaN   -122.406539   \n",
       "max           NaN        NaN        NaN                     NaN   -122.365565   \n",
       "\n",
       "                   Y          hour         month          year  \n",
       "count   18000.000000  18000.000000  18000.000000  18000.000000  \n",
       "unique           NaN           NaN           NaN           NaN  \n",
       "top              NaN           NaN           NaN           NaN  \n",
       "freq             NaN           NaN           NaN           NaN  \n",
       "first            NaN           NaN           NaN           NaN  \n",
       "last             NaN           NaN           NaN           NaN  \n",
       "mean       37.768466     13.646833      3.489944   2015.000000  \n",
       "std         0.024391      6.539098      0.868601      0.537351  \n",
       "min        37.708154      0.000000      2.000000   2015.000000  \n",
       "25%        37.753838     10.000000      3.000000   2015.000000  \n",
       "50%        37.775608     15.000000      3.000000   2015.000000  \n",
       "75%        37.785390     19.000000      4.000000   2015.000000  \n",
       "max        37.819923     23.000000      5.000000   2015.000000  "
      ]
     },
     "execution_count": 41,
     "metadata": {},
     "output_type": "execute_result"
    }
   ],
   "source": [
    "sf_crime.describe(include = 'all')"
   ]
  },
  {
   "cell_type": "code",
   "execution_count": 42,
   "metadata": {
    "collapsed": false
   },
   "outputs": [
    {
     "data": {
      "image/png": "[encoded data removed]",
      "text/plain": [
       "<matplotlib.figure.Figure at 0x10a41e710>"
      ]
     },
     "metadata": {},
     "output_type": "display_data"
    }
   ],
   "source": [
    "sf_crime['Category'].value_counts().plot(kind ='bar',figsize = (10,6))\n",
    "plt.show()"
   ]
  },
  {
   "cell_type": "code",
   "execution_count": 26,
   "metadata": {
    "collapsed": false
   },
   "outputs": [
    {
     "data": {
      "text/plain": [
       "Wednesday    2930\n",
       "Friday       2733\n",
       "Saturday     2556\n",
       "Thursday     2479\n",
       "Sunday       2456\n",
       "Monday       2447\n",
       "Tuesday      2399\n",
       "Name: DayOfWeek, dtype: int64"
      ]
     },
     "execution_count": 26,
     "metadata": {},
     "output_type": "execute_result"
    }
   ],
   "source": [
    "sf_crime.DayOfWeek.value_counts()"
   ]
  },
  {
   "cell_type": "code",
   "execution_count": 27,
   "metadata": {
    "collapsed": false
   },
   "outputs": [
    {
     "data": {
      "text/plain": [
       "LARCENY/THEFT                  4885\n",
       "OTHER OFFENSES                 2291\n",
       "NON-CRIMINAL                   2255\n",
       "ASSAULT                        1538\n",
       "VEHICLE THEFT                   967\n",
       "VANDALISM                       877\n",
       "BURGLARY                        732\n",
       "WARRANTS                        728\n",
       "SUSPICIOUS OCC                  592\n",
       "MISSING PERSON                  535\n",
       "DRUG/NARCOTIC                   496\n",
       "ROBBERY                         465\n",
       "FRAUD                           363\n",
       "SECONDARY CODES                 261\n",
       "WEAPON LAWS                     212\n",
       "TRESPASS                        131\n",
       "STOLEN PROPERTY                 111\n",
       "SEX OFFENSES FORCIBLE           103\n",
       "FORGERY/COUNTERFEITING           85\n",
       "DRUNKENNESS                      74\n",
       "KIDNAPPING                       50\n",
       "PROSTITUTION                     44\n",
       "DRIVING UNDER THE INFLUENCE      42\n",
       "DISORDERLY CONDUCT               37\n",
       "ARSON                            35\n",
       "LIQUOR LAWS                      25\n",
       "RUNAWAY                          16\n",
       "BRIBERY                          11\n",
       "EMBEZZLEMENT                     11\n",
       "SUICIDE                           5\n",
       "FAMILY OFFENSES                   5\n",
       "LOITERING                         4\n",
       "EXTORTION                         4\n",
       "SEX OFFENSES NON FORCIBLE         4\n",
       "GAMBLING                          4\n",
       "BAD CHECKS                        2\n",
       "Name: Category, dtype: int64"
      ]
     },
     "execution_count": 27,
     "metadata": {},
     "output_type": "execute_result"
    }
   ],
   "source": [
    "sf_crime.Category.value_counts()"
   ]
  },
  {
   "cell_type": "code",
   "execution_count": 28,
   "metadata": {
    "collapsed": false
   },
   "outputs": [
    {
     "data": {
      "text/plain": [
       "<matplotlib.axes._subplots.AxesSubplot at 0x115b81d90>"
      ]
     },
     "execution_count": 28,
     "metadata": {},
     "output_type": "execute_result"
    }
   ],
   "source": [
    "sf_crime.Category.value_counts().plot(kind='bar')"
   ]
  },
  {
   "cell_type": "markdown",
   "metadata": {},
   "source": [
    "Setting Thresholds for binary Classes Let's rebuild our target to have two classes, and review how to optimize thresholds"
   ]
  },
  {
   "cell_type": "code",
   "execution_count": 29,
   "metadata": {
    "collapsed": true
   },
   "outputs": [],
   "source": [
    "subset = ['ASSAULT','VANDALISM'] #(1)\n",
    "sf_crime_sub = sf_crime[sf_crime['Category'].str.contains('|'.join(subset))]\n",
    "\n",
    "#sf_sample = sf_crime_sub.sample(frac=0.50)\n",
    "\n",
    "\n",
    "X = patsy.dmatrix('~ C(hour) + C(DayOfWeek) + C(PdDistrict) + X + Y', sf_crime_sub) # To get dummies\n",
    "Y = sf_crime_sub.Category.values\n",
    "# split for train and test\n",
    "X_train, X_test, Y_train, Y_test = train_test_split(X, Y, test_size=0.33, stratify=Y, random_state=5)"
   ]
  },
  {
   "cell_type": "code",
   "execution_count": 30,
   "metadata": {
    "collapsed": false
   },
   "outputs": [
    {
     "data": {
      "text/plain": [
       "LogisticRegressionCV(Cs=10, class_weight=None, cv=5, dual=False,\n",
       "           fit_intercept=True, intercept_scaling=1.0, max_iter=100,\n",
       "           multi_class='ovr', n_jobs=1, penalty='l2', random_state=None,\n",
       "           refit=True, scoring='accuracy', solver='lbfgs', tol=0.0001,\n",
       "           verbose=0)"
      ]
     },
     "execution_count": 30,
     "metadata": {},
     "output_type": "execute_result"
    }
   ],
   "source": [
    "# fit model with five folds and lasso regularization\n",
    "# lassolm = linear_model.lasso().fit(X_train, Y_train)\n",
    "# modeln= lassolm\n",
    "# predictions = model.predict(X_sub)\n",
    "\n",
    "clf = LogisticRegressionCV(cv = 5, scoring ='accuracy') #(1)\n",
    "clf.fit(X_train,Y_train)\n",
    "# use Cs=15 to test a grid of 15 distinct parameters\n",
    "# remember: Cs describes the inverse of regularization strength\n",
    "#logreg_cv = LogisticRegressionCV(solver='liblinear') # update inputs here\n",
    "\n"
   ]
  },
  {
   "cell_type": "code",
   "execution_count": 31,
   "metadata": {
    "collapsed": false
   },
   "outputs": [
    {
     "data": {
      "text/html": [
       "<div>\n",
       "<table border=\"1\" class=\"dataframe\">\n",
       "  <thead>\n",
       "    <tr style=\"text-align: right;\">\n",
       "      <th></th>\n",
       "      <th>ASSAULT</th>\n",
       "      <th>VANDALISM</th>\n",
       "    </tr>\n",
       "  </thead>\n",
       "  <tbody>\n",
       "    <tr>\n",
       "      <th>ASSAULT</th>\n",
       "      <td>457</td>\n",
       "      <td>51</td>\n",
       "    </tr>\n",
       "    <tr>\n",
       "      <th>VANDALISM</th>\n",
       "      <td>235</td>\n",
       "      <td>54</td>\n",
       "    </tr>\n",
       "  </tbody>\n",
       "</table>\n",
       "</div>"
      ],
      "text/plain": [
       "           ASSAULT  VANDALISM\n",
       "ASSAULT        457         51\n",
       "VANDALISM      235         54"
      ]
     },
     "execution_count": 31,
     "metadata": {},
     "output_type": "execute_result"
    }
   ],
   "source": [
    "Ypred = clf.predict(X_test) #(1)\n",
    "\n",
    "conmat = confusion_matrix(Y_test, Ypred, labels=clf.classes_)\n",
    "pd.DataFrame(conmat, columns=clf.classes_, index=clf.classes_)"
   ]
  },
  {
   "cell_type": "code",
   "execution_count": 32,
   "metadata": {
    "collapsed": false
   },
   "outputs": [
    {
     "name": "stdout",
     "output_type": "stream",
     "text": [
      "             precision    recall  f1-score   support\n",
      "\n",
      "    ASSAULT       0.66      0.90      0.76       508\n",
      "  VANDALISM       0.51      0.19      0.27       289\n",
      "\n",
      "avg / total       0.61      0.64      0.58       797\n",
      "\n"
     ]
    }
   ],
   "source": [
    "#print classification reports (1)\n",
    "print(classification_report(Y_test,Ypred))"
   ]
  },
  {
   "cell_type": "code",
   "execution_count": 33,
   "metadata": {
    "collapsed": false
   },
   "outputs": [],
   "source": [
    "y_score = clf.fit(X_train, Y_train).decision_function(X_test) #(1)\n",
    "fpr, tpr, thresholds = metrics.roc_curve(Y_test, y_score, pos_label='VANDALISM')"
   ]
  },
  {
   "cell_type": "code",
   "execution_count": 34,
   "metadata": {
    "collapsed": false
   },
   "outputs": [
    {
     "data": {
      "text/plain": [
       "array([-0.67,  0.19, -1.13, -1.1 , -0.25, -1.28,  0.23, -0.54, -0.41,\n",
       "       -0.15, -1.33,  0.18, -0.75, -0.74,  0.31, -1.15, -0.69, -0.67,\n",
       "       -0.26, -0.56, -0.37,  0.22, -1.17, -0.34, -0.99, -1.27, -1.58,\n",
       "       -1.11, -0.22, -1.12, -1.53, -0.64, -1.31, -0.86, -0.18, -1.14,\n",
       "       -0.28, -0.45, -0.17, -1.02, -1.19, -0.45, -1.49, -0.15,  0.12,\n",
       "       -1.48,  0.06, -0.52, -0.28, -1.34,  0.02, -0.63,  0.09, -0.62,\n",
       "       -1.06, -0.95, -0.66, -1.14, -0.36,  0.  , -1.64,  0.37, -0.56,\n",
       "       -0.66, -0.86, -1.1 , -0.85, -0.84, -1.1 , -0.34, -0.39, -1.65,\n",
       "       -0.6 ,  0.05, -0.86,  0.02, -0.7 , -0.19, -0.47, -0.33, -1.04,\n",
       "       -0.79, -0.56, -0.05, -1.85, -0.17, -1.71, -1.53, -0.88, -0.18,\n",
       "       -0.58, -0.73, -1.  , -0.65,  0.07,  0.21, -0.26, -0.19, -0.69,\n",
       "        0.01, -0.63, -1.96, -1.04,  0.07, -1.14,  0.11, -0.26, -1.01,\n",
       "       -0.83, -0.49, -0.61, -0.04, -1.08, -0.19, -0.9 , -0.49, -0.9 ,\n",
       "       -0.26, -0.37, -0.98, -0.37, -0.61,  0.25, -1.74, -0.16, -1.01,\n",
       "       -0.32, -0.5 ,  0.06, -0.72,  0.25, -0.15, -0.81, -0.28, -1.33,\n",
       "       -1.96, -0.57, -0.82, -0.05, -1.01, -1.04, -0.19, -0.55, -0.12,\n",
       "       -1.44, -0.96, -0.85,  0.14, -1.04, -1.49, -0.6 , -0.87, -0.94,\n",
       "       -0.37, -0.36, -1.21, -0.39, -0.3 ,  0.1 , -0.69, -1.29, -0.57,\n",
       "       -0.19, -1.05, -0.28, -0.42, -0.68, -0.24, -0.32,  0.25, -0.86,\n",
       "       -0.13, -1.48, -0.18, -0.76,  0.39, -0.24,  0.01, -0.35, -1.62,\n",
       "        0.26, -0.88,  0.24, -0.04, -1.49, -0.01, -0.49, -0.05, -0.55,\n",
       "       -0.55, -0.36, -1.44, -0.72, -0.25, -1.4 , -0.7 , -0.6 ,  0.06,\n",
       "       -0.51,  0.04, -1.15, -0.02,  0.04, -0.9 , -0.65, -0.33, -0.37,\n",
       "       -0.9 , -0.75, -0.94, -0.59, -0.76, -0.8 , -0.04, -0.1 , -1.25,\n",
       "       -1.58, -0.51, -0.18, -0.18, -0.23, -0.77, -0.6 , -0.9 , -0.01,\n",
       "       -1.03, -0.72, -0.95,  0.03, -0.63, -0.36, -0.24, -0.14,  0.07,\n",
       "        0.07, -0.8 , -1.8 , -0.75, -0.52, -1.14, -1.03, -0.98, -1.01,\n",
       "       -0.32, -0.45,  0.21, -0.26,  0.08, -0.45, -1.45, -1.62, -0.06,\n",
       "       -0.57, -0.38,  0.47, -0.67, -1.13, -0.8 ,  0.36, -1.76, -0.71,\n",
       "        0.12, -0.12, -0.96, -0.19, -1.12, -1.3 , -1.54, -1.35,  0.08,\n",
       "       -0.67,  0.49, -1.33, -1.05, -0.45, -0.7 , -0.98, -0.78, -0.21,\n",
       "       -1.1 , -1.73, -1.22, -1.16, -0.38, -1.13, -0.05, -0.28, -0.08,\n",
       "        0.04, -1.18, -0.19, -1.47, -0.16, -0.15, -1.24, -0.9 ,  0.06,\n",
       "       -1.71, -0.42, -1.58, -0.45,  0.16, -0.55, -1.45, -0.82, -1.06,\n",
       "       -0.38, -0.92,  0.72, -0.14, -1.64, -0.25, -1.64, -0.6 , -1.04,\n",
       "       -0.11, -1.85, -1.09, -1.65, -0.49,  0.06, -0.9 , -0.25, -1.14,\n",
       "       -0.62,  0.32, -0.81, -0.18, -0.55, -0.08,  0.04, -0.37,  0.14,\n",
       "       -1.27, -0.73, -0.25,  0.03, -0.84, -0.85, -1.47, -0.38, -1.12,\n",
       "       -0.37, -0.68, -0.04, -0.97, -0.75,  0.19, -0.36, -0.18, -0.81,\n",
       "       -0.46,  0.  , -0.61, -0.25, -0.91, -0.91, -0.43, -0.  , -1.81,\n",
       "       -1.74,  0.3 , -1.14, -0.46, -0.4 ,  0.05, -0.03, -1.76, -1.88,\n",
       "       -0.11, -0.32, -0.43, -0.87,  0.38, -0.28, -0.87, -0.15, -1.24,\n",
       "       -0.63,  0.07, -0.67, -0.3 , -1.11, -0.92, -1.32, -0.25,  0.04,\n",
       "       -1.35, -1.97, -1.89,  0.13,  0.03, -1.28, -0.32, -1.87,  0.06,\n",
       "       -0.51, -0.16, -1.04, -0.75, -0.75, -1.31, -0.76, -0.41, -1.1 ,\n",
       "       -0.23, -0.93, -0.18, -0.38, -0.34, -0.35,  0.24, -0.88, -0.13,\n",
       "       -0.75,  0.07, -0.35, -1.09, -0.97, -1.01, -0.67, -0.45, -0.23,\n",
       "       -0.17, -0.51, -0.35, -0.48, -0.68, -0.6 ,  0.07, -1.06, -0.28,\n",
       "       -1.26,  0.32,  0.11, -0.03, -0.54, -1.01, -1.06, -0.84, -0.48,\n",
       "       -0.94, -0.82, -1.37, -0.73, -1.59, -0.62, -1.4 , -0.61, -0.68,\n",
       "       -0.72, -0.96, -0.23, -0.42, -0.58, -1.31, -1.2 , -0.78, -0.06,\n",
       "       -1.03, -1.54, -0.96, -1.29, -0.31, -1.14,  0.24, -0.28, -0.5 ,\n",
       "       -0.19, -1.16, -0.95, -0.32, -0.26, -0.75, -1.23,  0.53, -0.11,\n",
       "       -0.74, -0.75, -0.81, -0.88, -0.11, -1.38, -1.2 , -0.28, -0.94,\n",
       "       -0.9 ,  0.58,  0.12, -0.62, -0.77,  0.19, -0.67, -0.42, -0.14,\n",
       "       -0.16, -0.44, -0.35, -0.71, -0.37, -0.25, -0.69, -0.1 , -0.12,\n",
       "       -1.07, -1.4 , -0.99,  0.59, -1.01,  0.  , -0.18, -1.33, -0.66,\n",
       "       -0.41, -0.48, -1.05, -1.11, -0.04, -0.37, -1.11, -0.38, -0.45,\n",
       "       -0.45, -0.98, -1.24, -0.42, -0.38, -1.05, -0.57, -0.96, -0.43,\n",
       "       -0.28, -0.44, -0.8 , -1.56, -0.54,  0.07, -0.42, -0.81, -0.38,\n",
       "       -0.63, -0.33, -0.15,  0.09, -0.46, -0.92, -0.08, -0.42, -0.43,\n",
       "       -0.5 , -0.69, -0.77, -1.08, -0.37, -0.25, -0.54, -1.24, -0.75,\n",
       "       -0.06, -0.28, -0.32, -0.45, -1.95,  0.59, -0.67, -0.67, -0.15,\n",
       "       -0.37, -0.87, -1.44, -1.58, -2.06, -0.07, -1.28, -0.43, -0.18,\n",
       "       -1.72, -0.68, -0.09, -0.38, -0.35, -1.56, -0.25, -0.69, -0.44,\n",
       "       -0.87, -1.08, -0.5 , -0.32,  0.28, -0.38,  0.09, -0.71, -1.27,\n",
       "       -0.42, -1.29,  0.21, -1.  , -1.95, -0.66, -0.21, -0.59, -1.15,\n",
       "       -0.89, -0.52, -1.25, -0.88, -1.03, -1.25, -0.85,  0.04, -0.98,\n",
       "       -0.16, -0.26, -0.8 ,  0.24, -1.11, -1.26, -1.73, -1.03, -0.  ,\n",
       "       -0.06, -0.46, -0.63, -0.69, -1.44, -1.2 , -0.99, -0.3 ,  0.37,\n",
       "       -1.31, -1.17, -0.66, -1.31, -0.21, -0.9 , -0.57, -0.45, -0.64,\n",
       "       -0.89,  0.49, -0.72, -1.48, -0.57, -1.44, -1.73, -0.23, -1.01,\n",
       "       -0.61, -1.53, -0.72, -0.65, -0.59, -0.72, -0.03, -1.25,  0.21,\n",
       "       -1.2 , -0.15, -0.43, -0.36, -1.03, -0.04, -0.41,  0.54, -0.37,\n",
       "        0.45, -0.91, -1.24, -1.02, -0.42, -0.95, -1.3 , -0.02, -1.34,\n",
       "       -0.36, -0.99, -0.66, -1.71,  0.32, -0.46, -1.65, -1.42, -2.03,\n",
       "       -1.04, -1.1 ,  0.09,  0.32, -0.44, -0.86, -1.34, -1.8 , -0.76,\n",
       "       -0.65,  0.15, -0.94,  0.19, -0.6 , -0.61, -0.03, -0.88, -0.15,\n",
       "       -0.68, -0.77, -0.98, -1.14, -1.01, -0.92, -0.93, -0.51, -0.25,\n",
       "       -0.19, -1.23, -1.33, -0.24, -0.57, -0.63, -0.36, -0.68, -0.4 ,\n",
       "       -2.15,  0.54, -0.89, -0.93, -0.82, -0.4 , -1.04, -0.46, -0.02,\n",
       "        0.21, -0.8 , -1.34, -0.6 ,  0.25,  0.19, -0.37, -1.51,  0.21,\n",
       "       -0.89, -1.24, -0.28, -0.87,  0.18, -1.1 , -0.96, -1.1 ,  0.47,\n",
       "       -0.61, -0.18, -0.16, -0.7 , -1.72, -0.88, -0.19, -0.64, -0.51,\n",
       "       -1.45, -0.2 , -0.33,  0.36,  0.05, -0.55, -0.1 ,  0.23, -0.52,\n",
       "        0.22, -0.9 , -1.1 , -1.13, -0.97, -0.19, -1.32, -0.29, -0.57,\n",
       "       -0.33, -0.09, -0.11, -0.2 , -0.62, -0.18,  0.53,  0.07, -1.14,\n",
       "       -0.14, -0.41, -0.72, -1.28, -0.07,  0.25, -0.8 ,  0.36, -0.21,\n",
       "       -0.91, -0.02, -0.25, -1.09, -0.78])"
      ]
     },
     "execution_count": 34,
     "metadata": {},
     "output_type": "execute_result"
    }
   ],
   "source": [
    "np.round(y_score,2)"
   ]
  },
  {
   "cell_type": "code",
   "execution_count": null,
   "metadata": {
    "collapsed": true
   },
   "outputs": [],
   "source": []
  },
  {
   "cell_type": "code",
   "execution_count": 40,
   "metadata": {
    "collapsed": false
   },
   "outputs": [
    {
     "data": {
      "image/png": "[encoded data removed]",
      "text/plain": [
       "<matplotlib.figure.Figure at 0x11929bbd0>"
      ]
     },
     "metadata": {},
     "output_type": "display_data"
    }
   ],
   "source": [
    "plt.plot(fpr,tpr)\n",
    "plt.xlim(0.0,1.0)\n",
    "plt.ylim(0.0,1.0)\n",
    "plt.rcParams['font.size']= 8\n",
    "plt.title('ROC Curve')\n",
    "plt.xlabel('FPR (1- Specificity)')\n",
    "plt.ylabel('TPR (Sensitivity)')\n",
    "plt.grid(True)\n",
    "plt.show()"
   ]
  },
  {
   "cell_type": "code",
   "execution_count": 38,
   "metadata": {
    "collapsed": true
   },
   "outputs": [],
   "source": [
    "def evaluate_threshold(threshold):\n",
    "    print('TPR:' , tpr[thresholds > threshold][-1])\n",
    "    print('FPR:' , tpr[thresholds > threshold][-1])"
   ]
  },
  {
   "cell_type": "code",
   "execution_count": 39,
   "metadata": {
    "collapsed": false
   },
   "outputs": [
    {
     "name": "stdout",
     "output_type": "stream",
     "text": [
      "Threshold:  -2.14973912147\n",
      "('TPR:', 1.0)\n",
      "('FPR:', 1.0)\n",
      "\n",
      "Threshold:  -1.64973912147\n",
      "('TPR:', 0.98615916955017302)\n",
      "('FPR:', 0.98615916955017302)\n",
      "\n",
      "Threshold:  -1.14973912147\n",
      "('TPR:', 0.88581314878892736)\n",
      "('FPR:', 0.88581314878892736)\n",
      "\n",
      "Threshold:  -0.649739121475\n",
      "('TPR:', 0.63321799307958482)\n",
      "('FPR:', 0.63321799307958482)\n",
      "\n",
      "Threshold:  -0.149739121475\n",
      "('TPR:', 0.2837370242214533)\n",
      "('FPR:', 0.2837370242214533)\n",
      "\n",
      "Threshold:  0.350260878525\n",
      "('TPR:', 0.034602076124567477)\n",
      "('FPR:', 0.034602076124567477)\n",
      "\n",
      "Threshold:  0.850260878525\n",
      "('TPR:', 0.0)\n",
      "('FPR:', 0.0)\n",
      "\n",
      "Threshold:  1.35026087853\n",
      "('TPR:', 0.0)\n",
      "('FPR:', 0.0)\n",
      "\n"
     ]
    }
   ],
   "source": [
    "for i in np.arange(min(thresholds),max(thresholds),0.5):\n",
    "    print('Threshold: '),i\n",
    "    evaluate_threshold(i)\n",
    "    print"
   ]
  },
  {
   "cell_type": "code",
   "execution_count": null,
   "metadata": {
    "collapsed": true
   },
   "outputs": [],
   "source": []
  }
 ],
 "metadata": {
  "kernelspec": {
   "display_name": "Python [default]",
   "language": "python",
   "name": "python2"
  },
  "language_info": {
   "codemirror_mode": {
    "name": "ipython",
    "version": 2
   },
   "file_extension": ".py",
   "mimetype": "text/x-python",
   "name": "python",
   "nbconvert_exporter": "python",
   "pygments_lexer": "ipython2",
   "version": "2.7.12"
  }
 },
 "nbformat": 4,
 "nbformat_minor": 1
}
