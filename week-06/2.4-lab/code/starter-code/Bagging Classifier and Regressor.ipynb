{
 "cells": [
  {
   "cell_type": "markdown",
   "metadata": {},
   "source": [
    "# Decision Trees and Ensembles Lab\n",
    "\n",
    "In this lab we will compare the performance of a simple Decision Tree classifier with a Bagging classifier. We will do that on few datasets, starting from the ones offered by Scikit Learn."
   ]
  },
  {
   "cell_type": "markdown",
   "metadata": {},
   "source": [
    "## 1. Breast Cancer Dataset\n",
    "We will start our comparison on the breast cancer dataset.\n",
    "You can load it directly from scikit-learn using the `load_breast_cancer` function.\n",
    "\n",
    "### 1.a Simple comparison\n",
    "1. Load the data and create X and y\n",
    "- Initialize a Decision Tree Classifier and use cross_val_score to evaluate it's performance. Set crossvalidation to 5-folds\n",
    "- Wrap a Bagging Classifier around the Decision Tree Classifier and use cross_val_score to evaluate it's performance. Set crossvalidation to 5-folds. \n",
    "- Which score is better? Are the score significantly different? How can you judge that?"
   ]
  },
  {
   "cell_type": "code",
   "execution_count": 1,
   "metadata": {
    "collapsed": true
   },
   "outputs": [],
   "source": [
    "import pandas as pd\n",
    "import numpy as np\n",
    "import matplotlib.pyplot as plt\n",
    "%matplotlib inline"
   ]
  },
  {
   "cell_type": "code",
   "execution_count": 2,
   "metadata": {
    "collapsed": true
   },
   "outputs": [],
   "source": [
    "from sklearn.datasets import load_breast_cancer"
   ]
  },
  {
   "cell_type": "code",
   "execution_count": 3,
   "metadata": {
    "collapsed": true
   },
   "outputs": [],
   "source": [
    "data = load_breast_cancer()"
   ]
  },
  {
   "cell_type": "code",
   "execution_count": 4,
   "metadata": {
    "collapsed": false
   },
   "outputs": [],
   "source": [
    "X = pd.DataFrame(data.data, columns=data.feature_names)\n",
    "y = pd.Series(data.target)"
   ]
  },
  {
   "cell_type": "code",
   "execution_count": 5,
   "metadata": {
    "collapsed": false
   },
   "outputs": [
    {
     "data": {
      "text/plain": [
       "count    569.000000\n",
       "mean       0.627417\n",
       "std        0.483918\n",
       "min        0.000000\n",
       "25%        0.000000\n",
       "50%        1.000000\n",
       "75%        1.000000\n",
       "max        1.000000\n",
       "dtype: float64"
      ]
     },
     "execution_count": 5,
     "metadata": {},
     "output_type": "execute_result"
    }
   ],
   "source": [
    "y.describe()"
   ]
  },
  {
   "cell_type": "code",
   "execution_count": 6,
   "metadata": {
    "collapsed": false
   },
   "outputs": [
    {
     "data": {
      "text/plain": [
       "1    0.627417\n",
       "0    0.372583\n",
       "dtype: float64"
      ]
     },
     "execution_count": 6,
     "metadata": {},
     "output_type": "execute_result"
    }
   ],
   "source": [
    "y.value_counts()/y.count()"
   ]
  },
  {
   "cell_type": "code",
   "execution_count": 7,
   "metadata": {
    "collapsed": false
   },
   "outputs": [],
   "source": [
    "from sklearn import tree\n",
    "from sklearn import ensemble\n",
    "from sklearn import model_selection"
   ]
  },
  {
   "cell_type": "code",
   "execution_count": 8,
   "metadata": {
    "collapsed": true
   },
   "outputs": [],
   "source": [
    "dt = tree.DecisionTreeClassifier()"
   ]
  },
  {
   "cell_type": "code",
   "execution_count": 9,
   "metadata": {
    "collapsed": false
   },
   "outputs": [
    {
     "name": "stdout",
     "output_type": "stream",
     "text": [
      "0.91383087348 +/- 0.0261388655449\n"
     ]
    }
   ],
   "source": [
    "scores = model_selection.cross_val_score(dt, X, y)\n",
    "print scores.mean(), '+/-', scores.std()"
   ]
  },
  {
   "cell_type": "code",
   "execution_count": 10,
   "metadata": {
    "collapsed": false
   },
   "outputs": [
    {
     "name": "stdout",
     "output_type": "stream",
     "text": [
      "0.934948482317 +/- 0.0163903633322\n"
     ]
    }
   ],
   "source": [
    "en = ensemble.BaggingClassifier(dt)\n",
    "scores = model_selection.cross_val_score(en, X, y)\n",
    "print scores.mean(), '+/-', scores.std()"
   ]
  },
  {
   "cell_type": "markdown",
   "metadata": {},
   "source": [
    "### 1.b Scaled pipelines\n",
    "As you may have noticed the features are not normalized. Do the score improve with normalization?\n",
    "By now you should be very familiar with pipelines and scaling, so:\n",
    "\n",
    "1. Create 2 pipelines, with a scaling preprocessing step and then either a decision tree or a bagging decision tree.\n",
    "- Which score is better? Are the score significantly different? How can you judge that?\n",
    "- Are the scores different from the non-scaled data?"
   ]
  },
  {
   "cell_type": "code",
   "execution_count": 19,
   "metadata": {
    "collapsed": false
   },
   "outputs": [],
   "source": [
    "from sklearn import pipeline\n",
    "from sklearn import preprocessing\n",
    "from sklearn import model_selection\n",
    "from sklearn import tree"
   ]
  },
  {
   "cell_type": "code",
   "execution_count": 12,
   "metadata": {
    "collapsed": true
   },
   "outputs": [],
   "source": [
    "X_train, X_test, y_train, y_test = model_selection.train_test_split(X, y)"
   ]
  },
  {
   "cell_type": "code",
   "execution_count": 13,
   "metadata": {
    "collapsed": false
   },
   "outputs": [],
   "source": [
    "p1 = pipeline.Pipeline([\n",
    "        ('standard_scaler', preprocessing.StandardScaler()),\n",
    "        ('decision_tree', tree.DecisionTreeClassifier())\n",
    "    ])\n",
    "p2 = pipeline.make_pipeline(preprocessing.RobustScaler(), ensemble.BaggingClassifier(tree.DecisionTreeClassifier()))"
   ]
  },
  {
   "cell_type": "code",
   "execution_count": 14,
   "metadata": {
    "collapsed": false
   },
   "outputs": [
    {
     "data": {
      "text/plain": [
       "0.95104895104895104"
      ]
     },
     "execution_count": 14,
     "metadata": {},
     "output_type": "execute_result"
    }
   ],
   "source": [
    "p1.fit(X_train, y_train).score(X_test, y_test)"
   ]
  },
  {
   "cell_type": "code",
   "execution_count": 15,
   "metadata": {
    "collapsed": false
   },
   "outputs": [
    {
     "data": {
      "text/plain": [
       "0.94405594405594406"
      ]
     },
     "execution_count": 15,
     "metadata": {},
     "output_type": "execute_result"
    }
   ],
   "source": [
    "p2.fit(X_train, y_train).score(X_test, y_test)"
   ]
  },
  {
   "cell_type": "markdown",
   "metadata": {},
   "source": [
    "### 1.c Grid Search\n",
    "\n",
    "Grid search is a great way to improve the performance of a classifier. Let's explore the parameter space of both models and see if we can improve their performance.\n",
    "\n",
    "1. Initialize a GridSearchCV with 5-fold cross validation for the Decision Tree Classifier\n",
    "- search for few values of the parameters in order to improve the score of the classifier\n",
    "- Use the whole X, y dataset for your test\n",
    "- Check the best\\_score\\_ once you've trained it. Is it better than before?\n",
    "- How does the score of the Grid-searched DT compare with the score of the Bagging DT?\n",
    "- Initialize a GridSearchCV with 5-fold cross validation for the Bagging Decision Tree Classifier\n",
    "- Repeat the search\n",
    "    - Note that you'll have to change parameter names for the base_estimator\n",
    "    - Note that there are also additional parameters to change\n",
    "    - Note that you may end up with a grid space to large to search in a short time\n",
    "    - Make use of the n_jobs parameter to speed up your grid search\n",
    "- Does the score improve for the Grid-searched Bagging Classifier?\n",
    "- Which score is better? Are the score significantly different? How can you judge that?"
   ]
  },
  {
   "cell_type": "code",
   "execution_count": 27,
   "metadata": {
    "collapsed": false
   },
   "outputs": [],
   "source": [
    "params = {\n",
    "    'n_estimators': np.arange(1,20,2),\n",
    "    'max_samples': np.arange(0.1, 1, .1)\n",
    "}\n",
    "gs = model_selection.GridSearchCV(ensemble.BaggingClassifier(tree.DecisionTreeClassifier()), params, n_jobs=-1, verbose=2)"
   ]
  },
  {
   "cell_type": "code",
   "execution_count": 28,
   "metadata": {
    "collapsed": false
   },
   "outputs": [
    {
     "name": "stdout",
     "output_type": "stream",
     "text": [
      "Fitting 3 folds for each of 90 candidates, totalling 270 fits\n",
      "[CV] n_estimators=1, max_samples=0.1 .................................\n",
      "[CV] n_estimators=1, max_samples=0.1 .................................\n",
      "[CV] n_estimators=1, max_samples=0.1 .................................\n",
      "[CV] n_estimators=3, max_samples=0.1 .................................\n",
      "[CV] .................. n_estimators=1, max_samples=0.1, total=   0.0s\n",
      "[CV] .................. n_estimators=1, max_samples=0.1, total=   0.0s\n",
      "[CV] .................. n_estimators=1, max_samples=0.1, total=   0.0s\n",
      "[CV] n_estimators=3, max_samples=0.1 .................................\n",
      "[CV] n_estimators=5, max_samples=0.1 .................................\n",
      "[CV] .................. n_estimators=3, max_samples=0.1, total=   0.1s\n",
      "[CV] n_estimators=3, max_samples=0.1 .................................\n",
      "[CV] n_estimators=5, max_samples=0.1 .................................\n",
      "[CV] .................. n_estimators=3, max_samples=0.1, total=   0.1s\n",
      "[CV] .................. n_estimators=3, max_samples=0.1, total=   0.1s\n",
      "[CV] .................. n_estimators=5, max_samples=0.1, total=   0.1s\n",
      "[CV] n_estimators=5, max_samples=0.1 .................................\n",
      "[CV] n_estimators=7, max_samples=0.1 .................................\n",
      "[CV] n_estimators=9, max_samples=0.1 .................................\n",
      "[CV] .................. n_estimators=5, max_samples=0.1, total=   0.1s\n",
      "[CV] n_estimators=9, max_samples=0.1 .................................\n",
      "[CV] .................. n_estimators=5, max_samples=0.1, total=   0.1s\n",
      "[CV] n_estimators=7, max_samples=0.1 .................................\n",
      "[CV] .................. n_estimators=7, max_samples=0.1, total=   0.1s\n",
      "[CV] n_estimators=7, max_samples=0.1 .................................\n",
      "[CV] .................. n_estimators=9, max_samples=0.1, total=   0.2s\n",
      "[CV] n_estimators=9, max_samples=0.1 .................................\n",
      "[CV] .................. n_estimators=7, max_samples=0.1, total=   0.1s\n",
      "[CV] n_estimators=11, max_samples=0.1 ................................\n",
      "[CV] .................. n_estimators=9, max_samples=0.1, total=   0.1s\n",
      "[CV] n_estimators=11, max_samples=0.1 ................................\n",
      "[CV] .................. n_estimators=7, max_samples=0.1, total=   0.1s\n",
      "[CV] n_estimators=13, max_samples=0.1 ................................\n",
      "[CV] .................. n_estimators=9, max_samples=0.1, total=   0.2s\n",
      "[CV] n_estimators=13, max_samples=0.1 ................................\n",
      "[CV] ................. n_estimators=11, max_samples=0.1, total=   0.2s\n",
      "[CV] ................. n_estimators=11, max_samples=0.1, total=   0.2s\n",
      "[CV] n_estimators=11, max_samples=0.1 ................................\n",
      "[CV] n_estimators=15, max_samples=0.1 ................................\n",
      "[CV] ................. n_estimators=13, max_samples=0.1, total=   0.2s\n",
      "[CV] n_estimators=13, max_samples=0.1 ................................\n",
      "[CV] ................. n_estimators=13, max_samples=0.1, total=   0.2s\n",
      "[CV] n_estimators=15, max_samples=0.1 ................................\n",
      "[CV] ................. n_estimators=11, max_samples=0.1, total=   0.1s\n",
      "[CV] n_estimators=17, max_samples=0.1 ................................\n",
      "[CV] ................. n_estimators=15, max_samples=0.1, total=   0.2s\n",
      "[CV] ................. n_estimators=13, max_samples=0.1, total=   0.2s\n",
      "[CV] n_estimators=15, max_samples=0.1 ................................\n",
      "[CV] n_estimators=17, max_samples=0.1 ................................\n",
      "[CV] ................. n_estimators=15, max_samples=0.1, total=   0.2s\n",
      "[CV] n_estimators=19, max_samples=0.1 ................................\n",
      "[CV] ................. n_estimators=17, max_samples=0.1, total=   0.3s\n",
      "[CV] n_estimators=17, max_samples=0.1 ................................\n",
      "[CV] ................. n_estimators=15, max_samples=0.1, total=   0.2s\n",
      "[CV] n_estimators=1, max_samples=0.2 .................................\n",
      "[CV] ................. n_estimators=17, max_samples=0.1, total=   0.3s\n",
      "[CV] .................. n_estimators=1, max_samples=0.2, total=   0.0s\n",
      "[CV] n_estimators=19, max_samples=0.1 ................................\n",
      "[CV] n_estimators=1, max_samples=0.2 .................................\n",
      "[CV] .................. n_estimators=1, max_samples=0.2, total=   0.0s\n",
      "[CV] n_estimators=1, max_samples=0.2 .................................\n",
      "[CV] .................. n_estimators=1, max_samples=0.2, total=   0.0s\n",
      "[CV] ................. n_estimators=19, max_samples=0.1, total=   0.3s\n",
      "[CV] n_estimators=3, max_samples=0.2 .................................\n",
      "[CV] n_estimators=19, max_samples=0.1 ................................\n",
      "[CV] ................. n_estimators=17, max_samples=0.1, total=   0.2s\n",
      "[CV] .................. n_estimators=3, max_samples=0.2, total=   0.1s\n",
      "[CV] n_estimators=3, max_samples=0.2 .................................\n",
      "[CV] n_estimators=5, max_samples=0.2 .................................\n",
      "[CV] .................. n_estimators=3, max_samples=0.2, total=   0.0s\n",
      "[CV] ................. n_estimators=19, max_samples=0.1, total=   0.3s\n",
      "[CV] n_estimators=3, max_samples=0.2 .................................\n",
      "[CV] n_estimators=5, max_samples=0.2 .................................\n",
      "[CV] .................. n_estimators=5, max_samples=0.2, total=   0.2s\n",
      "[CV] .................. n_estimators=3, max_samples=0.2, total=   0.1s\n",
      "[CV] n_estimators=5, max_samples=0.2 .................................\n",
      "[CV] n_estimators=7, max_samples=0.2 .................................\n",
      "[CV] .................. n_estimators=5, max_samples=0.2, total=   0.1s\n",
      "[CV] n_estimators=7, max_samples=0.2 .................................\n",
      "[CV] ................. n_estimators=19, max_samples=0.1, total=   0.3s\n",
      "[CV] .................. n_estimators=5, max_samples=0.2, total=   0.1s\n",
      "[CV] n_estimators=9, max_samples=0.2 .................................\n",
      "[CV] n_estimators=7, max_samples=0.2 .................................\n",
      "[CV] .................. n_estimators=7, max_samples=0.2, total=   0.1s\n",
      "[CV] n_estimators=9, max_samples=0.2 .................................\n",
      "[CV] .................. n_estimators=7, max_samples=0.2, total=   0.1s\n",
      "[CV] n_estimators=11, max_samples=0.2 ................................\n",
      "[CV] .................. n_estimators=7, max_samples=0.2, total=   0.1s\n",
      "[CV] .................. n_estimators=9, max_samples=0.2, total=   0.1s\n",
      "[CV] n_estimators=9, max_samples=0.2 .................................\n",
      "[CV] .................. n_estimators=9, max_samples=0.2, total=   0.1s\n",
      "[CV] n_estimators=13, max_samples=0.2 ................................\n",
      "[CV] n_estimators=11, max_samples=0.2 ................................\n",
      "[CV] ................. n_estimators=11, max_samples=0.2, total=   0.2s\n",
      "[CV] .................. n_estimators=9, max_samples=0.2, total=   0.1s\n",
      "[CV] n_estimators=11, max_samples=0.2 ................................\n",
      "[CV] n_estimators=13, max_samples=0.2 ................................\n",
      "[CV] ................. n_estimators=13, max_samples=0.2, total=   0.2s\n",
      "[CV] ................. n_estimators=11, max_samples=0.2, total=   0.1s\n",
      "[CV] n_estimators=13, max_samples=0.2 ................................\n",
      "[CV] n_estimators=15, max_samples=0.2 ................................\n",
      "[CV] ................. n_estimators=11, max_samples=0.2, total=   0.2s\n",
      "[CV] n_estimators=17, max_samples=0.2 ................................\n",
      "[CV] ................. n_estimators=13, max_samples=0.2, total=   0.2s\n",
      "[CV] n_estimators=15, max_samples=0.2 ................................\n",
      "[CV] ................. n_estimators=15, max_samples=0.2, total=   0.2s\n",
      "[CV] ................. n_estimators=13, max_samples=0.2, total=   0.2s\n",
      "[CV] n_estimators=17, max_samples=0.2 ................................\n",
      "[CV] n_estimators=15, max_samples=0.2 ................................\n",
      "[CV] ................. n_estimators=17, max_samples=0.2, total=   0.2s\n",
      "[CV] n_estimators=17, max_samples=0.2 ................................\n",
      "[CV] ................. n_estimators=15, max_samples=0.2, total=   0.2s\n",
      "[CV] n_estimators=19, max_samples=0.2 ................................\n",
      "[CV] ................. n_estimators=15, max_samples=0.2, total=   0.2s\n",
      "[CV] n_estimators=1, max_samples=0.3 .................................\n",
      "[CV] ................. n_estimators=17, max_samples=0.2, total=   0.3s\n",
      "[CV] n_estimators=19, max_samples=0.2 ................................\n",
      "[CV] .................. n_estimators=1, max_samples=0.3, total=   0.0s\n",
      "[CV] n_estimators=1, max_samples=0.3 .................................\n",
      "[CV] .................. n_estimators=1, max_samples=0.3, total=   0.0s\n",
      "[CV] n_estimators=1, max_samples=0.3 .................................\n",
      "[CV] ................. n_estimators=17, max_samples=0.2, total=   0.2s\n",
      "[CV] n_estimators=3, max_samples=0.3 .................................\n",
      "[CV] .................. n_estimators=1, max_samples=0.3, total=   0.0s\n",
      "[CV] n_estimators=3, max_samples=0.3 .................................\n",
      "[CV] .................. n_estimators=3, max_samples=0.3, total=   0.0s\n",
      "[CV] .................. n_estimators=3, max_samples=0.3, total=   0.0s\n",
      "[CV] ................. n_estimators=19, max_samples=0.2, total=   0.2s\n",
      "[CV] n_estimators=5, max_samples=0.3 .................................\n",
      "[CV] n_estimators=3, max_samples=0.3 .................................\n",
      "[CV] n_estimators=19, max_samples=0.2 ................................\n",
      "[CV] .................. n_estimators=3, max_samples=0.3, total=   0.0s\n",
      "[CV] n_estimators=5, max_samples=0.3 .................................\n",
      "[CV] ................. n_estimators=19, max_samples=0.2, total=   0.3s\n",
      "[CV] .................. n_estimators=5, max_samples=0.3, total=   0.1s\n",
      "[CV] n_estimators=5, max_samples=0.3 .................................\n",
      "[CV] n_estimators=7, max_samples=0.3 .................................\n"
     ]
    },
    {
     "name": "stderr",
     "output_type": "stream",
     "text": [
      "[Parallel(n_jobs=-1)]: Done  58 tasks      | elapsed:    3.0s\n"
     ]
    },
    {
     "name": "stdout",
     "output_type": "stream",
     "text": [
      "[CV] .................. n_estimators=5, max_samples=0.3, total=   0.1s\n",
      "[CV] .................. n_estimators=5, max_samples=0.3, total=   0.1s\n",
      "[CV] n_estimators=9, max_samples=0.3 .................................\n",
      "[CV] n_estimators=7, max_samples=0.3 .................................\n",
      "[CV] .................. n_estimators=7, max_samples=0.3, total=   0.1s\n",
      "[CV] n_estimators=7, max_samples=0.3 .................................\n",
      "[CV] ................. n_estimators=19, max_samples=0.2, total=   0.3s\n",
      "[CV] .................. n_estimators=7, max_samples=0.3, total=   0.1s\n",
      "[CV] n_estimators=9, max_samples=0.3 .................................\n",
      "[CV] .................. n_estimators=7, max_samples=0.3, total=   0.1s\n",
      "[CV] n_estimators=11, max_samples=0.3 ................................\n",
      "[CV] .................. n_estimators=9, max_samples=0.3, total=   0.1s\n",
      "[CV] n_estimators=9, max_samples=0.3 .................................\n",
      "[CV] n_estimators=13, max_samples=0.3 ................................\n",
      "[CV] .................. n_estimators=9, max_samples=0.3, total=   0.1s\n",
      "[CV] n_estimators=11, max_samples=0.3 ................................\n",
      "[CV] ................. n_estimators=11, max_samples=0.3, total=   0.1s\n",
      "[CV] n_estimators=11, max_samples=0.3 ................................\n",
      "[CV] .................. n_estimators=9, max_samples=0.3, total=   0.1s\n",
      "[CV] n_estimators=13, max_samples=0.3 ................................\n",
      "[CV] ................. n_estimators=13, max_samples=0.3, total=   0.1s\n",
      "[CV] n_estimators=13, max_samples=0.3 ................................\n",
      "[CV] ................. n_estimators=11, max_samples=0.3, total=   0.2s\n",
      "[CV] n_estimators=15, max_samples=0.3 ................................\n",
      "[CV] ................. n_estimators=11, max_samples=0.3, total=   0.2s\n",
      "[CV] n_estimators=17, max_samples=0.3 ................................\n",
      "[CV] ................. n_estimators=13, max_samples=0.3, total=   0.2s\n",
      "[CV] n_estimators=15, max_samples=0.3 ................................\n",
      "[CV] ................. n_estimators=13, max_samples=0.3, total=   0.2s\n",
      "[CV] n_estimators=17, max_samples=0.3 ................................\n",
      "[CV] ................. n_estimators=15, max_samples=0.3, total=   0.2s\n",
      "[CV] n_estimators=15, max_samples=0.3 ................................\n",
      "[CV] ................. n_estimators=17, max_samples=0.3, total=   0.2s\n",
      "[CV] ................. n_estimators=15, max_samples=0.3, total=   0.2s\n",
      "[CV] n_estimators=19, max_samples=0.3 ................................\n",
      "[CV] n_estimators=17, max_samples=0.3 ................................\n",
      "[CV] ................. n_estimators=17, max_samples=0.3, total=   0.2s\n",
      "[CV] n_estimators=19, max_samples=0.3 ................................\n",
      "[CV] ................. n_estimators=15, max_samples=0.3, total=   0.2s\n",
      "[CV] n_estimators=1, max_samples=0.4 .................................\n",
      "[CV] .................. n_estimators=1, max_samples=0.4, total=   0.0s\n",
      "[CV] n_estimators=1, max_samples=0.4 .................................\n",
      "[CV] ................. n_estimators=17, max_samples=0.3, total=   0.2s\n",
      "[CV] .................. n_estimators=1, max_samples=0.4, total=   0.0s\n",
      "[CV] n_estimators=1, max_samples=0.4 .................................\n",
      "[CV] n_estimators=3, max_samples=0.4 .................................\n",
      "[CV] ................. n_estimators=19, max_samples=0.3, total=   0.3s\n",
      "[CV] n_estimators=19, max_samples=0.3 ................................\n",
      "[CV] .................. n_estimators=1, max_samples=0.4, total=   0.0s\n",
      "[CV] n_estimators=3, max_samples=0.4 .................................\n",
      "[CV] .................. n_estimators=3, max_samples=0.4, total=   0.0s\n",
      "[CV] n_estimators=3, max_samples=0.4 .................................\n",
      "[CV] ................. n_estimators=19, max_samples=0.3, total=   0.3s\n",
      "[CV] .................. n_estimators=3, max_samples=0.4, total=   0.1s\n",
      "[CV] n_estimators=5, max_samples=0.4 .................................\n",
      "[CV] n_estimators=5, max_samples=0.4 .................................\n",
      "[CV] .................. n_estimators=3, max_samples=0.4, total=   0.1s\n",
      "[CV] n_estimators=7, max_samples=0.4 .................................\n",
      "[CV] .................. n_estimators=5, max_samples=0.4, total=   0.1s\n",
      "[CV] .................. n_estimators=5, max_samples=0.4, total=   0.1s\n",
      "[CV] n_estimators=5, max_samples=0.4 .................................\n",
      "[CV] n_estimators=7, max_samples=0.4 .................................\n",
      "[CV] .................. n_estimators=7, max_samples=0.4, total=   0.1s\n",
      "[CV] n_estimators=7, max_samples=0.4 .................................\n",
      "[CV] .................. n_estimators=5, max_samples=0.4, total=   0.1s\n",
      "[CV] n_estimators=9, max_samples=0.4 .................................\n",
      "[CV] ................. n_estimators=19, max_samples=0.3, total=   0.3s\n",
      "[CV] .................. n_estimators=7, max_samples=0.4, total=   0.1s\n",
      "[CV] n_estimators=11, max_samples=0.4 ................................\n",
      "[CV] n_estimators=9, max_samples=0.4 .................................\n",
      "[CV] .................. n_estimators=7, max_samples=0.4, total=   0.1s\n",
      "[CV] n_estimators=13, max_samples=0.4 ................................\n",
      "[CV] .................. n_estimators=9, max_samples=0.4, total=   0.1s\n",
      "[CV] n_estimators=9, max_samples=0.4 .................................\n",
      "[CV] .................. n_estimators=9, max_samples=0.4, total=   0.1s\n",
      "[CV] n_estimators=11, max_samples=0.4 ................................\n",
      "[CV] ................. n_estimators=11, max_samples=0.4, total=   0.2s\n",
      "[CV] n_estimators=11, max_samples=0.4 ................................\n",
      "[CV] ................. n_estimators=13, max_samples=0.4, total=   0.2s\n",
      "[CV] .................. n_estimators=9, max_samples=0.4, total=   0.2s\n",
      "[CV] n_estimators=13, max_samples=0.4 ................................\n",
      "[CV] n_estimators=13, max_samples=0.4 ................................\n",
      "[CV] ................. n_estimators=11, max_samples=0.4, total=   0.2s\n",
      "[CV] n_estimators=15, max_samples=0.4 ................................\n",
      "[CV] ................. n_estimators=11, max_samples=0.4, total=   0.2s\n",
      "[CV] n_estimators=17, max_samples=0.4 ................................\n",
      "[CV] ................. n_estimators=13, max_samples=0.4, total=   0.2s\n",
      "[CV] n_estimators=15, max_samples=0.4 ................................\n",
      "[CV] ................. n_estimators=13, max_samples=0.4, total=   0.2s\n",
      "[CV] n_estimators=17, max_samples=0.4 ................................\n",
      "[CV] ................. n_estimators=15, max_samples=0.4, total=   0.2s\n",
      "[CV] n_estimators=15, max_samples=0.4 ................................\n",
      "[CV] ................. n_estimators=17, max_samples=0.4, total=   0.2s\n",
      "[CV] n_estimators=17, max_samples=0.4 ................................\n",
      "[CV] ................. n_estimators=15, max_samples=0.4, total=   0.2s\n",
      "[CV] n_estimators=19, max_samples=0.4 ................................\n",
      "[CV] ................. n_estimators=17, max_samples=0.4, total=   0.2s\n",
      "[CV] ................. n_estimators=15, max_samples=0.4, total=   0.2s\n",
      "[CV] n_estimators=19, max_samples=0.4 ................................\n",
      "[CV] n_estimators=1, max_samples=0.5 .................................\n",
      "[CV] .................. n_estimators=1, max_samples=0.5, total=   0.0s\n",
      "[CV] n_estimators=1, max_samples=0.5 .................................\n",
      "[CV] .................. n_estimators=1, max_samples=0.5, total=   0.0s\n",
      "[CV] n_estimators=1, max_samples=0.5 .................................\n",
      "[CV] ................. n_estimators=17, max_samples=0.4, total=   0.3s\n",
      "[CV] .................. n_estimators=1, max_samples=0.5, total=   0.1s\n",
      "[CV] n_estimators=3, max_samples=0.5 .................................\n",
      "[CV] n_estimators=3, max_samples=0.5 .................................\n",
      "[CV] .................. n_estimators=3, max_samples=0.5, total=   0.1s\n",
      "[CV] ................. n_estimators=19, max_samples=0.4, total=   0.4s\n",
      "[CV] .................. n_estimators=3, max_samples=0.5, total=   0.1s\n",
      "[CV] n_estimators=3, max_samples=0.5 .................................\n",
      "[CV] n_estimators=19, max_samples=0.4 ................................\n",
      "[CV] n_estimators=5, max_samples=0.5 .................................\n",
      "[CV] ................. n_estimators=19, max_samples=0.4, total=   0.4s\n",
      "[CV] .................. n_estimators=3, max_samples=0.5, total=   0.1s\n",
      "[CV] n_estimators=7, max_samples=0.5 .................................\n",
      "[CV] n_estimators=5, max_samples=0.5 .................................\n",
      "[CV] .................. n_estimators=5, max_samples=0.5, total=   0.1s\n",
      "[CV] n_estimators=5, max_samples=0.5 .................................\n",
      "[CV] .................. n_estimators=5, max_samples=0.5, total=   0.1s\n",
      "[CV] .................. n_estimators=7, max_samples=0.5, total=   0.1s\n",
      "[CV] .................. n_estimators=5, max_samples=0.5, total=   0.1s\n",
      "[CV] n_estimators=7, max_samples=0.5 .................................\n",
      "[CV] n_estimators=9, max_samples=0.5 .................................\n",
      "[CV] n_estimators=7, max_samples=0.5 .................................\n",
      "[CV] .................. n_estimators=7, max_samples=0.5, total=   0.1s\n",
      "[CV] ................. n_estimators=19, max_samples=0.4, total=   0.3s\n",
      "[CV] .................. n_estimators=7, max_samples=0.5, total=   0.1s\n",
      "[CV] n_estimators=11, max_samples=0.5 ................................\n",
      "[CV] n_estimators=9, max_samples=0.5 .................................\n",
      "[CV] n_estimators=13, max_samples=0.5 ................................\n",
      "[CV] .................. n_estimators=9, max_samples=0.5, total=   0.2s\n",
      "[CV] n_estimators=9, max_samples=0.5 .................................\n",
      "[CV] .................. n_estimators=9, max_samples=0.5, total=   0.2s\n",
      "[CV] ................. n_estimators=11, max_samples=0.5, total=   0.2s\n",
      "[CV] n_estimators=11, max_samples=0.5 ................................\n",
      "[CV] n_estimators=11, max_samples=0.5 ................................\n",
      "[CV] .................. n_estimators=9, max_samples=0.5, total=   0.1s\n",
      "[CV] ................. n_estimators=13, max_samples=0.5, total=   0.2s\n",
      "[CV] n_estimators=13, max_samples=0.5 ................................\n",
      "[CV] n_estimators=13, max_samples=0.5 ................................\n",
      "[CV] ................. n_estimators=11, max_samples=0.5, total=   0.2s\n",
      "[CV] ................. n_estimators=11, max_samples=0.5, total=   0.2s\n",
      "[CV] n_estimators=15, max_samples=0.5 ................................\n",
      "[CV] n_estimators=17, max_samples=0.5 ................................\n",
      "[CV] ................. n_estimators=13, max_samples=0.5, total=   0.2s\n",
      "[CV] ................. n_estimators=13, max_samples=0.5, total=   0.3s\n",
      "[CV] n_estimators=17, max_samples=0.5 ................................\n",
      "[CV] n_estimators=15, max_samples=0.5 ................................\n",
      "[CV] ................. n_estimators=15, max_samples=0.5, total=   0.2s\n",
      "[CV] n_estimators=15, max_samples=0.5 ................................\n",
      "[CV] ................. n_estimators=17, max_samples=0.5, total=   0.2s\n",
      "[CV] ................. n_estimators=15, max_samples=0.5, total=   0.2s\n",
      "[CV] n_estimators=17, max_samples=0.5 ................................\n",
      "[CV] n_estimators=19, max_samples=0.5 ................................\n",
      "[CV] ................. n_estimators=17, max_samples=0.5, total=   0.2s\n",
      "[CV] n_estimators=19, max_samples=0.5 ................................\n",
      "[CV] ................. n_estimators=15, max_samples=0.5, total=   0.2s\n",
      "[CV] n_estimators=1, max_samples=0.6 .................................\n",
      "[CV] .................. n_estimators=1, max_samples=0.6, total=   0.0s\n",
      "[CV] n_estimators=1, max_samples=0.6 .................................\n",
      "[CV] ................. n_estimators=17, max_samples=0.5, total=   0.2s\n",
      "[CV] .................. n_estimators=1, max_samples=0.6, total=   0.0s\n",
      "[CV] n_estimators=1, max_samples=0.6 .................................\n",
      "[CV] n_estimators=3, max_samples=0.6 .................................\n",
      "[CV] .................. n_estimators=3, max_samples=0.6, total=   0.0s\n",
      "[CV] n_estimators=3, max_samples=0.6 .................................\n",
      "[CV] ................. n_estimators=19, max_samples=0.5, total=   0.3s\n",
      "[CV] .................. n_estimators=1, max_samples=0.6, total=   0.0s\n",
      "[CV] n_estimators=19, max_samples=0.5 ................................\n",
      "[CV] n_estimators=3, max_samples=0.6 .................................\n",
      "[CV] ................. n_estimators=19, max_samples=0.5, total=   0.3s\n",
      "[CV] n_estimators=5, max_samples=0.6 .................................\n",
      "[CV] .................. n_estimators=3, max_samples=0.6, total=   0.1s\n",
      "[CV] .................. n_estimators=3, max_samples=0.6, total=   0.1s\n",
      "[CV] n_estimators=5, max_samples=0.6 .................................\n",
      "[CV] n_estimators=7, max_samples=0.6 .................................\n",
      "[CV] .................. n_estimators=5, max_samples=0.6, total=   0.1s\n",
      "[CV] n_estimators=5, max_samples=0.6 .................................\n",
      "[CV] .................. n_estimators=5, max_samples=0.6, total=   0.1s\n",
      "[CV] n_estimators=7, max_samples=0.6 .................................\n",
      "[CV] .................. n_estimators=7, max_samples=0.6, total=   0.1s\n",
      "[CV] n_estimators=7, max_samples=0.6 .................................\n",
      "[CV] .................. n_estimators=5, max_samples=0.6, total=   0.1s\n",
      "[CV] n_estimators=9, max_samples=0.6 .................................\n",
      "[CV] ................. n_estimators=19, max_samples=0.5, total=   0.4s\n",
      "[CV] .................. n_estimators=7, max_samples=0.6, total=   0.1s\n",
      "[CV] n_estimators=9, max_samples=0.6 .................................\n",
      "[CV] n_estimators=11, max_samples=0.6 ................................\n",
      "[CV] .................. n_estimators=7, max_samples=0.6, total=   0.2s\n",
      "[CV] n_estimators=13, max_samples=0.6 ................................\n",
      "[CV] .................. n_estimators=9, max_samples=0.6, total=   0.2s\n",
      "[CV] n_estimators=9, max_samples=0.6 .................................\n",
      "[CV] .................. n_estimators=9, max_samples=0.6, total=   0.2s\n",
      "[CV] n_estimators=11, max_samples=0.6 ................................\n",
      "[CV] ................. n_estimators=11, max_samples=0.6, total=   0.2s\n",
      "[CV] n_estimators=11, max_samples=0.6 ................................\n",
      "[CV] .................. n_estimators=9, max_samples=0.6, total=   0.1s\n",
      "[CV] n_estimators=13, max_samples=0.6 ................................\n",
      "[CV] ................. n_estimators=13, max_samples=0.6, total=   0.2s\n",
      "[CV] n_estimators=13, max_samples=0.6 ................................\n",
      "[CV] ................. n_estimators=11, max_samples=0.6, total=   0.2s\n",
      "[CV] n_estimators=15, max_samples=0.6 ................................\n",
      "[CV] ................. n_estimators=11, max_samples=0.6, total=   0.1s\n",
      "[CV] n_estimators=17, max_samples=0.6 ................................\n",
      "[CV] ................. n_estimators=13, max_samples=0.6, total=   0.2s\n",
      "[CV] ................. n_estimators=13, max_samples=0.6, total=   0.2s\n",
      "[CV] n_estimators=15, max_samples=0.6 ................................\n",
      "[CV] n_estimators=17, max_samples=0.6 ................................\n",
      "[CV] ................. n_estimators=15, max_samples=0.6, total=   0.2s\n",
      "[CV] n_estimators=15, max_samples=0.6 ................................\n",
      "[CV] ................. n_estimators=17, max_samples=0.6, total=   0.3s\n",
      "[CV] n_estimators=17, max_samples=0.6 ................................\n",
      "[CV] ................. n_estimators=15, max_samples=0.6, total=   0.2s\n",
      "[CV] n_estimators=19, max_samples=0.6 ................................\n",
      "[CV] ................. n_estimators=17, max_samples=0.6, total=   0.3s\n",
      "[CV] n_estimators=19, max_samples=0.6 ................................\n",
      "[CV] ................. n_estimators=15, max_samples=0.6, total=   0.2s\n",
      "[CV] n_estimators=1, max_samples=0.7 .................................\n",
      "[CV] .................. n_estimators=1, max_samples=0.7, total=   0.0s\n",
      "[CV] ................. n_estimators=17, max_samples=0.6, total=   0.2s\n",
      "[CV] n_estimators=1, max_samples=0.7 .................................\n",
      "[CV] n_estimators=1, max_samples=0.7 .................................\n",
      "[CV] .................. n_estimators=1, max_samples=0.7, total=   0.0s\n",
      "[CV] .................. n_estimators=1, max_samples=0.7, total=   0.0s\n",
      "[CV] n_estimators=3, max_samples=0.7 .................................\n",
      "[CV] n_estimators=3, max_samples=0.7 .................................\n",
      "[CV] ................. n_estimators=19, max_samples=0.6, total=   0.3s\n",
      "[CV] .................. n_estimators=3, max_samples=0.7, total=   0.0s\n",
      "[CV] .................. n_estimators=3, max_samples=0.7, total=   0.0s\n",
      "[CV] n_estimators=3, max_samples=0.7 .................................\n",
      "[CV] n_estimators=19, max_samples=0.6 ................................\n",
      "[CV] n_estimators=5, max_samples=0.7 .................................\n",
      "[CV] ................. n_estimators=19, max_samples=0.6, total=   0.3s\n",
      "[CV] n_estimators=5, max_samples=0.7 .................................\n",
      "[CV] .................. n_estimators=3, max_samples=0.7, total=   0.1s\n",
      "[CV] n_estimators=7, max_samples=0.7 .................................\n",
      "[CV] .................. n_estimators=5, max_samples=0.7, total=   0.1s\n",
      "[CV] n_estimators=5, max_samples=0.7 .................................\n",
      "[CV] .................. n_estimators=5, max_samples=0.7, total=   0.1s\n",
      "[CV] n_estimators=7, max_samples=0.7 .................................\n",
      "[CV] .................. n_estimators=7, max_samples=0.7, total=   0.1s\n",
      "[CV] n_estimators=7, max_samples=0.7 .................................\n",
      "[CV] .................. n_estimators=5, max_samples=0.7, total=   0.1s\n",
      "[CV] n_estimators=9, max_samples=0.7 .................................\n",
      "[CV] .................. n_estimators=7, max_samples=0.7, total=   0.1s\n",
      "[CV] n_estimators=9, max_samples=0.7 .................................\n",
      "[CV] ................. n_estimators=19, max_samples=0.6, total=   0.3s\n",
      "[CV] n_estimators=11, max_samples=0.7 ................................\n",
      "[CV] .................. n_estimators=7, max_samples=0.7, total=   0.1s\n",
      "[CV] n_estimators=13, max_samples=0.7 ................................\n",
      "[CV] .................. n_estimators=9, max_samples=0.7, total=   0.2s\n",
      "[CV] n_estimators=9, max_samples=0.7 .................................\n",
      "[CV] .................. n_estimators=9, max_samples=0.7, total=   0.2s\n",
      "[CV] n_estimators=11, max_samples=0.7 ................................\n",
      "[CV] ................. n_estimators=11, max_samples=0.7, total=   0.2s\n",
      "[CV] n_estimators=11, max_samples=0.7 ................................\n",
      "[CV] ................. n_estimators=13, max_samples=0.7, total=   0.2s\n",
      "[CV] n_estimators=13, max_samples=0.7 ................................\n",
      "[CV] .................. n_estimators=9, max_samples=0.7, total=   0.2s\n",
      "[CV] n_estimators=13, max_samples=0.7 ................................\n",
      "[CV] ................. n_estimators=11, max_samples=0.7, total=   0.2s\n",
      "[CV] ................. n_estimators=11, max_samples=0.7, total=   0.2s\n",
      "[CV] n_estimators=15, max_samples=0.7 ................................\n",
      "[CV] n_estimators=17, max_samples=0.7 ................................\n",
      "[CV] ................. n_estimators=13, max_samples=0.7, total=   0.3s\n",
      "[CV] n_estimators=17, max_samples=0.7 ................................\n",
      "[CV] ................. n_estimators=13, max_samples=0.7, total=   0.3s\n",
      "[CV] n_estimators=15, max_samples=0.7 ................................\n",
      "[CV] ................. n_estimators=15, max_samples=0.7, total=   0.3s\n",
      "[CV] n_estimators=15, max_samples=0.7 ................................\n",
      "[CV] ................. n_estimators=17, max_samples=0.7, total=   0.3s\n",
      "[CV] n_estimators=17, max_samples=0.7 ................................\n",
      "[CV] ................. n_estimators=15, max_samples=0.7, total=   0.2s\n",
      "[CV] n_estimators=19, max_samples=0.7 ................................\n",
      "[CV] ................. n_estimators=17, max_samples=0.7, total=   0.3s\n",
      "[CV] n_estimators=19, max_samples=0.7 ................................\n",
      "[CV] ................. n_estimators=15, max_samples=0.7, total=   0.3s\n",
      "[CV] n_estimators=1, max_samples=0.8 .................................\n",
      "[CV] ................. n_estimators=17, max_samples=0.7, total=   0.3s\n",
      "[CV] n_estimators=1, max_samples=0.8 .................................\n",
      "[CV] .................. n_estimators=1, max_samples=0.8, total=   0.0s\n",
      "[CV] n_estimators=1, max_samples=0.8 .................................\n",
      "[CV] .................. n_estimators=1, max_samples=0.8, total=   0.0s\n",
      "[CV] n_estimators=3, max_samples=0.8 .................................\n",
      "[CV] .................. n_estimators=1, max_samples=0.8, total=   0.0s\n",
      "[CV] ................. n_estimators=19, max_samples=0.7, total=   0.3s\n",
      "[CV] n_estimators=3, max_samples=0.8 .................................\n",
      "[CV] n_estimators=19, max_samples=0.7 ................................\n",
      "[CV] ................. n_estimators=19, max_samples=0.7, total=   0.3s\n",
      "[CV] n_estimators=5, max_samples=0.8 .................................\n",
      "[CV] .................. n_estimators=3, max_samples=0.8, total=   0.1s\n",
      "[CV] n_estimators=5, max_samples=0.8 .................................\n",
      "[CV] .................. n_estimators=3, max_samples=0.8, total=   0.0s\n",
      "[CV] n_estimators=3, max_samples=0.8 .................................\n",
      "[CV] .................. n_estimators=5, max_samples=0.8, total=   0.1s\n",
      "[CV] n_estimators=5, max_samples=0.8 .................................\n",
      "[CV] .................. n_estimators=3, max_samples=0.8, total=   0.0s\n",
      "[CV] .................. n_estimators=5, max_samples=0.8, total=   0.1s\n",
      "[CV] n_estimators=7, max_samples=0.8 .................................\n",
      "[CV] n_estimators=7, max_samples=0.8 .................................\n",
      "[CV] .................. n_estimators=5, max_samples=0.8, total=   0.1s\n",
      "[CV] n_estimators=9, max_samples=0.8 .................................\n",
      "[CV] .................. n_estimators=7, max_samples=0.8, total=   0.1s\n",
      "[CV] n_estimators=7, max_samples=0.8 .................................\n",
      "[CV] .................. n_estimators=7, max_samples=0.8, total=   0.1s\n",
      "[CV] ................. n_estimators=19, max_samples=0.7, total=   0.4s\n",
      "[CV] n_estimators=9, max_samples=0.8 .................................\n",
      "[CV] n_estimators=11, max_samples=0.8 ................................\n",
      "[CV] .................. n_estimators=7, max_samples=0.8, total=   0.1s\n",
      "[CV] .................. n_estimators=9, max_samples=0.8, total=   0.2s\n",
      "[CV] n_estimators=9, max_samples=0.8 .................................\n",
      "[CV] n_estimators=13, max_samples=0.8 ................................\n",
      "[CV] .................. n_estimators=9, max_samples=0.8, total=   0.1s\n",
      "[CV] n_estimators=11, max_samples=0.8 ................................\n",
      "[CV] ................. n_estimators=11, max_samples=0.8, total=   0.2s\n",
      "[CV] n_estimators=11, max_samples=0.8 ................................\n",
      "[CV] .................. n_estimators=9, max_samples=0.8, total=   0.1s\n",
      "[CV] n_estimators=13, max_samples=0.8 ................................\n",
      "[CV] ................. n_estimators=13, max_samples=0.8, total=   0.2s\n",
      "[CV] n_estimators=13, max_samples=0.8 ................................\n",
      "[CV] ................. n_estimators=11, max_samples=0.8, total=   0.2s\n",
      "[CV] n_estimators=15, max_samples=0.8 ................................\n",
      "[CV] ................. n_estimators=11, max_samples=0.8, total=   0.1s\n",
      "[CV] n_estimators=17, max_samples=0.8 ................................\n",
      "[CV] ................. n_estimators=13, max_samples=0.8, total=   0.2s\n",
      "[CV] n_estimators=15, max_samples=0.8 ................................\n",
      "[CV] ................. n_estimators=13, max_samples=0.8, total=   0.2s\n",
      "[CV] n_estimators=17, max_samples=0.8 ................................\n",
      "[CV] ................. n_estimators=15, max_samples=0.8, total=   0.3s\n",
      "[CV] n_estimators=15, max_samples=0.8 ................................\n",
      "[CV] ................. n_estimators=17, max_samples=0.8, total=   0.3s\n",
      "[CV] n_estimators=17, max_samples=0.8 ................................\n",
      "[CV] ................. n_estimators=15, max_samples=0.8, total=   0.3s\n",
      "[CV] n_estimators=19, max_samples=0.8 ................................\n",
      "[CV] ................. n_estimators=17, max_samples=0.8, total=   0.3s\n",
      "[CV] n_estimators=19, max_samples=0.8 ................................\n",
      "[CV] ................. n_estimators=15, max_samples=0.8, total=   0.3s\n",
      "[CV] n_estimators=1, max_samples=0.9 .................................\n",
      "[CV] .................. n_estimators=1, max_samples=0.9, total=   0.0s\n",
      "[CV] n_estimators=1, max_samples=0.9 .................................\n",
      "[CV] .................. n_estimators=1, max_samples=0.9, total=   0.0s\n",
      "[CV] ................. n_estimators=17, max_samples=0.8, total=   0.3s\n",
      "[CV] n_estimators=3, max_samples=0.9 .................................\n",
      "[CV] n_estimators=1, max_samples=0.9 .................................\n",
      "[CV] .................. n_estimators=1, max_samples=0.9, total=   0.0s\n",
      "[CV] n_estimators=3, max_samples=0.9 .................................\n",
      "[CV] ................. n_estimators=19, max_samples=0.8, total=   0.3s\n",
      "[CV] n_estimators=19, max_samples=0.8 ................................\n",
      "[CV] .................. n_estimators=3, max_samples=0.9, total=   0.1s\n",
      "[CV] n_estimators=3, max_samples=0.9 .................................\n",
      "[CV] .................. n_estimators=3, max_samples=0.9, total=   0.0s\n",
      "[CV] n_estimators=5, max_samples=0.9 .................................\n",
      "[CV] .................. n_estimators=3, max_samples=0.9, total=   0.1s\n",
      "[CV] ................. n_estimators=19, max_samples=0.8, total=   0.3s\n",
      "[CV] n_estimators=5, max_samples=0.9 .................................\n",
      "[CV] n_estimators=7, max_samples=0.9 .................................\n",
      "[CV] .................. n_estimators=5, max_samples=0.9, total=   0.1s\n",
      "[CV] n_estimators=5, max_samples=0.9 .................................\n",
      "[CV] .................. n_estimators=7, max_samples=0.9, total=   0.1s\n",
      "[CV] n_estimators=7, max_samples=0.9 .................................\n",
      "[CV] .................. n_estimators=5, max_samples=0.9, total=   0.1s\n",
      "[CV] n_estimators=7, max_samples=0.9 .................................\n",
      "[CV] .................. n_estimators=5, max_samples=0.9, total=   0.1s\n",
      "[CV] n_estimators=9, max_samples=0.9 .................................\n",
      "[CV] ................. n_estimators=19, max_samples=0.8, total=   0.3s\n",
      "[CV] n_estimators=9, max_samples=0.9 .................................\n",
      "[CV] .................. n_estimators=7, max_samples=0.9, total=   0.1s\n",
      "[CV] .................. n_estimators=7, max_samples=0.9, total=   0.1s\n",
      "[CV] n_estimators=13, max_samples=0.9 ................................\n",
      "[CV] n_estimators=11, max_samples=0.9 ................................\n",
      "[CV] .................. n_estimators=9, max_samples=0.9, total=   0.2s\n",
      "[CV] n_estimators=9, max_samples=0.9 .................................\n",
      "[CV] .................. n_estimators=9, max_samples=0.9, total=   0.2s\n",
      "[CV] n_estimators=11, max_samples=0.9 ................................\n",
      "[CV] ................. n_estimators=11, max_samples=0.9, total=   0.2s\n",
      "[CV] n_estimators=11, max_samples=0.9 ................................\n",
      "[CV] ................. n_estimators=13, max_samples=0.9, total=   0.2s\n",
      "[CV] n_estimators=13, max_samples=0.9 ................................\n",
      "[CV] .................. n_estimators=9, max_samples=0.9, total=   0.1s\n",
      "[CV] n_estimators=13, max_samples=0.9 ................................\n",
      "[CV] ................. n_estimators=11, max_samples=0.9, total=   0.2s\n",
      "[CV] n_estimators=15, max_samples=0.9 ................................\n",
      "[CV] ................. n_estimators=11, max_samples=0.9, total=   0.2s\n",
      "[CV] n_estimators=17, max_samples=0.9 ................................\n",
      "[CV] ................. n_estimators=13, max_samples=0.9, total=   0.2s\n",
      "[CV] n_estimators=17, max_samples=0.9 ................................\n",
      "[CV] ................. n_estimators=13, max_samples=0.9, total=   0.2s\n",
      "[CV] n_estimators=15, max_samples=0.9 ................................\n",
      "[CV] ................. n_estimators=15, max_samples=0.9, total=   0.3s\n",
      "[CV] n_estimators=15, max_samples=0.9 ................................\n",
      "[CV] ................. n_estimators=17, max_samples=0.9, total=   0.3s\n",
      "[CV] n_estimators=17, max_samples=0.9 ................................\n",
      "[CV] ................. n_estimators=17, max_samples=0.9, total=   0.3s\n",
      "[CV] ................. n_estimators=15, max_samples=0.9, total=   0.2s\n",
      "[CV] n_estimators=19, max_samples=0.9 ................................\n",
      "[CV] n_estimators=19, max_samples=0.9 ................................\n",
      "[CV] ................. n_estimators=15, max_samples=0.9, total=   0.3s\n",
      "[CV] ................. n_estimators=17, max_samples=0.9, total=   0.3s\n",
      "[CV] ................. n_estimators=19, max_samples=0.9, total=   0.3s\n",
      "[CV] ................. n_estimators=19, max_samples=0.9, total=   0.3s\n",
      "[CV] n_estimators=19, max_samples=0.9 ................................\n",
      "[CV] ................. n_estimators=19, max_samples=0.9, total=   0.1s\n"
     ]
    },
    {
     "name": "stderr",
     "output_type": "stream",
     "text": [
      "[Parallel(n_jobs=-1)]: Done 270 out of 270 | elapsed:   14.0s finished\n"
     ]
    },
    {
     "data": {
      "text/plain": [
       "GridSearchCV(cv=None, error_score='raise',\n",
       "       estimator=BaggingClassifier(base_estimator=DecisionTreeClassifier(class_weight=None, criterion='gini', max_depth=None,\n",
       "            max_features=None, max_leaf_nodes=None,\n",
       "            min_impurity_split=1e-07, min_samples_leaf=1,\n",
       "            min_samples_split=2, min_weight_fraction_leaf=0.0,\n",
       "        ...n_estimators=10, n_jobs=1, oob_score=False,\n",
       "         random_state=None, verbose=0, warm_start=False),\n",
       "       fit_params={}, iid=True, n_jobs=-1,\n",
       "       param_grid={'n_estimators': array([ 1,  3,  5,  7,  9, 11, 13, 15, 17, 19]), 'max_samples': array([ 0.1,  0.2,  0.3,  0.4,  0.5,  0.6,  0.7,  0.8,  0.9])},\n",
       "       pre_dispatch='2*n_jobs', refit=True, return_train_score=True,\n",
       "       scoring=None, verbose=2)"
      ]
     },
     "execution_count": 28,
     "metadata": {},
     "output_type": "execute_result"
    }
   ],
   "source": [
    "gs.fit(X_train, y_train)"
   ]
  },
  {
   "cell_type": "code",
   "execution_count": 29,
   "metadata": {
    "collapsed": false
   },
   "outputs": [
    {
     "data": {
      "text/plain": [
       "{'max_samples': 0.80000000000000004, 'n_estimators': 17}"
      ]
     },
     "execution_count": 29,
     "metadata": {},
     "output_type": "execute_result"
    }
   ],
   "source": [
    "gs.best_params_"
   ]
  },
  {
   "cell_type": "code",
   "execution_count": null,
   "metadata": {
    "collapsed": true
   },
   "outputs": [],
   "source": [
    "gs.best_estimator_"
   ]
  },
  {
   "cell_type": "code",
   "execution_count": null,
   "metadata": {
    "collapsed": true
   },
   "outputs": [],
   "source": []
  },
  {
   "cell_type": "markdown",
   "metadata": {},
   "source": [
    "## 2 Diabetes and Regression\n",
    "\n",
    "Scikit Learn has a dataset of diabetic patients obtained from this study:\n",
    "\n",
    "http://www4.stat.ncsu.edu/~boos/var.select/diabetes.html\n",
    "http://web.stanford.edu/~hastie/Papers/LARS/LeastAngle_2002.pdf\n",
    "\n",
    "442 diabetes patients were measured on 10 baseline variables: age, sex, body mass index, average blood pressure, and six blood serum measurements.\n",
    "\n",
    "The target is a quantitative measure of disease progression one year after baseline.\n",
    "\n",
    "Repeat the above comparison between a DecisionTreeRegressor and a Bagging version of the same."
   ]
  },
  {
   "cell_type": "markdown",
   "metadata": {},
   "source": [
    "### 2.a Simple comparison\n",
    "1. Load the data and create X and y\n",
    "- Initialize a Decision Tree Regressor and use cross_val_score to evaluate it's performance. Set crossvalidation to 5-folds. Which score will you use?\n",
    "- Wrap a Bagging Regressor around the Decision Tree Regressor and use cross_val_score to evaluate it's performance. Set crossvalidation to 5-folds. \n",
    "- Which score is better? Are the score significantly different? How can you judge that?"
   ]
  },
  {
   "cell_type": "code",
   "execution_count": 45,
   "metadata": {
    "collapsed": false
   },
   "outputs": [],
   "source": [
    "data = sklearn.datasets.load_diabetes()"
   ]
  },
  {
   "cell_type": "code",
   "execution_count": 48,
   "metadata": {
    "collapsed": false
   },
   "outputs": [],
   "source": [
    "X = pd.DataFrame(data.data, columns = ['age', 'sex', 'bmi', 'avg_bp', 'serum1', 'serum2', 'serum3', 'serum4', 'serum5', 'serum6'])"
   ]
  },
  {
   "cell_type": "code",
   "execution_count": 49,
   "metadata": {
    "collapsed": true
   },
   "outputs": [],
   "source": [
    "y = data.target"
   ]
  },
  {
   "cell_type": "code",
   "execution_count": 51,
   "metadata": {
    "collapsed": true
   },
   "outputs": [],
   "source": [
    "X_train, X_test, y_train, y_test = model_selection.train_test_split(X, y)"
   ]
  },
  {
   "cell_type": "code",
   "execution_count": 59,
   "metadata": {
    "collapsed": false
   },
   "outputs": [
    {
     "ename": "TypeError",
     "evalue": "__init__() takes at least 3 arguments (2 given)",
     "output_type": "error",
     "traceback": [
      "\u001b[0;31m---------------------------------------------------------------------------\u001b[0m",
      "\u001b[0;31mTypeError\u001b[0m                                 Traceback (most recent call last)",
      "\u001b[0;32m<ipython-input-59-2d71061a47c5>\u001b[0m in \u001b[0;36m<module>\u001b[0;34m()\u001b[0m\n\u001b[1;32m      4\u001b[0m }\n\u001b[1;32m      5\u001b[0m \u001b[0;34m\u001b[0m\u001b[0m\n\u001b[0;32m----> 6\u001b[0;31m \u001b[0md_pip\u001b[0m \u001b[0;34m=\u001b[0m \u001b[0mpipeline\u001b[0m\u001b[0;34m.\u001b[0m\u001b[0mPipeline\u001b[0m\u001b[0;34m(\u001b[0m\u001b[0;34m[\u001b[0m\u001b[0;34m{\u001b[0m\u001b[0;34m'ensemble'\u001b[0m \u001b[0;34m:\u001b[0m \u001b[0mensemble\u001b[0m\u001b[0;34m.\u001b[0m\u001b[0mBaggingClassifier\u001b[0m\u001b[0;34m(\u001b[0m\u001b[0mtree\u001b[0m\u001b[0;34m.\u001b[0m\u001b[0mDecisionTreeRegressor\u001b[0m\u001b[0;34m(\u001b[0m\u001b[0;34m)\u001b[0m\u001b[0;34m)\u001b[0m\u001b[0;34m,\u001b[0m \u001b[0;34m'grid'\u001b[0m \u001b[0;34m:\u001b[0m \u001b[0mmodel_selection\u001b[0m\u001b[0;34m.\u001b[0m\u001b[0mGridSearchCV\u001b[0m\u001b[0;34m(\u001b[0m\u001b[0mparam_grid\u001b[0m\u001b[0;34m=\u001b[0m\u001b[0mparams\u001b[0m\u001b[0;34m)\u001b[0m\u001b[0;34m.\u001b[0m\u001b[0mfit\u001b[0m\u001b[0;34m(\u001b[0m\u001b[0mX_train\u001b[0m\u001b[0;34m,\u001b[0m \u001b[0my_train\u001b[0m\u001b[0;34m)\u001b[0m\u001b[0;34m.\u001b[0m\u001b[0mbest_estimator_\u001b[0m\u001b[0;34m(\u001b[0m\u001b[0;34m)\u001b[0m\u001b[0;34m}\u001b[0m\u001b[0;34m]\u001b[0m\u001b[0;34m)\u001b[0m\u001b[0;34m\u001b[0m\u001b[0m\n\u001b[0m",
      "\u001b[0;31mTypeError\u001b[0m: __init__() takes at least 3 arguments (2 given)"
     ]
    }
   ],
   "source": [
    "params = {\n",
    "    'n_estimators': np.arange(1,20,2),\n",
    "    'max_samples': np.arange(0.1, 1, .1)\n",
    "}\n",
    "\n",
    "d_pip = pipeline.Pipeline([{'ensemble' : ensemble.BaggingClassifier(tree.DecisionTreeRegressor()), 'grid' : model_selection.GridSearchCV(param_grid=params).fit(X_train, y_train).best_estimator_()}])"
   ]
  },
  {
   "cell_type": "code",
   "execution_count": 64,
   "metadata": {
    "collapsed": false
   },
   "outputs": [],
   "source": [
    "params = {\n",
    "    'n_estimators': np.arange(1,20,2),\n",
    "    'max_samples': np.arange(0.1, 1, .1)\n",
    "}\n",
    "ens = ensemble.BaggingClassifier(tree.DecisionTreeRegressor())"
   ]
  },
  {
   "cell_type": "code",
   "execution_count": 76,
   "metadata": {
    "collapsed": false
   },
   "outputs": [
    {
     "name": "stdout",
     "output_type": "stream",
     "text": [
      "Fitting 5 folds for each of 90 candidates, totalling 450 fits\n"
     ]
    },
    {
     "name": "stderr",
     "output_type": "stream",
     "text": [
      "//anaconda/envs/py27/lib/python2.7/site-packages/sklearn/model_selection/_split.py:581: Warning: The least populated class in y has only 1 members, which is too few. The minimum number of groups for any class cannot be less than n_splits=5.\n",
      "  % (min_groups, self.n_splits)), Warning)\n",
      "[Parallel(n_jobs=1)]: Done 450 out of 450 | elapsed:   39.8s finished\n"
     ]
    },
    {
     "data": {
      "text/plain": [
       "GridSearchCV(cv=5, error_score='raise',\n",
       "       estimator=BaggingClassifier(base_estimator=DecisionTreeRegressor(criterion='mse', max_depth=None, max_features=None,\n",
       "           max_leaf_nodes=None, min_impurity_split=1e-07,\n",
       "           min_samples_leaf=1, min_samples_split=2,\n",
       "           min_weight_fraction_leaf=0.0, presort=False, random_state=None...n_estimators=10, n_jobs=1, oob_score=False,\n",
       "         random_state=None, verbose=0, warm_start=False),\n",
       "       fit_params={}, iid=True, n_jobs=1,\n",
       "       param_grid={'n_estimators': array([ 1,  3,  5,  7,  9, 11, 13, 15, 17, 19]), 'max_samples': array([ 0.1,  0.2,  0.3,  0.4,  0.5,  0.6,  0.7,  0.8,  0.9])},\n",
       "       pre_dispatch='2*n_jobs', refit=True, return_train_score=True,\n",
       "       scoring=None, verbose=True)"
      ]
     },
     "execution_count": 76,
     "metadata": {},
     "output_type": "execute_result"
    }
   ],
   "source": [
    "bs = model_selection.GridSearchCV(ens, param_grid=params, verbose=True, cv=5)\n",
    "bs.fit(X, y)"
   ]
  },
  {
   "cell_type": "code",
   "execution_count": 77,
   "metadata": {
    "collapsed": false
   },
   "outputs": [
    {
     "data": {
      "text/plain": [
       "BaggingClassifier(base_estimator=DecisionTreeRegressor(criterion='mse', max_depth=None, max_features=None,\n",
       "           max_leaf_nodes=None, min_impurity_split=1e-07,\n",
       "           min_samples_leaf=1, min_samples_split=2,\n",
       "           min_weight_fraction_leaf=0.0, presort=False, random_state=None,\n",
       "           splitter='best'),\n",
       "         bootstrap=True, bootstrap_features=False, max_features=1.0,\n",
       "         max_samples=0.20000000000000001, n_estimators=11, n_jobs=1,\n",
       "         oob_score=False, random_state=None, verbose=0, warm_start=False)"
      ]
     },
     "execution_count": 77,
     "metadata": {},
     "output_type": "execute_result"
    }
   ],
   "source": [
    "bs.best_estimator_"
   ]
  },
  {
   "cell_type": "code",
   "execution_count": 78,
   "metadata": {
    "collapsed": false
   },
   "outputs": [],
   "source": [
    "best_ens = ensemble.BaggingClassifier(base_estimator=tree.DecisionTreeRegressor(criterion='mse', max_depth=None, max_features=None,\n",
    "           max_leaf_nodes=None, min_impurity_split=1e-07,\n",
    "           min_samples_leaf=1, min_samples_split=2,\n",
    "           min_weight_fraction_leaf=0.0, presort=False, random_state=None,\n",
    "           splitter='best'),\n",
    "         bootstrap=True, bootstrap_features=False, max_features=1.0,\n",
    "         max_samples=0.2, n_estimators=11, n_jobs=1,\n",
    "         oob_score=False, random_state=None, verbose=0, warm_start=False)"
   ]
  },
  {
   "cell_type": "code",
   "execution_count": 79,
   "metadata": {
    "collapsed": false
   },
   "outputs": [
    {
     "data": {
      "text/plain": [
       "0.0090090090090090089"
      ]
     },
     "execution_count": 79,
     "metadata": {},
     "output_type": "execute_result"
    }
   ],
   "source": [
    "best_ens.fit(X_train, y_train).score(X_test, y_test)"
   ]
  },
  {
   "cell_type": "code",
   "execution_count": null,
   "metadata": {
    "collapsed": true
   },
   "outputs": [],
   "source": [
    "d_pip"
   ]
  },
  {
   "cell_type": "code",
   "execution_count": null,
   "metadata": {
    "collapsed": true
   },
   "outputs": [],
   "source": [
    "ensemble.BaggingClassifier(tree.DecisionTreeRegressor())\n",
    "model_selection.GridSearchCV(param_grid=)"
   ]
  },
  {
   "cell_type": "markdown",
   "metadata": {},
   "source": [
    "### 2.b Grid Search\n",
    "\n",
    "Repeat Grid search as above:\n",
    "\n",
    "1. Initialize a GridSearchCV with 5-fold cross validation for the Decision Tree Regressor\n",
    "- Search for few values of the parameters in order to improve the score of the regressor\n",
    "- Use the whole X, y dataset for your test\n",
    "- Check the best\\_score\\_ once you've trained it. Is it better than before?\n",
    "- How does the score of the Grid-searched DT compare with the score of the Bagging DT?\n",
    "- Initialize a GridSearchCV with 5-fold cross validation for the Bagging Decision Tree Regressor\n",
    "- Repeat the search\n",
    "    - Note that you'll have to change parameter names for the base_estimator\n",
    "    - Note that there are also additional parameters to change\n",
    "    - Note that you may end up with a grid space to large to search in a short time\n",
    "    - Make use of the n_jobs parameter to speed up your grid search\n",
    "- Does the score improve for the Grid-searched Bagging Regressor?\n",
    "- Which score is better? Are the score significantly different? How can you judge that?\n"
   ]
  },
  {
   "cell_type": "code",
   "execution_count": 117,
   "metadata": {
    "collapsed": false
   },
   "outputs": [
    {
     "data": {
      "text/plain": [
       "GridSearchCV(cv=5, error_score='raise',\n",
       "       estimator=DecisionTreeClassifier(class_weight=None, criterion='gini', max_depth=None,\n",
       "            max_features=None, max_leaf_nodes=None,\n",
       "            min_impurity_split=1e-07, min_samples_leaf=1,\n",
       "            min_samples_split=2, min_weight_fraction_leaf=0.0,\n",
       "            presort=False, random_state=None, splitter='best'),\n",
       "       fit_params={}, iid=True, n_jobs=1,\n",
       "       param_grid={'criterion': ['gini', 'entropy'], 'max_depth': array([ 1,  3,  5,  7,  9, 11, 13, 15, 17, 19])},\n",
       "       pre_dispatch='2*n_jobs', refit=True, return_train_score=True,\n",
       "       scoring=None, verbose=0)"
      ]
     },
     "execution_count": 117,
     "metadata": {},
     "output_type": "execute_result"
    }
   ],
   "source": [
    "dtree = tree.DecisionTreeClassifier()\n",
    "ts = model_selection.GridSearchCV(dtree, {\n",
    "        'criterion':['gini', 'entropy'],\n",
    "        'max_depth':np.arange(1,20,2),\n",
    "    }, cv=5)\n",
    "ts.fit(X, y)"
   ]
  },
  {
   "cell_type": "code",
   "execution_count": 118,
   "metadata": {
    "collapsed": false
   },
   "outputs": [],
   "source": [
    "best_tree = ts.best_estimator_.fit(X, y)"
   ]
  },
  {
   "cell_type": "code",
   "execution_count": 119,
   "metadata": {
    "collapsed": false
   },
   "outputs": [
    {
     "data": {
      "text/plain": [
       "0.018099547511312219"
      ]
     },
     "execution_count": 119,
     "metadata": {},
     "output_type": "execute_result"
    }
   ],
   "source": [
    "ts.best_score_"
   ]
  },
  {
   "cell_type": "code",
   "execution_count": 120,
   "metadata": {
    "collapsed": false
   },
   "outputs": [
    {
     "data": {
      "text/plain": [
       "0.0"
      ]
     },
     "execution_count": 120,
     "metadata": {},
     "output_type": "execute_result"
    }
   ],
   "source": [
    "ensem = ensemble.BaggingClassifier(best_tree)\n",
    "ensem.fit(X_train, y_train).score(X_test, y_test)"
   ]
  },
  {
   "cell_type": "code",
   "execution_count": 121,
   "metadata": {
    "collapsed": true
   },
   "outputs": [],
   "source": [
    "p1 = pipeline.Pipeline([\n",
    "        ('standard_scaler', preprocessing.StandardScaler()),\n",
    "        ('decision_tree', tree.DecisionTreeRegressor())\n",
    "    ])\n",
    "p2 = pipeline.make_pipeline(preprocessing.RobustScaler(), ensemble.BaggingRegressor(tree.DecisionTreeRegressor()))"
   ]
  },
  {
   "cell_type": "code",
   "execution_count": 132,
   "metadata": {
    "collapsed": false
   },
   "outputs": [
    {
     "data": {
      "text/plain": [
       "-0.40335486081572713"
      ]
     },
     "execution_count": 132,
     "metadata": {},
     "output_type": "execute_result"
    }
   ],
   "source": [
    "p1.fit(X_train, y_train).score(X_test, y_test)"
   ]
  },
  {
   "cell_type": "code",
   "execution_count": 133,
   "metadata": {
    "collapsed": false
   },
   "outputs": [
    {
     "data": {
      "text/plain": [
       "0.31377426269744169"
      ]
     },
     "execution_count": 133,
     "metadata": {},
     "output_type": "execute_result"
    }
   ],
   "source": [
    "p2.fit(X_train, y_train).score(X_test, y_test)"
   ]
  },
  {
   "cell_type": "markdown",
   "metadata": {},
   "source": [
    "## Bonus: Project 6 data\n",
    "\n",
    "Repeat the analysis for the Project 6 Dataset"
   ]
  },
  {
   "cell_type": "code",
   "execution_count": null,
   "metadata": {
    "collapsed": true
   },
   "outputs": [],
   "source": []
  }
 ],
 "metadata": {
  "anaconda-cloud": {},
  "kernelspec": {
   "display_name": "Python [default]",
   "language": "python",
   "name": "python2"
  },
  "language_info": {
   "codemirror_mode": {
    "name": "ipython",
    "version": 2
   },
   "file_extension": ".py",
   "mimetype": "text/x-python",
   "name": "python",
   "nbconvert_exporter": "python",
   "pygments_lexer": "ipython2",
   "version": "2.7.12"
  }
 },
 "nbformat": 4,
 "nbformat_minor": 0
}
