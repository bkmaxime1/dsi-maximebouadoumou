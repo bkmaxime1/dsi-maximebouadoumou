{
 "cells": [
  {
   "cell_type": "markdown",
   "metadata": {
    "focus": false,
    "id": "cc166dbc-d723-4076-8dd8-a290d911dc9b"
   },
   "source": [
    "# Project 4: Web Scraping Indeed.com & Predicting Salaries"
   ]
  },
  {
   "cell_type": "markdown",
   "metadata": {
    "focus": false,
    "id": "59b0deac-55d6-4908-8dee-ce68611486f0"
   },
   "source": [
    "In Project 4, we practice two major skills: collecting data via  web scraping and building a binary predictor with Logistic Regression.\n",
    "\n",
    "We will collect salary information on data science jobs in a variety of markets. Using location, title, and job summary, we'll predict the salary of the job. For job posting sites, this is extraordinarily useful. While most listings DO NOT come with salary information (as you will see in this exercise), extrapolating expected salary can help guide negotiations.\n",
    "\n",
    "Normally, we can use regression for this task; however, we will convert this problem into classification and use Logistic Regression.\n",
    "\n",
    "- Q: Why would we want this to be a classification problem?\n",
    "- A: While more precision may be better, there is a fair amount of natural variance in job salaries - predicting a range be may be useful.\n",
    "\n",
    "Section one focuses on scraping Indeed.com; then we use listings with salary information to build a model and predict additional salaries."
   ]
  },
  {
   "cell_type": "markdown",
   "metadata": {
    "focus": false,
    "id": "1321e3c4-2105-428e-9b1b-6d958453ef1d"
   },
   "source": [
    "### Scraping job listings from Indeed.com"
   ]
  },
  {
   "cell_type": "markdown",
   "metadata": {
    "focus": false,
    "id": "9d959074-bf26-4000-b0da-11273e253776"
   },
   "source": [
    "Scrape job listings from Indeed.com using BeautifulSoup. Luckily, Indeed.com is a simple text page where we can easily find relevant entries. First, look at the source of an Indeed.com page: (http://www.indeed.com/jobs?q=data+scientist+%2420%2C000&l=New+York&start=10\")\n",
    "\n",
    "Notice, each job listing is underneath a `div` tag with a class name of `result`. We can use BeautifulSoup to extract."
   ]
  },
  {
   "cell_type": "markdown",
   "metadata": {
    "focus": false,
    "id": "d9f7b5d1-b227-4bda-a87b-1606b62fb60b"
   },
   "source": [
    "#### Setup a request (using `requests`) to the URL below. Use BeautifulSoup to parse the page and extract all results (HINT: Look for div tags with class name result)\n",
    "\n",
    "The URL here has many query parameters\n",
    "\n",
    "- `q` for the job search\n",
    "- This is followed by \"+20,000\" to return results with salaries (or expected salaries >$20,000)\n",
    "- `l` for a location \n",
    "- `start` for what result number to start on"
   ]
  },
  {
   "cell_type": "code",
   "execution_count": 3,
   "metadata": {
    "collapsed": false,
    "focus": false,
    "id": "911505d6-159f-4146-967d-a8482fe27e3d"
   },
   "outputs": [],
   "source": [
    "# URL = 'http://www.indeed.com/jobs?q=data+scientist+$20,000&l=New+York&start=10'"
   ]
  },
  {
   "cell_type": "code",
   "execution_count": 4,
   "metadata": {
    "collapsed": false,
    "focus": false,
    "id": "78446809-fa02-48df-b60f-cbeda175a498"
   },
   "outputs": [],
   "source": [
    "# import requests\n",
    "# import bs4\n",
    "# from bs4 import BeautifulSoup\n",
    "# import urllib2\n",
    "# indeed ='http://www.indeed.com/jobs?q=data+scientist+$20,000&l=New+York&start=10'\n",
    "# page =urllib2.urlopen(indeed)"
   ]
  },
  {
   "cell_type": "code",
   "execution_count": 5,
   "metadata": {
    "collapsed": false
   },
   "outputs": [
    {
     "name": "stderr",
     "output_type": "stream",
     "text": [
      "//anaconda/lib/python2.7/site-packages/bs4/__init__.py:181: UserWarning: No parser was explicitly specified, so I'm using the best available HTML parser for this system (\"lxml\"). This usually isn't a problem, but if you run this code on another system, or in a different virtual environment, it may use a different parser and behave differently.\n",
      "\n",
      "The code that caused this warning is on line 174 of the file //anaconda/lib/python2.7/runpy.py. To get rid of this warning, change code that looks like this:\n",
      "\n",
      " BeautifulSoup([your markup])\n",
      "\n",
      "to this:\n",
      "\n",
      " BeautifulSoup([your markup], \"lxml\")\n",
      "\n",
      "  markup_type=markup_type))\n"
     ]
    },
    {
     "data": {
      "text/plain": [
       "<bound method BeautifulSoup.prettify of <!DOCTYPE html>\\n<html lang=\"en\">\\n<head>\\n<meta content=\"text/html;charset=unicode-escape\" http-equiv=\"content-type\"/>\\n<!-- pll --><script src=\"/s/2c2181b/en_US.js\" type=\"text/javascript\"></script>\\n<link href=\"/s/1a7c741/jobsearch_all.css\" rel=\"stylesheet\" type=\"text/css\"/>\\n<link href=\"http://rss.indeed.com/rss?q=data+scientist+%2420%2C000&amp;l=New+York\" rel=\"alternate\" title=\"Data Scientist $20,000 Jobs, Employment in New York, NY\" type=\"application/rss+xml\"/>\\n<link href=\"/m/jobs?q=data+scientist+%2420%2C000&amp;l=New+York\" media=\"handheld\" rel=\"alternate\"/>\\n<script type=\"text/javascript\">\\n    \\n    window['closureReadyCallbacks'] = [];\\n\\n    function call_when_jsall_loaded(cb) {\\n        if (window['closureReady']) {\\n            cb();\\n        } else {\\n            window['closureReadyCallbacks'].push(cb);\\n        }\\n    }\\n</script>\\n<script src=\"/s/9dbde1e/jobsearch-all-compiled.js\" type=\"text/javascript\"></script>\\n<script type=\"text/javascript\">\\nvar pingUrlsForGA = [];\\n\\nvar searchUID = '1b24e4lcrauunfl3';\\nvar tk = '1b24e4lcrauunfl3';\\n\\nvar loggedIn = false;\\nvar myindeed = true;\\nvar userEmail = '';\\nvar tellFriendEmail = '';\\nvar globalLoginURL = 'http:\\\\/\\\\/www.indeed.com\\\\/account\\\\/login?dest=%2Fjobs%3Fq%3Ddata%2Bscientist%2B%2420%2C000%26l%3DNew%2BYork%26start%3D10';\\nvar globalRegisterURL = 'http:\\\\/\\\\/www.indeed.com\\\\/account\\\\/register?dest=%2Fjobs%3Fq%3Ddata%2Bscientist%2B%2420%2C000%26l%3DNew%2BYork%26start%3D10';\\nvar searchKey = '60e10e972da47133';\\nvar searchState = 'q=data+scientist+%2420%2C000&amp;l=New+York&amp;start=10';\\nvar searchQS = 'q=data+scientist+$20,000&l=New+York&start=10';\\nvar eventType = 'jobsearch';\\nvar locale = 'en_US';\\nfunction clk(id) { var a = document.getElementById(id); var hr = a.href; var si = a.href.indexOf('&jsa='); if (si > 0) return; var jsh = hr + '&tk=1b24e4lcrauunfl3&jsa=4251'; a.href = jsh; }\\nfunction sjomd(id) { var a = document.getElementById(id); var hr = a.href; var ocs = hr.indexOf('&oc=1'); if (ocs < 0) return; var oce = ocs + 5; a.href = hr.substring(0, ocs) + hr.substring(oce); }\\nfunction sjoc(id, sal) { var a = document.getElementById(id); a.href = a.href + '&oc=1&sal='+sal; }\\nfunction ptk(st,p) {document.cookie = 'PTK=\"tk=1b24e4lcrauunfl3&type=jobsearch&subtype='+st+(p?'&'+p:'')+'\"; path=/';}\\nfunction rbptk(st, c, p) { ptk(st, 'cat='+c+(p?'&p='+p:''));}\\n</script>\\n<script type=\"text/javascript\">\\nfunction loadJSAsync( ) {\\nfor ( var i = 0; i < arguments.length; i++ ) {\\nvar url = arguments[i];\\n(function() {\\nvar s = document.createElement(\"script\"), el = document.getElementsByTagName(\"script\")[0];\\ns.async = true;\\ns.src = url;\\nel.parentNode.insertBefore(s, el);\\n})();\\n}\\n}\\n</script>\\n<meta content=\"2,354  Data Scientist $20,000 Jobs available in New York, NY on Indeed.com.  one search.  all jobs.\" name=\"description\"/>\\n<meta content=\"Data Scientist $20,000 Jobs, Employment in New York, NY, New York, NY careers, New York, NY employment, New York, NY job listings, New York, NY job search, New York, NY search engine, work in New York, NY\" name=\"keywords\"/>\\n<link href=\"/jobs?q=Data+Scientist+$20,000&amp;l=New+York,+NY&amp;start=10\" rel=\"canonical\"/><link href=\"/jobs?q=data+scientist+%2420%2C000&amp;l=New+York\" rel=\"prev\"/>\\n<link href=\"/jobs?q=data+scientist+%2420%2C000&amp;l=New+York&amp;start=20\" rel=\"next\"/><script type=\"text/javascript\">\\nvar indeedCsrfToken = '3dC32LuTPiHJ59JxVn4qsKMj0hATLrFM';\\nvar hashedCsrfToken = '7be39c90618ada467dfd6ef243463b69';\\n</script>\\n<style type=\"text/css\">\\n.jasxcustomfonttst-useCustomHostedFontFullPage *{font-family:\"Open Sans\", sans-serif !important}.jasxcustomfonttst-useLato *{font-family:\"Lato\", sans-serif !important}.jasxcustomfonttst-useFira *{font-family:\"Fira Sans\", sans-serif !important}.jasxcustomfonttst-useGibson *{font-family:\"Gibson\", sans-serif !important}\\n</style>\\n<style type=\"text/css\">\\n#resultsCol { padding-top: 0; }\\n.searchCount { margin-top: 6px; }\\n.showing { padding-top: 9px; padding-bottom: 9px; }\\n\\n.brdr { height: 1px; overflow: hidden; background-color: #ccc; }\\n\\n#bjobalerts { margin-top: 0; }\\n\\n/* Tall window sizes */\\n@media only screen and (min-height:780px){\\n.showing { padding-bottom: 0; }\\n}\\n\\n/* Wide window sizes */\\n@media only screen and (min-width:1125px){\\n.brdr  { margin-left: 12px; margin-right: 12px; }\\n}\\n\\na,a:link,.link,.btn,.btn:hover{text-decoration:none}a:hover,.link:hover{text-decoration:underline}.dya-container a{text-decoration:underline !important}</style>\\n<script>\\nfunction onLoadHandler() {\\n\\ndocument.js.reset();\\njobSeenInit('1b24e4lcrauunfl3');\\n\\nif ( document.radius_update ) { document.radius_update.reset(); }\\n\\n}\\n\\ninitLogInitialUserInteraction('1b24e4lcrauunfl3', 'serp');\\n\\nwindow.onload = onLoadHandler;\\n</script>\\n<link href=\"android-app://com.indeed.android.jobsearch/http/www.indeed.com/m/jobs?q=data+scientist+%2420%2C000&amp;l=New+York&amp;start=10\" rel=\"alternate\"/>\\n<title>Data Scientist $20,000 Jobs, Employment in New York, NY\\n|\\nIndeed.com</title>\\n<style>\\n</style>\\n<style type=\"text/css\">\\n.btn,.sg-btn{display:inline-block;padding:9px 15px;border:1px solid #9a99ac;border-bottom-color:#a2a2a2;-webkit-border-radius:6px;-moz-border-radius:6px;-ms-border-radius:6px;-o-border-radius:6px;border-radius:6px;background-color:#D9D9E2;background-image:-moz-linear-gradient(top, #f8f8f9, #D9D9E2);background-image:-webkit-gradient(linear, 0 0, 0 100%, from(#f8f8f9), to(#D9D9E2));background-image:-webkit-linear-gradient(top, #f8f8f9, #D9D9E2);background-image:linear-gradient(to bottom, #f8f8f9, #D9D9E2);background-repeat:repeat-x;-webkit-box-shadow:0 1px 5px rgba(0,0,0,0.2);-moz-box-shadow:0 1px 5px rgba(0,0,0,0.2);-ms-box-shadow:0 1px 5px rgba(0,0,0,0.2);-o-box-shadow:0 1px 5px rgba(0,0,0,0.2);box-shadow:0 1px 5px rgba(0,0,0,0.2);color:#333;vertical-align:middle;text-align:center;text-decoration:none;text-shadow:0 1px #fff;font-weight:700;font-size:16px;font-family:\"Helvetica Neue\",Helvetica,Arial,\"Lucida Grande\",sans-serif;line-height:22px;filter:progid:DXImageTransform.Microsoft.gradient(startColorstr='#fff8f8f9', endColorstr='#ffe6e6e6', GradientType=0);cursor:pointer;-webkit-user-select:none;-moz-user-select:none;-ms-user-select:none;-o-user-select:none;user-select:none;-webkit-touch-callout:none;-webkit-highlight:none;-webkit-tap-highlight-color:transparent;text-overflow:ellipsis;white-space:nowrap;overflow:hidden}.btn.active,.btn.sg-active,.btn:active,.btn.disabled,.btn.sg-disabled,.btn[disabled],.sg-btn.active,.sg-btn.sg-active,.sg-btn:active,.sg-btn.disabled,.sg-btn.sg-disabled,.sg-btn[disabled]{outline:none;background-color:#f8f8f9;color:#333}.btn:focus,.sg-btn:focus{outline:0;box-shadow:0 0 1px 0 #1642bb;-webkit-transition:box-shadow 0.2s linear;-moz-transition:box-shadow 0.2s linear;transition:box-shadow 0.2s linear}.btn.active,.btn.sg-active,.btn:active,.sg-btn.active,.sg-btn.sg-active,.sg-btn:active{background-color:#f8f8f9;background-image:none;-webkit-box-shadow:inset 0 2px 4px rgba(0,0,0,0.15),0 1px 2px rgba(0,0,0,0.05);-moz-box-shadow:inset 0 2px 4px rgba(0,0,0,0.15),0 1px 2px rgba(0,0,0,0.05);box-shadow:inset 0 2px 4px rgba(0,0,0,0.15),0 1px 2px rgba(0,0,0,0.05)}.btn.disabled,.btn.sg-disabled,.btn[disabled],.sg-btn.disabled,.sg-btn.sg-disabled,.sg-btn[disabled]{background-color:#f8f8f9;background-image:none;-webkit-box-shadow:none;-moz-box-shadow:none;box-shadow:none;opacity:.65;filter:alpha(opacity=65);cursor:default}.btn-primary,.sg-btn-primary{border-color:#1642bb;background-color:#5585f2;background-image:-moz-linear-gradient(top, #6598ff, #2e5ad7);background-image:-webkit-gradient(linear, 0 0, 0 100%, from(#6598ff), to(#2e5ad7));background-image:-webkit-linear-gradient(top, #6598ff, #2e5ad7);background-image:linear-gradient(to bottom, #6598ff, #2e5ad7);background-repeat:repeat-x;color:#F8F8F9;text-shadow:0 -1px #0f2299;-ms-filter:progid:DXImageTransform.Microsoft.dropshadow(OffX=0, OffY=-1, Color=#e80f2299, Positive=true);filter:progid:DXImageTransform.Microsoft.dropshadow(OffX=0, OffY=-1, Color=#e80f2299, Positive=true);filter:progid:DXImageTransform.Microsoft.gradient(startColorstr='#ff6598fe', endColorstr='#ff3c69e0', GradientType=0);zoom:1}.btn-primary.active,.btn-primary.sg-active,.btn-primary:active,.btn-primary.disabled,.btn-primary.sg-disabled,.btn-primary[disabled],.sg-btn-primary.active,.sg-btn-primary.sg-active,.sg-btn-primary:active,.sg-btn-primary.disabled,.sg-btn-primary.sg-disabled,.sg-btn-primary[disabled]{background-color:#2e5ad7;color:#F8F8F9}.btn-primary:focus,.sg-btn-primary:focus{box-shadow:0 0 1px 0 #000}.btn-special,.sg-btn-special{border-color:#ba3200;background-color:#5585f2;background-image:-moz-linear-gradient(top, #f60, #f14200);background-image:-webkit-gradient(linear, 0 0, 0 100%, from(#f60), to(#f14200));background-image:-webkit-linear-gradient(top, #f60, #f14200);background-image:linear-gradient(to bottom, #f60, #f14200);background-repeat:repeat-x;color:#F8F8F9;text-shadow:0 -1px #000;-ms-filter:progid:DXImageTransform.Microsoft.dropshadow(OffX=0, OffY=-1, Color=#e80f2299, Positive=true);filter:progid:DXImageTransform.Microsoft.dropshadow(OffX=0, OffY=-1, Color=#e80f2299, Positive=true);filter:progid:DXImageTransform.Microsoft.gradient(startColorstr='#ff6598fe', endColorstr='#ff3c69e0', GradientType=0);zoom:1}.btn-special.active,.btn-special.sg-active,.btn-special:active,.btn-special.disabled,.btn-special.sg-disabled,.btn-special[disabled],.sg-btn-special.active,.sg-btn-special.sg-active,.sg-btn-special:active,.sg-btn-special.disabled,.sg-btn-special.sg-disabled,.sg-btn-special[disabled]{background-color:#f14200;color:#F8F8F9}.btn-special:focus,.sg-btn-special:focus{box-shadow:0 0 1px 0 #000}.btn-danger,.sg-btn-danger{border-color:#83121b;background-color:#5585f2;background-image:-moz-linear-gradient(top, #d1787f, #b01825);background-image:-webkit-gradient(linear, 0 0, 0 100%, from(#d1787f), to(#b01825));background-image:-webkit-linear-gradient(top, #d1787f, #b01825);background-image:linear-gradient(to bottom, #d1787f, #b01825);background-repeat:repeat-x;color:#F8F8F9;text-shadow:0 -1px #000;-ms-filter:progid:DXImageTransform.Microsoft.dropshadow(OffX=0, OffY=-1, Color=#e80f2299, Positive=true);filter:progid:DXImageTransform.Microsoft.dropshadow(OffX=0, OffY=-1, Color=#e80f2299, Positive=true);filter:progid:DXImageTransform.Microsoft.gradient(startColorstr='#ff6598fe', endColorstr='#ff3c69e0', GradientType=0);zoom:1}.btn-danger.active,.btn-danger.sg-active,.btn-danger:active,.btn-danger.disabled,.btn-danger.sg-disabled,.btn-danger[disabled],.sg-btn-danger.active,.sg-btn-danger.sg-active,.sg-btn-danger:active,.sg-btn-danger.disabled,.sg-btn-danger.sg-disabled,.sg-btn-danger[disabled]{background-color:#b01825;color:#F8F8F9}.btn-danger:focus,.sg-btn-danger:focus{box-shadow:0 0 1px 0 #000}input.btn,input.sg-btn{-webkit-appearance:none}button.btn::-moz-focus-inner,button.sg-btn::-moz-focus-inner{border:0}.btn-sm,.sg-btn-sm,.btn-xs,.sg-bt-xs{padding:6px 12px}.btn-xs,.sg-btn-xs{padding:3px 6px;line-height:15px}.btn-md,.sg-btn-md{padding:6px 6px}.btn-lg,.sg-btn-lg{padding:9px 18px;border-radius:6px;font-size:18px}.btn-block,.sg-btn-block{display:block;margin:9px auto;-webkit-box-sizing:border-box !important;-moz-box-sizing:border-box !important;box-sizing:border-box !important;max-width:352px}.btn-block-compact,.sg-btn-block-compact{margin:2px auto}input.btn-block,input.sg-btn-block,button.btn-block,button.sg-btn-block{width:100%;max-width:351px}.btn-block+.btn-block,.sg-btn-block+.sg-btn-block{margin-top:5px}#buttonContainer .btn,#buttonContainer .sg-btn{margin:0}.btn-icon .cssImage{margin-bottom:-40px;position:relative;top:-27px}.btn-pair{-webkit-box-sizing:border-box !important;-moz-box-sizing:border-box !important;box-sizing:border-box !important;width:49%}#refineresultscol{width:184px}#refineresults{width:180px}#branding-td{width:186px;text-align:center}.ltr #searchCount{margin-right:4px;margin-left:4px}.ltr #resultsCol .sorting{padding-right:4px}.ltr #resultsCol .showing{padding-left:4px}.ltr #jobsearch{padding-left:4px}.rtl #searchCount{margin-left:4px;margin-right:4px}.rtl #resultsCol .sorting{padding-left:4px}.rtl #resultsCol .showing{padding-right:4px}.rtl #jobsearch{padding-right:4px}.jaui,.hasu .gasc,.row,.message,.oocs{padding-left:4px;padding-right:4px}#resumePromo{padding-left:4px;padding-right:4px}#primePromo{padding-left:4px;padding-right:4px}@media only screen and (min-width: 1125px){.ltr #refineresults{padding-left:15px}.ltr #branding img{margin-left:16px;margin-right:28px}.rtl #refineresults{padding-right:15px}.rtl #branding img{margin-right:16px;margin-left:28px}.ltr #searchCount{margin-right:12px;margin-left:12px}.ltr #resultsCol .sorting{padding-right:12px}.ltr #resultsCol .showing{padding-left:12px}.ltr #jobsearch{padding-left:12px}.rtl #searchCount{margin-left:12px;margin-right:12px}.rtl #resultsCol .sorting{padding-left:12px}.rtl #resultsCol .showing{padding-right:12px}.rtl #jobsearch{padding-right:12px}.jaui,.hasu .gasc,.row,.message,.oocs{padding-left:12px;padding-right:12px}#resumePromo{padding-left:12px;padding-right:12px}#primePromo{padding-left:12px;padding-right:12px}#serpBody{width:1125px}#refineresultscol,#branding-td{width:225px}#refineresults{width:210px}}@media only screen and (min-width: 1250px){#serpBody{width:1250px}#auxCol{width:315px}#refineresultscol,#branding-td{width:275px}#refineresults{width:260px}.ltr #refineresults{padding-left:15px}.ltr #branding img{margin-left:16px;margin-right:28px}.rtl #refineresults{padding-right:15px}.rtl #branding img{margin-right:16px;margin-left:28px}.ltr #searchCount{margin-right:12px;margin-left:12px}.ltr #resultsCol .sorting{padding-right:12px}.ltr #resultsCol .showing{padding-left:12px}.ltr #jobsearch{padding-left:12px}.rtl #searchCount{margin-left:12px;margin-right:12px}.rtl #resultsCol .sorting{padding-left:12px}.rtl #resultsCol .showing{padding-right:12px}.rtl #jobsearch{padding-right:12px}.jaui,.hasu .gasc,.row,.message,.oocs{padding-left:12px;padding-right:12px}#resumePromo{padding-left:12px;padding-right:12px}#primePromo{padding-left:12px;padding-right:12px}}#branding-td{padding:5px 0 5px 0px}\\n</style>\\n</head>\\n<body class=\"ltr jasxcustomfonttst-inactive\" data-tn-application=\"jasx\" data-tn-olth=\"9d2bcadf63a72746e920e0ea88bc9d14\" data-tn-originlogid=\"1b24e4lcrauunfl3\" data-tn-originlogtype=\"jobsearch\">\\n<div id=\"accessibilityBanner\"><span id=\"accessibilityText\">Skip to <!-- This is translated before reaching this state --><a class=\"accessibilityMenu\" href=\"#jobPostingsAnchor\" id=\"skipToJobs\">Job Postings</a>, <!-- This is translated before reaching this state --><a class=\"accessibilityMenu\" href=\"#what\" id=\"skipToSearch\">Search</a></span><a id=\"accessibilityClose\">Close</a></div><link href=\"/s/36397a3/accessibility.css\" rel=\"stylesheet\" type=\"text/css\"/>\\n<script type=\"text/javascript\">\\ncreateTabBar('1b24e4lcrauunfl3');\\n</script>\\n<style type=\"text/css\">\\nbody { margin-top: 0; margin-left: 0; margin-right: 0; padding-top: 0; padding-right: 0; padding-left: 0; }\\n\\n#g_nav { border-bottom:1px solid #ccc; margin-bottom: 9px; }\\n\\n#g_nav a,\\n#g_nav a:visited { color: #00c; }\\n\\n.navBi { display: -moz-inline-box; display: inline-block; padding: 9px 12px; margin: 0; list-style-type: none; }\\n</style>\\n<div data-tn-section=\"globalNav\" id=\"g_nav\" role=\"navigation\">\\n<table cellpadding=\"0\" cellspacing=\"0\" width=\"100%\">\\n<tr>\\n<td nowrap=\"\"><style type=\"text/css\">\\n#p_nav a.selected { font-weight: bold; text-decoration:none; color: #000 !important; }\\n</style>\\n<div id=\"p_nav\"><span class=\"navBi\"><a class=\"selected\" href=\"/\" id=\"jobsLink\" title=\"Jobs\">Find Jobs</a></span><span class=\"navBi\"><a href=\"/resumes?isid=find-resumes&amp;ikw=SERPtop&amp;co=US&amp;hl=en\" id=\"rezLink\">Find Resumes</a></span><span class=\"navBi\"><a href=\"/hire?hl=en&amp;cc=US\" id=\"empLink\" onclick=\"if ( this.href.match('&amp;isid=employerlink-US-control&amp;ikw=SERPtop') == null ) { this.href += '&amp;isid=employerlink-US-control&amp;ikw=SERPtop' };\">Employers / Post Job</a></span></div>\\n</td>\\n<td align=\"right\" nowrap=\"\"><style type=\"text/css\">\\n\\n\\n#navpromo a,\\n#navpromo a:visited {\\ncolor: #f60;\\n}\\n.resume-promo .ico {\\nbackground: url(\"data:image/png;base64,iVBORw0KGgoAAAANSUhEUgAAABIAAAAYCAMAAADAi10DAAAAA3NCSVQICAjb4U/gAAAAdVBMVEX////x7/3v7vjl4vXj4PTi3/Lg3fHf2/Dd2u7c2O3a1+vZ1erX0+nW0ufU0ObSz+TRzePPy+LOyuDMyN+uqt+lpeaIiNojI84gIMoeHsccHMQaGsEXF74VFbsTE7gREbQODrEMDK4KCqsICKgFBaQDA6EBAZ54rl54AAAACXBIWXMAAArrAAAK6wGCiw1aAAAAHHRFWHRTb2Z0d2FyZQBBZG9iZSBGaXJld29ya3MgQ1M1cbXjNgAAABV0RVh0Q3JlYXRpb24gVGltZQA5LzEzLzExzT7gEAAAAIJJREFUGNOt0LsOgkAQRuFzkGhP5Ob7PxsmaCy5KDEWC0vEQgv/avPN7M5mzNkm5bqRY0ry2eX/6c5+Q2PO5RAoQdWx0GJUdaahVC2HlfpKVat+oa52Tt1peP4MJ6ABDBMzuAmQwSPQFKowxS4W8u2rX8jdSuGYtkR6tvPFleImfqEXCDYV9f9Fn8cAAAAASUVORK5CYII=\");width:18px; height:24px; margin-top: -3px;\\nvertical-align: middle;\\ndisplay: inline-block;\\n}\\n\\n.resume-promo .new-ico {\\nbackground: url(\"data:image/png;base64,iVBORw0KGgoAAAANSUhEUgAAABAAAAATCAMAAACuuX39AAAABGdBTUEAALGPC/xhBQAAACBjSFJNAAB6JgAAgIQAAPoAAACA6AAAdTAAAOpgAAA6mAAAF3CculE8AAAArlBMVEUAAAAAAMwAAM0AAM4AAM4AAMwAAM0AAM0AAM0AAM0AAMwAAMwAAM4AAMwAAMwAAM4AAMwAAMwAAM8AAM0AAMwAAMwAAMwAAMwAAM8AAMwAAMwAAM4AAMwAAMwAAM0AAMwAAMwAAMwAAMwAAMwAAMwAAMwAAMwAAM0AAM0AAM0AAM0AAM0AAMwAAMwAAMwAAMwAAMwAAMwAAMwAAMwAAMwAAMwAAMwAAMwAAMz////mwGUNAAAAM3RSTlMAAAAAAAAAAAAADowNhPUOifYPjfcRkPgSlPkYmfxru8G/3BAREAx6cXFzO4WGhUtLS/MxCxrLAAAAAWJLR0Q51wCVQAAAAAd0SU1FB+AFCxIoIcvncLkAAACsSURBVBjTjY7JEoIwEAWHRXZQUJEdVBQUwSUJ8P9fZgLogfJgn9JdU68CwOA0Xdc4+MIbpmWZBv9xYbmyEbJXS2F00VlvEMZos3ZE5outu6NOy87dLgAkzw8GpyXwPQnCKEZkvCAojkJI0mx/aNlGe9hnaQLH/HQuOoIx6YrzKT+yWbnsWehLefqHfBnD5f+gXMfRqzIFtbrVTVPfKhV+cac8ngMP9obXDMAz3umvIW9T/HsIAAAAJXRFWHRkYXRlOmNyZWF0ZQAyMDE2LTA1LTExVDE4OjQwOjMzLTA0OjAwjkX6igAAACV0RVh0ZGF0ZTptb2RpZnkAMjAxNi0wNS0xMVQxODo0MDozMy0wNDowMP8YQjYAAAAASUVORK5CYII=\");\\nwidth:16px;\\nheight:19px;\\nmargin-top: -3px;\\ndisplay: inline-block;\\nvertical-align: middle;\\n}\\n\\n\\n#u_nav .login_unconfirmed,\\n#u_nav .login_unconfirmed a,\\n#u_nav .login_unconfirmed a:visited {\\ncolor: #c00\\n}\\n\\n#u_nav .resume_pending,\\n#u_nav .resume_pending a,\\n#u_nav .resume_pending a:visited {\\ncolor: #c00\\n}\\n\\n#userOptionsLabel {\\nposition: relative;\\nz-index: 5;\\n}\\n\\n#userOptionsLabel b {\\ncursor: pointer;\\ntext-decoration: underline;\\nposition: relative;\\nz-index: 5;\\n}\\n\\n#userOptionsLabel:active {\\noutline: none;\\n}\\n\\n#userOptionsLabel.active {\\npadding: 9px 11px;\\nmargin-bottom: -1px;\\n_margin-bottom: 0px;\\nborder: 1px solid #ccc;\\nborder-top: 0;\\n}\\n\\n#userOptionsLabel.active b {\\ncolor: #666;\\n}\\n\\n#userOptionsLabel.active .arrowStub {\\nborder-width: 0 3px 3px;\\n_border-width: 0px 3px 4px;\\nborder-color: transparent;\\nborder-bottom-color: #666;\\ntop: -2px;\\nborder-style: dashed dashed solid;\\n}\\n\\n#userOptionsLabel.active .halfPxlFix {\\nbackground: #fff;\\nbottom: -3px;\\nheight: 6px;\\nleft: 0;\\nposition: absolute;\\nright: 0;\\nborder: 1px solid #fff;\\n}\\n\\n.arrowStub {\\nposition: relative;\\nborder-style: solid dashed dashed;\\nborder-color: transparent;\\nborder-top-color: #666;\\ndisplay: -moz-inline-box;\\ndisplay: inline-block;\\nfont-size: 0;\\nheight: 0;\\nline-height: 0;\\nwidth: 0;\\nleft: 4px;\\nborder-width: 3px 3px 0px;\\npadding-top: 1px;\\ntop: -1px;\\n}\\n\\n#userOptions {\\nz-index: 2;\\nvisibility: hidden;\\nposition: absolute;\\nright: 0;\\nx_right: -1px;\\ntop: 100%;\\npadding: 9px 15px;\\nborder: 1px solid #ccc;\\nbackground: #fff;\\nmin-width: 150px;\\n_width: 150px;\\ntext-align: left;\\n}\\n\\n#userOptions.open {\\nvisibility: visible;\\n}\\n\\n.userOptionItem {\\nmargin: 6px 0;\\n}\\n\\n.userOptionItem a {\\nwhite-space: nowrap;\\n}\\n\\n.userOptionGroup {\\nborder-top: 1px solid #e8e8e8;\\nmargin-top: 12px;\\n}\\n\\n.userNameRepeat {\\ncolor: #a8a8a8;\\npadding-right: 48px;\\nfont-weight: bold;\\n}\\n\\n.userOptionGroupHeader {\\nfont-weight: bold;\\nmargin: 6px 0;\\n}\\n\\n</style>\\n<div id=\"u_nav\">\\n<script type=\"text/javascript\">\\nfunction isUserOptionsOpen() {\\nreturn document.getElementById('userOptions').className === 'open';\\n}\\n\\nfunction hideUserOptions() {\\ndestroyKeyboardTrap();\\ndocument.getElementById('userOptions').className = '';\\ndocument.getElementById('userOptionsLabel').className = 'navBi';\\ndocument.getElementById('userOptionsLabel').setAttribute('aria-label', 'open user action drop down menu');\\n}\\nfunction toggleUserOptions(e) {\\nvar options = document.getElementById('userOptions');\\nvar label = document.getElementById('userOptionsLabel');\\nif (isUserOptionsOpen()) {\\nhideUserOptions();\\nif (!e.keyCode) {\\nlabel.blur();\\n}\\n} else {\\noptions.className = 'open';\\nlabel.className = 'navBi active navMenuDropDown';\\nlabel.setAttribute('aria-label', 'close user action drop down menu');\\ndocument.onclick = function() {\\nhideUserOptions();\\ndocument.onclick = function() {\\n};\\n};\\nif (e.keyCode && (e.keyCode == 13 || e.keyCode == 32)) {\\nvar fL = document.getElementById('userOptions').getElementsByTagName('a')[0];\\nif (fL) {\\nfL.focus();\\n}\\n}\\nelse {\\nlabel.blur();\\n}\\ncreateKeyboardTrap(document.getElementById('user_actions'), 'navMenuDropDown', hideUserOptions);\\n}\\nstopPropagation(e);\\n\\n}\\n\\n\\nfunction createKeyboardTrap(containingElement, dropdownLinkClass) {\\nvar dropdownLinks = containingElement.getElementsByClassName(dropdownLinkClass);\\nvar numLinks = dropdownLinks.length;\\n\\ndocument.onkeydown = function(e) {\\nif (e.keyCode === 9) {\\nif (e.target === dropdownLinks[0] && e.shiftKey) {\\ndropdownLinks[numLinks -1].focus();\\ne.preventDefault();\\n} else if (e.target === dropdownLinks[numLinks -1] && !e.shiftKey) {\\ndropdownLinks[0].focus();\\ne.preventDefault()\\n}\\n} else if (e.keyCode === 27) {\\nhideUserOptions();\\n}\\n}\\n}\\n\\nfunction destroyKeyboardTrap() {\\ndocument.onkeydown = null;\\n}\\n\\nfunction stopPropagation(e) {\\nvar e = e || window.event;\\ne.stopPropagation ? e.stopPropagation() : e.cancelBubble = true;\\n}\\n\\n</script>\\n<script>\\n\\nfunction regExpEscape(s) {\\n    return String(s).replace(/([-()\\\\[\\\\]{}+?*.$\\\\^|,:#<!\\\\\\\\])/g, '\\\\\\\\$1').\\n            replace(/\\\\x08/g, '\\\\\\\\x08');\\n}\\n\\n\\nfunction appendParamsOnce(url, params) {\\n    var useParams = params.replace(/^(\\\\?|\\\\&)/, '');\\n    if (url.match(new RegExp('[\\\\\\\\?|\\\\\\\\&]' + regExpEscape(useParams))) == null) {\\n        return url += (url.indexOf('?') > 0 ? '&' : '?' ) + useParams;\\n    }\\n    return url;\\n}\\n\\n</script>\\n<div id=\"user_actions\">\\n<span class=\"navBi\"><span class=\"resume-promo\" id=\"navpromo\">\\n<a href=\"/promo/resume\" onclick=\"window.location=this.href + '?from=nav&amp;subfrom=rezprmstd&amp;trk.origin=jobsearch&amp;trk.variant=rezprmstd&amp;trk.tk=1b24e4lcrauunfl3'; return false;\">Upload your resume</a>\\n</span></span>\\n<span class=\"navBi\"><a href=\"http://www.indeed.com/account/login?dest=%2Fjobs%3Fq%3Ddata%2Bscientist%2B%2420%2C000%26l%3DNew%2BYork%26start%3D10\" id=\"userOptionsLabel\" rel=\"nofollow\">Sign in</a></span>\\n</div>\\n</div>\\n</td>\\n</tr>\\n</table>\\n</div>\\n<style type=\"text/css\">\\n.indeedLogo {\\nbackground: url(/images/medium_logo.png) no-repeat;\\n\\nmargin: 8px 0 0 9px;\\nborder: 0;\\nwidth: 166px;\\nheight: 64px;\\n-webkit-background-size: 155px 43px;\\nbackground-size: 155px 43px;\\n}\\n@media (-webkit-min-device-pixel-ratio: 2),\\n(   min--moz-device-pixel-ratio: 2),\\n(     -o-min-device-pixel-ratio: 2/1),\\n(        min-device-pixel-ratio: 2),\\n(                min-resolution: 192dpi),\\n(                min-resolution: 2dppx) {\\n.indeedLogo {\\nbackground: url(/images/medium_logo@2x.png) no-repeat;\\n-webkit-background-size: 155px 43px;\\nbackground-size: 155px 43px;\\n}\\n}\\n#branding img { border: 0; }\\n#jobsearch { margin: 0 }\\n.inwrap { border-right: 1px solid #e8e8e8;border-bottom: 1px solid #e8e8e8;display:inline-block; }\\n.inwrap input { box-sizing: border-box; margin:0; height: 30px; font-family:Arial,sans-serif;border:1px solid #ccc;border-bottom-color:#aaa;border-right-color:#aaa; -webkit-border-radius: 0; -webkit-appearance: none; }\\n.inwrap .input_text { font-size:18px;padding:3px 6px;_margin: -1px 0; }\\n.inwrap .input_submit {color:#614041;font-size:15px;height:30px;background: #e8e8e8; padding:3px 9px;cursor:pointer;_padding:3px;}\\n.inwrap .input_submit:active { background: #ccc; }\\n.lnav  {width:100%;line-height:1;;font-size:10pt;}\\n.jsf .label {font-size:12px; line-height:1.2;padding-top:0;color:#aaa;font-weight:normal;white-space:nowrap;padding-right:1.5em}\\n.jsf .label label {font-weight:normal}\\n.jsf .sl { font-size: 11px; color: #77c; white-space: nowrap; }\\n.npb { padding-bottom: 0; color: #f60; text-transform: lowercase;font-weight:bold; }\\n.npl { padding-left: 0 }\\niframe { display:block; }\\n.acd { border: 1px solid #333; background: #fff; position:absolute; width:100%; z-index: 1; }\\n.aci { font-size: 18px; padding:1px 6px; cursor:pointer; }\\n.acis { background:#36c; color:#fff; }\\n\\n#tjobalerts .ws_label,\\n#bjobalerts .ws_label,\\n#tjobalerts .member,\\n#bjobalerts .member{ z-index: 1; }\\n#acr td { padding-top:0; padding-bottom:0; }\\n#acr td .h { display:none; }\\n\\n#what { width: 280px; }\\n#where { width: 260px; }\\n.inwrapBorder{border:1px solid #1c4ed9;border-top-color:#2f62f1;border-bottom-color:#133fbb;display:inline-block;width:auto}.inwrapBorderTop{border-top:1px solid #69F;display:inline-block;background-color:#3163f2;filter:progid:DXImageTransform.Microsoft.gradient(startColorstr='#3163F2',endColorstr='#2B57D5');background:-webkit-gradient(linear,left top,left bottom,from(#3163f2),to(#2b57d5));background:-moz-linear-gradient(top,#3163f2,#2b57d5);background:linear-gradient(top,#3163f2,#2b57d5)}.inwrapBorder .input_submit{background:transparent;border:0;color:#fff;font-family:Arial;font-size:15px;margin:0;padding:4px 9px;cursor:pointer;_padding:3px}.inwrapBorder a.input_submit{text-decoration:none;display:block}.inwrapBorder:hover{border-color:#235af6;border-top-color:#4072ff;border-bottom-color:#1e4fd9}.inwrapBorderTop:hover{border-top-color:#7ba7ff;background-color:#4273ff;filter:progid:DXImageTransform.Microsoft.gradient(startColorstr='#4273ff',endColorstr='#3364f1');background:-webkit-gradient(linear,left top,left bottom,from(#4273ff),to(#3364f1));background:-moz-linear-gradient(top,#4273ff,#3364f1);background:linear-gradient(top,#4273ff,#3364f1)}.inwrapBorder:active{border-color:#536db7;border-top-color:#4b69c1;border-bottom-color:#3753a6}.inwrapBorder:active .inwrapBorderTop{border-top-color:#6c82c1;background-color:#4b69c1;filter:progid:DXImageTransform.Microsoft.gradient(startColorstr='#4b69c1',endColorstr='#3753a6');background:-webkit-gradient(linear,left top,left bottom,from(#4b69c1),to(#3753a6));background:-moz-linear-gradient(top,#4b69c1,#3753a6);background:linear-gradient(top,#4b69c1,#3753a6)}.roundedCorner{display:inline-block;zoom:1;*display:inline;vertical-align:baseline;margin:0 2px;outline:0;cursor:pointer;text-align:center;text-decoration:none;font:15px/100% Arial,Helvetica,sans-serif;padding:.5em 2em .55em;text-shadow:0 1px 1px rgba(0,0,0,.3);-webkit-border-radius:.5em;-moz-border-radius:.5em;border-radius:.5em;-webkit-box-shadow:0 1px 2px rgba(0,0,0,.2);-moz-box-shadow:0 1px 2px rgba(0,0,0,.2);box-shadow:0 1px 2px rgba(0,0,0,.2)}.roundedCorner:hover{text-decoration:none}.roundedCorner:active{position:relative;top:1px}.bigrounded{-webkit-border-radius:2em;-moz-border-radius:2em;border-radius:2em}.medium{font-size:12px;padding:.4em 1.5em .42em}.small{font-size:11px;padding:.2em 1em .275em}.indeedblue{color:#d9eef7;border:solid 1px #1c4ed9;background:#3163f2;background:-webkit-gradient(linear,left top,left bottom,from(#2f62f1),to(#133fbb));background:-moz-linear-gradient(top,#2f62f1,#133fbb);filter:progid:DXImageTransform.Microsoft.gradient(startColorstr='#2F62F1',endColorstr='#133FBB')}.indeedblue:hover,.indeedblue:focus{background:#235af6;background:-webkit-gradient(linear,left top,left bottom,from(#4072ff),to(#1e4fd9));background:-moz-linear-gradient(top,#4072ff,#1e4fd9);filter:progid:DXImageTransform.Microsoft.gradient(startColorstr='#4072ff',endColorstr='#1e4fd9')}.indeedblue:active{color:#d9eef7;background:-webkit-gradient(linear,left top,left bottom,from(#4b69c1),to(#3753a6));background:-moz-linear-gradient(top,#4b69c1,#3753a6);filter:progid:DXImageTransform.Microsoft.gradient(startColorstr='#4b69c1',endColorstr='#3753a6')}</style>\\n<span id=\"hidden_colon\" style=\"display:none\">:</span>\\n<table border=\"0\" cellpadding=\"0\" cellspacing=\"0\" role=\"banner\"><tr><td width=\"1125\"><table cellpadding=\"0\" cellspacing=\"0\" class=\"lnav\">\\n<tr>\\n<td id=\"branding-td\" style=\"vertical-align:top;\"><a href=\"/\" id=\"branding\" onmousedown=\"ptk('logo');\"><img alt=\"one search. all jobs. Indeed\" class=\"indeedLogo\" src=\"data:image/gif;base64,R0lGODlhAQABAJEAAAAAAP///////wAAACH5BAEHAAIALAAAAAABAAEAAAICVAEAOw==\" style=\"margin-bottom:6px;display:block;\" title=\"one search. all jobs. Indeed\"/></a></td>\\n<td style=\"padding-top:3px;\" valign=\"top\">\\n<form action=\"/jobs\" class=\"jsf\" id=\"jobsearch\" method=\"get\" name=\"js\" onsubmit=\"formptk('topsearch','where_ac','',['where_ac','what_ac'], ptk);formptk('topsearch','what_ac','w',['where_ac','what_ac'], ptk);\">\\n<table align=\"left\" cellpadding=\"3\" cellspacing=\"0\">\\n<tr>\\n<td class=\"npb\"><label for=\"what\" id=\"what_label_top\">What</label></td>\\n<td class=\"npb\" colspan=\"3\"><label for=\"where\" id=\"where_label_top\">Where</label></td>\\n</tr>\\n<tr role=\"search\">\\n<td class=\"npl epr\"><span class=\"inwrap\"><input aria-labelledby=\"what_label_top hidden_colon what_label\" class=\"input_text\" id=\"what\" maxlength=\"512\" name=\"q\" size=\"31\" value=\"data scientist $20,000\"/></span><div style=\"width:250px\"><!-- --></div></td>\\n<td class=\"npl epr\"><span class=\"inwrap\"><input aria-labelledby=\"where_label_top hidden_colon where_label\" class=\"input_text\" id=\"where\" maxlength=\"45\" name=\"l\" size=\"27\" value=\"New York\"/></span><div style=\"width:200px\"><!-- --></div></td>\\n<td class=\"npl\" style=\"width:1px\"><span class=\"inwrapBorder\" style=\"width:auto;padding-right:0;\"><span class=\"inwrapBorderTop\"><input class=\"input_submit\" id=\"fj\" type=\"submit\" value=\"Find Jobs\"/></span></span></td>\\n<td class=\"npl advanced-search\" style=\"width:240px;\"><div style=\"margin-left:12px; display:flex;\"><a class=\"sl\" href=\"/advanced_search?q=data+scientist+%2420%2C000&amp;l=New+York\">Advanced Job Search</a></div></td>\\n</tr>\\n<tr id=\"acr\">\\n<td><span class=\"h\">\\xa0</span></td>\\n<td class=\"npl\" colspan=\"2\"><div style=\"position:relative;z-index:2\"><div class=\"acd\" id=\"acdiv\" style=\"display:none;\"></div></div></td>\\n<td><span class=\"h\">\\xa0</span></td>\\n</tr>\\n<tr id=\"acr\">\\n<td class=\"npl\" colspan=\"3\"><div style=\"position:relative;z-index:2\"><div class=\"acd\" id=\"what_acdiv\" style=\"display:none;\"></div></div></td>\\n<td><span class=\"h\">\\xa0</span></td>\\n</tr>\\n<tr valign=\"baseline\">\\n<td class=\"label\" id=\"what_label_cell\">\\n<label aria-hidden=\"true\" for=\"what\" id=\"what_label\">job title, keywords or company</label>\\n</td>\\n<td class=\"label\" colspan=\"3\" id=\"where_label_cell\">\\n<label aria-hidden=\"true\" for=\"where\" id=\"where_label\">city, state, or zip</label>\\n</td>\\n</tr>\\n</table>\\n</form>\\n</td>\\n</tr>\\n</table>\\n</td></tr></table>\\n<script type=\"text/javascript\">\\n\\n        initAutocomplete('where_ac', gbid('where'), gbid('acdiv'), '/rpc/suggest?from=serp&tk=1b24e4lcrauunfl3', function() { formptk('topsearch','where_ac', '', ['where_ac','what_ac'], ptk); }, gbid('where'));\\n        \\n        initAutocomplete('what_ac', gbid('what'), gbid('what_acdiv'), '/rpc/suggest?what=true&tk=1b24e4lcrauunfl3', function () {formptk('topsearch', 'what_ac', 'w', ['where_ac','what_ac'], ptk);}, gbid('what'));\\n        </script>\\n<script type=\"text/javascript\">\\nfunction rclk(el,jobdata,oc,sal) { var ocstr = oc ? '&onclick=1' : ''; document.cookie='RCLK=\"jk='+jobdata.jk+'&tk=1b24e4lcrauunfl3&from=web&rd='+jobdata.rd+'&qd=7tdTJLF8oc4dPpT7T_zGvPNb6L1Ut5KgfhN1tIlu8MGsllFlTeURo2sZc2R1Y4xRV3eCeUmQGU3ztUik3-Gy_V4x-y51VJvTCR9SfSJGNawf-iuv1cGzYnNEk8P8bVI3rWbJ1vjce59Cx_veT0VFFQ&ts=1479765284251&sal='+sal+ocstr+'\"; path=/'; return true;}\\nfunction zrprclk(el,jobdata,oc) { var ocstr = oc ? '&onclick=1' : ''; document.cookie='RCLK=\"jk='+jobdata.jk+'&tk=1b24e4lcrauunfl3&from=reconzrp&rd='+jobdata.rd+'&qd=7tdTJLF8oc4dPpT7T_zGvPNb6L1Ut5KgfhN1tIlu8MGsllFlTeURo2sZc2R1Y4xRV3eCeUmQGU3ztUik3-Gy_V4x-y51VJvTCR9SfSJGNawf-iuv1cGzYnNEk8P8bVI3rWbJ1vjce59Cx_veT0VFFQ&ts=1479765284251'+ocstr+'\"; path=/'; return true;}\\nfunction prjbottomclk(el,jobdata,oc) { var ocstr = oc ? '&onclick=1' : ''; document.cookie='RCLK=\"jk='+jobdata.jk+'&tk=1b24e4lcrauunfl3&from=reconserp&rd='+jobdata.rd+'&qd=7tdTJLF8oc4dPpT7T_zGvPNb6L1Ut5KgfhN1tIlu8MGsllFlTeURo2sZc2R1Y4xRV3eCeUmQGU3ztUik3-Gy_V4x-y51VJvTCR9SfSJGNawf-iuv1cGzYnNEk8P8bVI3rWbJ1vjce59Cx_veT0VFFQ&ts=1479765284251'+ocstr+'\"; path=/'; return true;}\\n\\n\\nvar jobmap = {};\\n\\njobmap[0]= {jk:'0e77bb201ff8eda8',efccid: '046ba3ce81ca82e1',srcid:'0aac387ee6f51c3d',cmpid:'ddfd750eca9911bc',num:'0',srcname:'Merkle Inc.',cmp:'Merkle Inc.',cmpesc:'Merkle Inc.',cmplnk:'/q-Merkle-l-New-York-jobs.html',loc:'New York, NY 10019',country:'US',zip:'10019',city:'New York',title:'Advanced Analytics \\\\u2013 Sr. Statistician',locid:'45f6c4ded55c00bf',rd:'RwtlWWN_YyegFUU5jdz2NY3FQNIt1w_QLUrHJI2HDMo'};\\n\\njobmap[1]= {jk:'e6c629fd19767483',efccid: '7e5b5315bb60d926',srcid:'c240297a1d430c67',cmpid:'fe404d18bb9eef1e',num:'1',srcname:'Spotify',cmp:'Spotify',cmpesc:'Spotify',cmplnk:'/q-Spotify-l-New-York-jobs.html',loc:'New York, NY 10011',country:'US',zip:'',city:'New York',title:'Data Scientist - Advertising Product and Platforms',locid:'45f6c4ded55c00bf',rd:'Om2P6qeLzeKYnA6W-As9gKNHWvTKlwaO3M8F8C76Z4U'};\\n\\njobmap[2]= {jk:'5aa26ed5b4f06cbe',efccid: 'c53ac26b761623c0',srcid:'81494ba87ba5cf2a',cmpid:'3485b16729140837',num:'2',srcname:'Pivotal Software',cmp:'Pivotal Software',cmpesc:'Pivotal Software',cmplnk:'/q-Pivotal-Software-l-New-York-jobs.html',loc:'New York, NY 10017',country:'US',zip:'',city:'New York',title:'Sr. Data Scientist',locid:'45f6c4ded55c00bf',rd:'9s_vRDMAziZLY-6iM-_3CefZyVvgRNjLNow2JUFBxpE'};\\n\\njobmap[3]= {jk:'af463078195f75cd',efccid: '2378ba489711ef81',srcid:'508ca9b026a9d080',cmpid:'04025e4967206e59',num:'3',srcname:'Absolutdata',cmp:'Absolutdata',cmpesc:'Absolutdata',cmplnk:'/q-Absolutdata-l-New-York-jobs.html',loc:'New York, NY',country:'US',zip:'',city:'New York',title:'Senior Data Scientist',locid:'45f6c4ded55c00bf',rd:'B54zpp5KFkQmTyWyABx60t1EX3LR-CmpNScAT818gVI'};\\n\\njobmap[4]= {jk:'586f9f330cee297b',efccid: '21dda935efa4bf24',srcid:'f94f856990e4034b',cmpid:'b5d8d88373ee52be',num:'4',srcname:'Wade &amp; Wendy',cmp:'Wade & Wendy',cmpesc:'Wade &amp; Wendy',cmplnk:'/q-Wade-&-Wendy-l-New-York-jobs.html',loc:'New York, NY',country:'US',zip:'',city:'New York',title:'Wade &amp; Wendy_Data Scientist\\\\/Engineer',locid:'45f6c4ded55c00bf',rd:'P3vQAiixPNeOmHt6ydqouQ'};\\n\\njobmap[5]= {jk:'b9e49af075a8275f',efccid: 'a380dd14836da997',srcid:'1ac0770ef5485ad8',cmpid:'9a92a4bf81326e1e',num:'5',srcname:'AIG',cmp:'AIG',cmpesc:'AIG',cmplnk:'/q-AIG-l-New-York-jobs.html',loc:'New York, NY',country:'US',zip:'',city:'New York',title:'Senior Investments Data Scientist',locid:'45f6c4ded55c00bf',rd:'FeujI99XixlPFIQ2ws_jl1j4B4WatiYt9mWiaZpCO2w'};\\n\\njobmap[6]= {jk:'4854784a88f08549',efccid: '15efe5a08ca55592',srcid:'dc7c2e8d92bf71fb',cmpid:'c3cd496d204337fb',num:'6',srcname:'Macmillan',cmp:'Pronoun',cmpesc:'Pronoun',cmplnk:'/q-Pronoun-l-New-York-jobs.html',loc:'New York, NY',country:'US',zip:'',city:'New York',title:'Senior Data Scientist',locid:'45f6c4ded55c00bf',rd:'sNTYXIV8hzjT58QWd7AQyA'};\\n\\njobmap[7]= {jk:'465e2421bf515d41',efccid: 'b9443f9de939e701',srcid:'30150bb668047c46',cmpid:'7077d7e88049c02a',num:'7',srcname:'Aetna',cmp:'Aetna',cmpesc:'Aetna',cmplnk:'/q-Aetna-l-New-York-jobs.html',loc:'New York, NY 10018',country:'US',zip:'10018',city:'New York',title:'Sr. Data Scientist',locid:'45f6c4ded55c00bf',rd:'-txEyZKqt2_Wn8LXi3R50Fj4B4WatiYt9mWiaZpCO2w'};\\n\\njobmap[8]= {jk:'8d67bdb41d6b4c81',efccid: 'b04e7102b5bec5c6',srcid:'e30bad002d29482f',cmpid:'c2a63affe8751868',num:'8',srcname:'CAPCO',cmp:'CAPCO',cmpesc:'CAPCO',cmplnk:'/q-CAPCO-l-New-York-jobs.html',loc:'New York, NY 10271',country:'US',zip:'',city:'New York',title:'Senior Data Scientist',locid:'45f6c4ded55c00bf',rd:'4Ebq5ZO9Vh15SxvbDdlgCrzuGkETWXrRHSfpMDBv8C8'};\\n\\njobmap[9]= {jk:'019e81f07d6c887c',efccid: 'acfce56a5f7d2afa',srcid:'2e524f8169112f02',cmpid:'ae0c894528aa6eee',num:'9',srcname:'Viacom',cmp:'Viacom',cmpesc:'Viacom',cmplnk:'/q-Viacom-l-New-York-jobs.html',loc:'New York, NY',country:'US',zip:'',city:'New York',title:'SENIOR DATA SCIENTIST',locid:'45f6c4ded55c00bf',rd:'Rnerd75a9OowM8XapgNKdvhihNFV-r1F5fpThoavy9I'};\\n</script>\\n<style type=\"text/css\">\\n.jobtitle {\\nfont-weight: bold;\\n}\\ntd.snip b, span.company b, #femp_list .jobtitle, #cmpinfo_list .jobtitle, .jobtitle .new {\\nfont-weight: normal;\\n}\\n</style>\\n<style type=\"text/css\">\\ndiv.row table tr td.snip { line-height: 1.4; }\\n</style>\\n<table border=\"0\" cellpadding=\"0\" cellspacing=\"0\" id=\"serpBody\" role=\"main\"><tr><td>\\n<script type=\"text/javascript\">\\nwindow['ree'] = \"pdsssps\";\\nwindow['jas'] = \"Qm0OAxD0\";\\n</script>\\n<style type=\"text/css\">\\n.basePromo{margin-top:8px;margin-bottom:13px;padding-left:12px;padding-right:12px}.redText{color:red}.bold{font-weight:bold}.basePromo.resume{font-size:14px;margin-top:5px}.basePromo.resume>img{height:20px;margin-right:5px;margin-bottom:3px;width:16px}</style>\\n<table border=\"0\" cellpadding=\"0\" cellspacing=\"0\" id=\"pageContent\" width=\"100%\">\\n<tr valign=\"top\">\\n<td data-tn-section=\"refineBy\" id=\"refineresultscol\">\\n<div id=\"refineresults\">\\n<h1><font size=\"+1\">data scientist $20,000 jobs in New York, NY</font></h1>\\n<span aria-level=\"2\" role=\"heading\" style=\"height: 0; overflow: hidden; position: absolute;\">Filter results by:</span>\\n<div style=\"margin-left: 6px; margin-bottom: 1em;\">Sort\\xa0by: <nobr><b>relevance</b> -\\n            <a href=\"/jobs?q=data+scientist+%2420%2C000&amp;l=New+York&amp;sort=date\" rel=\"nofollow\">date</a></nobr></div>\\n<div id=\"activefilters\">\\n<span>You refined by:</span>\\n<span class=\"item\"><b>$20,000+</b> (<a class=\"undo\" href=\"/q-data-scientist-l-New-York-jobs.html\" onmousedown=\"rbptk('rbundo', 'salest');\" rel=\"nofollow\">undo</a>)\\n<span class=\"se_prompt\"><a class=\"se_label\" href=\"http://support.indeed.com/hc/en-us/articles/204489020-What-is-a-Salary-Estimate-\" onclick=\"showInPopup( '/jsp/about_salary_estimate.jsp' ); return false;\">Salaries estimated if unavailable</a></span></span>\\n</div>\\n<form action=\"/jobs\" id=\"radius_update\" method=\"get\" name=\"radius_update\">\\n<input name=\"q\" type=\"hidden\" value=\"data scientist $20,000\"/><input name=\"l\" type=\"hidden\" value=\"New York\"/><label for=\"distance_selector\" onclick=\"this.form.radius.focus();return false;\">Distance:</label>\\n<select id=\"distance_selector\" name=\"radius\" onchange=\"ptk('radius'); this.form.submit();\">\\n<option value=\"0\">Exact location only</option>\\n<option value=\"5\">within 5 miles</option>\\n<option value=\"10\">within 10 miles</option>\\n<option value=\"15\">within 15 miles</option>\\n<option selected=\"\" value=\"25\">within 25 miles</option>\\n<option value=\"50\">within 50 miles</option>\\n<option value=\"100\">within 100 miles</option>\\n</select>\\n<noscript><input id=\"r_up\" name=\"r_up\" type=\"submit\" value=\"Go\"/></noscript>\\n</form><div class=\"rbSection rbOpen\" id=\"rb_Job Type\">\\n<div class=\"rbHeader\">\\n<span aria-level=\"3\" class=\"ws_bold\" role=\"heading\">\\nJob Type</span>\\n</div>\\n<div class=\"rbsrbo\" id=\"JOB_TYPE_rbo\">\\n<ul class=\"rbList\">\\n<li onmousedown=\"rbptk('rb', 'jobtype', '1');\">\\n<a href=\"/jobs?q=data+scientist+$20,000&amp;l=New+York&amp;jt=fulltime\" rel=\"nofollow\" title=\"Full-time (2164)\">Full-time</a> (2164)</li>\\n<li onmousedown=\"rbptk('rb', 'jobtype', '2');\">\\n<a href=\"/jobs?q=data+scientist+$20,000&amp;l=New+York&amp;jt=contract\" rel=\"nofollow\" title=\"Contract (94)\">Contract</a> (94)</li>\\n<li onmousedown=\"rbptk('rb', 'jobtype', '3');\">\\n<a href=\"/jobs?q=data+scientist+$20,000&amp;l=New+York&amp;jt=temporary\" rel=\"nofollow\" title=\"Temporary (67)\">Temporary</a> (67)</li>\\n<li onmousedown=\"rbptk('rb', 'jobtype', '4');\">\\n<a href=\"/jobs?q=data+scientist+$20,000&amp;l=New+York&amp;jt=parttime\" rel=\"nofollow\" title=\"Part-time (35)\">Part-time</a> (35)</li>\\n<li onmousedown=\"rbptk('rb', 'jobtype', '5');\">\\n<a href=\"/jobs?q=data+scientist+$20,000&amp;l=New+York&amp;jt=internship\" rel=\"nofollow\" title=\"Internship (33)\">Internship</a> (33)</li>\\n<li onmousedown=\"rbptk('rb', 'jobtype', '6');\">\\n<a href=\"/jobs?q=data+scientist+$20,000&amp;l=New+York&amp;jt=commission\" rel=\"nofollow\" title=\"Commission (8)\">Commission</a> (8)</li>\\n</ul>\\n</div>\\n</div>\\n<div class=\"rbSection rbOpen\" id=\"rb_Location\">\\n<div class=\"rbHeader\">\\n<span aria-level=\"3\" class=\"ws_bold\" role=\"heading\">\\nLocation</span>\\n</div>\\n<div class=\"rbsrbo\" id=\"LOCATION_rbo\">\\n<ul class=\"rbList\">\\n<li onmousedown=\"rbptk('rb', 'loc', '1');\">\\n<a href=\"/jobs?q=data+scientist+$20,000&amp;l=New+York&amp;rbl=New+York,+NY&amp;jlid=45f6c4ded55c00bf\" rel=\"nofollow\" title=\"New York, NY (1838)\">New York, NY</a> (1838)</li>\\n<li onmousedown=\"rbptk('rb', 'loc', '2');\">\\n<a href=\"/jobs?q=data+scientist+$20,000&amp;l=New+York&amp;rbl=Manhattan,+NY&amp;jlid=ea5405905f293f14\" rel=\"nofollow\" title=\"Manhattan, NY (52)\">Manhattan, NY</a> (52)</li>\\n<li onmousedown=\"rbptk('rb', 'loc', '3');\">\\n<a href=\"/jobs?q=data+scientist+$20,000&amp;l=New+York&amp;rbl=Summit,+NJ&amp;jlid=f3c783c0c5425d6a\" rel=\"nofollow\" title=\"Summit, NJ (52)\">Summit, NJ</a> (52)</li>\\n<li onmousedown=\"rbptk('rb', 'loc', '4');\">\\n<a href=\"/jobs?q=data+scientist+$20,000&amp;l=New+York&amp;rbl=Jersey+City,+NJ&amp;jlid=a8725547cbf3b706\" rel=\"nofollow\" title=\"Jersey City, NJ (39)\">Jersey City, NJ</a> (39)</li>\\n<li onmousedown=\"rbptk('rb', 'loc', '5');\">\\n<a href=\"/jobs?q=data+scientist+$20,000&amp;l=New+York&amp;rbl=Roseland,+NJ&amp;jlid=218092364ca6bfe9\" rel=\"nofollow\" title=\"Roseland, NJ (34)\">Roseland, NJ</a> (34)</li>\\n<li class=\"moreLi\" onmousedown=\"rbptk('rb', 'loc', '6');\">\\n<a href=\"/jobs?q=data+scientist+$20,000&amp;l=New+York&amp;rbl=Newark,+NJ&amp;jlid=fc0723f9333e9830\" rel=\"nofollow\" title=\"Newark, NJ (28)\">Newark, NJ</a> (28)</li>\\n<li class=\"moreLi\" onmousedown=\"rbptk('rb', 'loc', '7');\">\\n<a href=\"/jobs?q=data+scientist+$20,000&amp;l=New+York&amp;rbl=Parsippany,+NJ&amp;jlid=61d39317b53e0380\" rel=\"nofollow\" title=\"Parsippany, NJ (26)\">Parsippany, NJ</a> (26)</li>\\n<li class=\"moreLi\" onmousedown=\"rbptk('rb', 'loc', '8');\">\\n<a href=\"/jobs?q=data+scientist+$20,000&amp;l=New+York&amp;rbl=Rahway,+NJ&amp;jlid=4ee8dde7f79849a9\" rel=\"nofollow\" title=\"Rahway, NJ (19)\">Rahway, NJ</a> (19)</li>\\n<li class=\"moreLi\" onmousedown=\"rbptk('rb', 'loc', '9');\">\\n<a href=\"/jobs?q=data+scientist+$20,000&amp;l=New+York&amp;rbl=Kenilworth,+NJ&amp;jlid=d4ba7419e50dc16c\" rel=\"nofollow\" title=\"Kenilworth, NJ (18)\">Kenilworth, NJ</a> (18)</li>\\n<li class=\"moreLi\" onmousedown=\"rbptk('rb', 'loc', '10');\">\\n<a href=\"/jobs?q=data+scientist+$20,000&amp;l=New+York&amp;rbl=Woodcliff+Lake,+NJ&amp;jlid=28b1ba47ab37f16b\" rel=\"nofollow\" title=\"Woodcliff Lake, NJ (15)\">Woodcliff Lake, NJ</a> (15)</li>\\n<li class=\"moreLi\" onmousedown=\"rbptk('rb', 'loc', '11');\">\\n<a href=\"/jobs?q=data+scientist+$20,000&amp;l=New+York&amp;rbl=Florham+Park,+NJ&amp;jlid=b5a6da3a8969d064\" rel=\"nofollow\" title=\"Florham Park, NJ (14)\">Florham Park, NJ</a> (14)</li>\\n<li class=\"moreLi\" onmousedown=\"rbptk('rb', 'loc', '12');\">\\n<a href=\"/jobs?q=data+scientist+$20,000&amp;l=New+York&amp;rbl=Berkeley+Heights,+NJ&amp;jlid=53861cbd532c8f01\" rel=\"nofollow\" title=\"Berkeley Heights, NJ (12)\">Berkeley Heights, NJ</a> (12)</li>\\n<li class=\"moreLi\" onmousedown=\"rbptk('rb', 'loc', '13');\">\\n<a href=\"/jobs?q=data+scientist+$20,000&amp;l=New+York&amp;rbl=South+Plainfield,+NJ&amp;jlid=eb63caa7149dc6dd\" rel=\"nofollow\" title=\"South Plainfield, NJ (10)\">South Plainfield, NJ</a> (10)</li>\\n<li class=\"moreLi\" onmousedown=\"rbptk('rb', 'loc', '14');\">\\n<a href=\"/jobs?q=data+scientist+$20,000&amp;l=New+York&amp;rbl=Whippany,+NJ&amp;jlid=f1d6077a2b2f4d26\" rel=\"nofollow\" title=\"Whippany, NJ (10)\">Whippany, NJ</a> (10)</li>\\n<li class=\"moreLi\" onmousedown=\"rbptk('rb', 'loc', '15');\">\\n<a href=\"/jobs?q=data+scientist+$20,000&amp;l=New+York&amp;rbl=East+Hanover,+NJ&amp;jlid=0133c97d9389fa29\" rel=\"nofollow\" title=\"East Hanover, NJ (10)\">East Hanover, NJ</a> (10)</li>\\n<li class=\"moreLi\" onmousedown=\"rbptk('rb', 'loc', '16');\"><a href=\"/q-Data-Scientist-$20,000-jobs.html\">Data Scientist $20,000 jobs</a> nationwide</li>\\n</ul>\\n<div class=\"more_link\"><span onclick=\"showAllRefinements('rb_Location'); return false;\" onkeyup=\"if (event.keyCode == 13) showAllRefinements('rb_Location'); return false;\" tabindex=\"0\">more \\xbb</span></div></div>\\n</div>\\n<div class=\"rbSection rbOpen\" id=\"rb_Company\">\\n<div class=\"rbHeader\">\\n<span aria-level=\"3\" class=\"ws_bold\" role=\"heading\">\\nCompany</span>\\n</div>\\n<div class=\"rbsrbo\" id=\"COMPANY_rbo\">\\n<ul class=\"rbList\">\\n<li onmousedown=\"rbptk('rb', 'cmp', '1');\">\\n<a href=\"/jobs?q=data+scientist+$20,000&amp;l=New+York&amp;rbc=NYU+Langone+Medical+Center&amp;jcid=a259fc86b1470609\" rel=\"nofollow\" title=\"NYU Langone Medical Center (362)\">NYU Langone Medical Center</a> (362)</li>\\n<li onmousedown=\"rbptk('rb', 'cmp', '2');\">\\n<a href=\"/jobs?q=data+scientist+$20,000&amp;l=New+York&amp;rbc=Selby+Jennings&amp;jcid=e46dcf251ad893cd\" rel=\"nofollow\" title=\"Selby Jennings (158)\">Selby Jennings</a> (158)</li>\\n<li onmousedown=\"rbptk('rb', 'cmp', '3');\">\\n<a href=\"/jobs?q=data+scientist+$20,000&amp;l=New+York&amp;rbc=Weill+Cornell+Medical+College&amp;jcid=eab46b3ba6851e42\" rel=\"nofollow\" title=\"Weill Cornell Medical College (100)\">Weill Cornell Medical College</a> (100)</li>\\n<li onmousedown=\"rbptk('rb', 'cmp', '4');\">\\n<a href=\"/jobs?q=data+scientist+$20,000&amp;l=New+York&amp;rbc=Mount+Sinai+Health+System&amp;jcid=c007936ceb766fe5\" rel=\"nofollow\" title=\"Mount Sinai Health System (79)\">Mount Sinai Health System</a> (79)</li>\\n<li onmousedown=\"rbptk('rb', 'cmp', '5');\">\\n<a href=\"/jobs?q=data+scientist+$20,000&amp;l=New+York&amp;rbc=ADP&amp;jcid=e996c2d6855fe778\" rel=\"nofollow\" title=\"ADP (50)\">ADP</a> (50)</li>\\n<li class=\"moreLi\" onmousedown=\"rbptk('rb', 'cmp', '6');\">\\n<a href=\"/jobs?q=data+scientist+$20,000&amp;l=New+York&amp;rbc=Columbia+University&amp;jcid=bd976cc171c690e0\" rel=\"nofollow\" title=\"Columbia University (39)\">Columbia University</a> (39)</li>\\n<li class=\"moreLi\" onmousedown=\"rbptk('rb', 'cmp', '7');\">\\n<a href=\"/jobs?q=data+scientist+$20,000&amp;l=New+York&amp;rbc=Celgene+Corporation&amp;jcid=b7b2b0ecc148eab5\" rel=\"nofollow\" title=\"Celgene Corporation (31)\">Celgene Corporation</a> (31)</li>\\n<li class=\"moreLi\" onmousedown=\"rbptk('rb', 'cmp', '8');\">\\n<a href=\"/jobs?q=data+scientist+$20,000&amp;l=New+York&amp;rbc=Merck&amp;jcid=c38b7d5e0419a6a7\" rel=\"nofollow\" title=\"Merck (28)\">Merck</a> (28)</li>\\n<li class=\"moreLi\" onmousedown=\"rbptk('rb', 'cmp', '9');\">\\n<a href=\"/jobs?q=data+scientist+$20,000&amp;l=New+York&amp;rbc=Bank+of+America&amp;jcid=5bd99dfa21c8a490\" rel=\"nofollow\" title=\"Bank of America (27)\">Bank of America</a> (27)</li>\\n<li class=\"moreLi\" onmousedown=\"rbptk('rb', 'cmp', '10');\">\\n<a href=\"/jobs?q=data+scientist+$20,000&amp;l=New+York&amp;rbc=Morgan+Stanley&amp;jcid=0c39fb2c91742dcf\" rel=\"nofollow\" title=\"Morgan Stanley (25)\">Morgan Stanley</a> (25)</li>\\n<li class=\"moreLi\" onmousedown=\"rbptk('rb', 'cmp', '11');\">\\n<a href=\"/jobs?q=data+scientist+$20,000&amp;l=New+York&amp;rbc=DEPT+OF+HEALTH%2FMENTAL+HYGIENE&amp;jcid=2a757335b4200fbc\" rel=\"nofollow\" title=\"DEPT OF HEALTH/MENTAL HYGIENE (24)\">DEPT OF HEALTH/MENTAL HYGIENE</a> (24)</li>\\n<li class=\"moreLi\" onmousedown=\"rbptk('rb', 'cmp', '12');\">\\n<a href=\"/jobs?q=data+scientist+$20,000&amp;l=New+York&amp;rbc=Amazon+Corporate+LLC&amp;jcid=db9f9b9d28743c59\" rel=\"nofollow\" title=\"Amazon Corporate LLC (22)\">Amazon Corporate LLC</a> (22)</li>\\n<li class=\"moreLi\" onmousedown=\"rbptk('rb', 'cmp', '13');\">\\n<a href=\"/jobs?q=data+scientist+$20,000&amp;l=New+York&amp;rbc=JPMorgan+Chase&amp;jcid=c46d0116f6e69eae\" rel=\"nofollow\" title=\"JPMorgan Chase (19)\">JPMorgan Chase</a> (19)</li>\\n<li class=\"moreLi\" onmousedown=\"rbptk('rb', 'cmp', '14');\">\\n<a href=\"/jobs?q=data+scientist+$20,000&amp;l=New+York&amp;rbc=Celgene&amp;jcid=5d4039033d28e663\" rel=\"nofollow\" title=\"Celgene (18)\">Celgene</a> (18)</li>\\n<li class=\"moreLi\" onmousedown=\"rbptk('rb', 'cmp', '15');\">\\n<a href=\"/jobs?q=data+scientist+$20,000&amp;l=New+York&amp;rbc=Averity&amp;jcid=26ad2002ff6ebf9c\" rel=\"nofollow\" title=\"Averity (17)\">Averity</a> (17)</li>\\n</ul>\\n<div class=\"more_link\"><span onclick=\"showAllRefinements('rb_Company'); return false;\" onkeyup=\"if (event.keyCode == 13) showAllRefinements('rb_Company'); return false;\" tabindex=\"0\">more \\xbb</span></div></div>\\n</div>\\n<div class=\"rbSection rbOpen\" id=\"rb_Experience Level\">\\n<div class=\"rbHeader\">\\n<span aria-level=\"3\" class=\"ws_bold\" role=\"heading\">\\nExperience Level</span>\\n</div>\\n<div class=\"rbsrbo\" id=\"EXP_LVL_rbo\">\\n<ul class=\"rbList\">\\n<li onmousedown=\"rbptk('rb', 'explvl', '1');\">\\n<a href=\"/jobs?q=data+scientist+$20,000&amp;l=New+York&amp;explvl=mid_level\" rel=\"nofollow\" title=\"Mid Level (977)\">Mid Level</a> (977)</li>\\n<li onmousedown=\"rbptk('rb', 'explvl', '2');\">\\n<a href=\"/jobs?q=data+scientist+$20,000&amp;l=New+York&amp;explvl=entry_level\" rel=\"nofollow\" title=\"Entry Level (699)\">Entry Level</a> (699)</li>\\n<li onmousedown=\"rbptk('rb', 'explvl', '3');\">\\n<a href=\"/jobs?q=data+scientist+$20,000&amp;l=New+York&amp;explvl=senior_level\" rel=\"nofollow\" title=\"Senior Level (272)\">Senior Level</a> (272)</li>\\n</ul>\\n</div>\\n</div>\\n</div>\\n</td>\\n<td id=\"resultsCol\">\\n<div class=\"messageContainer\">\\n<script type=\"text/javascript\">\\nfunction setJaPromoCookie() {\\nvar expires = new Date();\\nexpires.setTime(expires.getTime() + (5 * 365 * 24 * 60 * 60 * 1000));\\nsetCookie(\"showJaPromo\", \"1\", expires);\\n}\\nfunction setRefineByCookie(refineByTypes) {\\nvar expires = new Date();\\nexpires.setTime(expires.getTime() + (10 * 1000));\\nrefineByTypes.forEach(function(type) {\\nsetCookie(type, \"1\", expires);\\n});\\n}\\n</script>\\n</div>\\n<style type=\"text/css\">\\n#increased_radius_result {\\nfont-size: 16px;\\nfont-style: italic;\\n}\\n#original_radius_result{\\nfont-size: 13px;\\nfont-style: italic;\\ncolor: #666666;\\n}\\n</style>\\n<div style=\"padding-top:9px;\"><div id=\"searchCount\">Jobs 11 to 20 of 2,354</div>\\n<div data-tn-section=\"resumePromo\" id=\"resumePromo\">\\n<a aria-hidden=\"true\" href=\"/promo/resume\" onclick=\"this.href = appendParamsOnce( this.href, '?from=serptop3&amp;subfrom=resprmrtop&amp;trk.origin=jobsearch&amp;trk.variant=resprmrtop&amp;trk.tk=1b24e4lcrauunfl3')\" tabindex=\"-1\"><span aria-label=\"post resume icon\" class=\"new-ico\" role=\"img\"></span></a> <a href=\"/promo/resume\" onclick=\"this.href = appendParamsOnce( this.href, '?from=serptop3&amp;subfrom=resprmrtop&amp;trk.origin=jobsearch&amp;trk.variant=resprmrtop&amp;trk.tk=1b24e4lcrauunfl3')\"><b>Upload your resume</b></a> - Let employers find you</div></div>\\n<script type=\"text/javascript\">\\nwindow['sjl'] = \"bmYVJUqBGM\";\\n</script>\\n<style type=\"text/css\">\\n.bmYVJUqBGM { margin: 0 0 6px 0; padding: 0; _zoom:100%; border: 0; background-color: #fff; }\\n.bmYVJUqBGM .jobtitle { white-space: nowrap; float:@LINE_START@; _float: none; }\\n.bmYVJUqBGM .sdn { color: #CD29C0; }\\n.XCGYZxSn .brdr { margin-top: 12px; }\\n.NQEsXFP3C .brdr { margin-bottom: 12px; }\\n@media only screen and (min-height:780px) {\\n.XCGYZxSn { margin-bottom: 9px; }\\n.NQEsXFP3C .brdr,\\n.MXRKglXcd,\\n.XCGYZxSn .brdr { margin-bottom: 9px; margin-top: 9px; }\\n}\\n</style>\\n<style type=\"text/css\">\\n.result-tab:empty {margin-top: 0;}\\n.XCGYZxSn {\\nmargin-bottom: 0;\\n}\\n@media only screen and (min-height:780px) {\\n.XCGYZxSn {\\nmargin-bottom: 0;\\n}\\n}\\n</style>\\n<div></div><a id=\"jobPostingsAnchor\" tabindex=\"-1\"></a>\\n<div class=\"bmYVJUqBGM XCGYZxSn\">\\n<div class=\"row result\" data-jk=\"aa3f2c10954032d4\" id=\"pj_aa3f2c10954032d4\">\\n<a class=\"jobtitle turnstileLink\" data-tn-element=\"jobTitle\" href=\"/pagead/clk?mo=r&amp;ad=-6NYlbfkN0A4eK-GEo2YznXnosoBCHt-kE-kmTi8vb0tbaNifYyjLeozEaDOB5v9g5konGB6iCVdWmXfvtAca2is0e-B1tTaxrdfs937akR-5WUzURwKLZ1ggj0pP5C7sZDFXJCHEHPsWxJl2q6yGME832kRN5PPcrLYLwRKQvLKvMNdjT0CVY4RqkW-1YJq7K28KvTz2XpxFU2-fU7TixNyazFmI9_xs2OLA-CDWdOILOwKYKMNw0rPqsIULu78axksPnT8Hs8x5ZAzLVamESf48jNdw0AMXR8Ot7yMpWZPuiR7dYs0JFzdkENbB2CBlTSHH3TOmMrR_OX0k4r1xslO9btXMVJYm7MYHW0p1x8y_vTK-fXDMNbmK0OOolYPjRQpMICfJVColziCsjgSVBJ5mtMaQVLwlSwX1nqS_H9W6KWnZl6Q2aXMYTrmLISjNo8XUa65Tns=&amp;p=1&amp;sk=&amp;fvj=1\" id=\"sja1\" onclick=\"setRefineByCookie(['salest']); sjoc('sja1',1); convCtr('SJ', pingUrlsForGA)\" onmousedown=\"sjomd('sja1'); clk('sja1');\" rel=\"nofollow\" target=\"_blank\" title=\"Research Analyst\">Research Analyst</a>\\n<br/>\\n<div class=\"sjcl\">\\n<span class=\"company\">\\n    Animalz</span>\\n\\n - <span class=\"location\">New York, NY 10002</span>\\n<div>\\n$40,000 a year</div>\\n</div>\\n<table border=\"0\" cellpadding=\"0\" cellspacing=\"0\"><tr><td class=\"snip\">\\n<span class=\"summary\">You're a critical thinker who can find compelling and significant arguments and <b>data</b> online. We are a content marketing agency looking to hire an extremely...</span>\\n</td></tr></table>\\n<div class=\"iaP\">\\n<span class=\"iaLabel\"> Easily apply</span>\\n</div><div class=\"result-link-bar-container\">\\n<div class=\"result-link-bar\"><span class=\"date\">20 days ago</span> <span class=\"tt_set\" id=\"tt_set_10\"></span><div class=\"edit_note_content\" id=\"editsaved2_aa3f2c10954032d4\" style=\"display:none;\"></div><script>window['sj_result_aa3f2c10954032d4'] = {\"showSource\": false, \"source\": \"Indeed\", \"loggedIn\": false, \"showMyJobsLinks\": true,\"undoAction\": \"unsave\",\"relativeJobAge\": \"20 days ago\",\"jobKey\": \"aa3f2c10954032d4\", \"myIndeedAvailable\": true, \"tellAFriendEnabled\": false, \"showMoreActionsLink\": false, \"resultNumber\": 10, \"jobStateChangedToSaved\": false, \"searchState\": \"q=data scientist $20,000&amp;l=New+York&amp;start=10\", \"basicPermaLink\": \"http://www.indeed.com\", \"saveJobFailed\": false, \"removeJobFailed\": false, \"requestPending\": false, \"notesEnabled\": false, \"currentPage\" : \"serp\", \"sponsored\" : true,\"reportJobButtonEnabled\": false, \"showMyJobsHired\": false, \"showSaveForSponsored\": false};</script></div></div>\\n<div class=\"tab-container\">\\n<div class=\"sign-in-container result-tab\"></div>\\n<div class=\"tellafriend-container result-tab email_job_content\"></div>\\n</div>\\n<span class=\"sdn\">Sponsored</span>\\n</div>\\n<div class=\"row result\" data-jk=\"02db6893e11d270f\" id=\"pj_02db6893e11d270f\">\\n<a class=\"jobtitle turnstileLink\" data-tn-element=\"jobTitle\" href=\"/pagead/clk?mo=r&amp;ad=-6NYlbfkN0A685IVOxDeoatz6vIylE5AY46nGr72CYzX_Ik6NYY6D61F1OntZsHSjcr8K3gWoxe0V0QEagpGVXqLe9j3-F8k65U9yOa8sNmJ8w5OqLqWWWnc8v-VI3xmf7Nvcwg3O1UGwDRm7djwEMEAO5VCnT0QvMw8nhSF2Vq3jeDZE9LYqfFBJ9bwXFmakzIyEymNjkYuAtuMsdhLa-BUKAI0_hfdv2QBggnKWA3gj48wPUqaAfWJROJ9Gn5L_aX_jzEOl63kavqUVN2VHg4YyINixStq3IBo7B8Ax_c61B7LUXP_bVn6MEYIwS00jvZaOrfm9_cBopK_mp4nK4diwlOIQ95E23aUPQda_MN6wf76PRgfcYHRvWDAiXp1xde0rP7J2usUyC9ma6zVZb8_PYBN9U9iv5wyyoNrGXFyxdRVYumsYw==&amp;p=2&amp;sk=&amp;fvj=0\" id=\"sja2\" onclick=\"setRefineByCookie(['salest']); sjoc('sja2',0); convCtr('SJ', pingUrlsForGA)\" onmousedown=\"sjomd('sja2'); clk('sja2');\" rel=\"nofollow\" target=\"_blank\" title=\"Analyst, Research Data\">Analyst, Research <b>Data</b></a>\\n<br/>\\n<div class=\"sjcl\">\\n<span class=\"company\">\\n<a class=\"turnstileLink\" data-tn-element=\"companyName\" href=\"/cmp/Northwell-Health\" onmousedown=\"this.href = appendParamsOnce(this.href, 'from=SERP&amp;campaignid=serp-linkcompanyname&amp;fromjk=02db6893e11d270f&amp;jcid=40917b19f0613136')\" target=\"_blank\">\\n        Northwell Health (Formerly North Shore-LIJ)</a></span>\\n\\n - <a class=\"turnstileLink slNoUnderline \" data-tn-element=\"reviewStars\" data-tn-variant=\"cmplinktst2\" href=\"/cmp/Northwell-Health/reviews\" onmousedown=\"this.href = appendParamsOnce(this.href, '?campaignid=cmplinktst2&amp;from=SERP&amp;jt=Analyst%2C+Research+Data&amp;fromjk=02db6893e11d270f&amp;jcid=40917b19f0613136');\" target=\"_blank\" title=\"Northwell Health reviews\">\\n<span class=\"ratings\" style=\"height: 11px; line-height: 11px; background-image: url(/images/cmp/star_2_sm@2x.png); background-size: 12px 22px;width: 60px;\"><span class=\"rating\" style=\"height: 11px; line-height: 11px; background-image: url(/images/cmp/star_2_sm@2x.png); background-size: 12px 22px;background-position: 0 11px; width: 51.6px;\"><!-- --></span></span><span class=\"slNoUnderline\">258 reviews</span></a>\\n - <span class=\"location\">New Hyde Park, NY</span>\\n</div>\\n<table border=\"0\" cellpadding=\"0\" cellspacing=\"0\"><tr><td class=\"snip\">\\n<span class=\"summary\">Develops web-based applications for <b>data</b> entry purposes. Minimum of three (3) years experience in <b>data</b> management consulting, complex <b>data</b> analysis, programming...</span>\\n</td></tr></table>\\n<div class=\"result-link-bar-container\">\\n<div class=\"result-link-bar\"><span class=\"date\">30 days ago</span> <span class=\"tt_set\" id=\"tt_set_11\"></span><div class=\"edit_note_content\" id=\"editsaved2_02db6893e11d270f\" style=\"display:none;\"></div><script>window['sj_result_02db6893e11d270f'] = {\"showSource\": false, \"source\": \"Northwell Health (Formerly North Shore-LIJ)\", \"loggedIn\": false, \"showMyJobsLinks\": true,\"undoAction\": \"unsave\",\"relativeJobAge\": \"30 days ago\",\"jobKey\": \"02db6893e11d270f\", \"myIndeedAvailable\": true, \"tellAFriendEnabled\": false, \"showMoreActionsLink\": false, \"resultNumber\": 11, \"jobStateChangedToSaved\": false, \"searchState\": \"q=data scientist $20,000&amp;l=New+York&amp;start=10\", \"basicPermaLink\": \"http://www.indeed.com\", \"saveJobFailed\": false, \"removeJobFailed\": false, \"requestPending\": false, \"notesEnabled\": false, \"currentPage\" : \"serp\", \"sponsored\" : true,\"reportJobButtonEnabled\": false, \"showMyJobsHired\": false, \"showSaveForSponsored\": false};</script></div></div>\\n<div class=\"tab-container\">\\n<div class=\"sign-in-container result-tab\"></div>\\n<div class=\"tellafriend-container result-tab email_job_content\"></div>\\n</div>\\n<span class=\"sdn\">Sponsored</span>\\n</div>\\n<div class=\"row sjlast result\" data-jk=\"382767b05d00ec51\" id=\"pj_382767b05d00ec51\">\\n<a class=\"jobtitle turnstileLink\" data-tn-element=\"jobTitle\" href=\"/pagead/clk?mo=r&amp;ad=-6NYlbfkN0D9Z_NigMRFBqnj4_9rPbMnaYMSgnKsRu0gcL5XJCnD3fAN5Vir87aLjFGm6jVWhz9wkzS2BgGinREYknrnjuB_-E4-0JeIFqzCCSK3GbmNyROhgtyr8hCJEjvWmKXVJd7PejxQeGzxBK4pVED5nzC8JjHStkSR7Ci791j1jOSNPiaY29HPwI9SCGfqSHygHhDR9USW3fKb4Nwdt5E1VsXGqQmAi_J1CyMX4_v3_RXUEoIoQx9AdvVASCmx85UynBLcvYufcrqOz55DhnQfPAdBudq5MXJgGIlWl6RK31Wdb8wTdRgRT9nHmg-4eKSAU63hNe1Nt5fvELKiHQ3IXIX2gT1zh-6xzYXK6mXDrmmND0931KUK4Ob6zhsiuVpS5_EE-949FVYVccI9H-2yHkkhl_l-WnAXu1JnWLWMfQWZKIOlAzf_Hero9cKbTVnEwIy-XwThGtWsVuAupccQiV_LUFtnwtOe0R94X91Q037sXPcFAG9w9x_uDoMNY6pAGdjeOMkrFz6epWsWhV7b_lbFUC7xHfQV6bb2Mae_eXTbwA8nmAOUrdBbBRpaO7TOL9n82lhqpHyBFMAGOgNcywUwXuOCsG5NCkNXsHdPT5BfxvewKJ16JeIhMpWTPP8g8w2Lv8KnFQ42fmgco5rQIqmnJhTbKPPDb4PoyexeCxiEy7Xr4MIZn1mHtJTGsFhdTza7GBUegpnv7sNm_NtAOrxcYAjqjBHVhTjzp3ros4tHZYdTeV_owO4NmglmCWFIi8pNqHVzLCsm_yrHr6rrnDB9E8dZXizrl5OIXte0dbINuLUNxaP8nBnR9FMXVtr8O8Nw0Cj-p1G5uWsDBJFeF4RkYIRBYzkJhkssoT_S0JNJ-umr_VrPloz2ExRoahqKyZRXpyHGM0-7PFY2vtrOtqxJpvyWaKOA9MEc8iCiUg2yOO1k5vl03oV7iuxfn0-X86Y=&amp;p=3&amp;sk=&amp;fvj=0\" id=\"sja3\" onclick=\"setRefineByCookie(['salest']); sjoc('sja3',0); convCtr('SJ', pingUrlsForGA)\" onmousedown=\"sjomd('sja3'); clk('sja3');\" rel=\"nofollow\" target=\"_blank\" title=\"Software Development Engineer, Data Science- Relocation Opportunity\">Software Development Engineer, <b>Data</b> Science- Relocation Oppo...</a>\\n<br/>\\n<div class=\"sjcl\">\\n<span class=\"company\">\\n    Audible, Inc.</span>\\n\\n - <span class=\"location\">United States</span>\\n</div>\\n<table border=\"0\" cellpadding=\"0\" cellspacing=\"0\"><tr><td class=\"snip\">\\n<span class=\"summary\">Do you enjoy working with <b>Data</b> <b>Scientists</b> to write software that can reshape the Audible business? You enjoy building and maintaining diverse software systems...</span>\\n</td></tr></table>\\n<div class=\"result-link-bar-container\">\\n<div class=\"result-link-bar\"><span class=\"date\">30+ days ago</span> <span class=\"tt_set\" id=\"tt_set_12\"></span><div class=\"edit_note_content\" id=\"editsaved2_382767b05d00ec51\" style=\"display:none;\"></div><script>window['sj_result_382767b05d00ec51'] = {\"showSource\": false, \"source\": \"Amazon.com\", \"loggedIn\": false, \"showMyJobsLinks\": true,\"undoAction\": \"unsave\",\"relativeJobAge\": \"30+ days ago\",\"jobKey\": \"382767b05d00ec51\", \"myIndeedAvailable\": true, \"tellAFriendEnabled\": false, \"showMoreActionsLink\": false, \"resultNumber\": 12, \"jobStateChangedToSaved\": false, \"searchState\": \"q=data scientist $20,000&amp;l=New+York&amp;start=10\", \"basicPermaLink\": \"http://www.indeed.com\", \"saveJobFailed\": false, \"removeJobFailed\": false, \"requestPending\": false, \"notesEnabled\": false, \"currentPage\" : \"serp\", \"sponsored\" : true,\"sponsorName\" : \"Amazon.com\",\"reportJobButtonEnabled\": false, \"showMyJobsHired\": false, \"showSaveForSponsored\": false};</script></div></div>\\n<div class=\"tab-container\">\\n<div class=\"sign-in-container result-tab\"></div>\\n<div class=\"tellafriend-container result-tab email_job_content\"></div>\\n</div>\\n<span class=\"sdn\">Sponsored by <b>Amazon.com</b></span>\\n</div>\\n</div>\\n<div class=\" row result\" data-jk=\"0e77bb201ff8eda8\" data-tn-component=\"organicJob\" id=\"p_0e77bb201ff8eda8\" itemscope=\"\" itemtype=\"http://schema.org/JobPosting\">\\n<h2 class=\"jobtitle\" id=\"jl_0e77bb201ff8eda8\">\\n<a class=\"turnstileLink\" data-tn-element=\"jobTitle\" href=\"/rc/clk?jk=0e77bb201ff8eda8&amp;fccid=ddfd750eca9911bc\" itemprop=\"title\" onclick=\"setRefineByCookie(['salest']); return rclk(this,jobmap[0],true,0);\" onmousedown=\"return rclk(this,jobmap[0],0);\" rel=\"nofollow\" target=\"_blank\" title=\"Advanced Analytics \\u2013 Sr. Statistician\">Advanced Analytics \\u2013 Sr. Statistician</a>\\n</h2>\\n<span class=\"company\" itemprop=\"hiringOrganization\" itemtype=\"http://schema.org/Organization\">\\n<span itemprop=\"name\">\\n<a href=\"/cmp/Merkle-Inc.\" onmousedown=\"this.href = appendParamsOnce(this.href, 'from=SERP&amp;campaignid=serp-linkcompanyname&amp;fromjk=0e77bb201ff8eda8&amp;jcid=ddfd750eca9911bc')\" target=\"_blank\">\\n        Merkle Inc.</a></span>\\n</span>\\n\\n - <a class=\"turnstileLink slNoUnderline \" data-tn-element=\"reviewStars\" data-tn-variant=\"cmplinktst2\" href=\"/cmp/Merkle-Inc./reviews\" onmousedown=\"this.href = appendParamsOnce(this.href, '?campaignid=cmplinktst2&amp;from=SERP&amp;jt=Advanced+Analytics+%5Cu2013+Sr.+Statistician&amp;fromjk=0e77bb201ff8eda8&amp;jcid=ddfd750eca9911bc');\" target=\"_blank\" title=\"Merkle reviews\">\\n<span class=\"ratings\" style=\"height: 11px; line-height: 11px; background-image: url(/images/cmp/star_2_sm@2x.png); background-size: 12px 22px;width: 60px;\"><span class=\"rating\" style=\"height: 11px; line-height: 11px; background-image: url(/images/cmp/star_2_sm@2x.png); background-size: 12px 22px;background-position: 0 11px; width: 42.0px;\"><!-- --></span></span><span class=\"slNoUnderline\">2 reviews</span></a>\\n - <span itemprop=\"jobLocation\" itemscope=\"\" itemtype=\"http://schema.org/Place\"><span class=\"location\" itemprop=\"address\" itemscope=\"\" itemtype=\"http://schema.org/Postaladdress\"><span itemprop=\"addressLocality\">New York, NY 10019 <span style=\"font-size: smaller\">(Midtown area)</span></span></span></span>\\n<table border=\"0\" cellpadding=\"0\" cellspacing=\"0\">\\n<tr>\\n<td class=\"snip\">\\n<div>\\n<span class=\"summary\" itemprop=\"description\">\\nStatistician / <b>Data</b> <b>Scientists</b>. End-to-end experience applying statistical and machine learning in a production environment, including ETL, <b>data</b> quality...</span>\\n</div>\\n<div class=\"iaP\">\\n<span class=\"iaLabel\"> Easily apply</span>\\n</div><div class=\"result-link-bar-container\">\\n<div class=\"result-link-bar\"><span class=\"date\">5 days ago</span> <span class=\"tt_set\" id=\"tt_set_0\"> - <span class=\"savelink2\" id=\"savelink2_0e77bb201ff8eda8\"><a class=\"sl resultLink save-job-link\" href=\"#\" id=\"sj_0e77bb201ff8eda8\" onclick=\"changeJobState('0e77bb201ff8eda8', 'save', 'linkbar', false);return false;\" title=\"Save this job to my.indeed\">save job</a></span> - <a class=\"sl resultLink more-link \" href=\"#\" id=\"tog_0\" onclick=\"toggleMoreLinks('0e77bb201ff8eda8'); return false;\">more...</a></span><div class=\"edit_note_content\" id=\"editsaved2_0e77bb201ff8eda8\" style=\"display:none;\"></div><script>window['result_0e77bb201ff8eda8'] = {\"showSource\": false, \"source\": \"Merkle Inc.\", \"loggedIn\": false, \"showMyJobsLinks\": true,\"undoAction\": \"unsave\",\"relativeJobAge\": \"5 days ago\",\"jobKey\": \"0e77bb201ff8eda8\", \"myIndeedAvailable\": true, \"tellAFriendEnabled\": false, \"showMoreActionsLink\": true, \"resultNumber\": 0, \"jobStateChangedToSaved\": false, \"searchState\": \"q=data scientist $20,000&amp;l=New+York&amp;start=10\", \"basicPermaLink\": \"http://www.indeed.com\", \"saveJobFailed\": false, \"removeJobFailed\": false, \"requestPending\": false, \"notesEnabled\": true, \"currentPage\" : \"serp\", \"sponsored\" : false,\"reportJobButtonEnabled\": false, \"showMyJobsHired\": false, \"showSaveForSponsored\": false};</script></div></div>\\n<div class=\"tab-container\">\\n<div class=\"more-links-container result-tab\" id=\"tt_display_0\" style=\"display:none;\"><a class=\"close-link closeLink\" href=\"#\" onclick=\"toggleMoreLinks('0e77bb201ff8eda8'); return false;\" title=\"Close\"></a><div class=\"more_actions\" id=\"more_0\"><ul><li><span class=\"mat\">View all <a href=\"/jobs?q=Merkle+Inc&amp;l=New+York,+NY&amp;nc=jasx\" rel=\"nofollow\">Merkle Inc. jobs in New York, NY</a> - <a href=\"/l-New-York,-NY-jobs.html\">New York jobs</a></span></li><li><span class=\"mat\">Salary Search: <a href=\"/salary?q1=Advanced+Analytic+Senior+Statistician&amp;l1=New+York%2C+NY\" onmousedown=\"this.href = appendParamsOnce(this.href, '');\">Advanced Analytic Senior Statistician salaries in New York, NY</a></span></li><li><span class=\"mat\">Learn more about working at <a href=\"/cmp/Merkle-Inc.\" onmousedown=\"this.href = appendParamsOnce(this.href, '?fromjk=0e77bb201ff8eda8&amp;from=serp-more&amp;campaignid=serp-more&amp;jcid=ddfd750eca9911bc');\">Merkle Inc.</a></span></li><li><span class=\"mat\">Related forums:  - <a href=\"/forum/loc/New-York-New-York.html\">New York, New York</a></span></li></ul></div></div><div class=\"dya-container result-tab\"></div>\\n<div class=\"tellafriend-container result-tab email_job_content\"></div>\\n<div class=\"sign-in-container result-tab\"></div>\\n<div class=\"notes-container result-tab\"></div>\\n</div>\\n</td>\\n</tr>\\n</table>\\n</div>\\n<div class=\" row result\" data-jk=\"e6c629fd19767483\" data-tn-component=\"organicJob\" id=\"p_e6c629fd19767483\" itemscope=\"\" itemtype=\"http://schema.org/JobPosting\">\\n<h2 class=\"jobtitle\" id=\"jl_e6c629fd19767483\">\\n<a class=\"turnstileLink\" data-tn-element=\"jobTitle\" href=\"/rc/clk?jk=e6c629fd19767483&amp;fccid=fe404d18bb9eef1e\" itemprop=\"title\" onclick=\"setRefineByCookie(['salest']); return rclk(this,jobmap[1],true,0);\" onmousedown=\"return rclk(this,jobmap[1],0);\" rel=\"nofollow\" target=\"_blank\" title=\"Data Scientist - Advertising Product and Platforms\"><b>Data</b> <b>Scientist</b> - Advertising Product and Platforms</a>\\n</h2>\\n<span class=\"company\" itemprop=\"hiringOrganization\" itemtype=\"http://schema.org/Organization\">\\n<span itemprop=\"name\">\\n<a href=\"/cmp/Spotify\" onmousedown=\"this.href = appendParamsOnce(this.href, 'from=SERP&amp;campaignid=serp-linkcompanyname&amp;fromjk=e6c629fd19767483&amp;jcid=fe404d18bb9eef1e')\" target=\"_blank\">\\n        Spotify</a></span>\\n</span>\\n\\n - <a class=\"turnstileLink slNoUnderline \" data-tn-element=\"reviewStars\" data-tn-variant=\"cmplinktst2\" href=\"/cmp/Spotify/reviews\" onmousedown=\"this.href = appendParamsOnce(this.href, '?campaignid=cmplinktst2&amp;from=SERP&amp;jt=Data+Scientist+-+Advertising+Product+and+Platforms&amp;fromjk=e6c629fd19767483&amp;jcid=fe404d18bb9eef1e');\" target=\"_blank\" title=\"Spotify reviews\">\\n<span class=\"ratings\" style=\"height: 11px; line-height: 11px; background-image: url(/images/cmp/star_2_sm@2x.png); background-size: 12px 22px;width: 60px;\"><span class=\"rating\" style=\"height: 11px; line-height: 11px; background-image: url(/images/cmp/star_2_sm@2x.png); background-size: 12px 22px;background-position: 0 11px; width: 54.6px;\"><!-- --></span></span><span class=\"slNoUnderline\">13 reviews</span></a>\\n - <span itemprop=\"jobLocation\" itemscope=\"\" itemtype=\"http://schema.org/Place\"><span class=\"location\" itemprop=\"address\" itemscope=\"\" itemtype=\"http://schema.org/Postaladdress\"><span itemprop=\"addressLocality\">New York, NY 10011 <span style=\"font-size: smaller\">(Chelsea area)</span></span></span></span>\\n<table border=\"0\" cellpadding=\"0\" cellspacing=\"0\">\\n<tr>\\n<td class=\"snip\">\\n<div>\\n<span class=\"summary\" itemprop=\"description\">\\nAs <b>Data</b> <b>Scientist</b>, our mission is to turn terabytes of <b>data</b> into insights and get a deep understanding of how our people use our apps to impact the product,...</span>\\n</div>\\n<div class=\"result-link-bar-container\">\\n<div class=\"result-link-bar\"><span class=\"date\">30+ days ago</span> <span class=\"tt_set\" id=\"tt_set_1\"> - <span class=\"savelink2\" id=\"savelink2_e6c629fd19767483\"><a class=\"sl resultLink save-job-link\" href=\"#\" id=\"sj_e6c629fd19767483\" onclick=\"changeJobState('e6c629fd19767483', 'save', 'linkbar', false);return false;\" title=\"Save this job to my.indeed\">save job</a></span> - <a class=\"sl resultLink more-link \" href=\"#\" id=\"tog_1\" onclick=\"toggleMoreLinks('e6c629fd19767483'); return false;\">more...</a></span><div class=\"edit_note_content\" id=\"editsaved2_e6c629fd19767483\" style=\"display:none;\"></div><script>window['result_e6c629fd19767483'] = {\"showSource\": false, \"source\": \"Spotify\", \"loggedIn\": false, \"showMyJobsLinks\": true,\"undoAction\": \"unsave\",\"relativeJobAge\": \"30+ days ago\",\"jobKey\": \"e6c629fd19767483\", \"myIndeedAvailable\": true, \"tellAFriendEnabled\": false, \"showMoreActionsLink\": true, \"resultNumber\": 1, \"jobStateChangedToSaved\": false, \"searchState\": \"q=data scientist $20,000&amp;l=New+York&amp;start=10\", \"basicPermaLink\": \"http://www.indeed.com\", \"saveJobFailed\": false, \"removeJobFailed\": false, \"requestPending\": false, \"notesEnabled\": true, \"currentPage\" : \"serp\", \"sponsored\" : false,\"reportJobButtonEnabled\": false, \"showMyJobsHired\": false, \"showSaveForSponsored\": false};</script></div></div>\\n<div class=\"tab-container\">\\n<div class=\"more-links-container result-tab\" id=\"tt_display_1\" style=\"display:none;\"><a class=\"close-link closeLink\" href=\"#\" onclick=\"toggleMoreLinks('e6c629fd19767483'); return false;\" title=\"Close\"></a><div class=\"more_actions\" id=\"more_1\"><ul><li><span class=\"mat\">View all <a href=\"/q-Spotify-l-New-York,-NY-jobs.html\" rel=\"nofollow\">Spotify jobs in New York, NY</a> - <a href=\"/l-New-York,-NY-jobs.html\">New York jobs</a></span></li><li><span class=\"mat\">Salary Search: <a href=\"/salary?q1=Data+Scientist&amp;l1=New+York%2C+NY\" onmousedown=\"this.href = appendParamsOnce(this.href, '');\">Data Scientist salaries in New York, NY</a></span></li><li><span class=\"mat\">Learn more about working at <a href=\"/cmp/Spotify\" onmousedown=\"this.href = appendParamsOnce(this.href, '?fromjk=e6c629fd19767483&amp;from=serp-more&amp;campaignid=serp-more&amp;jcid=fe404d18bb9eef1e');\">Spotify</a></span></li><li><span class=\"mat\">Related forums: <a href=\"/forum/cmp/Spotify.html\">Spotify</a> - <a href=\"/forum/loc/New-York-New-York.html\">New York, New York</a></span></li></ul></div></div><div class=\"dya-container result-tab\"></div>\\n<div class=\"tellafriend-container result-tab email_job_content\"></div>\\n<div class=\"sign-in-container result-tab\"></div>\\n<div class=\"notes-container result-tab\"></div>\\n</div>\\n</td>\\n</tr>\\n</table>\\n</div>\\n<div class=\" row result\" data-jk=\"5aa26ed5b4f06cbe\" data-tn-component=\"organicJob\" id=\"p_5aa26ed5b4f06cbe\" itemscope=\"\" itemtype=\"http://schema.org/JobPosting\">\\n<h2 class=\"jobtitle\" id=\"jl_5aa26ed5b4f06cbe\">\\n<a class=\"turnstileLink\" data-tn-element=\"jobTitle\" href=\"/rc/clk?jk=5aa26ed5b4f06cbe&amp;fccid=f79d473cc27214f6\" itemprop=\"title\" onclick=\"setRefineByCookie(['salest']); return rclk(this,jobmap[2],true,0);\" onmousedown=\"return rclk(this,jobmap[2],0);\" rel=\"nofollow\" target=\"_blank\" title=\"Sr. Data Scientist\">Sr. <b>Data</b> <b>Scientist</b></a>\\n</h2>\\n<span class=\"company\" itemprop=\"hiringOrganization\" itemtype=\"http://schema.org/Organization\">\\n<span itemprop=\"name\">\\n    Pivotal Software</span>\\n</span>\\n\\n - <span itemprop=\"jobLocation\" itemscope=\"\" itemtype=\"http://schema.org/Place\"><span class=\"location\" itemprop=\"address\" itemscope=\"\" itemtype=\"http://schema.org/Postaladdress\"><span itemprop=\"addressLocality\">New York, NY 10017 <span style=\"font-size: smaller\">(Midtown area)</span></span></span></span>\\n<table border=\"0\" cellpadding=\"0\" cellspacing=\"0\">\\n<tr>\\n<td class=\"snip\">\\n<div>\\n<span class=\"summary\" itemprop=\"description\">\\nA proven passion for generating insights from <b>data</b>, with a strong familiarity with the higher-level trends in <b>data</b> growth, open-source platforms, and public...</span>\\n</div>\\n<div class=\"iaP\">\\n<span class=\"iaLabel\"> Easily apply</span>\\n</div><div class=\"result-link-bar-container\">\\n<div class=\"result-link-bar\"><span class=\"date\">7 days ago</span> <span class=\"tt_set\" id=\"tt_set_2\"> - <span class=\"savelink2\" id=\"savelink2_5aa26ed5b4f06cbe\"><a class=\"sl resultLink save-job-link\" href=\"#\" id=\"sj_5aa26ed5b4f06cbe\" onclick=\"changeJobState('5aa26ed5b4f06cbe', 'save', 'linkbar', false);return false;\" title=\"Save this job to my.indeed\">save job</a></span> - <a class=\"sl resultLink more-link \" href=\"#\" id=\"tog_2\" onclick=\"toggleMoreLinks('5aa26ed5b4f06cbe'); return false;\">more...</a></span><div class=\"edit_note_content\" id=\"editsaved2_5aa26ed5b4f06cbe\" style=\"display:none;\"></div><script>window['result_5aa26ed5b4f06cbe'] = {\"showSource\": false, \"source\": \"Pivotal Software\", \"loggedIn\": false, \"showMyJobsLinks\": true,\"undoAction\": \"unsave\",\"relativeJobAge\": \"7 days ago\",\"jobKey\": \"5aa26ed5b4f06cbe\", \"myIndeedAvailable\": true, \"tellAFriendEnabled\": false, \"showMoreActionsLink\": true, \"resultNumber\": 2, \"jobStateChangedToSaved\": false, \"searchState\": \"q=data scientist $20,000&amp;l=New+York&amp;start=10\", \"basicPermaLink\": \"http://www.indeed.com\", \"saveJobFailed\": false, \"removeJobFailed\": false, \"requestPending\": false, \"notesEnabled\": true, \"currentPage\" : \"serp\", \"sponsored\" : false,\"reportJobButtonEnabled\": false, \"showMyJobsHired\": false, \"showSaveForSponsored\": false};</script></div></div>\\n<div class=\"tab-container\">\\n<div class=\"more-links-container result-tab\" id=\"tt_display_2\" style=\"display:none;\"><a class=\"close-link closeLink\" href=\"#\" onclick=\"toggleMoreLinks('5aa26ed5b4f06cbe'); return false;\" title=\"Close\"></a><div class=\"more_actions\" id=\"more_2\"><ul><li><span class=\"mat\">View all <a href=\"/q-Pivotal-Software-l-New-York,-NY-jobs.html\" rel=\"nofollow\">Pivotal Software jobs in New York, NY</a> - <a href=\"/l-New-York,-NY-jobs.html\">New York jobs</a></span></li><li><span class=\"mat\">Salary Search: <a href=\"/salary?q1=Senior+Data+Scientist&amp;l1=New+York%2C+NY\" onmousedown=\"this.href = appendParamsOnce(this.href, '');\">Senior Data Scientist salaries in New York, NY</a></span></li><li><span class=\"mat\">Learn more about working at <a href=\"/cmp/Pivotal-Software\" onmousedown=\"this.href = appendParamsOnce(this.href, '?fromjk=5aa26ed5b4f06cbe&amp;from=serp-more&amp;campaignid=serp-more&amp;jcid=3485b16729140837');\">Pivotal Software</a></span></li><li><span class=\"mat\">Related forums: <a href=\"/forum/cmp/Pivotal-Software.html\">Pivotal Software</a> - <a href=\"/forum/loc/New-York-New-York.html\">New York, New York</a></span></li></ul></div></div><div class=\"dya-container result-tab\"></div>\\n<div class=\"tellafriend-container result-tab email_job_content\"></div>\\n<div class=\"sign-in-container result-tab\"></div>\\n<div class=\"notes-container result-tab\"></div>\\n</div>\\n</td>\\n</tr>\\n</table>\\n</div>\\n<div class=\" row result\" data-jk=\"af463078195f75cd\" data-tn-component=\"organicJob\" id=\"p_af463078195f75cd\" itemscope=\"\" itemtype=\"http://schema.org/JobPosting\">\\n<h2 class=\"jobtitle\" id=\"jl_af463078195f75cd\">\\n<a class=\"turnstileLink\" data-tn-element=\"jobTitle\" href=\"/rc/clk?jk=af463078195f75cd&amp;fccid=04025e4967206e59\" itemprop=\"title\" onclick=\"setRefineByCookie(['salest']); return rclk(this,jobmap[3],true,0);\" onmousedown=\"return rclk(this,jobmap[3],0);\" rel=\"nofollow\" target=\"_blank\" title=\"Senior Data Scientist\">Senior <b>Data</b> <b>Scientist</b></a>\\n</h2>\\n<span class=\"company\" itemprop=\"hiringOrganization\" itemtype=\"http://schema.org/Organization\">\\n<span itemprop=\"name\">\\n<a href=\"/cmp/Absolutdata\" onmousedown=\"this.href = appendParamsOnce(this.href, 'from=SERP&amp;campaignid=serp-linkcompanyname&amp;fromjk=af463078195f75cd&amp;jcid=04025e4967206e59')\" target=\"_blank\">\\n        Absolutdata</a></span>\\n</span>\\n\\n - <a class=\"turnstileLink slNoUnderline \" data-tn-element=\"reviewStars\" data-tn-variant=\"cmplinktst2\" href=\"/cmp/Absolutdata/reviews\" onmousedown=\"this.href = appendParamsOnce(this.href, '?campaignid=cmplinktst2&amp;from=SERP&amp;jt=Senior+Data+Scientist&amp;fromjk=af463078195f75cd&amp;jcid=04025e4967206e59');\" target=\"_blank\" title=\"Absolutdata reviews\">\\n<span class=\"ratings\" style=\"height: 11px; line-height: 11px; background-image: url(/images/cmp/star_2_sm@2x.png); background-size: 12px 22px;width: 60px;\"><span class=\"rating\" style=\"height: 11px; line-height: 11px; background-image: url(/images/cmp/star_2_sm@2x.png); background-size: 12px 22px;background-position: 0 11px; width: 40.8px;\"><!-- --></span></span><span class=\"slNoUnderline\">6 reviews</span></a>\\n - <span itemprop=\"jobLocation\" itemscope=\"\" itemtype=\"http://schema.org/Place\"><span class=\"location\" itemprop=\"address\" itemscope=\"\" itemtype=\"http://schema.org/Postaladdress\"><span itemprop=\"addressLocality\">New York, NY</span></span></span>\\n<table border=\"0\" cellpadding=\"0\" cellspacing=\"0\">\\n<tr>\\n<td class=\"snip\">\\n<div>\\n<span class=\"summary\" itemprop=\"description\">\\nComfortable using various <b>data</b> access tools. Be a key component of the Big <b>Data</b> practice, working directly with clients to solve very important problems using...</span>\\n</div>\\n<div class=\"result-link-bar-container\">\\n<div class=\"result-link-bar\"><span class=\"date\">6 days ago</span> <span class=\"tt_set\" id=\"tt_set_3\"> - <span class=\"savelink2\" id=\"savelink2_af463078195f75cd\"><a class=\"sl resultLink save-job-link\" href=\"#\" id=\"sj_af463078195f75cd\" onclick=\"changeJobState('af463078195f75cd', 'save', 'linkbar', false);return false;\" title=\"Save this job to my.indeed\">save job</a></span> - <a class=\"sl resultLink more-link \" href=\"#\" id=\"tog_3\" onclick=\"toggleMoreLinks('af463078195f75cd'); return false;\">more...</a></span><div class=\"edit_note_content\" id=\"editsaved2_af463078195f75cd\" style=\"display:none;\"></div><script>window['result_af463078195f75cd'] = {\"showSource\": false, \"source\": \"Absolutdata\", \"loggedIn\": false, \"showMyJobsLinks\": true,\"undoAction\": \"unsave\",\"relativeJobAge\": \"6 days ago\",\"jobKey\": \"af463078195f75cd\", \"myIndeedAvailable\": true, \"tellAFriendEnabled\": false, \"showMoreActionsLink\": true, \"resultNumber\": 3, \"jobStateChangedToSaved\": false, \"searchState\": \"q=data scientist $20,000&amp;l=New+York&amp;start=10\", \"basicPermaLink\": \"http://www.indeed.com\", \"saveJobFailed\": false, \"removeJobFailed\": false, \"requestPending\": false, \"notesEnabled\": true, \"currentPage\" : \"serp\", \"sponsored\" : false,\"reportJobButtonEnabled\": false, \"showMyJobsHired\": false, \"showSaveForSponsored\": false};</script></div></div>\\n<div class=\"tab-container\">\\n<div class=\"more-links-container result-tab\" id=\"tt_display_3\" style=\"display:none;\"><a class=\"close-link closeLink\" href=\"#\" onclick=\"toggleMoreLinks('af463078195f75cd'); return false;\" title=\"Close\"></a><div class=\"more_actions\" id=\"more_3\"><ul><li><span class=\"mat\">View all <a href=\"/q-Absolutdata-l-New-York,-NY-jobs.html\" rel=\"nofollow\">Absolutdata jobs in New York, NY</a> - <a href=\"/l-New-York,-NY-jobs.html\">New York jobs</a></span></li><li><span class=\"mat\">Salary Search: <a href=\"/salary?q1=Senior+Data+Scientist&amp;l1=New+York%2C+NY\" onmousedown=\"this.href = appendParamsOnce(this.href, '');\">Senior Data Scientist salaries in New York, NY</a></span></li><li><span class=\"mat\">Learn more about working at <a href=\"/cmp/Absolutdata\" onmousedown=\"this.href = appendParamsOnce(this.href, '?fromjk=af463078195f75cd&amp;from=serp-more&amp;campaignid=serp-more&amp;jcid=04025e4967206e59');\">Absolutdata</a></span></li><li><span class=\"mat\">Related forums: <a href=\"/forum/cmp/Absolutdata.html\">AbsolutData</a> - <a href=\"/forum/loc/New-York-New-York.html\">New York, New York</a></span></li></ul></div></div><div class=\"dya-container result-tab\"></div>\\n<div class=\"tellafriend-container result-tab email_job_content\"></div>\\n<div class=\"sign-in-container result-tab\"></div>\\n<div class=\"notes-container result-tab\"></div>\\n</div>\\n</td>\\n</tr>\\n</table>\\n</div>\\n<div class=\" row result\" data-jk=\"586f9f330cee297b\" data-tn-component=\"organicJob\" id=\"p_586f9f330cee297b\" itemscope=\"\" itemtype=\"http://schema.org/JobPosting\">\\n<h2 class=\"jobtitle\" id=\"jl_586f9f330cee297b\">\\n<a class=\"turnstileLink\" data-tn-element=\"jobTitle\" href=\"/rc/clk?jk=586f9f330cee297b&amp;fccid=163fc1e8f2ac4e32\" itemprop=\"title\" onclick=\"setRefineByCookie(['salest']); return rclk(this,jobmap[4],true,1);\" onmousedown=\"return rclk(this,jobmap[4],1);\" rel=\"nofollow\" target=\"_blank\" title=\"Wade &amp; Wendy_Data Scientist/Engineer\">Wade &amp; Wendy_<b>Data</b> <b>Scientist</b>/Engineer</a>\\n</h2>\\n<span class=\"company\" itemprop=\"hiringOrganization\" itemtype=\"http://schema.org/Organization\">\\n<span itemprop=\"name\">\\n    Wade &amp; Wendy</span>\\n</span>\\n\\n - <span itemprop=\"jobLocation\" itemscope=\"\" itemtype=\"http://schema.org/Place\"><span class=\"location\" itemprop=\"address\" itemscope=\"\" itemtype=\"http://schema.org/Postaladdress\"><span itemprop=\"addressLocality\">New York, NY</span></span></span>\\n<table border=\"0\" cellpadding=\"0\" cellspacing=\"0\">\\n<tr>\\n<td class=\"snip\">\\n<nobr>$80,000 - $120,000 a year</nobr>\\n<div>\\n<span class=\"summary\" itemprop=\"description\">\\nOur <b>Data</b> <b>Scientist</b> will integrate <b>data</b> from web sources, real-time adaptive questioning, and human-intelligence, to develop algorithms that create smart...</span>\\n</div>\\n<div class=\"iaP\">\\n<span class=\"iaLabel\"> Easily apply</span>\\n</div><div class=\"result-link-bar-container\">\\n<div class=\"result-link-bar\"><span class=\"date\">9 days ago</span> <span class=\"tt_set\" id=\"tt_set_4\"> - <span class=\"savelink2\" id=\"savelink2_586f9f330cee297b\"><a class=\"sl resultLink save-job-link\" href=\"#\" id=\"sj_586f9f330cee297b\" onclick=\"changeJobState('586f9f330cee297b', 'save', 'linkbar', false);return false;\" title=\"Save this job to my.indeed\">save job</a></span> - <a class=\"sl resultLink more-link \" href=\"#\" id=\"tog_4\" onclick=\"toggleMoreLinks('586f9f330cee297b'); return false;\">more...</a></span><div class=\"edit_note_content\" id=\"editsaved2_586f9f330cee297b\" style=\"display:none;\"></div><script>window['result_586f9f330cee297b'] = {\"showSource\": false, \"source\": \"Wade \\\\x26 Wendy\", \"loggedIn\": false, \"showMyJobsLinks\": true,\"undoAction\": \"unsave\",\"relativeJobAge\": \"9 days ago\",\"jobKey\": \"586f9f330cee297b\", \"myIndeedAvailable\": true, \"tellAFriendEnabled\": false, \"showMoreActionsLink\": true, \"resultNumber\": 4, \"jobStateChangedToSaved\": false, \"searchState\": \"q=data scientist $20,000&amp;l=New+York&amp;start=10\", \"basicPermaLink\": \"http://www.indeed.com\", \"saveJobFailed\": false, \"removeJobFailed\": false, \"requestPending\": false, \"notesEnabled\": true, \"currentPage\" : \"serp\", \"sponsored\" : false,\"reportJobButtonEnabled\": false, \"showMyJobsHired\": false, \"showSaveForSponsored\": false};</script></div></div>\\n<div class=\"tab-container\">\\n<div class=\"more-links-container result-tab\" id=\"tt_display_4\" style=\"display:none;\"><a class=\"close-link closeLink\" href=\"#\" onclick=\"toggleMoreLinks('586f9f330cee297b'); return false;\" title=\"Close\"></a><div class=\"more_actions\" id=\"more_4\"><ul><li><span class=\"mat\">View all <a href=\"/q-Wade-&amp;-Wendy-l-New-York,-NY-jobs.html\" rel=\"nofollow\">Wade &amp; Wendy jobs in New York, NY</a> - <a href=\"/l-New-York,-NY-jobs.html\">New York jobs</a></span></li><li><span class=\"mat\">Salary Search: <a href=\"/salary?q1=Data+Scientist+Engineer&amp;l1=New+York%2C+NY\" onmousedown=\"this.href = appendParamsOnce(this.href, '');\">Data Scientist Engineer salaries in New York, NY</a></span></li><li><span class=\"mat\">Learn more about working at <a href=\"/cmp/Wade-&amp;-Wendy\" onmousedown=\"this.href = appendParamsOnce(this.href, '?fromjk=586f9f330cee297b&amp;from=serp-more&amp;campaignid=serp-more&amp;jcid=b5d8d88373ee52be');\">Wade &amp; Wendy</a></span></li><li><span class=\"mat\">Related forums: <a href=\"/forum/cmp/Wade-%26-Wendy.html\">Wade &amp; Wendy</a> - <a href=\"/forum/loc/New-York-New-York.html\">New York, New York</a></span></li></ul></div></div><div class=\"dya-container result-tab\"></div>\\n<div class=\"tellafriend-container result-tab email_job_content\"></div>\\n<div class=\"sign-in-container result-tab\"></div>\\n<div class=\"notes-container result-tab\"></div>\\n</div>\\n</td>\\n</tr>\\n</table>\\n</div>\\n<div class=\" row result\" data-jk=\"b9e49af075a8275f\" data-tn-component=\"organicJob\" id=\"p_b9e49af075a8275f\" itemscope=\"\" itemtype=\"http://schema.org/JobPosting\">\\n<h2 class=\"jobtitle\" id=\"jl_b9e49af075a8275f\">\\n<a class=\"turnstileLink\" data-tn-element=\"jobTitle\" href=\"/rc/clk?jk=b9e49af075a8275f&amp;fccid=9a92a4bf81326e1e\" itemprop=\"title\" onclick=\"setRefineByCookie(['salest']); return rclk(this,jobmap[5],true,0);\" onmousedown=\"return rclk(this,jobmap[5],0);\" rel=\"nofollow\" target=\"_blank\" title=\"Senior Investments Data Scientist\">Senior Investments <b>Data</b> <b>Scientist</b></a>\\n</h2>\\n<span class=\"company\" itemprop=\"hiringOrganization\" itemtype=\"http://schema.org/Organization\">\\n<span itemprop=\"name\">\\n<a href=\"/cmp/AIG\" onmousedown=\"this.href = appendParamsOnce(this.href, 'from=SERP&amp;campaignid=serp-linkcompanyname&amp;fromjk=b9e49af075a8275f&amp;jcid=9a92a4bf81326e1e')\" target=\"_blank\">\\n        AIG</a></span>\\n</span>\\n\\n - <a class=\"turnstileLink slNoUnderline \" data-tn-element=\"reviewStars\" data-tn-variant=\"cmplinktst2\" href=\"/cmp/AIG/reviews\" onmousedown=\"this.href = appendParamsOnce(this.href, '?campaignid=cmplinktst2&amp;from=SERP&amp;jt=Senior+Investments+Data+Scientist&amp;fromjk=b9e49af075a8275f&amp;jcid=9a92a4bf81326e1e');\" target=\"_blank\" title=\"AIG reviews\">\\n<span class=\"ratings\" style=\"height: 11px; line-height: 11px; background-image: url(/images/cmp/star_2_sm@2x.png); background-size: 12px 22px;width: 60px;\"><span class=\"rating\" style=\"height: 11px; line-height: 11px; background-image: url(/images/cmp/star_2_sm@2x.png); background-size: 12px 22px;background-position: 0 11px; width: 43.8px;\"><!-- --></span></span><span class=\"slNoUnderline\">911 reviews</span></a>\\n - <span itemprop=\"jobLocation\" itemscope=\"\" itemtype=\"http://schema.org/Place\"><span class=\"location\" itemprop=\"address\" itemscope=\"\" itemtype=\"http://schema.org/Postaladdress\"><span itemprop=\"addressLocality\">New York, NY</span></span></span>\\n<table border=\"0\" cellpadding=\"0\" cellspacing=\"0\">\\n<tr>\\n<td class=\"snip\">\\n<div>\\n<span class=\"summary\" itemprop=\"description\">\\nAIG is seeking world-class dynamic <b>Data</b> <b>Scientists</b> to join our Science team that drives transformational change through evidence-based decision making at the...</span>\\n</div>\\n<div class=\"result-link-bar-container\">\\n<div class=\"result-link-bar\"><span class=\"date\">12 days ago</span> <span class=\"tt_set\" id=\"tt_set_5\"> - <span class=\"savelink2\" id=\"savelink2_b9e49af075a8275f\"><a class=\"sl resultLink save-job-link\" href=\"#\" id=\"sj_b9e49af075a8275f\" onclick=\"changeJobState('b9e49af075a8275f', 'save', 'linkbar', false);return false;\" title=\"Save this job to my.indeed\">save job</a></span> - <a class=\"sl resultLink more-link \" href=\"#\" id=\"tog_5\" onclick=\"toggleMoreLinks('b9e49af075a8275f'); return false;\">more...</a></span><div class=\"edit_note_content\" id=\"editsaved2_b9e49af075a8275f\" style=\"display:none;\"></div><script>window['result_b9e49af075a8275f'] = {\"showSource\": false, \"source\": \"AIG\", \"loggedIn\": false, \"showMyJobsLinks\": true,\"undoAction\": \"unsave\",\"relativeJobAge\": \"12 days ago\",\"jobKey\": \"b9e49af075a8275f\", \"myIndeedAvailable\": true, \"tellAFriendEnabled\": false, \"showMoreActionsLink\": true, \"resultNumber\": 5, \"jobStateChangedToSaved\": false, \"searchState\": \"q=data scientist $20,000&amp;l=New+York&amp;start=10\", \"basicPermaLink\": \"http://www.indeed.com\", \"saveJobFailed\": false, \"removeJobFailed\": false, \"requestPending\": false, \"notesEnabled\": true, \"currentPage\" : \"serp\", \"sponsored\" : false,\"reportJobButtonEnabled\": false, \"showMyJobsHired\": false, \"showSaveForSponsored\": false};</script></div></div>\\n<div class=\"tab-container\">\\n<div class=\"more-links-container result-tab\" id=\"tt_display_5\" style=\"display:none;\"><a class=\"close-link closeLink\" href=\"#\" onclick=\"toggleMoreLinks('b9e49af075a8275f'); return false;\" title=\"Close\"></a><div class=\"more_actions\" id=\"more_5\"><ul><li><span class=\"mat\">View all <a href=\"/q-AIG-l-New-York,-NY-jobs.html\" rel=\"nofollow\">AIG jobs in New York, NY</a> - <a href=\"/l-New-York,-NY-jobs.html\">New York jobs</a></span></li><li><span class=\"mat\">Salary Search: <a href=\"/salary?q1=Senior+Investment+Data+Scientist&amp;l1=New+York%2C+NY\" onmousedown=\"this.href = appendParamsOnce(this.href, '');\">Senior Investment Data Scientist salaries in New York, NY</a></span></li><li><span class=\"mat\">Learn more about working at <a href=\"/cmp/AIG\" onmousedown=\"this.href = appendParamsOnce(this.href, '?fromjk=b9e49af075a8275f&amp;from=serp-more&amp;campaignid=serp-more&amp;jcid=9a92a4bf81326e1e');\">AIG</a></span></li><li><span class=\"mat\">Related forums:  - <a href=\"/forum/loc/New-York-New-York.html\">New York, New York</a> - <a href=\"/forum/cmp/AIG.html\">AIG</a></span></li></ul></div></div><div class=\"dya-container result-tab\"></div>\\n<div class=\"tellafriend-container result-tab email_job_content\"></div>\\n<div class=\"sign-in-container result-tab\"></div>\\n<div class=\"notes-container result-tab\"></div>\\n</div>\\n</td>\\n</tr>\\n</table>\\n</div>\\n<div class=\" row result\" data-jk=\"4854784a88f08549\" data-tn-component=\"organicJob\" id=\"p_4854784a88f08549\" itemscope=\"\" itemtype=\"http://schema.org/JobPosting\">\\n<h2 class=\"jobtitle\" id=\"jl_4854784a88f08549\">\\n<a class=\"turnstileLink\" data-tn-element=\"jobTitle\" href=\"/rc/clk?jk=4854784a88f08549&amp;fccid=26aa9f85e87315ec\" itemprop=\"title\" onclick=\"setRefineByCookie(['salest']); return rclk(this,jobmap[6],true,0);\" onmousedown=\"return rclk(this,jobmap[6],0);\" rel=\"nofollow\" target=\"_blank\" title=\"Senior Data Scientist\">Senior <b>Data</b> <b>Scientist</b></a>\\n</h2>\\n<span class=\"company\" itemprop=\"hiringOrganization\" itemtype=\"http://schema.org/Organization\">\\n<span itemprop=\"name\">\\n    Pronoun</span>\\n</span>\\n\\n - <span itemprop=\"jobLocation\" itemscope=\"\" itemtype=\"http://schema.org/Place\"><span class=\"location\" itemprop=\"address\" itemscope=\"\" itemtype=\"http://schema.org/Postaladdress\"><span itemprop=\"addressLocality\">New York, NY</span></span></span>\\n<table border=\"0\" cellpadding=\"0\" cellspacing=\"0\">\\n<tr>\\n<td class=\"snip\">\\n<div>\\n<span class=\"summary\" itemprop=\"description\">\\nYou are a seasoned <b>data</b> <b>scientist</b> with product experience and a broad toolset in <b>data</b> mining, statistical machine learning, and optionally natural language...</span>\\n</div>\\n<div class=\"result-link-bar-container\">\\n<div class=\"result-link-bar\"><span class=\"result-link-source\">Macmillan </span>- <span class=\"date\">13 days ago</span> <span class=\"tt_set\" id=\"tt_set_6\"> - <span class=\"savelink2\" id=\"savelink2_4854784a88f08549\"><a class=\"sl resultLink save-job-link\" href=\"#\" id=\"sj_4854784a88f08549\" onclick=\"changeJobState('4854784a88f08549', 'save', 'linkbar', false);return false;\" title=\"Save this job to my.indeed\">save job</a></span> - <a class=\"sl resultLink more-link \" href=\"#\" id=\"tog_6\" onclick=\"toggleMoreLinks('4854784a88f08549'); return false;\">more...</a></span><div class=\"edit_note_content\" id=\"editsaved2_4854784a88f08549\" style=\"display:none;\"></div><script>window['result_4854784a88f08549'] = {\"showSource\": true, \"source\": \"Macmillan\", \"loggedIn\": false, \"showMyJobsLinks\": true,\"undoAction\": \"unsave\",\"relativeJobAge\": \"13 days ago\",\"jobKey\": \"4854784a88f08549\", \"myIndeedAvailable\": true, \"tellAFriendEnabled\": false, \"showMoreActionsLink\": true, \"resultNumber\": 6, \"jobStateChangedToSaved\": false, \"searchState\": \"q=data scientist $20,000&amp;l=New+York&amp;start=10\", \"basicPermaLink\": \"http://www.indeed.com\", \"saveJobFailed\": false, \"removeJobFailed\": false, \"requestPending\": false, \"notesEnabled\": true, \"currentPage\" : \"serp\", \"sponsored\" : false,\"reportJobButtonEnabled\": false, \"showMyJobsHired\": false, \"showSaveForSponsored\": false};</script></div></div>\\n<div class=\"tab-container\">\\n<div class=\"more-links-container result-tab\" id=\"tt_display_6\" style=\"display:none;\"><a class=\"close-link closeLink\" href=\"#\" onclick=\"toggleMoreLinks('4854784a88f08549'); return false;\" title=\"Close\"></a><div class=\"more_actions\" id=\"more_6\"><ul><li><span class=\"mat\">View all <a href=\"/q-Pronoun-l-New-York,-NY-jobs.html\" rel=\"nofollow\">Pronoun jobs in New York, NY</a> - <a href=\"/l-New-York,-NY-jobs.html\">New York jobs</a></span></li><li><span class=\"mat\">Salary Search: <a href=\"/salary?q1=Senior+Data+Scientist&amp;l1=New+York%2C+NY\" onmousedown=\"this.href = appendParamsOnce(this.href, '');\">Senior Data Scientist salaries in New York, NY</a></span></li><li><span class=\"mat\">Related forums:  - <a href=\"/forum/cmp/Pronoun.html\">Pronoun</a> - <a href=\"/forum/loc/New-York-New-York.html\">New York, New York</a></span></li></ul></div></div><div class=\"dya-container result-tab\"></div>\\n<div class=\"tellafriend-container result-tab email_job_content\"></div>\\n<div class=\"sign-in-container result-tab\"></div>\\n<div class=\"notes-container result-tab\"></div>\\n</div>\\n</td>\\n</tr>\\n</table>\\n</div>\\n<div class=\" row result\" data-jk=\"465e2421bf515d41\" data-tn-component=\"organicJob\" id=\"p_465e2421bf515d41\" itemscope=\"\" itemtype=\"http://schema.org/JobPosting\">\\n<h2 class=\"jobtitle\" id=\"jl_465e2421bf515d41\">\\n<a class=\"turnstileLink\" data-tn-element=\"jobTitle\" href=\"/rc/clk?jk=465e2421bf515d41&amp;fccid=7077d7e88049c02a\" itemprop=\"title\" onclick=\"setRefineByCookie(['salest']); return rclk(this,jobmap[7],true,0);\" onmousedown=\"return rclk(this,jobmap[7],0);\" rel=\"nofollow\" target=\"_blank\" title=\"Sr. Data Scientist\">Sr. <b>Data</b> <b>Scientist</b></a>\\n</h2>\\n<span class=\"company\" itemprop=\"hiringOrganization\" itemtype=\"http://schema.org/Organization\">\\n<span itemprop=\"name\">\\n<a href=\"/cmp/Aetna\" onmousedown=\"this.href = appendParamsOnce(this.href, 'from=SERP&amp;campaignid=serp-linkcompanyname&amp;fromjk=465e2421bf515d41&amp;jcid=7077d7e88049c02a')\" target=\"_blank\">\\n        Aetna</a></span>\\n</span>\\n\\n - <a class=\"turnstileLink slNoUnderline \" data-tn-element=\"reviewStars\" data-tn-variant=\"cmplinktst2\" href=\"/cmp/Aetna/reviews\" onmousedown=\"this.href = appendParamsOnce(this.href, '?campaignid=cmplinktst2&amp;from=SERP&amp;jt=Sr.+Data+Scientist&amp;fromjk=465e2421bf515d41&amp;jcid=7077d7e88049c02a');\" target=\"_blank\" title=\"Aetna reviews\">\\n<span class=\"ratings\" style=\"height: 11px; line-height: 11px; background-image: url(/images/cmp/star_2_sm@2x.png); background-size: 12px 22px;width: 60px;\"><span class=\"rating\" style=\"height: 11px; line-height: 11px; background-image: url(/images/cmp/star_2_sm@2x.png); background-size: 12px 22px;background-position: 0 11px; width: 43.8px;\"><!-- --></span></span><span class=\"slNoUnderline\">1,757 reviews</span></a>\\n - <span itemprop=\"jobLocation\" itemscope=\"\" itemtype=\"http://schema.org/Place\"><span class=\"location\" itemprop=\"address\" itemscope=\"\" itemtype=\"http://schema.org/Postaladdress\"><span itemprop=\"addressLocality\">New York, NY 10018 <span style=\"font-size: smaller\">(Clinton area)</span></span></span></span>\\n<table border=\"0\" cellpadding=\"0\" cellspacing=\"0\">\\n<tr>\\n<td class=\"snip\">\\n<div>\\n<span class=\"summary\" itemprop=\"description\">\\nThe role will be responsible for extraction and manipulation of <b>data</b> from multiple, large <b>data</b> sources and using the <b>data</b> to deliver solutions and insights...</span>\\n</div>\\n<div class=\"result-link-bar-container\">\\n<div class=\"result-link-bar\"><span class=\"date\">9 days ago</span> <span class=\"tt_set\" id=\"tt_set_7\"> - <span class=\"savelink2\" id=\"savelink2_465e2421bf515d41\"><a class=\"sl resultLink save-job-link\" href=\"#\" id=\"sj_465e2421bf515d41\" onclick=\"changeJobState('465e2421bf515d41', 'save', 'linkbar', false);return false;\" title=\"Save this job to my.indeed\">save job</a></span> - <a class=\"sl resultLink more-link \" href=\"#\" id=\"tog_7\" onclick=\"toggleMoreLinks('465e2421bf515d41'); return false;\">more...</a></span><div class=\"edit_note_content\" id=\"editsaved2_465e2421bf515d41\" style=\"display:none;\"></div><script>window['result_465e2421bf515d41'] = {\"showSource\": false, \"source\": \"Aetna\", \"loggedIn\": false, \"showMyJobsLinks\": true,\"undoAction\": \"unsave\",\"relativeJobAge\": \"9 days ago\",\"jobKey\": \"465e2421bf515d41\", \"myIndeedAvailable\": true, \"tellAFriendEnabled\": false, \"showMoreActionsLink\": true, \"resultNumber\": 7, \"jobStateChangedToSaved\": false, \"searchState\": \"q=data scientist $20,000&amp;l=New+York&amp;start=10\", \"basicPermaLink\": \"http://www.indeed.com\", \"saveJobFailed\": false, \"removeJobFailed\": false, \"requestPending\": false, \"notesEnabled\": true, \"currentPage\" : \"serp\", \"sponsored\" : false,\"reportJobButtonEnabled\": false, \"showMyJobsHired\": false, \"showSaveForSponsored\": false};</script></div></div>\\n<div class=\"tab-container\">\\n<div class=\"more-links-container result-tab\" id=\"tt_display_7\" style=\"display:none;\"><a class=\"close-link closeLink\" href=\"#\" onclick=\"toggleMoreLinks('465e2421bf515d41'); return false;\" title=\"Close\"></a><div class=\"more_actions\" id=\"more_7\"><ul><li><span class=\"mat\">View all <a href=\"/q-Aetna-l-New-York,-NY-jobs.html\" rel=\"nofollow\">Aetna jobs in New York, NY</a> - <a href=\"/l-New-York,-NY-jobs.html\">New York jobs</a></span></li><li><span class=\"mat\">Salary Search: <a href=\"/salary?q1=Senior+Data+Scientist&amp;l1=New+York%2C+NY\" onmousedown=\"this.href = appendParamsOnce(this.href, '');\">Senior Data Scientist salaries in New York, NY</a></span></li><li><span class=\"mat\">Learn more about working at <a href=\"/cmp/Aetna\" onmousedown=\"this.href = appendParamsOnce(this.href, '?fromjk=465e2421bf515d41&amp;from=serp-more&amp;campaignid=serp-more&amp;jcid=7077d7e88049c02a');\">Aetna</a></span></li><li><span class=\"mat\">Related forums: <a href=\"/forum/cmp/Aetna.html\">Aetna</a> - <a href=\"/forum/loc/New-York-New-York.html\">New York, New York</a></span></li></ul></div></div><div class=\"dya-container result-tab\"></div>\\n<div class=\"tellafriend-container result-tab email_job_content\"></div>\\n<div class=\"sign-in-container result-tab\"></div>\\n<div class=\"notes-container result-tab\"></div>\\n</div>\\n</td>\\n</tr>\\n</table>\\n</div>\\n<div class=\" row result\" data-jk=\"8d67bdb41d6b4c81\" data-tn-component=\"organicJob\" id=\"p_8d67bdb41d6b4c81\" itemscope=\"\" itemtype=\"http://schema.org/JobPosting\">\\n<h2 class=\"jobtitle\" id=\"jl_8d67bdb41d6b4c81\">\\n<a class=\"turnstileLink\" data-tn-element=\"jobTitle\" href=\"/rc/clk?jk=8d67bdb41d6b4c81&amp;fccid=c2a63affe8751868\" itemprop=\"title\" onclick=\"setRefineByCookie(['salest']); return rclk(this,jobmap[8],true,0);\" onmousedown=\"return rclk(this,jobmap[8],0);\" rel=\"nofollow\" target=\"_blank\" title=\"Senior Data Scientist\">Senior <b>Data</b> <b>Scientist</b></a>\\n</h2>\\n<span class=\"company\" itemprop=\"hiringOrganization\" itemtype=\"http://schema.org/Organization\">\\n<span itemprop=\"name\">\\n<a href=\"/cmp/Capco\" onmousedown=\"this.href = appendParamsOnce(this.href, 'from=SERP&amp;campaignid=serp-linkcompanyname&amp;fromjk=8d67bdb41d6b4c81&amp;jcid=c2a63affe8751868')\" target=\"_blank\">\\n        CAPCO</a></span>\\n</span>\\n\\n - <a class=\"turnstileLink slNoUnderline \" data-tn-element=\"reviewStars\" data-tn-variant=\"cmplinktst2\" href=\"/cmp/Capco/reviews\" onmousedown=\"this.href = appendParamsOnce(this.href, '?campaignid=cmplinktst2&amp;from=SERP&amp;jt=Senior+Data+Scientist&amp;fromjk=8d67bdb41d6b4c81&amp;jcid=c2a63affe8751868');\" target=\"_blank\" title=\"Capco reviews\">\\n<span class=\"ratings\" style=\"height: 11px; line-height: 11px; background-image: url(/images/cmp/star_2_sm@2x.png); background-size: 12px 22px;width: 60px;\"><span class=\"rating\" style=\"height: 11px; line-height: 11px; background-image: url(/images/cmp/star_2_sm@2x.png); background-size: 12px 22px;background-position: 0 11px; width: 42.6px;\"><!-- --></span></span><span class=\"slNoUnderline\">51 reviews</span></a>\\n - <span itemprop=\"jobLocation\" itemscope=\"\" itemtype=\"http://schema.org/Place\"><span class=\"location\" itemprop=\"address\" itemscope=\"\" itemtype=\"http://schema.org/Postaladdress\"><span itemprop=\"addressLocality\">New York, NY 10271 <span style=\"font-size: smaller\">(Financial District area)</span></span></span></span>\\n<table border=\"0\" cellpadding=\"0\" cellspacing=\"0\">\\n<tr>\\n<td class=\"snip\">\\n<div>\\n<span class=\"summary\" itemprop=\"description\">\\nCapco is looking for Senior <b>Data</b> <b>Scientists</b>. And rewarding role as a Senior <b>Data</b> <b>Scientist</b>. A team of <b>data</b> <b>scientists</b> and work with business sponsors and...</span>\\n</div>\\n<div class=\"result-link-bar-container\">\\n<div class=\"result-link-bar\"><span class=\"date\">10 days ago</span> <span class=\"tt_set\" id=\"tt_set_8\"> - <span class=\"savelink2\" id=\"savelink2_8d67bdb41d6b4c81\"><a class=\"sl resultLink save-job-link\" href=\"#\" id=\"sj_8d67bdb41d6b4c81\" onclick=\"changeJobState('8d67bdb41d6b4c81', 'save', 'linkbar', false);return false;\" title=\"Save this job to my.indeed\">save job</a></span> - <a class=\"sl resultLink more-link \" href=\"#\" id=\"tog_8\" onclick=\"toggleMoreLinks('8d67bdb41d6b4c81'); return false;\">more...</a></span><div class=\"edit_note_content\" id=\"editsaved2_8d67bdb41d6b4c81\" style=\"display:none;\"></div><script>window['result_8d67bdb41d6b4c81'] = {\"showSource\": false, \"source\": \"CAPCO\", \"loggedIn\": false, \"showMyJobsLinks\": true,\"undoAction\": \"unsave\",\"relativeJobAge\": \"10 days ago\",\"jobKey\": \"8d67bdb41d6b4c81\", \"myIndeedAvailable\": true, \"tellAFriendEnabled\": false, \"showMoreActionsLink\": true, \"resultNumber\": 8, \"jobStateChangedToSaved\": false, \"searchState\": \"q=data scientist $20,000&amp;l=New+York&amp;start=10\", \"basicPermaLink\": \"http://www.indeed.com\", \"saveJobFailed\": false, \"removeJobFailed\": false, \"requestPending\": false, \"notesEnabled\": true, \"currentPage\" : \"serp\", \"sponsored\" : false,\"reportJobButtonEnabled\": false, \"showMyJobsHired\": false, \"showSaveForSponsored\": false};</script></div></div>\\n<div class=\"tab-container\">\\n<div class=\"more-links-container result-tab\" id=\"tt_display_8\" style=\"display:none;\"><a class=\"close-link closeLink\" href=\"#\" onclick=\"toggleMoreLinks('8d67bdb41d6b4c81'); return false;\" title=\"Close\"></a><div class=\"more_actions\" id=\"more_8\"><ul><li><span class=\"mat\">View all <a href=\"/q-Capco-l-New-York,-NY-jobs.html\" rel=\"nofollow\">CAPCO jobs in New York, NY</a> - <a href=\"/l-New-York,-NY-jobs.html\">New York jobs</a></span></li><li><span class=\"mat\">Salary Search: <a href=\"/salary?q1=Senior+Data+Scientist&amp;l1=New+York%2C+NY\" onmousedown=\"this.href = appendParamsOnce(this.href, '');\">Senior Data Scientist salaries in New York, NY</a></span></li><li><span class=\"mat\">Learn more about working at <a href=\"/cmp/Capco\" onmousedown=\"this.href = appendParamsOnce(this.href, '?fromjk=8d67bdb41d6b4c81&amp;from=serp-more&amp;campaignid=serp-more&amp;jcid=c2a63affe8751868');\">Capco</a></span></li><li><span class=\"mat\">Related forums: <a href=\"/forum/cmp/Capco.html\">Capco</a> - <a href=\"/forum/loc/New-York-New-York.html\">New York, New York</a></span></li></ul></div></div><div class=\"dya-container result-tab\"></div>\\n<div class=\"tellafriend-container result-tab email_job_content\"></div>\\n<div class=\"sign-in-container result-tab\"></div>\\n<div class=\"notes-container result-tab\"></div>\\n</div>\\n</td>\\n</tr>\\n</table>\\n</div>\\n<div class=\"lastRow row result\" data-jk=\"019e81f07d6c887c\" data-tn-component=\"organicJob\" id=\"p_019e81f07d6c887c\" itemscope=\"\" itemtype=\"http://schema.org/JobPosting\">\\n<h2 class=\"jobtitle\" id=\"jl_019e81f07d6c887c\">\\n<a class=\"turnstileLink\" data-tn-element=\"jobTitle\" href=\"/rc/clk?jk=019e81f07d6c887c&amp;fccid=ae0c894528aa6eee\" itemprop=\"title\" onclick=\"setRefineByCookie(['salest']); return rclk(this,jobmap[9],true,0);\" onmousedown=\"return rclk(this,jobmap[9],0);\" rel=\"nofollow\" target=\"_blank\" title=\"SENIOR DATA SCIENTIST\">SENIOR <b>DATA</b> <b>SCIENTIST</b></a>\\n</h2>\\n<span class=\"company\" itemprop=\"hiringOrganization\" itemtype=\"http://schema.org/Organization\">\\n<span itemprop=\"name\">\\n<a href=\"/cmp/Viacom\" onmousedown=\"this.href = appendParamsOnce(this.href, 'from=SERP&amp;campaignid=serp-linkcompanyname&amp;fromjk=019e81f07d6c887c&amp;jcid=ae0c894528aa6eee')\" target=\"_blank\">\\n        Viacom</a></span>\\n</span>\\n\\n - <a class=\"turnstileLink slNoUnderline \" data-tn-element=\"reviewStars\" data-tn-variant=\"cmplinktst2\" href=\"/cmp/Viacom/reviews\" onmousedown=\"this.href = appendParamsOnce(this.href, '?campaignid=cmplinktst2&amp;from=SERP&amp;jt=SENIOR+DATA+SCIENTIST&amp;fromjk=019e81f07d6c887c&amp;jcid=ae0c894528aa6eee');\" target=\"_blank\" title=\"Viacom reviews\">\\n<span class=\"ratings\" style=\"height: 11px; line-height: 11px; background-image: url(/images/cmp/star_2_sm@2x.png); background-size: 12px 22px;width: 60px;\"><span class=\"rating\" style=\"height: 11px; line-height: 11px; background-image: url(/images/cmp/star_2_sm@2x.png); background-size: 12px 22px;background-position: 0 11px; width: 52.199997px;\"><!-- --></span></span><span class=\"slNoUnderline\">207 reviews</span></a>\\n - <span itemprop=\"jobLocation\" itemscope=\"\" itemtype=\"http://schema.org/Place\"><span class=\"location\" itemprop=\"address\" itemscope=\"\" itemtype=\"http://schema.org/Postaladdress\"><span itemprop=\"addressLocality\">New York, NY</span></span></span>\\n<table border=\"0\" cellpadding=\"0\" cellspacing=\"0\">\\n<tr>\\n<td class=\"snip\">\\n<div>\\n<span class=\"summary\" itemprop=\"description\">\\nProfessional background in machine learning or <b>data</b> mining and <b>data</b> science using Python, R or Julia. Ability to think beyond raw <b>data</b> and to understand the...</span>\\n</div>\\n<div class=\"result-link-bar-container\">\\n<div class=\"result-link-bar\"><span class=\"date\">20 days ago</span> <span class=\"tt_set\" id=\"tt_set_9\"> - <span class=\"savelink2\" id=\"savelink2_019e81f07d6c887c\"><a class=\"sl resultLink save-job-link\" href=\"#\" id=\"sj_019e81f07d6c887c\" onclick=\"changeJobState('019e81f07d6c887c', 'save', 'linkbar', false);return false;\" title=\"Save this job to my.indeed\">save job</a></span> - <a class=\"sl resultLink more-link \" href=\"#\" id=\"tog_9\" onclick=\"toggleMoreLinks('019e81f07d6c887c'); return false;\">more...</a></span><div class=\"edit_note_content\" id=\"editsaved2_019e81f07d6c887c\" style=\"display:none;\"></div><script>window['result_019e81f07d6c887c'] = {\"showSource\": false, \"source\": \"Viacom\", \"loggedIn\": false, \"showMyJobsLinks\": true,\"undoAction\": \"unsave\",\"relativeJobAge\": \"20 days ago\",\"jobKey\": \"019e81f07d6c887c\", \"myIndeedAvailable\": true, \"tellAFriendEnabled\": false, \"showMoreActionsLink\": true, \"resultNumber\": 9, \"jobStateChangedToSaved\": false, \"searchState\": \"q=data scientist $20,000&amp;l=New+York&amp;start=10\", \"basicPermaLink\": \"http://www.indeed.com\", \"saveJobFailed\": false, \"removeJobFailed\": false, \"requestPending\": false, \"notesEnabled\": true, \"currentPage\" : \"serp\", \"sponsored\" : false,\"reportJobButtonEnabled\": false, \"showMyJobsHired\": false, \"showSaveForSponsored\": false};</script></div></div>\\n<div class=\"tab-container\">\\n<div class=\"more-links-container result-tab\" id=\"tt_display_9\" style=\"display:none;\"><a class=\"close-link closeLink\" href=\"#\" onclick=\"toggleMoreLinks('019e81f07d6c887c'); return false;\" title=\"Close\"></a><div class=\"more_actions\" id=\"more_9\"><ul><li><span class=\"mat\">View all <a href=\"/q-Viacom-l-New-York,-NY-jobs.html\" rel=\"nofollow\">Viacom jobs in New York, NY</a> - <a href=\"/l-New-York,-NY-jobs.html\">New York jobs</a></span></li><li><span class=\"mat\">Salary Search: <a href=\"/salary?q1=Senior+Data+Scientist&amp;l1=New+York%2C+NY\" onmousedown=\"this.href = appendParamsOnce(this.href, '');\">Senior Data Scientist salaries in New York, NY</a></span></li><li><span class=\"mat\">Learn more about working at <a href=\"/cmp/Viacom\" onmousedown=\"this.href = appendParamsOnce(this.href, '?fromjk=019e81f07d6c887c&amp;from=serp-more&amp;campaignid=serp-more&amp;jcid=ae0c894528aa6eee');\">Viacom</a></span></li><li><span class=\"mat\">Related forums: <a href=\"/forum/cmp/Viacom.html\">Viacom</a> - <a href=\"/forum/loc/New-York-New-York.html\">New York, New York</a></span></li></ul></div></div><div class=\"dya-container result-tab\"></div>\\n<div class=\"tellafriend-container result-tab email_job_content\"></div>\\n<div class=\"sign-in-container result-tab\"></div>\\n<div class=\"notes-container result-tab\"></div>\\n</div>\\n</td>\\n</tr>\\n</table>\\n</div>\\n<div></div><div class=\"bmYVJUqBGM NQEsXFP3C\">\\n<div class=\"row result\" data-jk=\"770d7928c9f65a1c\" id=\"pj_770d7928c9f65a1c\">\\n<a class=\"jobtitle turnstileLink\" data-tn-element=\"jobTitle\" href=\"/pagead/clk?mo=r&amp;ad=-6NYlbfkN0D-LApaq2L9rnDaHeoUAKRQIyyWUq4ycn_2NW-DvbOEzboU_3-Siam9cB2KW_bHsBCTv5OtJ5bwmx7nHlZ-85IJWaZvFHpRphcglK2-r3riMFEHwDRlKIE9E94w5fV4Pd3yebLid5Yg6BzjMhderimvO5KgkxIFPqvx5dXbek45UtXN3uX9a-LbY7bAujc3LcDho48OR9zwv2I2oD1PqrvDUJ_jDT7juzfUxbSZ9saP-R5eMse9Tilg8qL91BQ-f87l8acwJRcVv6-9_IY1OorjxFMZKHwiVwCDfEac2qOaBsQQtOMDs_0NskKK5GP85p3hyvrqV8mrhM3CZKCaLNHBdi7aysScHdY6jJ2gOsvFjgeeredEyI9TCc22Ln3a5GLdNLnXMaDT6YGEC9Rzb_HBxFodEp_O81QjKErYRuK8tWetxjdeG2IlVvfT84fVZK1Ereu3clhOEQRO8ZMmYHw12h91IHDs2eM07fkv1nsnMreJbSLtIkLI9s7ycK2M9evlhprPNOQKnQWXCQkoxhPGLxd2VB1J9aHbC30FzcboDCc72v9TKr2Pzjlyf5m3iTVgUTnpdAFbw8rOrPOmb8vFiyJLH-HnmRG5ysIErOyj3R-lFfKPjKgj-aYeyAHytgx02MJGuLiBA-CBDPaE9FZmrdTb3zKA2pxe5yT4NzjEoQgVN3UCSIQEvAkAD7OhP6ZlOlaJOSsT94bHjvD23GXT35IEJlT6KLYeSQWOGFAZyYhrgIu5J_HdZHDgj6Tno_iKfi2eQN5fpjdlKDT8AR7PoBHPAWLjVpf_F0bM7A1xAqfJ_kTYkcnT&amp;p=4&amp;sk=&amp;fvj=0\" id=\"sja4\" onclick=\"setRefineByCookie(['salest']); sjoc('sja4',0); convCtr('SJ', pingUrlsForGA)\" onmousedown=\"sjomd('sja4'); clk('sja4');\" rel=\"nofollow\" target=\"_blank\" title=\"Research Analyst I\">Research Analyst I</a>\\n<br/>\\n<div class=\"sjcl\">\\n<span class=\"company\">\\n<a class=\"turnstileLink\" data-tn-element=\"companyName\" href=\"/cmp/Visiting-Nurse-Service-of-New-York\" onmousedown=\"this.href = appendParamsOnce(this.href, 'from=SERP&amp;campaignid=serp-linkcompanyname&amp;fromjk=770d7928c9f65a1c&amp;jcid=bf8d0f5b45d49fcf')\" target=\"_blank\">\\n        VISITING NURSE SERVICE OF NEW YORK</a></span>\\n\\n - <a class=\"turnstileLink slNoUnderline \" data-tn-element=\"reviewStars\" data-tn-variant=\"cmplinktst2\" href=\"/cmp/Visiting-Nurse-Service-of-New-York/reviews\" onmousedown=\"this.href = appendParamsOnce(this.href, '?campaignid=cmplinktst2&amp;from=SERP&amp;jt=Research+Analyst+I&amp;fromjk=770d7928c9f65a1c&amp;jcid=bf8d0f5b45d49fcf');\" target=\"_blank\">\\n<span class=\"ratings\" style=\"height: 11px; line-height: 11px; background-image: url(/images/cmp/star_2_sm@2x.png); background-size: 12px 22px;width: 60px;\"><span class=\"rating\" style=\"height: 11px; line-height: 11px; background-image: url(/images/cmp/star_2_sm@2x.png); background-size: 12px 22px;background-position: 0 11px; width: 43.2px;\"><!-- --></span></span><span class=\"slNoUnderline\">169 reviews</span></a>\\n - <span class=\"location\">Manhattan, NY</span>\\n</div>\\n<table border=\"0\" cellpadding=\"0\" cellspacing=\"0\"><tr><td class=\"snip\">\\n<span class=\"summary\">Prior experience with <b>data</b> management, preferred. Assists in the development of research proposals, the implementation of research designs including <b>data</b>...</span>\\n</td></tr></table>\\n<div class=\"result-link-bar-container\">\\n<div class=\"result-link-bar\"><span class=\"date\">3 days ago</span> <span class=\"tt_set\" id=\"tt_set_13\"></span><div class=\"edit_note_content\" id=\"editsaved2_770d7928c9f65a1c\" style=\"display:none;\"></div><script>window['sj_result_770d7928c9f65a1c'] = {\"showSource\": false, \"source\": \"Visiting Nurse Service of New York\", \"loggedIn\": false, \"showMyJobsLinks\": true,\"undoAction\": \"unsave\",\"relativeJobAge\": \"3 days ago\",\"jobKey\": \"770d7928c9f65a1c\", \"myIndeedAvailable\": true, \"tellAFriendEnabled\": false, \"showMoreActionsLink\": false, \"resultNumber\": 13, \"jobStateChangedToSaved\": false, \"searchState\": \"q=data scientist $20,000&amp;l=New+York&amp;start=10\", \"basicPermaLink\": \"http://www.indeed.com\", \"saveJobFailed\": false, \"removeJobFailed\": false, \"requestPending\": false, \"notesEnabled\": false, \"currentPage\" : \"serp\", \"sponsored\" : true,\"reportJobButtonEnabled\": false, \"showMyJobsHired\": false, \"showSaveForSponsored\": false};</script></div></div>\\n<div class=\"tab-container\">\\n<div class=\"sign-in-container result-tab\"></div>\\n<div class=\"tellafriend-container result-tab email_job_content\"></div>\\n</div>\\n<span class=\"sdn\">Sponsored</span>\\n</div>\\n<div class=\"row sjlast result\" data-jk=\"e0c19ab705230d27\" id=\"pj_e0c19ab705230d27\">\\n<a class=\"jobtitle turnstileLink\" data-tn-element=\"jobTitle\" href=\"/pagead/clk?mo=r&amp;ad=-6NYlbfkN0AMNd6tC0S23lhdZ0umHTp0DzufZ-32jGT3Eur2xSP8mc9MwJrtk2qCmrhOpH8_1pHNtreutiTYGoIc6OUhLrzTQ2E5HE8AvBFIn2ZJaVjKHFrBfzIBA25JbLYbhJvVD-0T6y7ZAMItRbZsg9XiriVAJX3fyarXwwqezN2vMt5T2u_yVk4pNZ7HsaxFBlNc1fMP7yx_bhK9LjVZtmGwJRz19a0nuholDjScNGJLhikKP0bqjlGw216bojGgxhyuYmEQlvAhtMd36rHuT4o37i8Z1dOpwmcdKfESzOC2kFhr86wzichnXDZqTWLQdUVU5TMnqt7lPHx5SQbdzWoGowREqTGcLKOK88fnRoMD2DmGBZvVPre6eTr9qPRThx-sPCTJ571kHQAHpGdTb4uDDREHBYY0InWxxtiRX51CZR66EwynjuJ6NY_Im3_t-Tx41ON1OtNLmdpmPlBvOCv3RZD3MnpE_XQZPWJ8G9yGpwZyBhxhYGX9ONKg1Ds4pkHgzSE=&amp;p=5&amp;sk=&amp;fvj=0\" id=\"sja5\" onclick=\"setRefineByCookie(['salest']); sjoc('sja5',0); convCtr('SJ', pingUrlsForGA)\" onmousedown=\"sjomd('sja5'); clk('sja5');\" rel=\"nofollow\" target=\"_blank\" title=\"Products Value Architect\">Products Value Architect</a>\\n<br/>\\n<div class=\"sjcl\">\\n<span class=\"company\">\\n<a class=\"turnstileLink\" data-tn-element=\"companyName\" href=\"/cmp/Accenture\" onmousedown=\"this.href = appendParamsOnce(this.href, 'from=SERP&amp;campaignid=serp-linkcompanyname&amp;fromjk=e0c19ab705230d27&amp;jcid=a4e4e2eaf26690c9')\" target=\"_blank\">\\n        Accenture</a></span>\\n\\n - <a class=\"turnstileLink slNoUnderline \" data-tn-element=\"reviewStars\" data-tn-variant=\"cmplinktst2\" href=\"/cmp/Accenture/reviews\" onmousedown=\"this.href = appendParamsOnce(this.href, '?campaignid=cmplinktst2&amp;from=SERP&amp;jt=Products+Value+Architect&amp;fromjk=e0c19ab705230d27&amp;jcid=a4e4e2eaf26690c9');\" target=\"_blank\" title=\"Accenture reviews\">\\n<span class=\"ratings\" style=\"height: 11px; line-height: 11px; background-image: url(/images/cmp/star_2_sm@2x.png); background-size: 12px 22px;width: 60px;\"><span class=\"rating\" style=\"height: 11px; line-height: 11px; background-image: url(/images/cmp/star_2_sm@2x.png); background-size: 12px 22px;background-position: 0 11px; width: 51.0px;\"><!-- --></span></span><span class=\"slNoUnderline\">7,140 reviews</span></a>\\n - <span class=\"location\">New York, NY 10011</span>\\n</div>\\n<table border=\"0\" cellpadding=\"0\" cellspacing=\"0\"><tr><td class=\"snip\">\\n<span class=\"summary\">Understanding of analytics roles and responsibilities (e.g., <b>data</b> <b>scientist</b>). <b>Data</b> management skills....</span>\\n</td></tr></table>\\n<div class=\"result-link-bar-container\">\\n<div class=\"result-link-bar\"><span class=\"date\">30+ days ago</span> <span class=\"tt_set\" id=\"tt_set_14\"></span><div class=\"edit_note_content\" id=\"editsaved2_e0c19ab705230d27\" style=\"display:none;\"></div><script>window['sj_result_e0c19ab705230d27'] = {\"showSource\": false, \"source\": \"Accenture\", \"loggedIn\": false, \"showMyJobsLinks\": true,\"undoAction\": \"unsave\",\"relativeJobAge\": \"30+ days ago\",\"jobKey\": \"e0c19ab705230d27\", \"myIndeedAvailable\": true, \"tellAFriendEnabled\": false, \"showMoreActionsLink\": false, \"resultNumber\": 14, \"jobStateChangedToSaved\": false, \"searchState\": \"q=data scientist $20,000&amp;l=New+York&amp;start=10\", \"basicPermaLink\": \"http://www.indeed.com\", \"saveJobFailed\": false, \"removeJobFailed\": false, \"requestPending\": false, \"notesEnabled\": false, \"currentPage\" : \"serp\", \"sponsored\" : true,\"reportJobButtonEnabled\": false, \"showMyJobsHired\": false, \"showSaveForSponsored\": false};</script></div></div>\\n<div class=\"tab-container\">\\n<div class=\"sign-in-container result-tab\"></div>\\n<div class=\"tellafriend-container result-tab email_job_content\"></div>\\n</div>\\n<span class=\"sdn\">Sponsored</span>\\n</div>\\n</div><style>\\n.fixed_ja_link_x { color:#00C; float: right; font-size: 22px; margin-top: -8px; font-weight: bold;}\\n.fixed_ja_link_x:hover { cursor:pointer;}\\n.fixed_ja_link { color:#00C; cursor: pointer;}\\n.fixed_ja_link:hover { text-decoration: underline;}\\n.fixed_ja_background { background-color: #ebebeb;}\\n</style>\\n<div id=\"bjobalertswrapper\">\\n<div class=\"open jaui Qm0OAxD0\" id=\"bjobalerts\">\\n<div class=\"jobalertlabel\">\\n<span class=\"jobalerts_title\" id=\"bjobalertlabel\"><span aria-label=\"alert icon\" class=\"ico\" role=\"img\"></span>Get email updates for the latest <b>data scientist $20,000 jobs in New York</b></span>\\n</div>\\n<div class=\"jaform\" id=\"bjobalertform\">\\n<span id=\"bjobalerttext\"></span><span id=\"bjobalertsending\"></span>\\n<div id=\"bjobalertmessage\">\\n<form action=\"/alert\" method=\"POST\" onsubmit=\"return addalertdelegate('data+scientist+%2420%2C000','New+York','b','',this.email.value,'1b24e4lcrauunfl3', this.verified.value, false, '', true, '661982', 'US', '7be39c90618ada467dfd6ef243463b69', this.recjobalert.checked, false);\">\\n<input name=\"a\" type=\"hidden\" value=\"add\"/>\\n<input name=\"q\" type=\"hidden\" value=\"data scientist $20,000\"/>\\n<input name=\"l\" type=\"hidden\" value=\"New York\"/>\\n<input name=\"radius\" type=\"hidden\" value=\"25\"/>\\n<input name=\"noscript\" type=\"hidden\" value=\"1\"/>\\n<input name=\"fr\" type=\"hidden\" value=\"b\"/>\\n<input name=\"tk\" type=\"hidden\" value=\"1b24e4lcrauunfl3\"/>\\n<input id=\"balertverified\" name=\"verified\" type=\"hidden\" value=\"0\"/>\\n<input name=\"alertparams\" type=\"hidden\" value=\"\"/>\\n<label for=\"balertemail\">My email:</label> <input id=\"balertemail\" maxlength=\"100\" name=\"email\" size=\"25\" type=\"text\" value=\"\"/>\\n<span class=\"indeed-apply-button\"><span class=\"indeed-apply-button-inner\"><input class=\"indeed-apply-button-label\" id=\"balertsubmit\" type=\"submit\" value=\"Activate\"/></span></span>\\n<style type=\"text/css\">\\n    .indeed-apply-button { cursor : pointer !important; display : inline-block !important; padding : 1px !important; height : 31px !important; -moz-border-radius : 7px !important; border-radius : 7px !important; position : relative !important; text-decoration : none !important;background-color:#79788B; filter:progid:DXImageTransform.Microsoft.gradient(startColorstr='#BCBBCD', endColorstr='#79788B', GradientType=0);background-image: -webkit-gradient(linear, center top, center bottom, from(#BCBBCD), to(#79788B)) !important;background-image: -webkit-linear-gradient(top, #BCBBCD, #79788B) !important;background-image: -moz-linear-gradient(top, #BCBBCD, #79788B) !important;background-image: -o-linear-gradient(top, #BCBBCD, #79788B) !important;background-image: -ms-linear-gradient(top, #BCBBCD, #79788B) !important;background-image: linear-gradient(top, #BCBBCD, #79788B) !important;-webkit-box-shadow: 0 1px 2px rgba(0,0,0,0.2) !important;-moz-box-shadow: 0 1px 2px rgba(0,0,0,0.2) !important;box-shadow: 0 1px 2px rgba(0,0,0,0.2) !important; } #indeed-ia-1329175190441-0:link, #indeed-ia-1329175190441-0:visited, #indeed-ia-1329175190441-0:hover, #indeed-ia-1329175190441-0:active { border : 0 !important; text-decoration : none !important; }\\n\\n    .indeed-apply-button:hover { filter:progid:DXImageTransform.Microsoft.gradient(startColorstr='#6D99F6', endColorstr='#1B45A3', GradientType=0);background-image: -webkit-gradient(linear, center top, center bottom, from(#6D99F6), to(#1B45A3)) !important;background-image: -webkit-linear-gradient(top, #6D99F6, #1B45A3) !important;background-image: -moz-linear-gradient(top, #6D99F6, #1B45A3) !important;background-image: -o-linear-gradient(top, #6D99F6, #1B45A3) !important;background-image: -ms-linear-gradient(top, #6D99F6, #1B45A3) !important;background-image: linear-gradient(top, #6D99F6, #1B45A3) !important; }\\n\\n    .indeed-apply-state-clicked .indeed-apply-button,\\n    .indeed-apply-button:active { filter:progid:DXImageTransform.Microsoft.gradient(startColorstr='#B3BACA', endColorstr='#7C8493', GradientType=0);background-image: -webkit-gradient(linear, center top, center bottom, from(#B3BACA), to(#7C8493)) !important;background-image: -webkit-linear-gradient(top, #B3BACA, #7C8493) !important;background-image: -moz-linear-gradient(top, #B3BACA, #7C8493) !important;background-image: -o-linear-gradient(top, #B3BACA, #7C8493) !important;background-image: -ms-linear-gradient(top, #B3BACA, #7C8493) !important;background-image: linear-gradient(top, #B3BACA, #7C8493) !important;-webkit-box-shadow: none !important;-moz-box-shadow: none !important;box-shadow: none !important; }\\n\\n    .indeed-apply-button-inner { display : inline-block !important; height : 31px !important; -moz-border-radius : 6px !important; border-radius : 6px !important; font : 18px 'Helvetica Neue','Helvetica',Arial !important; font-weight : 200 !important; text-decoration : none !important; text-shadow : 0px 1px #F1F1F4 !important;background-color:#D9D9E2;  color: #FF6703;filter:progid:DXImageTransform.Microsoft.gradient(startColorstr='#FAFAFB', endColorstr='#D9D9E2', GradientType=0);background-image: -webkit-gradient(linear, center top, center bottom, from(#FAFAFB), to(#D9D9E2)) !important;background-image: -webkit-linear-gradient(top, #FAFAFB, #D9D9E2) !important;background-image: -moz-linear-gradient(top, #FAFAFB, #D9D9E2) !important;background-image: -o-linear-gradient(top, #FAFAFB, #D9D9E2) !important;background-image: -ms-linear-gradient(top, #FAFAFB, #D9D9E2) !important;background-image: linear-gradient(top, #FAFAFB, #D9D9E2) !important; }\\n\\n    .indeed-apply-button:active .indeed-apply-button-inner { filter:progid:DXImageTransform.Microsoft.gradient(startColorstr='#E8E8E9', endColorstr='#CBCBD3', GradientType=0);background-image: -webkit-gradient(linear, center top, center bottom, from(#E8E8E9), to(#CBCBD3)) !important;background-image: -webkit-linear-gradient(top, #E8E8E9, #CBCBD3) !important;background-image: -moz-linear-gradient(top, #E8E8E9, #CBCBD3) !important;background-image: -o-linear-gradient(top, #E8E8E9, #CBCBD3) !important;background-image: -ms-linear-gradient(top, #E8E8E9, #CBCBD3) !important;background-image: linear-gradient(top, #E8E8E9, #CBCBD3) !important; }\\n\\n    .indeed-apply-button-label {cursor: pointer; text-align : center !important; border:0; background: transparent;font-size: 12px; font-family: Arial, sans-serif; padding:3px 14px 2px 12px; margin:0; line-height: 26px; }\\n\\n    .indeed-apply-button:active .indeed-apply-button-label,\\n    .indeed-apply-state-clicked .indeed-apply-button-label { -ms-filter: \"progid:DXImageTransform.Microsoft.Alpha(Opacity=0.75)\" !important;filter: alpha(opacity=75) !important;-moz-opacity: 0.75 !important;-khtml-opacity: 0.75 !important;opacity: 0.75 !important; }\\n\\n    #talertemail, #balertemail {  height: 27px; line-height: 24px; padding-left: 6px; padding-right: 6px; font-size: 14px; font-family: Arial, sans-serif; }\\n</style><label for=\"brecjobalert\" id=\"brecjobalertlabel\">\\n<input checked=\"\" id=\"brecjobalert\" name=\"recjobalert\" type=\"checkbox\"/>\\n<span>Also get an email with jobs recommended just for me</span>\\n</label>\\n</form>\\n<span class=\"caption\">\\nYou can cancel email alerts at any time.</span>\\n</div>\\n</div>\\n</div>\\n</div><script type=\"text/javascript\">\\nfunction ptk(st,p) {\\ndocument.cookie = 'PTK=\"tk=&type=jobsearch&subtype=' + st + (p ? '&' + p : '')\\n + (st == 'pagination' ? '&fp=2' : '')\\n+'\"; path=/';\\n}\\n</script>\\n<script type=\"text/javascript\">\\nfunction pclk(event) {\\nvar evt = event || window.event;\\nvar target = evt.target || evt.srcElement;\\nvar el = target.nodeType == 1 ? target : target.parentNode;\\nvar tag = el.tagName.toLowerCase();\\nif (tag == 'span' || tag == 'a') {\\nptk('pagination');\\n}\\nreturn true;\\n}\\n</script>\\n<div class=\"pagination\" onmousedown=\"pclk(event);\">Results\\xa0Page:\\xa0\\xa0<a href=\"/jobs?q=data+scientist+%2420%2C000&amp;l=New+York\"><span class=\"pn\"><span class=\"np\">\\xab\\xa0Previous</span></span></a>\\xa0 <a href=\"/jobs?q=data+scientist+%2420%2C000&amp;l=New+York\"><span class=\"pn\">1</span></a>\\xa0\\xa0<b>2</b>\\xa0\\xa0<a href=\"/jobs?q=data+scientist+%2420%2C000&amp;l=New+York&amp;start=20&amp;pp=AQAcV0bwBo_JIEPizFKvGuBwzXwuNP0e7fs1XmNH1h8o\"><span class=\"pn\">3</span></a>\\xa0\\xa0<a href=\"/jobs?q=data+scientist+%2420%2C000&amp;l=New+York&amp;start=30&amp;pp=AQABaOtCSPBJszmzy5E34axe4fSZBw_4YTlYo0B8jHeJAMrkpRrtUv6dpRg4SpCQMPs3uq5j0Yo\"><span class=\"pn\">4</span></a>\\xa0\\xa0<a href=\"/jobs?q=data+scientist+%2420%2C000&amp;l=New+York&amp;start=40&amp;pp=AQENCRA2uMmvRgTV9MvyqUeYOCWp_ou-FtMPvdS3Py8nRZnDcrb6me2ZpcHs-C0d15vkBbM00sjVRXk9h3ovVoardswiytWYVQ\"><span class=\"pn\">5</span></a>\\xa0\\xa0<a href=\"/jobs?q=data+scientist+%2420%2C000&amp;l=New+York&amp;start=50&amp;pp=AQENCw7WqfrqeqFBdZCUOp7nHYFoY_HxKTuDOyrnB98fRSmDBDtw_VeKUJcg7kexRJplP9E8kk5WLBWE8JEEXFkQa-_sC9T0-GrEy_vBKTI5URj0u-k\"><span class=\"pn\">6</span></a>\\xa0\\xa0 <a href=\"/jobs?q=data+scientist+%2420%2C000&amp;l=New+York&amp;start=20&amp;pp=AQAcV0bwBo_JIEPizFKvGuBwzXwuNP0e7fs1XmNH1h8o\"><span class=\"pn\"><span class=\"np\">Next\\xa0\\xbb</span></span></a></div>\\n</td>\\n<td id=\"auxCol\" role=\"complementary\">\\n<div id=\"tjobalertswrapper\">\\n<div class=\"open jaui \" id=\"tjobalerts\">\\n<div class=\"jobalertlabel\">\\n<span class=\"jobalerts_title\" id=\"tjobalertlabel\"><span aria-label=\"alert icon\" class=\"ico\" role=\"img\"></span>Get new jobs for this search by email</span>\\n</div>\\n<div class=\"jaform\" id=\"tjobalertform\">\\n<span id=\"tjobalerttext\"></span><span id=\"tjobalertsending\"></span>\\n<div id=\"tjobalertmessage\">\\n<form action=\"/alert\" method=\"POST\" onsubmit=\"return addalertdelegate('data+scientist+%2420%2C000','New+York','t','',this.email.value,'1b24e4lcrauunfl3', this.verified.value, false, '', true, '661982', 'US', '7be39c90618ada467dfd6ef243463b69', this.recjobalert.checked, false);\">\\n<input name=\"a\" type=\"hidden\" value=\"add\"/>\\n<input name=\"q\" type=\"hidden\" value=\"data scientist $20,000\"/>\\n<input name=\"l\" type=\"hidden\" value=\"New York\"/>\\n<input name=\"radius\" type=\"hidden\" value=\"25\"/>\\n<input name=\"noscript\" type=\"hidden\" value=\"1\"/>\\n<input name=\"fr\" type=\"hidden\" value=\"t\"/>\\n<input name=\"tk\" type=\"hidden\" value=\"1b24e4lcrauunfl3\"/>\\n<input id=\"talertverified\" name=\"verified\" type=\"hidden\" value=\"0\"/>\\n<input name=\"alertparams\" type=\"hidden\" value=\"\"/>\\n<label for=\"talertemail\">My email:</label> <input id=\"talertemail\" maxlength=\"100\" name=\"email\" size=\"25\" type=\"text\" value=\"\"/>\\n<label for=\"trecjobalert\" id=\"trecjobalertlabel\">\\n<input checked=\"\" id=\"trecjobalert\" name=\"recjobalert\" type=\"checkbox\"/>\\n<span>Also get an email with jobs recommended just for me</span>\\n</label>\\n<span class=\"indeed-apply-button\"><span class=\"indeed-apply-button-inner\"><input class=\"indeed-apply-button-label\" id=\"talertsubmit\" type=\"submit\" value=\"Activate\"/></span></span>\\n<style type=\"text/css\">\\n    .indeed-apply-button { cursor : pointer !important; display : inline-block !important; padding : 1px !important; height : 31px !important; -moz-border-radius : 7px !important; border-radius : 7px !important; position : relative !important; text-decoration : none !important;background-color:#79788B; filter:progid:DXImageTransform.Microsoft.gradient(startColorstr='#BCBBCD', endColorstr='#79788B', GradientType=0);background-image: -webkit-gradient(linear, center top, center bottom, from(#BCBBCD), to(#79788B)) !important;background-image: -webkit-linear-gradient(top, #BCBBCD, #79788B) !important;background-image: -moz-linear-gradient(top, #BCBBCD, #79788B) !important;background-image: -o-linear-gradient(top, #BCBBCD, #79788B) !important;background-image: -ms-linear-gradient(top, #BCBBCD, #79788B) !important;background-image: linear-gradient(top, #BCBBCD, #79788B) !important;-webkit-box-shadow: 0 1px 2px rgba(0,0,0,0.2) !important;-moz-box-shadow: 0 1px 2px rgba(0,0,0,0.2) !important;box-shadow: 0 1px 2px rgba(0,0,0,0.2) !important; } #indeed-ia-1329175190441-0:link, #indeed-ia-1329175190441-0:visited, #indeed-ia-1329175190441-0:hover, #indeed-ia-1329175190441-0:active { border : 0 !important; text-decoration : none !important; }\\n\\n    .indeed-apply-button:hover { filter:progid:DXImageTransform.Microsoft.gradient(startColorstr='#6D99F6', endColorstr='#1B45A3', GradientType=0);background-image: -webkit-gradient(linear, center top, center bottom, from(#6D99F6), to(#1B45A3)) !important;background-image: -webkit-linear-gradient(top, #6D99F6, #1B45A3) !important;background-image: -moz-linear-gradient(top, #6D99F6, #1B45A3) !important;background-image: -o-linear-gradient(top, #6D99F6, #1B45A3) !important;background-image: -ms-linear-gradient(top, #6D99F6, #1B45A3) !important;background-image: linear-gradient(top, #6D99F6, #1B45A3) !important; }\\n\\n    .indeed-apply-state-clicked .indeed-apply-button,\\n    .indeed-apply-button:active { filter:progid:DXImageTransform.Microsoft.gradient(startColorstr='#B3BACA', endColorstr='#7C8493', GradientType=0);background-image: -webkit-gradient(linear, center top, center bottom, from(#B3BACA), to(#7C8493)) !important;background-image: -webkit-linear-gradient(top, #B3BACA, #7C8493) !important;background-image: -moz-linear-gradient(top, #B3BACA, #7C8493) !important;background-image: -o-linear-gradient(top, #B3BACA, #7C8493) !important;background-image: -ms-linear-gradient(top, #B3BACA, #7C8493) !important;background-image: linear-gradient(top, #B3BACA, #7C8493) !important;-webkit-box-shadow: none !important;-moz-box-shadow: none !important;box-shadow: none !important; }\\n\\n    .indeed-apply-button-inner { display : inline-block !important; height : 31px !important; -moz-border-radius : 6px !important; border-radius : 6px !important; font : 18px 'Helvetica Neue','Helvetica',Arial !important; font-weight : 200 !important; text-decoration : none !important; text-shadow : 0px 1px #F1F1F4 !important;background-color:#D9D9E2;  color: #FF6703;filter:progid:DXImageTransform.Microsoft.gradient(startColorstr='#FAFAFB', endColorstr='#D9D9E2', GradientType=0);background-image: -webkit-gradient(linear, center top, center bottom, from(#FAFAFB), to(#D9D9E2)) !important;background-image: -webkit-linear-gradient(top, #FAFAFB, #D9D9E2) !important;background-image: -moz-linear-gradient(top, #FAFAFB, #D9D9E2) !important;background-image: -o-linear-gradient(top, #FAFAFB, #D9D9E2) !important;background-image: -ms-linear-gradient(top, #FAFAFB, #D9D9E2) !important;background-image: linear-gradient(top, #FAFAFB, #D9D9E2) !important; }\\n\\n    .indeed-apply-button:active .indeed-apply-button-inner { filter:progid:DXImageTransform.Microsoft.gradient(startColorstr='#E8E8E9', endColorstr='#CBCBD3', GradientType=0);background-image: -webkit-gradient(linear, center top, center bottom, from(#E8E8E9), to(#CBCBD3)) !important;background-image: -webkit-linear-gradient(top, #E8E8E9, #CBCBD3) !important;background-image: -moz-linear-gradient(top, #E8E8E9, #CBCBD3) !important;background-image: -o-linear-gradient(top, #E8E8E9, #CBCBD3) !important;background-image: -ms-linear-gradient(top, #E8E8E9, #CBCBD3) !important;background-image: linear-gradient(top, #E8E8E9, #CBCBD3) !important; }\\n\\n    .indeed-apply-button-label {cursor: pointer; text-align : center !important; border:0; background: transparent;font-size: 12px; font-family: Arial, sans-serif; padding:3px 14px 2px 12px; margin:0; line-height: 26px; }\\n\\n    .indeed-apply-button:active .indeed-apply-button-label,\\n    .indeed-apply-state-clicked .indeed-apply-button-label { -ms-filter: \"progid:DXImageTransform.Microsoft.Alpha(Opacity=0.75)\" !important;filter: alpha(opacity=75) !important;-moz-opacity: 0.75 !important;-khtml-opacity: 0.75 !important;opacity: 0.75 !important; }\\n\\n    #talertemail, #balertemail {  height: 27px; line-height: 24px; padding-left: 6px; padding-right: 6px; font-size: 14px; font-family: Arial, sans-serif; }\\n</style></form>\\n<span class=\"caption\">\\nYou can cancel email alerts at any time.</span>\\n</div>\\n</div>\\n</div>\\n</div><div id=\"femp_list\">\\n<div class=\"femp_header\">Company with data scientist $20,000 jobs</div>\\n<div class=\"femp_item\">\\n<div class=\"femp_logo\">\\n<a href=\"/cmp/Visiting-Nurse-Service-of-New-York\" onmousedown=\"this.href = appendParamsOnce(this.href, 'tk=1b24e4lcrauunfl3&amp;campaignid=femp&amp;from=femp');\" target=\"_blank\">\\n<img alt=\"Visiting Nurse Service of New York\" src=\"https://d2q79iu7y748jz.cloudfront.net/s/_logo/77ecc24ec808926e6b1dd2b8fffedfd4.png\" width=\"120\"/>\\n</a>\\n</div>\\n<div class=\"femp_cmp\">\\n<a class=\"femp_cmp_link\" href=\"/cmp/Visiting-Nurse-Service-of-New-York\" onmousedown=\"this.href = appendParamsOnce(this.href, 'tk=1b24e4lcrauunfl3&amp;campaignid=femp&amp;from=femp');\" target=\"_blank\">\\n            Visiting Nurse Service of New York</a>\\n</div>\\n<div class=\"femp_desc\">Looking for jobs in Nursing (RN Manager, LPN), Physical Therapy, Occupational Therapy, Home Care? VNSNY has a career for you.</div>\\n<div class=\"featemp_sjl\" id=\"featemp_sj\" style=\"display: none\">\\n<div id=\"indJobContent\"></div>\\n</div>\\n<script type=\"text/javascript\">\\n        var ind_nr = true;\\n        var ind_pub = '8772657697788355';\\n        var ind_el = 'indJobContent';\\n        var ind_pf = '';\\n        var ind_q = '';\\n        var ind_fcckey = '77b2198c6819c1d6';\\n        var ind_l = 'New York';\\n        var ind_chnl = 'Visiting Nurse Service of New York';\\n        var ind_n = 3;\\n        var ind_d = '';\\n        var ind_t = 60;\\n        var ind_c = 30;\\n        var ind_rq = 'data scientist $20,000';\\n    </script>\\n<script src=\"//jobroll.indeed.com/jobroll-widget-v3-fc2.js\" type=\"text/javascript\"></script>\\n<script type=\"text/javascript\">\\n        window.indeedJobroll.origJobsCallback = window.indeedJobroll.jobsCallback;\\n        window.indeedJobroll.jobsCallback=function(contentId, content) {\\n            var sjDiv = document.getElementById('featemp_sj');\\n            if (content.length <= 33 && sjDiv) {\\n                sjDiv.style.display = 'none';\\n            } else {\\n                if (sjDiv) { sjDiv.style.display = 'block'; }\\n                window.indeedJobroll.origJobsCallback(contentId, content);\\n            }\\n        };\\n    </script>\\n<div class=\"femp_links\">\\n<div class=\"jobs\"><a href=\"/jobs?q=company%3A%22Visiting+Nurse+Service+of+New+York%22&amp;l=New+York\" onmousedown=\"this.href = appendParamsOnce(this.href, '&amp;from=femp');\">Jobs (190)</a></div>\\n<div class=\"reviews\"><a href=\"/cmp/Visiting-Nurse-Service-of-New-York/reviews\" onmousedown=\"this.href = appendParamsOnce(this.href, '&amp;campaignid=femp&amp;from=femp');\">Reviews (169)</a> <span class=\"ratings\" style=\"height: 11px; line-height: 11px; background-image: url(/images/cmp/star_2_sm@2x.png); background-size: 12px 22px;width: 60px;\"><span class=\"rating\" style=\"height: 11px; line-height: 11px; background-image: url(/images/cmp/star_2_sm@2x.png); background-size: 12px 22px;background-position: 0 11px; width: 43.2px;\"><!-- --></span></span></div>\\n</div>\\n</div></div>\\n</td></tr>\\n</table>\\n<style type=\"text/css\">\\n.popover {\\n    position: fixed;\\n    display: none;\\n    -webkit-box-shadow: 0px 1px 3px 0px rgba(0,0,0,0.28);\\n    -moz-box-shadow: 0px 1px 3px 0px rgba(0,0,0,0.28);\\n    box-shadow: 0px 1px 3px 0px rgba(0,0,0,0.28);\\n}\\n#popover-background {\\n    z-index: 2;\\n    background: #000000;\\n    width: 100%;\\n    height: 100%;\\n    opacity: .30;\\n    filter: alpha(opacity = 30);\\n    top: 0;\\n    left: 0;\\n}\\n#popover-foreground {\\n    background: #fff;\\n    min-width: 450px;\\n    max-width: 700px;\\n    padding: 25px;\\n    margin: 0 auto;\\n    z-index: 3;\\n    border: solid 1px #ccc;\\n}\\n#popover-x {\\n    float: right;\\n    margin: -12px -12px 0 0;\\n}\\n#popover-x-button {\\n    margin-left: -5px;\\n    background:none;\\n    border:none;\\n}\\n.popover-small {\\n    font-size: 12px;\\n    font-color: rgba(0, 0, 0, 0.47);\\n}\\n.popover-heading {\\n    font-size: 18px;\\n    padding-right: 25px;\\n    display: table;\\n}\\n.popover-label {\\n    font-size: 14px;\\n}\\n.ja-completion-prompt-form .popover-label {\\n    width: 68px;\\n    display: inline-block;\\n}\\n.popover-button {\\n    padding: 3px 16px 3px 16px;\\n}\\n.popover-input {\\n    height: 20px;\\n    width: 375px;\\n}\\n.popover-qAndL {\\n    margin-top: 5px;\\n    margin-bottom: 5px;\\n}\\n#popover-form {\\n    margin: 16px 0 4px 0;\\n    padding-left: 28px;\\n}\\n#popover-success font{\\n    font-size: 10pt;\\n    color: #c00;\\n}\\n#popover-close {\\n    margin-top: 15px;\\n    color: #000;\\n    display: block;\\n    font-size: 13px;\\n    font-weight: bold;\\n    padding: 8px 25px;\\n    text-decoration: none;\\n    cursor: pointer;\\n    background-color: #e6e6e6;\\n    border: 1px solid #9a9a9a;\\n    background: -webkit-gradient(linear,left bottom,left top,color-stop(0.33,#cfcfcf),color-stop(0.66,#e6e6e6),color-stop(1,#fefefe));\\n    background: -moz-linear-gradient(center bottom, #CFCFCF 33%, #E6E6E6 66%, #FEFEFE 100%);\\n    border-radius: 6px;\\n    -moz-border-radius: 6px;\\n    -webkit-border-radius: 6px;\\n}\\n.popover-red {\\n    color: red;\\n}\\n.popover-bold {\\n    font-weight: bold;\\n}\\n.popover-centertext {\\n    width: 100%;\\n    text-align: center;\\n}\\n.envelope {\\n    overflow: hidden;\\n    background: url(/images/ja_icon.png) no-repeat;\\n    height: 12px;\\n    width: 18px;\\n    margin-top: 5px;\\n    margin-right: 9px;\\n    display: inline;\\n    float: left;\\n}\\n#popover-form-container {\\n    padding-top: 20px;\\n}\\n.popover-x-span {\\n    font-weight: bold;\\n    font-size: 18px;\\n    color: #666;\\n    cursor: pointer;\\n}\\n#popover-jobalerttext {\\n    word-wrap: break-word;\\n    word-break: break-all;\\n    white-space: normal;\\n    display: table;\\n}\\n.job-alert-popover-button {\\n    padding-top: 12px;\\n    float: left;\\n}\\n.popover-bottom-message {\\n    padding-top: 15px;\\n    margin-top: 45px;\\n}\\n.popover-close-link {\\n    float: left;\\n    margin-top: 22px;\\n    margin-left: 30px;\\n    font-weight: bold;\\n}\\n.popover-confirm-text {\\n    display: inline-block;\\n    padding-top: 15px;\\n}\\n</style>\\n<div class=\"popover\" id=\"popover-background\">\\n</div>\\n<div class=\"popover\" data-tn-section=\"popover\" id=\"popover-foreground\">\\n<div id=\"popover-x\">\\n<button aria-label=\"close\" class=\"modal-interactable\" id=\"popover-x-button\">\\n<span class=\"popover-x-span\">\\xd7</span>\\n</button>\\n</div>\\n<div id=\"popover-form-container\">\\n<span aria-label=\"alert icon\" class=\"envelope\" role=\"img\"> </span>\\n<span class=\"popover-heading\">\\n            Get email updates for the latest <span class=\"popover-bold\" id=\"popover-heading-what\">data scientist $20,000</span> jobs in <span class=\"popover-bold\" id=\"popover-heading-where\">New York</span></span>\\n<div id=\"popover-form\">\\n<div>\\n<span id=\"popover-jobalerttext\"></span>\\n</div>\\n<label class=\"popover-small caption\" for=\"popover-email\">\\n                Email address</label>\\n<div id=\"popover-email-div\">\\n<input autofocus=\"\" class=\"popover-input\" id=\"popover-email\" type=\"text\"/>\\n</div>\\n<div class=\"job-alert-popover-button\" id=\"job-alert-popover-button\">\\n<input id=\"popover-csrftoken\" type=\"hidden\" value=\"7be39c90618ada467dfd6ef243463b69\"/>\\n<input class=\"modal-interactable cleanuptst-indeed-apply-button\" id=\"popover-button\" type=\"submit\" value=\"Activate\"/>\\n<style type=\"text/css\">\\n    .cleanuptst-indeed-apply-button {\\n        display: inline-block;\\n        padding: 0 20px;\\n        background: #5495fd; /* Old browsers */\\n        background: -moz-linear-gradient(top,  #5495fd 0%, #2f5cd8 100%) !important; /* FF3.6+ */\\n        background: -webkit-gradient(linear, left top, left bottom, color-stop(0%,#5495fd), color-stop(100%,#2f5cd8)) !important; /* Chrome,Safari4+ */\\n        background: -webkit-linear-gradient(top,  #5495fd 0%,#2f5cd8 100%) !important; /* Chrome10+,Safari5.1+ */\\n        background: -o-linear-gradient(top,  #5495fd 0%,#2f5cd8 100%) !important; /* Opera 11.10+ */\\n        background: -ms-linear-gradient(top,  #5495fd 0%,#2f5cd8 100%) !important; /* IE10+ */\\n        background: linear-gradient(to bottom,  #5495fd 0%,#2f5cd8 100%) !important; /* W3C */\\n        filter: progid:DXImageTransform.Microsoft.gradient( startColorstr='#5495fd', endColorstr='#2f5cd8',GradientType=0 ) !important; /* IE6-9 */\\n        color: white !important;\\n        text-shadow: rgb(0, 0, 0) 0 -1px 0;\\n        border: 1px solid #2f5cd8;\\n        -moz-border-radius: 6px;\\n        -webkit-border-radius: 6px;\\n        border-radius: 6px;\\n        font-family: Arial, serif;\\n        font-size: 15px;\\n        line-height: 31px;\\n        text-align: center;\\n        cursor: pointer;\\n        font-weight: bold;\\n        outline: none;\\n        text-decoration: none;\\n        box-shadow: rgba(0, 0, 0, 0.2) 0px 1px 2px 0px;\\n        position : relative !important;}\\n\\n    .cleanuptst-indeed-apply-button:disabled {\\n        -ms-filter: \"progid:DXImageTransform.Microsoft.Alpha(Opacity=0.75)\" !important;\\n        filter: alpha(opacity=75) !important;\\n        -moz-opacity: 0.75 !important;\\n        -khtml-opacity: 0.75 !important;\\n        opacity: 0.75 !important;}\\n</style></div>\\n<div id=\"popover-link-x\">\\n<a class=\"popover-close-link modal-interactable\" href=\"#\" id=\"popover-close-link\">No, thanks</a>\\n</div>\\n<div class=\"popover-bottom-message\" id=\"popover-bottom-message\">\\n<span class=\"popover-small caption\">\\n                    You can cancel email alerts at any time.</span>\\n</div>\\n</div>\\n</div>\\n<div id=\"popover-success\" style=\"display: none; padding-left: 28px;\">\\n<span class=\"popover-confirm-text\" id=\"popover-confirm-text-span\"></span>\\n<div>Click on the link in this email to start receiving your job alerts.</div>\\n<div class=\"popover-centertext\">\\n<button class=\"popover-button modal-interactable\" id=\"popover-close\">Close</button>\\n</div>\\n</div>\\n<div id=\"popover-error\" style=\"display: none\">\\n</div>\\n</div>\\n<script type=\"text/javascript\">\\n    \\n            window['showJobAlertPopover'] = 'immediateBiweek';\\n        </script>\\n<script>\\nvar focusHandlers = [];\\nvar linkHighlighter = new LinkHighlighter();\\nfocusHandlers.push(googBind(linkHighlighter.fadeToOriginalColor, linkHighlighter));\\nvar lostFocusHandlers = [];\\nlostFocusHandlers.push(googBind(linkHighlighter.clickedAway, linkHighlighter, \"#551a8b\"));\\n\\n\\nvar didYouApplyPrompt = new DidYouApplyPrompt('1b24e4lcrauunfl3',\\n60, 'serp', false);\\nfocusHandlers.push(googBind(didYouApplyPrompt.returnedToPage, didYouApplyPrompt));\\nlostFocusHandlers.push(googBind(didYouApplyPrompt.leftPage, didYouApplyPrompt));\\ndidYouApplyPrompt.dyaChangeFromCookie();\\n\\nvar clickTime = new ClickTime(window.tk, 'serp', 'jobtitle', focusHandlers, lostFocusHandlers);\\n</script>\\n<script>enableAdometry();</script>\\n<style type=\"text/css\">\\n#secondary_nav a,#secondary_nav a:link,#secondary_nav a:visited{color:#77c;text-decoration:none}#secondary_nav a:hover{text-decoration:underline}</style>\\n<!-- jobs -->\\n<div id=\"footerWrapper\" role=\"contentinfo\" style=\"text-align:center;\">\\n<div id=\"footer\" style=\"text-align:left;\">\\n<div class=\"separator_bottom\"></div>\\n<div id=\"secondary_nav\">\\n<div style=\"margin: 1em;\"><span class=\"gaj_heading\">Indeed helps people get jobs:</span> <a class=\"sl\" href=\"/promo/gotajob\" onmousedown=\"this.href = appendParamsOnce( this.href, '?trk.origin=jobsearch&amp;trk.tk=1b24e4lcrauunfl3')\">Over 10 million stories shared</a></div><a href=\"/\" id=\"jobs_product_link\" title=\"Jobs\">Jobs</a> - <a href=\"/Best-Places-to-Work\" id=\"companies_product_link\" title=\"Browse Companies\">Browse Companies</a> - <a href=\"/salary\" id=\"salaries_product_link\" title=\"Salary Search\">Salaries</a> - <a href=\"/jobtrends\" id=\"trends_product_link\" title=\"Career Trends\">Trends</a> - <a href=\"/forum\" id=\"forums_product_link\" title=\"Employment Forums\">Forums</a> - <script type=\"text/javascript\">\\nvar jobsProductLink = document.getElementById('jobs_product_link');\\ndocument.getElementById('salaries_product_link').onclick = function() { if ( !document.js ) { return; } var q = document.js.q.value; var l = document.js.l.value; if ( q || l ) { window.location = '/salary?q1=' + urlencode( q ) + '&l1=' + urlencode( l ); return false; } };document.getElementById('trends_product_link').onclick = function() { if ( !document.js ) { return; } var q = document.js.q.value; if ( q ) { window.location = '/jobtrends?q=' + urlencode( q ) + '&l=' + urlencode( document.js.l.value ); return false; } };document.getElementById('forums_product_link').onclick = function() { if ( !document.js ) { return; } var q = document.js.q.value; if ( q ) { window.location = '/forum/?q=' + urlencode( q ) + '&l=' + urlencode( document.js.l.value ); return false; } };document.getElementById('companies_product_link').onclick = function() { window.location = '/Best-Places-to-Work?campaignid=jobs'; return false;};</script>\\n<a href=\"/find-jobs.jsp\">Browse Jobs</a> - <a href=\"/tools/jobseeker/\">Tools</a> - <a href=\"http://www.indeed.jobs\">Work at Indeed</a> - <a href=\"/publisher\">API</a> - <a href=\"/intl/en/about.html\"><nobr>About</nobr></a> - <a href=\"https://indeed.zendesk.com/hc/en-us\">Help Center</a>\\n<style type=\"text/css\">\\n#footer-legal {\\nmargin-top: 10px;\\nfont-size: 9pt;\\n}\\n</style>\\n<div id=\"footer-legal\">\\n<div class=\"legal-footer\">\\xa92016 Indeed - <a href=\"/legal\">Cookies, Privacy and Terms</a></div></div>\\n</div>\\n</div>\\n</div>\\n</td></tr></table>\\n<script type=\"text/javascript\">\\n        function sm_cv_tag(activityId) {\\n            var ebRand = Math.random()+'';\\n            ebRand = ebRand * 1000000;\\n\\n            var tagContainer = document.body.appendChild(document.createElement(\"div\"));\\n            tagContainer.style.position=\"absolute\";\\n            tagContainer.style.top=\"0\";\\n            tagContainer.style.left=\"0\";\\n            tagContainer.style.width=\"1px\";\\n            tagContainer.style.height=\"1px\";\\n            tagContainer.style.display=\"none\";\\n\\n            var jsTag = document.createElement('script');\\n            jsTag.src = '//bs.serving-sys.com/Serving/ActivityServer.bs?cn=as&ActivityID=' + activityId + '&rnd=' + ebRand;\\n            jsTag.setAttribute('crossorigin', 'anonymous');\\n            jsTag.style.width=\"1px\";\\n            jsTag.style.height=\"1px\";\\n            jsTag.style.border=\"0\";\\n\\n            var noScript = document.createElement(\"noscript\");\\n            var noScriptText = '<img width=\"1\" height=\"1\" style=\"border:0\" src=\"//bs.serving-sys.com/Serving/ActivityServer.bs?cn=as&ActivityID=' + activityId + '&ns=1\"/>';\\n\\n            // IE less than 9 and RCs do not support innerHTML on some DOM elements, but supports .text for it\\n            if (((typeof noScript.canHaveHTML) === \"boolean\") && (noScript.canHaveHTML === false)) { // canHaveHTML only exists for IE\\n                noScript.text = noScriptText;\\n            } else {\\n                noScript.innerHTML = noScriptText;\\n            }\\n\\n            tagContainer.appendChild(jsTag);\\n            tagContainer.appendChild(noScript);\\n        }\\n    </script>\\n<script type=\"text/javascript\">\\n<!--\\n(function ( tk ) { if ( tk && document.images ) { var s=\"/\", q=\"?\", a=\"&\", e=\"=\"; rpc(s+\"rpc\"+s+\"log\"+q+\"a\"+e+\"jsv\"+a+\"tk\"+e+tk); } })('1b24e4lcrauunfl3');\\nfunction jsall_loaded() {\\n\\n\\ninitProcessLeftoverDwellEntries();\\n\\nattachSjBlock('');\\nattachJaBlock('');\\n}\\nif (window['closureReady'] === true) {\\njsall_loaded();\\n}\\n//-->\\n</script>\\n<script type=\"text/javascript\">\\nPENDING_ANALYTICS_VARS = window.PENDING_ANALYTICS_VARS || [];\\nPENDING_ANALYTICS_VARS[PENDING_ANALYTICS_VARS.length] = ['_setCustomVar', 5, 'loggedIn', 'false', 3];\\n</script>\\n<script type=\"text/javascript\">\\n        var ga_domains = [];\\n        ga_domains.push('indeed.co.in');ga_domains.push('indeed.lu');ga_domains.push('indeed.fr');ga_domains.push('indeed.de');ga_domains.push('indeed.com.br');ga_domains.push('indeed.co.uk');ga_domains.push('indeed.hk');ga_domains.push('indeed.fi');ga_domains.push('indeed.pt');ga_domains.push('indeed.jp');ga_domains.push('indeed.com');ga_domains.push('indeed.com.sg');ga_domains.push('indeed.nl');ga_domains.push('indeed.com.pk');ga_domains.push('indeed.cl');ga_domains.push('indeed.es');ga_domains.push('indeed.co.ve');ga_domains.push('indeed.ae');ga_domains.push('indeed.com.mx');ga_domains.push('indeed.com.my');ga_domains.push('indeed.ch');ga_domains.push('indeed.com.co');ga_domains.push('indeed.com.ph');ga_domains.push('indeed.co.za');ga_domains.push('indeed.ie');ga_domains.push('indeed.com.au');ga_domains.push('indeed.ca');ga_domains.push('indeed.com.pe');\\n\\n        (function (i, s, o, g, r, a, m) {\\n            i['GoogleAnalyticsObject'] = r;\\n            i[r] = i[r] || function () {\\n                (i[r].q = i[r].q || []).push(arguments)\\n            }, i[r].l = 1 * new Date();\\n            a = s.createElement(o),\\n                    m = s.getElementsByTagName(o)[0];\\n            a.async = 1;\\n            a.src = g;\\n            m.parentNode.insertBefore(a, m)\\n        })(window, document, 'script', '//www.google-analytics.com/analytics.js', 'ga');\\n\\n        var ga = ga || [];\\n        ga('create', 'UA-90780-1', 'auto', {\\n            'allowLinker': true\\n        });\\n        ga('require', 'linkid');\\n        ga('require', 'linker');\\n        ga('linker:autoLink', ga_domains, false, true);\\n        ga('require', 'displayfeatures');\\n        ga('send', 'pageview');\\n\\n        \\n        (function () {\\n            if (window.PENDING_ANALYTICS_VARS && window.PENDING_ANALYTICS_VARS.length > 0) {\\n                for (var i in PENDING_ANALYTICS_VARS) {\\n                    ga('set', PENDING_ANALYTICS_VARS[i][2], PENDING_ANALYTICS_VARS[i][3]);\\n                }\\n            }\\n        })();\\n    </script>\\n<!-- Facebook Pixel Code -->\\n<script>\\n    !function(f,b,e,v,n,t,s){if(f.fbq)return;n=f.fbq=function(){n.callMethod?\\n            n.callMethod.apply(n,arguments):n.queue.push(arguments)};if(!f._fbq)f._fbq=n;\\n        n.push=n;n.loaded=!0;n.version='2.0';n.queue=[];t=b.createElement(e);t.async=!0;\\n        t.src=v;s=b.getElementsByTagName(e)[0];s.parentNode.insertBefore(t,s)}(window,\\n            document,'script','https://connect.facebook.net/en_US/fbevents.js');\\n\\n    fbq('init', '579216298929618');\\n    fbq('track', \"PageView\");</script>\\n<noscript><img height=\"1\" src=\"https://www.facebook.com/tr?id=579216298929618&amp;ev=PageView&amp;noscript=1\" style=\"display:none\" width=\"1\"/></noscript>\\n<!-- End Facebook Pixel Code -->\\n<script>\\nvar _comscore = _comscore || [];\\n_comscore.push({ c1: \"2\", c2: \"6486505\", c4:\"www.indeed.com/jobs\", c15:\"1b24e4lcpauuna62\"});\\n(function() { var s = document.createElement(\"script\"), el = document.getElementsByTagName(\"script\")[0]; s.async = true; s.src = (document.location.protocol == \"https:\" ? \"https://sb\" : \"http://b\") + \".scorecardresearch.com/beacon.js\"; el.parentNode.insertBefore(s, el); })();\\n</script>\\n<noscript>\\n<img alt=\"\" height=\"0\" src=\"http://b.scorecardresearch.com/p?c1=2&amp;c2=6486505&amp;c4=www.indeed.com%2Fjobs&amp;c15=1b24e4lcpauuna62&amp;cv=2.0&amp;cj=1\" style=\"display:none\" width=\"0\"/>\\n</noscript>\\n<img height=\"0\" src=\"//log.dmtry.com/redir/1/0/4102/1011464/0/1/189/0/1017/1.ver?at=v&amp;d=PxConv\" width=\"0\"/>\\n<script>(function(){\\n(function(){\\nvar q = document.getElementById('what').value;\\nif (q.indexOf('recruit') != -1 && window.location.search.indexOf('&start') == -1) {\\n    var d1 = document.getElementById('searchCount');\\n    if (d1 !== null) {\\n        div = d1.nextSibling;\\n        while (div !== null && div.tagName !== \"div\"){\\n            toRemove = div;\\n            div = div.nextSibling;\\n            toRemove.remove(toRemove.selectedIndex);\\n        }\\n        d1.insertAdjacentHTML('afterend', '<div style=\"border: 1px solid #0000cc; padding: 10px; margin-top: 20px; border-radius: 4px;font-size: 15px;padding-left: 12px;\"><img style=\"max-width:30px;\" src=\"https://s3-us-west-2.amazonaws.com/indeed-labs-crashtest/crowd/ic_recruiter.png\"> Get paid to recruit independently on Indeed - <a href=\"https://crowd.indeed.com/?isid=SERPpromo4&ikw=' +encodeURI(q) + '\">Start Today</a></div>');\\n    }\\n}\\n\\n})();\\n})();</script>\\n</body>\\n</html>\\n>"
      ]
     },
     "execution_count": 5,
     "metadata": {},
     "output_type": "execute_result"
    }
   ],
   "source": [
    "# soup = BeautifulSoup(page)\n",
    "# soup.prettify"
   ]
  },
  {
   "cell_type": "code",
   "execution_count": 6,
   "metadata": {
    "collapsed": false
   },
   "outputs": [
    {
     "data": {
      "text/plain": [
       "u'Data Scientist $20,000 Jobs, Employment in New York, NY\\n|\\nIndeed.com'"
      ]
     },
     "execution_count": 6,
     "metadata": {},
     "output_type": "execute_result"
    }
   ],
   "source": [
    "#print page title\n",
    "# soup.title.string"
   ]
  },
  {
   "cell_type": "code",
   "execution_count": 7,
   "metadata": {
    "collapsed": false,
    "focus": false,
    "id": "c8846f3e-42a5-4714-9784-fb5d6a28524b"
   },
   "outputs": [
    {
     "data": {
      "text/plain": [
       "[<div class=\"row result\" data-jk=\"c31f7517aab8baf6\" id=\"pj_c31f7517aab8baf6\">\\n<a class=\"jobtitle turnstileLink\" data-tn-element=\"jobTitle\" href=\"/pagead/clk?mo=r&amp;ad=-6NYlbfkN0C0N5g2K2dRftRPqV48598gS6B3iXjGj1oTMqkDgl8VxjeLAuoIdoq2mMJIilL8x--RuH3_0jtOCJ9E0rKwizSJK5QGta54Ec3GtEDKhOE9XDa6CCg1_waFOdeTHjbrhtPSlBaUbfo56Y66iYlU2kIOKBaZtyP7SuMkafCF6jKVEghGYZMVpg9LC32Gpyab63ep596U8bFSgS09DJttRBhc15K4x6_SIXUJlTXvXPwvUdhllQV-Quie9Xzxgj1fv756lYX-SS1AHflsJdgLEBPE82m_UPw96jytdQ7lelJme6KDZ5FLUc0No3-hXvAFibiqOcwFr4mCEnW_yRXA-lE5psFb3NEUU18XOQZkivadNjGfRJ9rU-iy2C8cgSuk_QnXYPxbbfukCx79MKVjHNtGpNqDp9FLqIdS_Us6Z9fmD33LD2cJEzhXuENUASI-m8Nbt7hwg7YpGs-ftmQ8bOPvGGsR5vABfU_JTfOhSeqxoLNZmJlbq9ReK4HvTj-fv0axdF6uiBzYGQ==&amp;p=1&amp;sk=&amp;fvj=0\" id=\"sja1\" onclick=\"setRefineByCookie(['salest']); sjoc('sja1',0); convCtr('SJ', pingUrlsForGA)\" onmousedown=\"sjomd('sja1'); clk('sja1');\" rel=\"nofollow\" target=\"_blank\" title=\"Data Engineer\"><b>Data</b> Engineer</a>\\n<br/>\\n<div class=\"sjcl\">\\n<span class=\"company\">\\n<a class=\"turnstileLink\" data-tn-element=\"companyName\" href=\"/cmp/Indeed\" onmousedown=\"this.href = appendParamsOnce(this.href, 'from=SERP&amp;campaignid=serp-linkcompanyname&amp;fromjk=c31f7517aab8baf6&amp;jcid=d6ef41e202aa2c0b')\" target=\"_blank\">\\n        Indeed</a></span>\\n\\n - <a class=\"turnstileLink slNoUnderline \" data-tn-element=\"reviewStars\" data-tn-variant=\"cmplinktst2\" href=\"/cmp/Indeed/reviews\" onmousedown=\"this.href = appendParamsOnce(this.href, '?campaignid=cmplinktst2&amp;from=SERP&amp;jt=Data+Engineer&amp;fromjk=c31f7517aab8baf6&amp;jcid=d6ef41e202aa2c0b');\" target=\"_blank\" title=\"Indeed reviews\">\\n<span class=\"ratings\" style=\"height: 11px; line-height: 11px; background-image: url(/images/cmp/star_2_sm@2x.png); background-size: 12px 22px;width: 60px;\"><span class=\"rating\" style=\"height: 11px; line-height: 11px; background-image: url(/images/cmp/star_2_sm@2x.png); background-size: 12px 22px;background-position: 0 11px; width: 54.0px;\"><!-- --></span></span><span class=\"slNoUnderline\">135 reviews</span></a>\\n - <span class=\"location\">New York, NY 10036</span>\\n</div>\\n<table border=\"0\" cellpadding=\"0\" cellspacing=\"0\"><tr><td class=\"snip\">\\n<span class=\"summary\">Work closely with stakeholders on the <b>data</b> demand side (analysts and <b>data</b> <b>scientists</b>). Develop and maintain <b>data</b> dictionary for published <b>data</b> sources....</span>\\n</td></tr></table>\\n<div class=\"iaP\">\\n<span class=\"iaLabel\"> Easily apply</span>\\n</div><div class=\"result-link-bar-container\">\\n<div class=\"result-link-bar\"><span class=\"date\">30+ days ago</span> <span class=\"tt_set\" id=\"tt_set_10\"></span><div class=\"edit_note_content\" id=\"editsaved2_c31f7517aab8baf6\" style=\"display:none;\"></div><script>window['sj_result_c31f7517aab8baf6'] = {\"showSource\": false, \"source\": \"Indeed\", \"loggedIn\": false, \"showMyJobsLinks\": true,\"undoAction\": \"unsave\",\"relativeJobAge\": \"30+ days ago\",\"jobKey\": \"c31f7517aab8baf6\", \"myIndeedAvailable\": true, \"tellAFriendEnabled\": false, \"showMoreActionsLink\": false, \"resultNumber\": 10, \"jobStateChangedToSaved\": false, \"searchState\": \"q=data scientist $20,000&amp;l=New+York&amp;start=10\", \"basicPermaLink\": \"http://www.indeed.com\", \"saveJobFailed\": false, \"removeJobFailed\": false, \"requestPending\": false, \"notesEnabled\": false, \"currentPage\" : \"serp\", \"sponsored\" : true,\"reportJobButtonEnabled\": false, \"showMyJobsHired\": false, \"showSaveForSponsored\": false};</script></div></div>\\n<div class=\"tab-container\">\\n<div class=\"sign-in-container result-tab\"></div>\\n<div class=\"tellafriend-container result-tab email_job_content\"></div>\\n</div>\\n<span class=\"sdn\">Sponsored</span>\\n</div>,\n",
       " <div class=\"row result\" data-jk=\"989c3af317d739f1\" id=\"pj_989c3af317d739f1\">\\n<a class=\"jobtitle turnstileLink\" data-tn-element=\"jobTitle\" href=\"/pagead/clk?mo=r&amp;ad=-6NYlbfkN0Bcgobz-t7weSGYTjoRWMIqcV9t0akB45B3k8NFJVZb5kkFpxn8bhfjltbVDjvx0bn0noTLqpSBW77839Ubfh4eL2ZvByfFlPegJkfgxbap4qbKzQXknClXAKQmaD18uRE6WyuXyxO_exk5O6t6M-0T0UCdig4zGtMoe_sPDIPcO87WC0aA3nwVJ9Z-jqMpGR5YcdERRTY746qipItcmtOVhRNb0zhS3W7k8XsEjuLNjeZv6WqIkn0SCu-hW9h5DuMmTrLZKCy3ajPmijjmAat7wCc4IM9Y7i_nREKGm_EEGPd_O-owrjvc4QNIEsz0T21Ryt_jRpI0u7YWok1g_UcGRE-8naNL8oNyAtwbTwGawS57vsSEeWyIGu34UtJs7c_GMuZZjR507RPuiFa9hkC6DWNgc1BkkZw0bZ6h0JgdFw==&amp;p=2&amp;sk=&amp;fvj=0\" id=\"sja2\" onclick=\"setRefineByCookie(['salest']); sjoc('sja2',0); convCtr('SJ', pingUrlsForGA)\" onmousedown=\"sjomd('sja2'); clk('sja2');\" rel=\"nofollow\" target=\"_blank\" title=\"Data Scientist\"><b>Data</b> <b>Scientist</b></a>\\n<br/>\\n<div class=\"sjcl\">\\n<span class=\"company\">\\n    Predictive Science</span>\\n\\n - <span class=\"location\">United States</span>\\n</div>\\n<table border=\"0\" cellpadding=\"0\" cellspacing=\"0\"><tr><td class=\"snip\">\\n<span class=\"summary\">This is a freelance <b>data</b> <b>scientist</b> position who will work with other senior <b>data</b> <b>scientists</b> to consult with executives and <b>data</b> <b>scientists</b> who are a part of the...</span>\\n</td></tr></table>\\n<div class=\"result-link-bar-container\">\\n<div class=\"result-link-bar\"><span class=\"date\">11 days ago</span> <span class=\"tt_set\" id=\"tt_set_11\"></span><div class=\"edit_note_content\" id=\"editsaved2_989c3af317d739f1\" style=\"display:none;\"></div><script>window['sj_result_989c3af317d739f1'] = {\"showSource\": false, \"source\": \"Predictive Science\", \"loggedIn\": false, \"showMyJobsLinks\": true,\"undoAction\": \"unsave\",\"relativeJobAge\": \"11 days ago\",\"jobKey\": \"989c3af317d739f1\", \"myIndeedAvailable\": true, \"tellAFriendEnabled\": false, \"showMoreActionsLink\": false, \"resultNumber\": 11, \"jobStateChangedToSaved\": false, \"searchState\": \"q=data scientist $20,000&amp;l=New+York&amp;start=10\", \"basicPermaLink\": \"http://www.indeed.com\", \"saveJobFailed\": false, \"removeJobFailed\": false, \"requestPending\": false, \"notesEnabled\": false, \"currentPage\" : \"serp\", \"sponsored\" : true,\"reportJobButtonEnabled\": false, \"showMyJobsHired\": false, \"showSaveForSponsored\": false};</script></div></div>\\n<div class=\"tab-container\">\\n<div class=\"sign-in-container result-tab\"></div>\\n<div class=\"tellafriend-container result-tab email_job_content\"></div>\\n</div>\\n<span class=\"sdn\">Sponsored</span>\\n</div>,\n",
       " <div class=\"row sjlast result\" data-jk=\"ce232417b0b3dda8\" id=\"pj_ce232417b0b3dda8\">\\n<a class=\"jobtitle turnstileLink\" data-tn-element=\"jobTitle\" href=\"/pagead/clk?mo=r&amp;ad=-6NYlbfkN0A7-XM98oIHUCoYA3WwdH8LVheBLfLgvborW9J93TrYiIziUPT66biVJZuGFjuGPurbNXxFMfhfWsF05zjl-7XkTxL8t6h-n3Nfy44DlHTDYeTySNwiYGauY7Fs2RUuEL6m5zAy6SKiVGYgu5rxxDzvx8O_kYiGxG9gaVPlD1C3XupvXO2C2nZDetTPnIR-qtHUnNN9fMprga4btKgpRkzA6POd_5e_X-TKi6YXqAD5aqvIYdOh_j7uo1BGjc8WaU8ogbzyN6TblX50Ua7ls2ATGwiaY88yC6IQxZJCOWY2xgbuljGFF5zRgVnpcj9NrO2LZtfQ_f4QRhxgq2BmIfe3MldcN2zn8vD8aUe33J9C96xScxsgdnR5haGV5gi01Qyk7Wt8YnPWov_9-PdEu8HsSve6CS3Nf2I=&amp;p=3&amp;sk=&amp;fvj=0\" id=\"sja3\" onclick=\"setRefineByCookie(['salest']); sjoc('sja3',1); convCtr('SJ', pingUrlsForGA)\" onmousedown=\"sjomd('sja3'); clk('sja3');\" rel=\"nofollow\" target=\"_blank\" title=\"Top 1% Business Intelligence Analyst\">Top 1% Business Intelligence Analyst</a>\\n<br/>\\n<div class=\"sjcl\">\\n<span class=\"company\">\\n    Consulting.com</span>\\n\\n - <span class=\"location\">New York, NY</span>\\n<div>\\n$150,000 a year</div>\\n</div>\\n<table border=\"0\" cellpadding=\"0\" cellspacing=\"0\"><tr><td class=\"snip\">\\n<span class=\"summary\">We are looking for an experienced <b>data</b> <b>scientist</b> with a proven track records of solving problems, driving growth, and making <b>data</b>-driven decisions....</span>\\n</td></tr></table>\\n<div class=\"iaP\">\\n<span class=\"iaLabel\"> Easily apply</span>\\n</div><div class=\"result-link-bar-container\">\\n<div class=\"result-link-bar\"><span class=\"date\">30+ days ago</span> <span class=\"tt_set\" id=\"tt_set_12\"></span><div class=\"edit_note_content\" id=\"editsaved2_ce232417b0b3dda8\" style=\"display:none;\"></div><script>window['sj_result_ce232417b0b3dda8'] = {\"showSource\": false, \"source\": \"Consulting.com\", \"loggedIn\": false, \"showMyJobsLinks\": true,\"undoAction\": \"unsave\",\"relativeJobAge\": \"30+ days ago\",\"jobKey\": \"ce232417b0b3dda8\", \"myIndeedAvailable\": true, \"tellAFriendEnabled\": false, \"showMoreActionsLink\": false, \"resultNumber\": 12, \"jobStateChangedToSaved\": false, \"searchState\": \"q=data scientist $20,000&amp;l=New+York&amp;start=10\", \"basicPermaLink\": \"http://www.indeed.com\", \"saveJobFailed\": false, \"removeJobFailed\": false, \"requestPending\": false, \"notesEnabled\": false, \"currentPage\" : \"serp\", \"sponsored\" : true,\"reportJobButtonEnabled\": false, \"showMyJobsHired\": false, \"showSaveForSponsored\": false};</script></div></div>\\n<div class=\"tab-container\">\\n<div class=\"sign-in-container result-tab\"></div>\\n<div class=\"tellafriend-container result-tab email_job_content\"></div>\\n</div>\\n<span class=\"sdn\">Sponsored</span>\\n</div>,\n",
       " <div class=\" row result\" data-jk=\"d15912313ca5a5dd\" data-tn-component=\"organicJob\" id=\"p_d15912313ca5a5dd\" itemscope=\"\" itemtype=\"http://schema.org/JobPosting\">\\n<h2 class=\"jobtitle\" id=\"jl_d15912313ca5a5dd\">\\n<a class=\"turnstileLink\" data-tn-element=\"jobTitle\" href=\"/cmp/Insticator-Inc/jobs/Data-Analyst-Scientist-d15912313ca5a5dd?r=1&amp;fccid=bd01137100789a50\" itemprop=\"title\" onclick=\"setRefineByCookie(['salest']); return rclk(this,jobmap[0],true,0);\" onmousedown=\"return rclk(this,jobmap[0],0);\" rel=\"nofollow\" target=\"_blank\" title=\"Data Analyst/Scientist\"><b>Data</b> Analyst/<b>Scientist</b></a>\\n</h2>\\n<span class=\"company\" itemprop=\"hiringOrganization\" itemtype=\"http://schema.org/Organization\">\\n<span itemprop=\"name\">\\n    Insticator Inc</span>\\n</span>\\n\\n - <span itemprop=\"jobLocation\" itemscope=\"\" itemtype=\"http://schema.org/Place\"><span class=\"location\" itemprop=\"address\" itemscope=\"\" itemtype=\"http://schema.org/Postaladdress\"><span itemprop=\"addressLocality\">New York, NY 10018 <span style=\"font-size: smaller\">(Clinton area)</span></span></span></span>\\n<table border=\"0\" cellpadding=\"0\" cellspacing=\"0\">\\n<tr>\\n<td class=\"snip\">\\n<div>\\n<span class=\"summary\" itemprop=\"description\">\\nInsticator is seeking an innovative <b>Data</b> <b>Scientist</b> to join our New York team! Drive the collection of new <b>data</b> and the refinement of existing <b>data</b> sources....</span>\\n</div>\\n<div class=\"iaP\">\\n<span class=\"iaLabel\"> Easily apply</span>\\n</div><div class=\"result-link-bar-container\">\\n<div class=\"result-link-bar\"><span class=\"date\">25 days ago</span> <span class=\"tt_set\" id=\"tt_set_0\"> - <span class=\"savelink2\" id=\"savelink2_d15912313ca5a5dd\"><a class=\"sl resultLink save-job-link\" href=\"#\" id=\"sj_d15912313ca5a5dd\" onclick=\"changeJobState('d15912313ca5a5dd', 'save', 'linkbar', false);return false;\" title=\"Save this job to my.indeed\">save job</a></span> - <a class=\"sl resultLink more-link \" href=\"#\" id=\"tog_0\" onclick=\"toggleMoreLinks('d15912313ca5a5dd'); return false;\">more...</a></span><div class=\"edit_note_content\" id=\"editsaved2_d15912313ca5a5dd\" style=\"display:none;\"></div><script>window['result_d15912313ca5a5dd'] = {\"showSource\": false, \"source\": \"Indeed\", \"loggedIn\": false, \"showMyJobsLinks\": true,\"undoAction\": \"unsave\",\"relativeJobAge\": \"25 days ago\",\"jobKey\": \"d15912313ca5a5dd\", \"myIndeedAvailable\": true, \"tellAFriendEnabled\": false, \"showMoreActionsLink\": true, \"resultNumber\": 0, \"jobStateChangedToSaved\": false, \"searchState\": \"q=data scientist $20,000&amp;l=New+York&amp;start=10\", \"basicPermaLink\": \"http://www.indeed.com\", \"saveJobFailed\": false, \"removeJobFailed\": false, \"requestPending\": false, \"notesEnabled\": true, \"currentPage\" : \"serp\", \"sponsored\" : false,\"reportJobButtonEnabled\": false, \"showMyJobsHired\": false, \"showSaveForSponsored\": false};</script></div></div>\\n<div class=\"tab-container\">\\n<div class=\"more-links-container result-tab\" id=\"tt_display_0\" style=\"display:none;\"><a class=\"close-link closeLink\" href=\"#\" onclick=\"toggleMoreLinks('d15912313ca5a5dd'); return false;\" title=\"Close\"></a><div class=\"more_actions\" id=\"more_0\"><ul><li><span class=\"mat\">View all <a href=\"/jobs?q=Insticator+Inc&amp;l=New+York,+NY&amp;nc=jasx\" rel=\"nofollow\">Insticator Inc jobs in New York, NY</a> - <a href=\"/l-New-York,-NY-jobs.html\">New York jobs</a></span></li><li><span class=\"mat\">Salary Search: <a href=\"/salary?q1=Data+Analyst+Scientist&amp;l1=New+York%2C+NY\" onmousedown=\"this.href = appendParamsOnce(this.href, '');\">Data Analyst Scientist salaries in New York, NY</a></span></li><li><span class=\"mat\">Learn more about working at <a href=\"/cmp/Insticator-Inc-1\" onmousedown=\"this.href = appendParamsOnce(this.href, '?fromjk=d15912313ca5a5dd&amp;from=serp-more&amp;campaignid=serp-more&amp;jcid=530138f2f492230f');\">Insticator Inc</a></span></li><li><span class=\"mat\">Related forums: <a href=\"/forum/cmp/Insticator-Inc-1.html\">Insticator Inc</a> - <a href=\"/forum/loc/New-York-New-York.html\">New York, New York</a></span></li></ul></div></div><div class=\"dya-container result-tab\"></div>\\n<div class=\"tellafriend-container result-tab email_job_content\"></div>\\n<div class=\"sign-in-container result-tab\"></div>\\n<div class=\"notes-container result-tab\"></div>\\n</div>\\n</td>\\n</tr>\\n</table>\\n</div>,\n",
       " <div class=\" row result\" data-jk=\"42869c68a6aee139\" data-tn-component=\"organicJob\" id=\"p_42869c68a6aee139\" itemscope=\"\" itemtype=\"http://schema.org/JobPosting\">\\n<h2 class=\"jobtitle\" id=\"jl_42869c68a6aee139\">\\n<a class=\"turnstileLink\" data-tn-element=\"jobTitle\" href=\"/rc/clk?jk=42869c68a6aee139&amp;fccid=ef4ef175212ffb1e\" itemprop=\"title\" onclick=\"setRefineByCookie(['salest']); return rclk(this,jobmap[1],true,0);\" onmousedown=\"return rclk(this,jobmap[1],0);\" rel=\"nofollow\" target=\"_blank\" title=\"Senior Data Scientist\">Senior <b>Data</b> <b>Scientist</b></a>\\n</h2>\\n<span class=\"company\" itemprop=\"hiringOrganization\" itemtype=\"http://schema.org/Organization\">\\n<span itemprop=\"name\">\\n    Celmatix</span>\\n</span>\\n\\n - <span itemprop=\"jobLocation\" itemscope=\"\" itemtype=\"http://schema.org/Place\"><span class=\"location\" itemprop=\"address\" itemscope=\"\" itemtype=\"http://schema.org/Postaladdress\"><span itemprop=\"addressLocality\">New York, NY 10005 <span style=\"font-size: smaller\">(Financial District area)</span></span></span></span>\\n<table border=\"0\" cellpadding=\"0\" cellspacing=\"0\">\\n<tr>\\n<td class=\"snip\">\\n<div>\\n<span class=\"summary\" itemprop=\"description\">\\nWe seek a Senior <b>Data</b> <b>Scientist</b> with deep expertise working with large clinical datasets to join our growing statistical / machine learning team....</span>\\n</div>\\n<div class=\"result-link-bar-container\">\\n<div class=\"result-link-bar\"><span class=\"date\">25 days ago</span> <span class=\"tt_set\" id=\"tt_set_1\"> - <span class=\"savelink2\" id=\"savelink2_42869c68a6aee139\"><a class=\"sl resultLink save-job-link\" href=\"#\" id=\"sj_42869c68a6aee139\" onclick=\"changeJobState('42869c68a6aee139', 'save', 'linkbar', false);return false;\" title=\"Save this job to my.indeed\">save job</a></span> - <a class=\"sl resultLink more-link \" href=\"#\" id=\"tog_1\" onclick=\"toggleMoreLinks('42869c68a6aee139'); return false;\">more...</a></span><div class=\"edit_note_content\" id=\"editsaved2_42869c68a6aee139\" style=\"display:none;\"></div><script>window['result_42869c68a6aee139'] = {\"showSource\": false, \"source\": \"Celmatix\", \"loggedIn\": false, \"showMyJobsLinks\": true,\"undoAction\": \"unsave\",\"relativeJobAge\": \"25 days ago\",\"jobKey\": \"42869c68a6aee139\", \"myIndeedAvailable\": true, \"tellAFriendEnabled\": false, \"showMoreActionsLink\": true, \"resultNumber\": 1, \"jobStateChangedToSaved\": false, \"searchState\": \"q=data scientist $20,000&amp;l=New+York&amp;start=10\", \"basicPermaLink\": \"http://www.indeed.com\", \"saveJobFailed\": false, \"removeJobFailed\": false, \"requestPending\": false, \"notesEnabled\": true, \"currentPage\" : \"serp\", \"sponsored\" : false,\"reportJobButtonEnabled\": false, \"showMyJobsHired\": false, \"showSaveForSponsored\": false};</script></div></div>\\n<div class=\"tab-container\">\\n<div class=\"more-links-container result-tab\" id=\"tt_display_1\" style=\"display:none;\"><a class=\"close-link closeLink\" href=\"#\" onclick=\"toggleMoreLinks('42869c68a6aee139'); return false;\" title=\"Close\"></a><div class=\"more_actions\" id=\"more_1\"><ul><li><span class=\"mat\">View all <a href=\"/q-Celmatix-l-New-York,-NY-jobs.html\" rel=\"nofollow\">Celmatix jobs in New York, NY</a> - <a href=\"/l-New-York,-NY-jobs.html\">New York jobs</a></span></li><li><span class=\"mat\">Salary Search: <a href=\"/salary?q1=Senior+Data+Scientist&amp;l1=New+York%2C+NY\" onmousedown=\"this.href = appendParamsOnce(this.href, '');\">Senior Data Scientist salaries in New York, NY</a></span></li><li><span class=\"mat\">Related forums:  - <a href=\"/forum/loc/New-York-New-York.html\">New York, New York</a></span></li></ul></div></div><div class=\"dya-container result-tab\"></div>\\n<div class=\"tellafriend-container result-tab email_job_content\"></div>\\n<div class=\"sign-in-container result-tab\"></div>\\n<div class=\"notes-container result-tab\"></div>\\n</div>\\n</td>\\n</tr>\\n</table>\\n</div>,\n",
       " <div class=\" row result\" data-jk=\"a3c52dc488ab8429\" data-tn-component=\"organicJob\" id=\"p_a3c52dc488ab8429\" itemscope=\"\" itemtype=\"http://schema.org/JobPosting\">\\n<h2 class=\"jobtitle\" id=\"jl_a3c52dc488ab8429\">\\n<a class=\"turnstileLink\" data-tn-element=\"jobTitle\" href=\"/rc/clk?jk=a3c52dc488ab8429&amp;fccid=ded9605952442cb4\" itemprop=\"title\" onclick=\"setRefineByCookie(['salest']); return rclk(this,jobmap[2],true,0);\" onmousedown=\"return rclk(this,jobmap[2],0);\" rel=\"nofollow\" target=\"_blank\" title=\"Think Big Senior Data Scientist\">Think Big Senior <b>Data</b> <b>Scientist</b></a>\\n</h2>\\n<span class=\"company\" itemprop=\"hiringOrganization\" itemtype=\"http://schema.org/Organization\">\\n<span itemprop=\"name\">\\n<a href=\"/cmp/Teradata\" onmousedown=\"this.href = appendParamsOnce(this.href, 'from=SERP&amp;campaignid=serp-linkcompanyname&amp;fromjk=a3c52dc488ab8429&amp;jcid=ded9605952442cb4')\" target=\"_blank\">\\n        Teradata</a></span>\\n</span>\\n\\n - <a class=\"turnstileLink slNoUnderline \" data-tn-element=\"reviewStars\" data-tn-variant=\"cmplinktst2\" href=\"/cmp/Teradata/reviews\" onmousedown=\"this.href = appendParamsOnce(this.href, '?campaignid=cmplinktst2&amp;from=SERP&amp;jt=Think+Big+Senior+Data+Scientist&amp;fromjk=a3c52dc488ab8429&amp;jcid=ded9605952442cb4');\" target=\"_blank\" title=\"Teradata reviews\">\\n<span class=\"ratings\" style=\"height: 11px; line-height: 11px; background-image: url(/images/cmp/star_2_sm@2x.png); background-size: 12px 22px;width: 60px;\"><span class=\"rating\" style=\"height: 11px; line-height: 11px; background-image: url(/images/cmp/star_2_sm@2x.png); background-size: 12px 22px;background-position: 0 11px; width: 44.4px;\"><!-- --></span></span><span class=\"slNoUnderline\">81 reviews</span></a>\\n - <span itemprop=\"jobLocation\" itemscope=\"\" itemtype=\"http://schema.org/Place\"><span class=\"location\" itemprop=\"address\" itemscope=\"\" itemtype=\"http://schema.org/Postaladdress\"><span itemprop=\"addressLocality\">New York, NY</span></span></span>\\n<table border=\"0\" cellpadding=\"0\" cellspacing=\"0\">\\n<tr>\\n<td class=\"snip\">\\n<div>\\n<span class=\"summary\" itemprop=\"description\">\\nSenior <b>Data</b> <b>Scientist</b>. Senior <b>Data</b> <b>Scientist</b>, you will:. Ideal Senior <b>Data</b> <b>Scientist</b> candidates have. Insights from big <b>data</b>....</span>\\n</div>\\n<div class=\"result-link-bar-container\">\\n<div class=\"result-link-bar\"><span class=\"date\">21 days ago</span> <span class=\"tt_set\" id=\"tt_set_2\"> - <span class=\"savelink2\" id=\"savelink2_a3c52dc488ab8429\"><a class=\"sl resultLink save-job-link\" href=\"#\" id=\"sj_a3c52dc488ab8429\" onclick=\"changeJobState('a3c52dc488ab8429', 'save', 'linkbar', false);return false;\" title=\"Save this job to my.indeed\">save job</a></span> - <a class=\"sl resultLink more-link \" href=\"#\" id=\"tog_2\" onclick=\"toggleMoreLinks('a3c52dc488ab8429'); return false;\">more...</a></span><div class=\"edit_note_content\" id=\"editsaved2_a3c52dc488ab8429\" style=\"display:none;\"></div><script>window['result_a3c52dc488ab8429'] = {\"showSource\": false, \"source\": \"Teradata\", \"loggedIn\": false, \"showMyJobsLinks\": true,\"undoAction\": \"unsave\",\"relativeJobAge\": \"21 days ago\",\"jobKey\": \"a3c52dc488ab8429\", \"myIndeedAvailable\": true, \"tellAFriendEnabled\": false, \"showMoreActionsLink\": true, \"resultNumber\": 2, \"jobStateChangedToSaved\": false, \"searchState\": \"q=data scientist $20,000&amp;l=New+York&amp;start=10\", \"basicPermaLink\": \"http://www.indeed.com\", \"saveJobFailed\": false, \"removeJobFailed\": false, \"requestPending\": false, \"notesEnabled\": true, \"currentPage\" : \"serp\", \"sponsored\" : false,\"reportJobButtonEnabled\": false, \"showMyJobsHired\": false, \"showSaveForSponsored\": false};</script></div></div>\\n<div class=\"tab-container\">\\n<div class=\"more-links-container result-tab\" id=\"tt_display_2\" style=\"display:none;\"><a class=\"close-link closeLink\" href=\"#\" onclick=\"toggleMoreLinks('a3c52dc488ab8429'); return false;\" title=\"Close\"></a><div class=\"more_actions\" id=\"more_2\"><ul><li><span class=\"mat\">View all <a href=\"/q-Teradata-l-New-York,-NY-jobs.html\" rel=\"nofollow\">Teradata jobs in New York, NY</a> - <a href=\"/l-New-York,-NY-jobs.html\">New York jobs</a></span></li><li><span class=\"mat\">Salary Search: <a href=\"/salary?q1=Think+Big+Senior+Data+Scientist&amp;l1=New+York%2C+NY\" onmousedown=\"this.href = appendParamsOnce(this.href, '');\">Think Big Senior Data Scientist salaries in New York, NY</a></span></li><li><span class=\"mat\">Learn more about working at <a href=\"/cmp/Teradata\" onmousedown=\"this.href = appendParamsOnce(this.href, '?fromjk=a3c52dc488ab8429&amp;from=serp-more&amp;campaignid=serp-more&amp;jcid=ded9605952442cb4');\">Teradata</a></span></li><li><span class=\"mat\">Related forums: <a href=\"/forum/cmp/Teradata.html\">Teradata</a> - <a href=\"/forum/loc/New-York-New-York.html\">New York, New York</a></span></li></ul></div></div><div class=\"dya-container result-tab\"></div>\\n<div class=\"tellafriend-container result-tab email_job_content\"></div>\\n<div class=\"sign-in-container result-tab\"></div>\\n<div class=\"notes-container result-tab\"></div>\\n</div>\\n</td>\\n</tr>\\n</table>\\n</div>,\n",
       " <div class=\" row result\" data-jk=\"b413001074fca827\" data-tn-component=\"organicJob\" id=\"p_b413001074fca827\" itemscope=\"\" itemtype=\"http://schema.org/JobPosting\">\\n<h2 class=\"jobtitle\" id=\"jl_b413001074fca827\">\\n<a class=\"turnstileLink\" data-tn-element=\"jobTitle\" href=\"/rc/clk?jk=b413001074fca827&amp;fccid=d72eb0548d91249c\" itemprop=\"title\" onclick=\"setRefineByCookie(['salest']); return rclk(this,jobmap[3],true,1);\" onmousedown=\"return rclk(this,jobmap[3],1);\" rel=\"nofollow\" target=\"_blank\" title=\"Senior Data Scientist - Bio-tech\">Senior <b>Data</b> <b>Scientist</b> - Bio-tech</a>\\n</h2>\\n<span class=\"company\" itemprop=\"hiringOrganization\" itemtype=\"http://schema.org/Organization\">\\n<span itemprop=\"name\">\\n    Harnham</span>\\n</span>\\n\\n - <span itemprop=\"jobLocation\" itemscope=\"\" itemtype=\"http://schema.org/Place\"><span class=\"location\" itemprop=\"address\" itemscope=\"\" itemtype=\"http://schema.org/Postaladdress\"><span itemprop=\"addressLocality\">New York, NY</span></span></span>\\n<table border=\"0\" cellpadding=\"0\" cellspacing=\"0\">\\n<tr>\\n<td class=\"snip\">\\n<nobr>$170,000 a year</nobr>\\n<div>\\n<span class=\"summary\" itemprop=\"description\">\\nSenior <b>Data</b> <b>Scientist</b> - Bio-tech. Senior <b>Data</b> <b>Scientist</b> | <b>Data</b> <b>Scientist</b> | Bio-tech | Biostatistics | Computer Science | Machine Learning....</span>\\n</div>\\n<div class=\"result-link-bar-container\">\\n<div class=\"result-link-bar\"><span class=\"date\">2 days ago</span> <span class=\"tt_set\" id=\"tt_set_3\"> - <span class=\"savelink2\" id=\"savelink2_b413001074fca827\"><a class=\"sl resultLink save-job-link\" href=\"#\" id=\"sj_b413001074fca827\" onclick=\"changeJobState('b413001074fca827', 'save', 'linkbar', false);return false;\" title=\"Save this job to my.indeed\">save job</a></span> - <a class=\"sl resultLink more-link \" href=\"#\" id=\"tog_3\" onclick=\"toggleMoreLinks('b413001074fca827'); return false;\">more...</a></span><div class=\"edit_note_content\" id=\"editsaved2_b413001074fca827\" style=\"display:none;\"></div><script>window['result_b413001074fca827'] = {\"showSource\": false, \"source\": \"Harnham\", \"loggedIn\": false, \"showMyJobsLinks\": true,\"undoAction\": \"unsave\",\"relativeJobAge\": \"2 days ago\",\"jobKey\": \"b413001074fca827\", \"myIndeedAvailable\": true, \"tellAFriendEnabled\": false, \"showMoreActionsLink\": true, \"resultNumber\": 3, \"jobStateChangedToSaved\": false, \"searchState\": \"q=data scientist $20,000&amp;l=New+York&amp;start=10\", \"basicPermaLink\": \"http://www.indeed.com\", \"saveJobFailed\": false, \"removeJobFailed\": false, \"requestPending\": false, \"notesEnabled\": true, \"currentPage\" : \"serp\", \"sponsored\" : false,\"reportJobButtonEnabled\": false, \"showMyJobsHired\": false, \"showSaveForSponsored\": false};</script></div></div>\\n<div class=\"tab-container\">\\n<div class=\"more-links-container result-tab\" id=\"tt_display_3\" style=\"display:none;\"><a class=\"close-link closeLink\" href=\"#\" onclick=\"toggleMoreLinks('b413001074fca827'); return false;\" title=\"Close\"></a><div class=\"more_actions\" id=\"more_3\"><ul><li><span class=\"mat\">View all <a href=\"/q-Harnham-l-New-York,-NY-jobs.html\" rel=\"nofollow\">Harnham jobs in New York, NY</a> - <a href=\"/l-New-York,-NY-jobs.html\">New York jobs</a></span></li><li><span class=\"mat\">Salary Search: <a href=\"/salary?q1=Senior+Data+Scientist&amp;l1=New+York%2C+NY\" onmousedown=\"this.href = appendParamsOnce(this.href, '');\">Senior Data Scientist salaries in New York, NY</a></span></li><li><span class=\"mat\">Learn more about working at <a href=\"/cmp/Harnham\" onmousedown=\"this.href = appendParamsOnce(this.href, '?fromjk=b413001074fca827&amp;from=serp-more&amp;campaignid=serp-more&amp;jcid=d72eb0548d91249c');\">Harnham</a></span></li><li><span class=\"mat\">Related forums:  - <a href=\"/forum/loc/New-York-New-York.html\">New York, New York</a> - <a href=\"/forum/cmp/Harnham.html\">Harnham</a></span></li></ul></div></div><div class=\"dya-container result-tab\"></div>\\n<div class=\"tellafriend-container result-tab email_job_content\"></div>\\n<div class=\"sign-in-container result-tab\"></div>\\n<div class=\"notes-container result-tab\"></div>\\n</div>\\n</td>\\n</tr>\\n</table>\\n</div>,\n",
       " <div class=\" row result\" data-jk=\"1799cc27639d066b\" data-tn-component=\"organicJob\" id=\"p_1799cc27639d066b\" itemscope=\"\" itemtype=\"http://schema.org/JobPosting\">\\n<h2 class=\"jobtitle\" id=\"jl_1799cc27639d066b\">\\n<a class=\"turnstileLink\" data-tn-element=\"jobTitle\" href=\"/rc/clk?jk=1799cc27639d066b&amp;fccid=e6c09b7b372e9b48\" itemprop=\"title\" onclick=\"setRefineByCookie(['salest']); return rclk(this,jobmap[4],true,0);\" onmousedown=\"return rclk(this,jobmap[4],0);\" rel=\"nofollow\" target=\"_blank\" title=\"Senior Data Scientist\">Senior <b>Data</b> <b>Scientist</b></a>\\n</h2>\\n<span class=\"company\" itemprop=\"hiringOrganization\" itemtype=\"http://schema.org/Organization\">\\n<span itemprop=\"name\">\\n<a href=\"/cmp/Capital-Group-Companies\" onmousedown=\"this.href = appendParamsOnce(this.href, 'from=SERP&amp;campaignid=serp-linkcompanyname&amp;fromjk=1799cc27639d066b&amp;jcid=04c4d5d87ff27beb')\" target=\"_blank\">\\n        Capital Group</a></span>\\n</span>\\n\\n - <a class=\"turnstileLink slNoUnderline \" data-tn-element=\"reviewStars\" data-tn-variant=\"cmplinktst2\" href=\"/cmp/Capital-Group-Companies/reviews\" onmousedown=\"this.href = appendParamsOnce(this.href, '?campaignid=cmplinktst2&amp;from=SERP&amp;jt=Senior+Data+Scientist&amp;fromjk=1799cc27639d066b&amp;jcid=04c4d5d87ff27beb');\" target=\"_blank\" title=\"Capital Group reviews\">\\n<span class=\"ratings\" style=\"height: 11px; line-height: 11px; background-image: url(/images/cmp/star_2_sm@2x.png); background-size: 12px 22px;width: 60px;\"><span class=\"rating\" style=\"height: 11px; line-height: 11px; background-image: url(/images/cmp/star_2_sm@2x.png); background-size: 12px 22px;background-position: 0 11px; width: 51.0px;\"><!-- --></span></span><span class=\"slNoUnderline\">117 reviews</span></a>\\n - <span itemprop=\"jobLocation\" itemscope=\"\" itemtype=\"http://schema.org/Place\"><span class=\"location\" itemprop=\"address\" itemscope=\"\" itemtype=\"http://schema.org/Postaladdress\"><span itemprop=\"addressLocality\">New York, NY 10111 <span style=\"font-size: smaller\">(Midtown area)</span></span></span></span>\\n<table border=\"0\" cellpadding=\"0\" cellspacing=\"0\">\\n<tr>\\n<td class=\"snip\">\\n<div>\\n<span class=\"summary\" itemprop=\"description\">\\nBased in New York or Los Angeles, as a Senior <b>Data</b> <b>Scientist</b>, you should be experienced with and passionate about using <b>data</b> to drive business strategy,...</span>\\n</div>\\n<div class=\"result-link-bar-container\">\\n<div class=\"result-link-bar\"><span class=\"result-link-source\">Capital Group Companies </span>- <span class=\"date\">16 days ago</span> <span class=\"tt_set\" id=\"tt_set_4\"> - <span class=\"savelink2\" id=\"savelink2_1799cc27639d066b\"><a class=\"sl resultLink save-job-link\" href=\"#\" id=\"sj_1799cc27639d066b\" onclick=\"changeJobState('1799cc27639d066b', 'save', 'linkbar', false);return false;\" title=\"Save this job to my.indeed\">save job</a></span> - <a class=\"sl resultLink more-link \" href=\"#\" id=\"tog_4\" onclick=\"toggleMoreLinks('1799cc27639d066b'); return false;\">more...</a></span><div class=\"edit_note_content\" id=\"editsaved2_1799cc27639d066b\" style=\"display:none;\"></div><script>window['result_1799cc27639d066b'] = {\"showSource\": true, \"source\": \"Capital Group Companies\", \"loggedIn\": false, \"showMyJobsLinks\": true,\"undoAction\": \"unsave\",\"relativeJobAge\": \"16 days ago\",\"jobKey\": \"1799cc27639d066b\", \"myIndeedAvailable\": true, \"tellAFriendEnabled\": false, \"showMoreActionsLink\": true, \"resultNumber\": 4, \"jobStateChangedToSaved\": false, \"searchState\": \"q=data scientist $20,000&amp;l=New+York&amp;start=10\", \"basicPermaLink\": \"http://www.indeed.com\", \"saveJobFailed\": false, \"removeJobFailed\": false, \"requestPending\": false, \"notesEnabled\": true, \"currentPage\" : \"serp\", \"sponsored\" : false,\"reportJobButtonEnabled\": false, \"showMyJobsHired\": false, \"showSaveForSponsored\": false};</script></div></div>\\n<div class=\"tab-container\">\\n<div class=\"more-links-container result-tab\" id=\"tt_display_4\" style=\"display:none;\"><a class=\"close-link closeLink\" href=\"#\" onclick=\"toggleMoreLinks('1799cc27639d066b'); return false;\" title=\"Close\"></a><div class=\"more_actions\" id=\"more_4\"><ul><li><span class=\"mat\">View all <a href=\"/q-Capital-Group-l-New-York,-NY-jobs.html\" rel=\"nofollow\">Capital Group jobs in New York, NY</a> - <a href=\"/l-New-York,-NY-jobs.html\">New York jobs</a></span></li><li><span class=\"mat\">Salary Search: <a href=\"/salary?q1=Senior+Data+Scientist&amp;l1=New+York%2C+NY\" onmousedown=\"this.href = appendParamsOnce(this.href, '');\">Senior Data Scientist salaries in New York, NY</a></span></li><li><span class=\"mat\">Learn more about working at <a href=\"/cmp/Capital-Group-Companies\" onmousedown=\"this.href = appendParamsOnce(this.href, '?fromjk=1799cc27639d066b&amp;from=serp-more&amp;campaignid=serp-more&amp;jcid=04c4d5d87ff27beb');\">Capital Group</a></span></li><li><span class=\"mat\">Related forums: <a href=\"/forum/cmp/Capital-Group-Companies.html\">Capital Group Companies</a> - <a href=\"/forum/loc/New-York-New-York.html\">New York, New York</a></span></li></ul></div></div><div class=\"dya-container result-tab\"></div>\\n<div class=\"tellafriend-container result-tab email_job_content\"></div>\\n<div class=\"sign-in-container result-tab\"></div>\\n<div class=\"notes-container result-tab\"></div>\\n</div>\\n</td>\\n</tr>\\n</table>\\n</div>,\n",
       " <div class=\" row result\" data-jk=\"8b83a7148b5b8855\" data-tn-component=\"organicJob\" id=\"p_8b83a7148b5b8855\" itemscope=\"\" itemtype=\"http://schema.org/JobPosting\">\\n<h2 class=\"jobtitle\" id=\"jl_8b83a7148b5b8855\">\\n<a class=\"turnstileLink\" data-tn-element=\"jobTitle\" href=\"/rc/clk?jk=8b83a7148b5b8855&amp;fccid=fe404d18bb9eef1e\" itemprop=\"title\" onclick=\"setRefineByCookie(['salest']); return rclk(this,jobmap[5],true,0);\" onmousedown=\"return rclk(this,jobmap[5],0);\" rel=\"nofollow\" target=\"_blank\" title=\"Senior Data Scientist (Finance Analytics)\">Senior <b>Data</b> <b>Scientist</b> (Finance Analytics)</a>\\n</h2>\\n<span class=\"company\" itemprop=\"hiringOrganization\" itemtype=\"http://schema.org/Organization\">\\n<span itemprop=\"name\">\\n<a href=\"/cmp/Spotify\" onmousedown=\"this.href = appendParamsOnce(this.href, 'from=SERP&amp;campaignid=serp-linkcompanyname&amp;fromjk=8b83a7148b5b8855&amp;jcid=fe404d18bb9eef1e')\" target=\"_blank\">\\n        Spotify</a></span>\\n</span>\\n\\n - <a class=\"turnstileLink slNoUnderline \" data-tn-element=\"reviewStars\" data-tn-variant=\"cmplinktst2\" href=\"/cmp/Spotify/reviews\" onmousedown=\"this.href = appendParamsOnce(this.href, '?campaignid=cmplinktst2&amp;from=SERP&amp;jt=Senior+Data+Scientist+%28Finance+Analytics%29&amp;fromjk=8b83a7148b5b8855&amp;jcid=fe404d18bb9eef1e');\" target=\"_blank\" title=\"Spotify reviews\">\\n<span class=\"ratings\" style=\"height: 11px; line-height: 11px; background-image: url(/images/cmp/star_2_sm@2x.png); background-size: 12px 22px;width: 60px;\"><span class=\"rating\" style=\"height: 11px; line-height: 11px; background-image: url(/images/cmp/star_2_sm@2x.png); background-size: 12px 22px;background-position: 0 11px; width: 54.6px;\"><!-- --></span></span><span class=\"slNoUnderline\">13 reviews</span></a>\\n - <span itemprop=\"jobLocation\" itemscope=\"\" itemtype=\"http://schema.org/Place\"><span class=\"location\" itemprop=\"address\" itemscope=\"\" itemtype=\"http://schema.org/Postaladdress\"><span itemprop=\"addressLocality\">New York, NY 10011 <span style=\"font-size: smaller\">(Chelsea area)</span></span></span></span>\\n<table border=\"0\" cellpadding=\"0\" cellspacing=\"0\">\\n<tr>\\n<td class=\"snip\">\\n<div>\\n<span class=\"summary\" itemprop=\"description\">\\nSenior <b>Data</b> <b>Scientist</b> (Finance). <b>Data</b> <b>Scientist</b> to join our Finance Analytics team in New York. A strong understanding of dimensional warehouse <b>data</b> models....</span>\\n</div>\\n<div class=\"result-link-bar-container\">\\n<div class=\"result-link-bar\"><span class=\"date\">12 days ago</span> <span class=\"tt_set\" id=\"tt_set_5\"> - <span class=\"savelink2\" id=\"savelink2_8b83a7148b5b8855\"><a class=\"sl resultLink save-job-link\" href=\"#\" id=\"sj_8b83a7148b5b8855\" onclick=\"changeJobState('8b83a7148b5b8855', 'save', 'linkbar', false);return false;\" title=\"Save this job to my.indeed\">save job</a></span> - <a class=\"sl resultLink more-link \" href=\"#\" id=\"tog_5\" onclick=\"toggleMoreLinks('8b83a7148b5b8855'); return false;\">more...</a></span><div class=\"edit_note_content\" id=\"editsaved2_8b83a7148b5b8855\" style=\"display:none;\"></div><script>window['result_8b83a7148b5b8855'] = {\"showSource\": false, \"source\": \"Spotify\", \"loggedIn\": false, \"showMyJobsLinks\": true,\"undoAction\": \"unsave\",\"relativeJobAge\": \"12 days ago\",\"jobKey\": \"8b83a7148b5b8855\", \"myIndeedAvailable\": true, \"tellAFriendEnabled\": false, \"showMoreActionsLink\": true, \"resultNumber\": 5, \"jobStateChangedToSaved\": false, \"searchState\": \"q=data scientist $20,000&amp;l=New+York&amp;start=10\", \"basicPermaLink\": \"http://www.indeed.com\", \"saveJobFailed\": false, \"removeJobFailed\": false, \"requestPending\": false, \"notesEnabled\": true, \"currentPage\" : \"serp\", \"sponsored\" : false,\"reportJobButtonEnabled\": false, \"showMyJobsHired\": false, \"showSaveForSponsored\": false};</script></div></div>\\n<div class=\"tab-container\">\\n<div class=\"more-links-container result-tab\" id=\"tt_display_5\" style=\"display:none;\"><a class=\"close-link closeLink\" href=\"#\" onclick=\"toggleMoreLinks('8b83a7148b5b8855'); return false;\" title=\"Close\"></a><div class=\"more_actions\" id=\"more_5\"><ul><li><span class=\"mat\">View all <a href=\"/q-Spotify-l-New-York,-NY-jobs.html\" rel=\"nofollow\">Spotify jobs in New York, NY</a> - <a href=\"/l-New-York,-NY-jobs.html\">New York jobs</a></span></li><li><span class=\"mat\">Salary Search: <a href=\"/salary?q1=Senior+Data+Scientist&amp;l1=New+York%2C+NY\" onmousedown=\"this.href = appendParamsOnce(this.href, '');\">Senior Data Scientist salaries in New York, NY</a></span></li><li><span class=\"mat\">Learn more about working at <a href=\"/cmp/Spotify\" onmousedown=\"this.href = appendParamsOnce(this.href, '?fromjk=8b83a7148b5b8855&amp;from=serp-more&amp;campaignid=serp-more&amp;jcid=fe404d18bb9eef1e');\">Spotify</a></span></li><li><span class=\"mat\">Related forums: <a href=\"/forum/cmp/Spotify.html\">Spotify</a> - <a href=\"/forum/loc/New-York-New-York.html\">New York, New York</a></span></li></ul></div></div><div class=\"dya-container result-tab\"></div>\\n<div class=\"tellafriend-container result-tab email_job_content\"></div>\\n<div class=\"sign-in-container result-tab\"></div>\\n<div class=\"notes-container result-tab\"></div>\\n</div>\\n</td>\\n</tr>\\n</table>\\n</div>,\n",
       " <div class=\" row result\" data-jk=\"49affc54c7b47fb3\" data-tn-component=\"organicJob\" id=\"p_49affc54c7b47fb3\" itemscope=\"\" itemtype=\"http://schema.org/JobPosting\">\\n<h2 class=\"jobtitle\" id=\"jl_49affc54c7b47fb3\">\\n<a class=\"turnstileLink\" data-tn-element=\"jobTitle\" href=\"/rc/clk?jk=49affc54c7b47fb3&amp;fccid=93b6104db54859ec\" itemprop=\"title\" onclick=\"setRefineByCookie(['salest']); return rclk(this,jobmap[6],true,0);\" onmousedown=\"return rclk(this,jobmap[6],0);\" rel=\"nofollow\" target=\"_blank\" title=\"Sr. Data Scientist\">Sr. <b>Data</b> <b>Scientist</b></a>\\n</h2>\\n<span class=\"company\" itemprop=\"hiringOrganization\" itemtype=\"http://schema.org/Organization\">\\n<span itemprop=\"name\">\\n<a href=\"/cmp/Pulsepoint\" onmousedown=\"this.href = appendParamsOnce(this.href, 'from=SERP&amp;campaignid=serp-linkcompanyname&amp;fromjk=49affc54c7b47fb3&amp;jcid=93b6104db54859ec')\" target=\"_blank\">\\n        PulsePoint</a></span>\\n</span>\\n\\n - <a class=\"turnstileLink slNoUnderline \" data-tn-element=\"reviewStars\" data-tn-variant=\"cmplinktst2\" href=\"/cmp/Pulsepoint/reviews\" onmousedown=\"this.href = appendParamsOnce(this.href, '?campaignid=cmplinktst2&amp;from=SERP&amp;jt=Sr.+Data+Scientist&amp;fromjk=49affc54c7b47fb3&amp;jcid=93b6104db54859ec');\" target=\"_blank\" title=\"Pulsepoint reviews\">\\n<span class=\"ratings\" style=\"height: 11px; line-height: 11px; background-image: url(/images/cmp/star_2_sm@2x.png); background-size: 12px 22px;width: 60px;\"><span class=\"rating\" style=\"height: 11px; line-height: 11px; background-image: url(/images/cmp/star_2_sm@2x.png); background-size: 12px 22px;background-position: 0 11px; width: 43.2px;\"><!-- --></span></span><span class=\"slNoUnderline\">7 reviews</span></a>\\n - <span itemprop=\"jobLocation\" itemscope=\"\" itemtype=\"http://schema.org/Place\"><span class=\"location\" itemprop=\"address\" itemscope=\"\" itemtype=\"http://schema.org/Postaladdress\"><span itemprop=\"addressLocality\">New York, NY</span></span></span>\\n<table border=\"0\" cellpadding=\"0\" cellspacing=\"0\">\\n<tr>\\n<td class=\"snip\">\\n<div>\\n<span class=\"summary\" itemprop=\"description\">\\n3+ Years as a <b>Data</b> <b>Scientist</b>, preferable in the Digital Advertising/Media Space. Experience in <b>data</b> product development....</span>\\n</div>\\n<div class=\"iaP\">\\n<span class=\"iaLabel\"> Easily apply</span>\\n</div><div class=\"result-link-bar-container\">\\n<div class=\"result-link-bar\"><span class=\"date\">30+ days ago</span> <span class=\"tt_set\" id=\"tt_set_6\"> - <span class=\"savelink2\" id=\"savelink2_49affc54c7b47fb3\"><a class=\"sl resultLink save-job-link\" href=\"#\" id=\"sj_49affc54c7b47fb3\" onclick=\"changeJobState('49affc54c7b47fb3', 'save', 'linkbar', false);return false;\" title=\"Save this job to my.indeed\">save job</a></span> - <a class=\"sl resultLink more-link \" href=\"#\" id=\"tog_6\" onclick=\"toggleMoreLinks('49affc54c7b47fb3'); return false;\">more...</a></span><div class=\"edit_note_content\" id=\"editsaved2_49affc54c7b47fb3\" style=\"display:none;\"></div><script>window['result_49affc54c7b47fb3'] = {\"showSource\": false, \"source\": \"PulsePoint\", \"loggedIn\": false, \"showMyJobsLinks\": true,\"undoAction\": \"unsave\",\"relativeJobAge\": \"30+ days ago\",\"jobKey\": \"49affc54c7b47fb3\", \"myIndeedAvailable\": true, \"tellAFriendEnabled\": false, \"showMoreActionsLink\": true, \"resultNumber\": 6, \"jobStateChangedToSaved\": false, \"searchState\": \"q=data scientist $20,000&amp;l=New+York&amp;start=10\", \"basicPermaLink\": \"http://www.indeed.com\", \"saveJobFailed\": false, \"removeJobFailed\": false, \"requestPending\": false, \"notesEnabled\": true, \"currentPage\" : \"serp\", \"sponsored\" : false,\"reportJobButtonEnabled\": false, \"showMyJobsHired\": false, \"showSaveForSponsored\": false};</script></div></div>\\n<div class=\"tab-container\">\\n<div class=\"more-links-container result-tab\" id=\"tt_display_6\" style=\"display:none;\"><a class=\"close-link closeLink\" href=\"#\" onclick=\"toggleMoreLinks('49affc54c7b47fb3'); return false;\" title=\"Close\"></a><div class=\"more_actions\" id=\"more_6\"><ul><li><span class=\"mat\">View all <a href=\"/q-Pulsepoint-l-New-York,-NY-jobs.html\" rel=\"nofollow\">PulsePoint jobs in New York, NY</a> - <a href=\"/l-New-York,-NY-jobs.html\">New York jobs</a></span></li><li><span class=\"mat\">Salary Search: <a href=\"/salary?q1=Senior+Data+Scientist&amp;l1=New+York%2C+NY\" onmousedown=\"this.href = appendParamsOnce(this.href, '');\">Senior Data Scientist salaries in New York, NY</a></span></li><li><span class=\"mat\">Learn more about working at <a href=\"/cmp/Pulsepoint\" onmousedown=\"this.href = appendParamsOnce(this.href, '?fromjk=49affc54c7b47fb3&amp;from=serp-more&amp;campaignid=serp-more&amp;jcid=93b6104db54859ec');\">Pulsepoint</a></span></li><li><span class=\"mat\">Related forums:  - <a href=\"/forum/cmp/Pulsepoint.html\">PulsePoint</a> - <a href=\"/forum/loc/New-York-New-York.html\">New York, New York</a></span></li></ul></div></div><div class=\"dya-container result-tab\"></div>\\n<div class=\"tellafriend-container result-tab email_job_content\"></div>\\n<div class=\"sign-in-container result-tab\"></div>\\n<div class=\"notes-container result-tab\"></div>\\n</div>\\n</td>\\n</tr>\\n</table>\\n</div>,\n",
       " <div class=\" row result\" data-jk=\"0da6ff7e4f74b9a4\" data-tn-component=\"organicJob\" id=\"p_0da6ff7e4f74b9a4\" itemscope=\"\" itemtype=\"http://schema.org/JobPosting\">\\n<h2 class=\"jobtitle\" id=\"jl_0da6ff7e4f74b9a4\">\\n<a class=\"turnstileLink\" data-tn-element=\"jobTitle\" href=\"/rc/clk?jk=0da6ff7e4f74b9a4&amp;fccid=1b5614d5a9ded7e8\" itemprop=\"title\" onclick=\"setRefineByCookie(['salest']); return rclk(this,jobmap[7],true,1);\" onmousedown=\"return rclk(this,jobmap[7],1);\" rel=\"nofollow\" target=\"_blank\" title=\"Senior / Director Data Science\">Senior / Director <b>Data</b> Science</a>\\n</h2>\\n<span class=\"company\" itemprop=\"hiringOrganization\" itemtype=\"http://schema.org/Organization\">\\n<span itemprop=\"name\">\\n    Beeswax</span>\\n</span>\\n\\n - <span itemprop=\"jobLocation\" itemscope=\"\" itemtype=\"http://schema.org/Place\"><span class=\"location\" itemprop=\"address\" itemscope=\"\" itemtype=\"http://schema.org/Postaladdress\"><span itemprop=\"addressLocality\">New York, NY</span></span></span>\\n<table border=\"0\" cellpadding=\"0\" cellspacing=\"0\">\\n<tr>\\n<td class=\"snip\">\\n<nobr>$130,000 - $165,000 a year</nobr>\\n<div>\\n<span class=\"summary\" itemprop=\"description\">\\nA minimum of 5 years experience in Machine learning, large-scale <b>data</b> mining, or applied <b>data</b> science. We\\u2019re seeking a senior <b>data</b> <b>scientist</b> in New York City to...</span>\\n</div>\\n<div class=\"iaP\">\\n<span class=\"iaLabel\"> Easily apply</span>\\n</div><div class=\"result-link-bar-container\">\\n<div class=\"result-link-bar\"><span class=\"date\">30+ days ago</span> <span class=\"tt_set\" id=\"tt_set_7\"> - <span class=\"savelink2\" id=\"savelink2_0da6ff7e4f74b9a4\"><a class=\"sl resultLink save-job-link\" href=\"#\" id=\"sj_0da6ff7e4f74b9a4\" onclick=\"changeJobState('0da6ff7e4f74b9a4', 'save', 'linkbar', false);return false;\" title=\"Save this job to my.indeed\">save job</a></span> - <a class=\"sl resultLink more-link \" href=\"#\" id=\"tog_7\" onclick=\"toggleMoreLinks('0da6ff7e4f74b9a4'); return false;\">more...</a></span><div class=\"edit_note_content\" id=\"editsaved2_0da6ff7e4f74b9a4\" style=\"display:none;\"></div><script>window['result_0da6ff7e4f74b9a4'] = {\"showSource\": false, \"source\": \"Beeswax\", \"loggedIn\": false, \"showMyJobsLinks\": true,\"undoAction\": \"unsave\",\"relativeJobAge\": \"30+ days ago\",\"jobKey\": \"0da6ff7e4f74b9a4\", \"myIndeedAvailable\": true, \"tellAFriendEnabled\": false, \"showMoreActionsLink\": true, \"resultNumber\": 7, \"jobStateChangedToSaved\": false, \"searchState\": \"q=data scientist $20,000&amp;l=New+York&amp;start=10\", \"basicPermaLink\": \"http://www.indeed.com\", \"saveJobFailed\": false, \"removeJobFailed\": false, \"requestPending\": false, \"notesEnabled\": true, \"currentPage\" : \"serp\", \"sponsored\" : false,\"reportJobButtonEnabled\": false, \"showMyJobsHired\": false, \"showSaveForSponsored\": false};</script></div></div>\\n<div class=\"tab-container\">\\n<div class=\"more-links-container result-tab\" id=\"tt_display_7\" style=\"display:none;\"><a class=\"close-link closeLink\" href=\"#\" onclick=\"toggleMoreLinks('0da6ff7e4f74b9a4'); return false;\" title=\"Close\"></a><div class=\"more_actions\" id=\"more_7\"><ul><li><span class=\"mat\">View all <a href=\"/q-Beeswax-l-New-York,-NY-jobs.html\" rel=\"nofollow\">Beeswax jobs in New York, NY</a> - <a href=\"/l-New-York,-NY-jobs.html\">New York jobs</a></span></li><li><span class=\"mat\">Salary Search: <a href=\"/salary?q1=Senior&amp;l1=New+York%2C+NY\" onmousedown=\"this.href = appendParamsOnce(this.href, '');\">Senior salaries in New York, NY</a></span></li><li><span class=\"mat\">Related forums: <a href=\"/forum/cmp/Beeswax.html\">BEESWAX</a> - <a href=\"/forum/loc/New-York-New-York.html\">New York, New York</a></span></li></ul></div></div><div class=\"dya-container result-tab\"></div>\\n<div class=\"tellafriend-container result-tab email_job_content\"></div>\\n<div class=\"sign-in-container result-tab\"></div>\\n<div class=\"notes-container result-tab\"></div>\\n</div>\\n</td>\\n</tr>\\n</table>\\n</div>,\n",
       " <div class=\" row result\" data-jk=\"10d8652e3f314988\" data-tn-component=\"organicJob\" id=\"p_10d8652e3f314988\" itemscope=\"\" itemtype=\"http://schema.org/JobPosting\">\\n<h2 class=\"jobtitle\" id=\"jl_10d8652e3f314988\">\\n<a class=\"turnstileLink\" data-tn-element=\"jobTitle\" href=\"/rc/clk?jk=10d8652e3f314988&amp;fccid=509b41ab0d70d142\" itemprop=\"title\" onclick=\"setRefineByCookie(['salest']); return rclk(this,jobmap[8],true,0);\" onmousedown=\"return rclk(this,jobmap[8],0);\" rel=\"nofollow\" target=\"_blank\" title=\"Data Engineer \\u2013 Spark / NoSQL\"><b>Data</b> Engineer \\u2013 Spark / NoSQL</a>\\n</h2>\\n<span class=\"company\" itemprop=\"hiringOrganization\" itemtype=\"http://schema.org/Organization\">\\n<span itemprop=\"name\">\\n    TechPeople</span>\\n</span>\\n\\n - <span itemprop=\"jobLocation\" itemscope=\"\" itemtype=\"http://schema.org/Place\"><span class=\"location\" itemprop=\"address\" itemscope=\"\" itemtype=\"http://schema.org/Postaladdress\"><span itemprop=\"addressLocality\">New York, NY</span></span></span>\\n<table border=\"0\" cellpadding=\"0\" cellspacing=\"0\">\\n<tr>\\n<td class=\"snip\">\\n<div>\\n<span class=\"summary\" itemprop=\"description\">\\nWill be working within a group of <b>data</b> engineers, <b>data</b> analysts, and <b>data</b> <b>scientists</b>. Iterates and builds <b>data</b> systems and internal reporting/insights...</span>\\n</div>\\n<div class=\"iaP\">\\n<span class=\"iaLabel\"> Easily apply</span>\\n</div><div class=\"result-link-bar-container\">\\n<div class=\"result-link-bar\"><span class=\"date\">18 days ago</span> <span class=\"tt_set\" id=\"tt_set_8\"> - <span class=\"savelink2\" id=\"savelink2_10d8652e3f314988\"><a class=\"sl resultLink save-job-link\" href=\"#\" id=\"sj_10d8652e3f314988\" onclick=\"changeJobState('10d8652e3f314988', 'save', 'linkbar', false);return false;\" title=\"Save this job to my.indeed\">save job</a></span> - <a class=\"sl resultLink more-link \" href=\"#\" id=\"tog_8\" onclick=\"toggleMoreLinks('10d8652e3f314988'); return false;\">more...</a></span><div class=\"edit_note_content\" id=\"editsaved2_10d8652e3f314988\" style=\"display:none;\"></div><script>window['result_10d8652e3f314988'] = {\"showSource\": false, \"source\": \"TechPeople\", \"loggedIn\": false, \"showMyJobsLinks\": true,\"undoAction\": \"unsave\",\"relativeJobAge\": \"18 days ago\",\"jobKey\": \"10d8652e3f314988\", \"myIndeedAvailable\": true, \"tellAFriendEnabled\": false, \"showMoreActionsLink\": true, \"resultNumber\": 8, \"jobStateChangedToSaved\": false, \"searchState\": \"q=data scientist $20,000&amp;l=New+York&amp;start=10\", \"basicPermaLink\": \"http://www.indeed.com\", \"saveJobFailed\": false, \"removeJobFailed\": false, \"requestPending\": false, \"notesEnabled\": true, \"currentPage\" : \"serp\", \"sponsored\" : false,\"reportJobButtonEnabled\": false, \"showMyJobsHired\": false, \"showSaveForSponsored\": false};</script></div></div>\\n<div class=\"tab-container\">\\n<div class=\"more-links-container result-tab\" id=\"tt_display_8\" style=\"display:none;\"><a class=\"close-link closeLink\" href=\"#\" onclick=\"toggleMoreLinks('10d8652e3f314988'); return false;\" title=\"Close\"></a><div class=\"more_actions\" id=\"more_8\"><ul><li><span class=\"mat\">View all <a href=\"/q-Techpeople-l-New-York,-NY-jobs.html\" rel=\"nofollow\">TechPeople jobs in New York, NY</a> - <a href=\"/l-New-York,-NY-jobs.html\">New York jobs</a></span></li><li><span class=\"mat\">Salary Search: <a href=\"/salary?q1=Data+Engineer+Spark&amp;l1=New+York%2C+NY\" onmousedown=\"this.href = appendParamsOnce(this.href, '');\">Data Engineer Spark salaries in New York, NY</a></span></li><li><span class=\"mat\">Related forums: <a href=\"/forum/cmp/Techpeople.html\">Techpeople</a> - <a href=\"/forum/loc/New-York-New-York.html\">New York, New York</a></span></li></ul></div></div><div class=\"dya-container result-tab\"></div>\\n<div class=\"tellafriend-container result-tab email_job_content\"></div>\\n<div class=\"sign-in-container result-tab\"></div>\\n<div class=\"notes-container result-tab\"></div>\\n</div>\\n</td>\\n</tr>\\n</table>\\n</div>,\n",
       " <div class=\"lastRow row result\" data-jk=\"71acf2af1921eb7b\" data-tn-component=\"organicJob\" id=\"p_71acf2af1921eb7b\" itemscope=\"\" itemtype=\"http://schema.org/JobPosting\">\\n<h2 class=\"jobtitle\" id=\"jl_71acf2af1921eb7b\">\\n<a class=\"turnstileLink\" data-tn-element=\"jobTitle\" href=\"/rc/clk?jk=71acf2af1921eb7b&amp;fccid=54690c415ef05012\" itemprop=\"title\" onclick=\"setRefineByCookie(['salest']); return rclk(this,jobmap[9],true,1);\" onmousedown=\"return rclk(this,jobmap[9],1);\" rel=\"nofollow\" target=\"_blank\" title=\"Senior Business Intelligence/ Data Scientist\">Senior Business Intelligence/ <b>Data</b> <b>Scientist</b></a>\\n</h2>\\n<span class=\"company\" itemprop=\"hiringOrganization\" itemtype=\"http://schema.org/Organization\">\\n<span itemprop=\"name\">\\n    Snap Interactive, Inc.</span>\\n</span>\\n\\n - <span itemprop=\"jobLocation\" itemscope=\"\" itemtype=\"http://schema.org/Place\"><span class=\"location\" itemprop=\"address\" itemscope=\"\" itemtype=\"http://schema.org/Postaladdress\"><span itemprop=\"addressLocality\">New York, NY</span></span></span>\\n<table border=\"0\" cellpadding=\"0\" cellspacing=\"0\">\\n<tr>\\n<td class=\"snip\">\\n<nobr>$30 an hour</nobr>\\n<div>\\n<span class=\"summary\" itemprop=\"description\">\\nAbility to present complicated <b>data</b> and models. Strong knowledge of algorithms, <b>data</b> structures and machine learning....</span>\\n</div>\\n<div class=\"result-link-bar-container\">\\n<div class=\"result-link-bar\"><span class=\"date\">11 days ago</span> <span class=\"tt_set\" id=\"tt_set_9\"> - <span class=\"savelink2\" id=\"savelink2_71acf2af1921eb7b\"><a class=\"sl resultLink save-job-link\" href=\"#\" id=\"sj_71acf2af1921eb7b\" onclick=\"changeJobState('71acf2af1921eb7b', 'save', 'linkbar', false);return false;\" title=\"Save this job to my.indeed\">save job</a></span> - <a class=\"sl resultLink more-link \" href=\"#\" id=\"tog_9\" onclick=\"toggleMoreLinks('71acf2af1921eb7b'); return false;\">more...</a></span><div class=\"edit_note_content\" id=\"editsaved2_71acf2af1921eb7b\" style=\"display:none;\"></div><script>window['result_71acf2af1921eb7b'] = {\"showSource\": false, \"source\": \"Snap Interactive, Inc.\", \"loggedIn\": false, \"showMyJobsLinks\": true,\"undoAction\": \"unsave\",\"relativeJobAge\": \"11 days ago\",\"jobKey\": \"71acf2af1921eb7b\", \"myIndeedAvailable\": true, \"tellAFriendEnabled\": false, \"showMoreActionsLink\": true, \"resultNumber\": 9, \"jobStateChangedToSaved\": false, \"searchState\": \"q=data scientist $20,000&amp;l=New+York&amp;start=10\", \"basicPermaLink\": \"http://www.indeed.com\", \"saveJobFailed\": false, \"removeJobFailed\": false, \"requestPending\": false, \"notesEnabled\": true, \"currentPage\" : \"serp\", \"sponsored\" : false,\"reportJobButtonEnabled\": false, \"showMyJobsHired\": false, \"showSaveForSponsored\": false};</script></div></div>\\n<div class=\"tab-container\">\\n<div class=\"more-links-container result-tab\" id=\"tt_display_9\" style=\"display:none;\"><a class=\"close-link closeLink\" href=\"#\" onclick=\"toggleMoreLinks('71acf2af1921eb7b'); return false;\" title=\"Close\"></a><div class=\"more_actions\" id=\"more_9\"><ul><li><span class=\"mat\">View all <a href=\"/jobs?q=Snap+Interactive,+Inc&amp;l=New+York,+NY&amp;nc=jasx\" rel=\"nofollow\">Snap Interactive, Inc. jobs in New York, NY</a> - <a href=\"/l-New-York,-NY-jobs.html\">New York jobs</a></span></li><li><span class=\"mat\">Salary Search: <a href=\"/salary?q1=Senior+Business+Intelligence&amp;l1=New+York%2C+NY\" onmousedown=\"this.href = appendParamsOnce(this.href, '');\">Senior Business Intelligence salaries in New York, NY</a></span></li><li><span class=\"mat\">Related forums:  - <a href=\"/forum/loc/New-York-New-York.html\">New York, New York</a></span></li></ul></div></div><div class=\"dya-container result-tab\"></div>\\n<div class=\"tellafriend-container result-tab email_job_content\"></div>\\n<div class=\"sign-in-container result-tab\"></div>\\n<div class=\"notes-container result-tab\"></div>\\n</div>\\n</td>\\n</tr>\\n</table>\\n</div>,\n",
       " <div class=\"row result\" data-jk=\"1d8af17a051c301d\" id=\"pj_1d8af17a051c301d\">\\n<a class=\"jobtitle turnstileLink\" data-tn-element=\"jobTitle\" href=\"/pagead/clk?mo=r&amp;ad=-6NYlbfkN0Ab67y_gTDH9tSaT0HLOcX4Q3W4UsL2WfVRyJV-qqww-X_15EE3JQdfe7kGNK4zye8FnpaBT8wUL6g6CZzJ0dC-WFILbZA2tNy-HM-hTGFOV2kbifwpP0scso0Jj0-flvFLWhWgsAmlsiFUjKYWZEnmHi-3KCb_b1_AcRCUqGuIU_IFjFY2V_QUMNZS4NhSZR3VjN7v_w22abckSE0Zn_OGWrE_QolX7dNik2sye9HFIIwWtdqi8pNCbFlNNHWXTKRy1yNr9I1_M59w-bXkuL8NTGFuEvyw76KnRhSi3Czj0njPqFenvSL2KJQrL-eED3CLaDyWSRyuPooDrfhDYAt0A08FZyWGV5yyzBBaZe6nH-EdrGpbiUnOP_c9Jh5mgOkLy766KHX1rUKwpZz_v8dmcg9tpup5eC2ufb0Gb7UxKAb7IMFVW9s1ZY7TKBsLGYwnKCX4RT0EjaB-sApZGIUTsyUnJIhBvVJ7xbpGQDL7qxirjGTyuwdk0Ob3YeJQwfBYljnPhCXc2qsNI9Aj3CqHHf2zAsyNaZKAixB_TaoNbZQKpN8cfISTubQzK96LZTVq4lkdeRbyPt3hr4uj6FBway26LJPBazVsUe_EoEI3qwaV03hifzYBRTWBkiBvqMXDqG1bJqkVihKKGdvGesfP1_9cHG5_CWucfHl3r7f0rBWwrk_iSxDs_xRUaR-nCMA=&amp;p=4&amp;sk=&amp;fvj=0\" id=\"sja4\" onclick=\"setRefineByCookie(['salest']); sjoc('sja4',0); convCtr('SJ', pingUrlsForGA)\" onmousedown=\"sjomd('sja4'); clk('sja4');\" rel=\"nofollow\" target=\"_blank\" title=\"Machine Learning Quantitative Analyst\">Machine Learning Quantitative Analyst</a>\\n<br/>\\n<div class=\"sjcl\">\\n<span class=\"company\">\\n<a class=\"turnstileLink\" data-tn-element=\"companyName\" href=\"/cmp/Bloomberg\" onmousedown=\"this.href = appendParamsOnce(this.href, 'from=SERP&amp;campaignid=serp-linkcompanyname&amp;fromjk=1d8af17a051c301d&amp;jcid=f770da67b3b51c62')\" target=\"_blank\">\\n        Bloomberg</a></span>\\n\\n - <a class=\"turnstileLink slNoUnderline \" data-tn-element=\"reviewStars\" data-tn-variant=\"cmplinktst2\" href=\"/cmp/Bloomberg/reviews\" onmousedown=\"this.href = appendParamsOnce(this.href, '?campaignid=cmplinktst2&amp;from=SERP&amp;jt=Machine+Learning+Quantitative+Analyst&amp;fromjk=1d8af17a051c301d&amp;jcid=f770da67b3b51c62');\" target=\"_blank\" title=\"Bloomberg reviews\">\\n<span class=\"ratings\" style=\"height: 11px; line-height: 11px; background-image: url(/images/cmp/star_2_sm@2x.png); background-size: 12px 22px;width: 60px;\"><span class=\"rating\" style=\"height: 11px; line-height: 11px; background-image: url(/images/cmp/star_2_sm@2x.png); background-size: 12px 22px;background-position: 0 11px; width: 44.4px;\"><!-- --></span></span><span class=\"slNoUnderline\">292 reviews</span></a>\\n - <span class=\"location\">New York, NY</span>\\n</div>\\n<table border=\"0\" cellpadding=\"0\" cellspacing=\"0\"><tr><td class=\"snip\">\\n<span class=\"summary\">A track record of gathering, matching, and pre-processing large <b>data</b> sets from varied sources and of different characteristics....</span>\\n</td></tr></table>\\n<div class=\"result-link-bar-container\">\\n<div class=\"result-link-bar\"><span class=\"date\">30+ days ago</span> <span class=\"tt_set\" id=\"tt_set_13\"></span><div class=\"edit_note_content\" id=\"editsaved2_1d8af17a051c301d\" style=\"display:none;\"></div><script>window['sj_result_1d8af17a051c301d'] = {\"showSource\": false, \"source\": \"Bloomberg\", \"loggedIn\": false, \"showMyJobsLinks\": true,\"undoAction\": \"unsave\",\"relativeJobAge\": \"30+ days ago\",\"jobKey\": \"1d8af17a051c301d\", \"myIndeedAvailable\": true, \"tellAFriendEnabled\": false, \"showMoreActionsLink\": false, \"resultNumber\": 13, \"jobStateChangedToSaved\": false, \"searchState\": \"q=data scientist $20,000&amp;l=New+York&amp;start=10\", \"basicPermaLink\": \"http://www.indeed.com\", \"saveJobFailed\": false, \"removeJobFailed\": false, \"requestPending\": false, \"notesEnabled\": false, \"currentPage\" : \"serp\", \"sponsored\" : true,\"reportJobButtonEnabled\": false, \"showMyJobsHired\": false, \"showSaveForSponsored\": false};</script></div></div>\\n<div class=\"tab-container\">\\n<div class=\"sign-in-container result-tab\"></div>\\n<div class=\"tellafriend-container result-tab email_job_content\"></div>\\n</div>\\n<span class=\"sdn\">Sponsored</span>\\n</div>,\n",
       " <div class=\"row sjlast result\" data-jk=\"f51d618a67f9e1bd\" id=\"pj_f51d618a67f9e1bd\">\\n<a class=\"jobtitle turnstileLink\" data-tn-element=\"jobTitle\" href=\"/pagead/clk?mo=r&amp;ad=-6NYlbfkN0DhVAxkc_TxySVbUOs6bxWYWOfhmDTNcVTjFFBAY1FXZ65kYHG3z5xpCS5yomokewg9jsHd_u-1jM_8Gf9nkuhrd5EroSMaucJCm2kKOOO5HXsOSOSNb4uNaSfpl9k5Ydsc_0g0WN6KrbEwv2uOVsuBfx1_TVDXuP7uLWNAAZFeSLVVzixdgDfDzPEYVAP0iISLhFpEWxGc0XSJZau7IWYT04dTSb5w6Vq0l7_RM-2720EKhz4xobItEB4tXW0HkyDxVUd7Mt50OoYbVAlHXeVxRhmNShTAwFpLsGUVpY5pAtkhsxw2Ai6YZJh-C59OhxvEfnlq-Ob14229QTuGqfv8k-m6Fky08x8vrPH9ESa_n5BgfdsvuLHLXGJnN34KM0Oc3sb9dQ_dz6c0na_dNFLXWlyoYLvOScdmNEFGG_mPwoGuLw2s-6c_YgLFXFugkKevFlIZlffBveladKd5mWAR&amp;p=5&amp;sk=&amp;fvj=1\" id=\"sja5\" onclick=\"setRefineByCookie(['salest']); sjoc('sja5',0); convCtr('SJ', pingUrlsForGA)\" onmousedown=\"sjomd('sja5'); clk('sja5');\" rel=\"nofollow\" target=\"_blank\" title=\"Data Scientist\"><b>Data</b> <b>Scientist</b></a>\\n<br/>\\n<div class=\"sjcl\">\\n<span class=\"company\">\\n    Indeed Prime</span>\\n\\n - <span class=\"location\">New York, NY</span>\\n</div>\\n<table border=\"0\" cellpadding=\"0\" cellspacing=\"0\"><tr><td class=\"snip\">\\n<span class=\"summary\">Expert in Python and core libraries used by <b>data</b> <b>scientists</b> (Numpy, Scipy, Pandas, Scikit-learn, Matplotlib/Seaborn, etc.)....</span>\\n</td></tr></table>\\n<div class=\"result-link-bar-container\">\\n<div class=\"result-link-bar\"><span class=\"date\">28 days ago</span> <span class=\"tt_set\" id=\"tt_set_14\"></span><div class=\"edit_note_content\" id=\"editsaved2_f51d618a67f9e1bd\" style=\"display:none;\"></div><script>window['sj_result_f51d618a67f9e1bd'] = {\"showSource\": false, \"source\": \"Indeed\", \"loggedIn\": false, \"showMyJobsLinks\": true,\"undoAction\": \"unsave\",\"relativeJobAge\": \"28 days ago\",\"jobKey\": \"f51d618a67f9e1bd\", \"myIndeedAvailable\": true, \"tellAFriendEnabled\": false, \"showMoreActionsLink\": false, \"resultNumber\": 14, \"jobStateChangedToSaved\": false, \"searchState\": \"q=data scientist $20,000&amp;l=New+York&amp;start=10\", \"basicPermaLink\": \"http://www.indeed.com\", \"saveJobFailed\": false, \"removeJobFailed\": false, \"requestPending\": false, \"notesEnabled\": false, \"currentPage\" : \"serp\", \"sponsored\" : true,\"reportJobButtonEnabled\": false, \"showMyJobsHired\": false, \"showSaveForSponsored\": false};</script></div></div>\\n<div class=\"tab-container\">\\n<div class=\"sign-in-container result-tab\"></div>\\n<div class=\"tellafriend-container result-tab email_job_content\"></div>\\n</div>\\n<span class=\"sdn\">Sponsored</span>\\n</div>]"
      ]
     },
     "execution_count": 7,
     "metadata": {},
     "output_type": "execute_result"
    }
   ],
   "source": [
    "# # read site in soup\n",
    "# r = requests.get(indeed)\n",
    "# soup = BeautifulSoup(r.content, \"lxml\")\n",
    "# #soup = BeautifulSoup(r.content)\n",
    "# # Append to the full set of results\n",
    "# results = soup.findAll('div', { \"class\" : \"result\" })\n",
    "# results"
   ]
  },
  {
   "cell_type": "markdown",
   "metadata": {
    "focus": false,
    "id": "963bb376-7746-43ce-98ec-ea4162f7ead6"
   },
   "source": [
    "Let's look at one result more closely. A single `result` looks like\n",
    "\n",
    "```\n",
    "<div class=\" row result\" data-jk=\"2480d203f7e97210\" data-tn-component=\"organicJob\" id=\"p_2480d203f7e97210\" itemscope=\"\" itemtype=\"http://schema.org/JobPosting\">\n",
    "<h2 class=\"jobtitle\" id=\"jl_2480d203f7e97210\">\n",
    "<a class=\"turnstileLink\" data-tn-element=\"jobTitle\" onmousedown=\"return rclk(this,jobmap[0],1);\" rel=\"nofollow\" target=\"_blank\" title=\"AVP/Quantitative Analyst\">AVP/Quantitative Analyst</a>\n",
    "</h2>\n",
    "<span class=\"company\" itemprop=\"hiringOrganization\" itemtype=\"http://schema.org/Organization\">\n",
    "<span itemprop=\"name\">\n",
    "<a href=\"/cmp/Alliancebernstein?from=SERP&amp;campaignid=serp-linkcompanyname&amp;fromjk=2480d203f7e97210&amp;jcid=b374f2a780e04789\" target=\"_blank\">\n",
    "    AllianceBernstein</a></span>\n",
    "</span>\n",
    "<tr>\n",
    "<td class=\"snip\">\n",
    "<nobr>$117,500 - $127,500 a year</nobr>\n",
    "<div>\n",
    "<span class=\"summary\" itemprop=\"description\">\n",
    "C onduct quantitative and statistical research as well as portfolio management for various investment portfolios. Collaborate with Quantitative Analysts and</span>\n",
    "</div>\n",
    "</div>\n",
    "</td>\n",
    "</tr>\n",
    "</table>\n",
    "</div>\n",
    "```\n",
    "\n",
    "While this has some of the more verbose elements removed, we can see that there is some structure to the above:\n",
    "- The salary is available in a `nobr` element inside of a `td` element with `class='snip`.\n",
    "- The title of a job is in a link with class set to `jobtitle` and a `data-tn-element=\"jobTitle`.  \n",
    "- The location is set in a `span` with `class='location'`. \n",
    "- The company is set in a `span` with `class='company'`. "
   ]
  },
  {
   "cell_type": "markdown",
   "metadata": {
    "focus": false,
    "id": "27b6ffb9-b42f-4298-b07a-10e3bab030cd"
   },
   "source": [
    "### Write 4 functions to extract each item: location, company, job, and salary.\n",
    "\n",
    "example: \n",
    "```python\n",
    "def extract_location_from_result(result):\n",
    "    return result.find ...\n",
    "```\n",
    "\n",
    "- Make sure these functions are robust and can handle cases where the data/field may not be available\n",
    "- Test the functions on the results above"
   ]
  },
  {
   "cell_type": "code",
   "execution_count": 8,
   "metadata": {
    "collapsed": false,
    "focus": false,
    "id": "f4b0755f-42e1-438f-89fc-131a60b781cd"
   },
   "outputs": [],
   "source": [
    "# # get text\n",
    "# def extract_text(el):\n",
    "#     if el:\n",
    "#         return el.text.strip()\n",
    "#     else:\n",
    "#         return ''\n",
    "        \n",
    "# # company\n",
    "# def get_company_from_result(result):\n",
    "#     return extract_text(result.find('span', {'class' : 'company'}))\n",
    "\n",
    "# # location\n",
    "# def get_location_from_result(result):\n",
    "#     return extract_text(result.find('span', {'class' : 'location'}))\n",
    "# # summary\n",
    "# def get_summary_from_result(result):\n",
    "#     return extract_text(result.find('span', {'class' : 'summary'}))\n",
    "# # title\n",
    "# # def get_title_from_result(result):\n",
    "# #     return extract_text(result.find('span', {'class' : 'title'}))\n",
    "# def get_title_from_result(result):\n",
    "#     return extract_text(result.find('a', {'data-tn-element' : 'jobTitle'}))\n",
    "# # get salary if exists\n",
    "# def get_salary_from_result(result):\n",
    "#     salary_table = result.find('td', {'class' : 'snip'})\n",
    "#     if salary_table:\n",
    "#         snip = salary_table.find('nobr')\n",
    "#         if snip:\n",
    "#             return snip.text.strip()   \n",
    "#     return None"
   ]
  },
  {
   "cell_type": "markdown",
   "metadata": {
    "focus": false,
    "id": "dc1d32a3-b13c-4919-8723-ce50dbc7660f"
   },
   "source": [
    "Now, to scale up our scraping, we need to accumulate more results. We can do this by examining the URL above.\n",
    "\n",
    "- \"http://www.indeed.com/jobs?q=data+scientist+%2420%2C000&l=New+York&start=10\"\n",
    "\n",
    "There are two query parameters here we can alter to collect more results: the `l=New+York` and the `start=10`. The first controls the location of the results (so we can try different city). The second controls where in the results to start and gives 10 results (so we can keep incrementing this by 10 to move further within the list)."
   ]
  },
  {
   "cell_type": "markdown",
   "metadata": {
    "focus": false,
    "id": "27584c3f-f552-40a2-842a-0681b1fd6265"
   },
   "source": [
    "#### Complete the following code to collect results from multiple cities and start points. \n",
    "- Enter your city below to add it to the search\n",
    "- Remember to convert your salary to U.S. Dollars to match the other cities if the currency is different"
   ]
  },
  {
   "cell_type": "code",
   "execution_count": 9,
   "metadata": {
    "collapsed": false
   },
   "outputs": [
    {
     "data": {
      "text/html": [
       "<div>\n",
       "<table border=\"1\" class=\"dataframe\">\n",
       "  <thead>\n",
       "    <tr style=\"text-align: right;\">\n",
       "      <th></th>\n",
       "      <th>Company Name</th>\n",
       "      <th>Job Title</th>\n",
       "      <th>Location</th>\n",
       "      <th>Salary</th>\n",
       "    </tr>\n",
       "  </thead>\n",
       "  <tbody>\n",
       "    <tr>\n",
       "      <th>0</th>\n",
       "      <td>MobileDev Power</td>\n",
       "      <td>Data Scientist With Predictive Modeling</td>\n",
       "      <td>Atlanta, GA 30305</td>\n",
       "      <td>None</td>\n",
       "    </tr>\n",
       "    <tr>\n",
       "      <th>1</th>\n",
       "      <td>Honeywell</td>\n",
       "      <td>Principal Data Scientist - Atlanta, GA</td>\n",
       "      <td>Atlanta, GA</td>\n",
       "      <td>None</td>\n",
       "    </tr>\n",
       "    <tr>\n",
       "      <th>2</th>\n",
       "      <td>Equifax</td>\n",
       "      <td>Data Scientist, Identity &amp; Linking</td>\n",
       "      <td>Alpharetta, GA</td>\n",
       "      <td>None</td>\n",
       "    </tr>\n",
       "    <tr>\n",
       "      <th>3</th>\n",
       "      <td>Infor</td>\n",
       "      <td>Sr. Data Scientist</td>\n",
       "      <td>Atlanta, GA</td>\n",
       "      <td>None</td>\n",
       "    </tr>\n",
       "    <tr>\n",
       "      <th>4</th>\n",
       "      <td>Pivotal Software</td>\n",
       "      <td>Sr. Data Scientist</td>\n",
       "      <td>Atlanta, GA</td>\n",
       "      <td>None</td>\n",
       "    </tr>\n",
       "    <tr>\n",
       "      <th>5</th>\n",
       "      <td>Macy's</td>\n",
       "      <td>Sr. Data Scientist</td>\n",
       "      <td>Atlanta, GA</td>\n",
       "      <td>None</td>\n",
       "    </tr>\n",
       "    <tr>\n",
       "      <th>6</th>\n",
       "      <td>Vesta Corporation</td>\n",
       "      <td>Senior Data Scientist</td>\n",
       "      <td>Atlanta, GA 30303 (Five Points area)</td>\n",
       "      <td>None</td>\n",
       "    </tr>\n",
       "    <tr>\n",
       "      <th>7</th>\n",
       "      <td>Cox Automotive</td>\n",
       "      <td>Senior Data Scientist</td>\n",
       "      <td>Atlanta, GA</td>\n",
       "      <td>None</td>\n",
       "    </tr>\n",
       "    <tr>\n",
       "      <th>8</th>\n",
       "      <td>LexisNexis</td>\n",
       "      <td>Associate Statistical Modeler</td>\n",
       "      <td>Alpharetta, GA 30005</td>\n",
       "      <td>None</td>\n",
       "    </tr>\n",
       "    <tr>\n",
       "      <th>9</th>\n",
       "      <td>Turner</td>\n",
       "      <td>Manager, Consumer Insights &amp; Statistical Analysis</td>\n",
       "      <td>Atlanta, GA 30319</td>\n",
       "      <td>None</td>\n",
       "    </tr>\n",
       "    <tr>\n",
       "      <th>10</th>\n",
       "      <td>Reed Elsevier</td>\n",
       "      <td>Associate Statistical Modeler</td>\n",
       "      <td>Alpharetta, GA</td>\n",
       "      <td>None</td>\n",
       "    </tr>\n",
       "    <tr>\n",
       "      <th>11</th>\n",
       "      <td>Home Depot</td>\n",
       "      <td>Financial Analyst/Data Scientist, Supply Chain</td>\n",
       "      <td>Atlanta, GA 30354 (Lakewood Heights-Southeaste...</td>\n",
       "      <td>None</td>\n",
       "    </tr>\n",
       "    <tr>\n",
       "      <th>12</th>\n",
       "      <td>Strive Consulting LLC</td>\n",
       "      <td>Mid/Sr Data Scientist</td>\n",
       "      <td>Atlanta, GA</td>\n",
       "      <td>None</td>\n",
       "    </tr>\n",
       "    <tr>\n",
       "      <th>13</th>\n",
       "      <td>Home Depot</td>\n",
       "      <td>DATA SCIENTIST</td>\n",
       "      <td>Atlanta, GA 30354</td>\n",
       "      <td>None</td>\n",
       "    </tr>\n",
       "    <tr>\n",
       "      <th>14</th>\n",
       "      <td>Predictive Science</td>\n",
       "      <td>Data Scientist</td>\n",
       "      <td>United States</td>\n",
       "      <td>None</td>\n",
       "    </tr>\n",
       "    <tr>\n",
       "      <th>15</th>\n",
       "      <td>Honeywell</td>\n",
       "      <td>Principal Data Scientist - Atlanta, GA</td>\n",
       "      <td>Atlanta, GA</td>\n",
       "      <td>None</td>\n",
       "    </tr>\n",
       "    <tr>\n",
       "      <th>16</th>\n",
       "      <td>Home Depot</td>\n",
       "      <td>DATA SCIENTIST</td>\n",
       "      <td>Atlanta, GA 30354</td>\n",
       "      <td>None</td>\n",
       "    </tr>\n",
       "    <tr>\n",
       "      <th>17</th>\n",
       "      <td>Equifax</td>\n",
       "      <td>Data Scientist, Identity &amp; Linking</td>\n",
       "      <td>Alpharetta, GA</td>\n",
       "      <td>None</td>\n",
       "    </tr>\n",
       "    <tr>\n",
       "      <th>18</th>\n",
       "      <td>eTek IT Services, Inc.</td>\n",
       "      <td>Big Data Engineer</td>\n",
       "      <td>Atlanta, GA</td>\n",
       "      <td>$67 an hour</td>\n",
       "    </tr>\n",
       "    <tr>\n",
       "      <th>19</th>\n",
       "      <td>Centers for Disease Control and Prevention</td>\n",
       "      <td>Statistician (Health)</td>\n",
       "      <td>Atlanta, GA</td>\n",
       "      <td>$88,305 - $114,802 a year</td>\n",
       "    </tr>\n",
       "    <tr>\n",
       "      <th>20</th>\n",
       "      <td>ASSURANT</td>\n",
       "      <td>Sr Data Scientist - Fraud</td>\n",
       "      <td>Atlanta, GA 30339</td>\n",
       "      <td>None</td>\n",
       "    </tr>\n",
       "    <tr>\n",
       "      <th>21</th>\n",
       "      <td>Deloitte</td>\n",
       "      <td>Federal Mission Analytics Data Scientist - Sen...</td>\n",
       "      <td>Atlanta, GA</td>\n",
       "      <td>None</td>\n",
       "    </tr>\n",
       "    <tr>\n",
       "      <th>22</th>\n",
       "      <td>KPMG</td>\n",
       "      <td>Sr Associate - Data Scientist</td>\n",
       "      <td>Atlanta, GA 30338</td>\n",
       "      <td>None</td>\n",
       "    </tr>\n",
       "    <tr>\n",
       "      <th>23</th>\n",
       "      <td>Analytic Recruiting</td>\n",
       "      <td>Junior Data Scientist</td>\n",
       "      <td>Alpharetta, GA</td>\n",
       "      <td>$75,000 - $90,000 a year</td>\n",
       "    </tr>\n",
       "    <tr>\n",
       "      <th>24</th>\n",
       "      <td>Lockheed Martin</td>\n",
       "      <td>Research Scientist</td>\n",
       "      <td>Marietta, GA 30063</td>\n",
       "      <td>None</td>\n",
       "    </tr>\n",
       "    <tr>\n",
       "      <th>25</th>\n",
       "      <td>McKinsey &amp; Company</td>\n",
       "      <td>Senior Personnel Data Scientist/Analyst</td>\n",
       "      <td>Atlanta, GA 30318 (Rockdale area)</td>\n",
       "      <td>None</td>\n",
       "    </tr>\n",
       "    <tr>\n",
       "      <th>26</th>\n",
       "      <td>KPMG</td>\n",
       "      <td>Manager - Health Care Analytics</td>\n",
       "      <td>Atlanta, GA 30338</td>\n",
       "      <td>None</td>\n",
       "    </tr>\n",
       "    <tr>\n",
       "      <th>27</th>\n",
       "      <td>Centers for Disease Control and Prevention</td>\n",
       "      <td>Behavioral Scientist</td>\n",
       "      <td>Atlanta, GA</td>\n",
       "      <td>$74,260 - $96,538 a year</td>\n",
       "    </tr>\n",
       "    <tr>\n",
       "      <th>28</th>\n",
       "      <td>Predictive Science</td>\n",
       "      <td>Data Scientist</td>\n",
       "      <td>United States</td>\n",
       "      <td>None</td>\n",
       "    </tr>\n",
       "    <tr>\n",
       "      <th>29</th>\n",
       "      <td>MobileDev Power</td>\n",
       "      <td>Data Scientist With Predictive Modeling</td>\n",
       "      <td>Atlanta, GA 30305</td>\n",
       "      <td>None</td>\n",
       "    </tr>\n",
       "    <tr>\n",
       "      <th>...</th>\n",
       "      <td>...</td>\n",
       "      <td>...</td>\n",
       "      <td>...</td>\n",
       "      <td>...</td>\n",
       "    </tr>\n",
       "    <tr>\n",
       "      <th>16228</th>\n",
       "      <td>State Street</td>\n",
       "      <td>Data Scientist</td>\n",
       "      <td>Boston, MA</td>\n",
       "      <td>None</td>\n",
       "    </tr>\n",
       "    <tr>\n",
       "      <th>16229</th>\n",
       "      <td>Cognius</td>\n",
       "      <td>Quantitative Data Analyst</td>\n",
       "      <td>Cambridge, MA</td>\n",
       "      <td>None</td>\n",
       "    </tr>\n",
       "    <tr>\n",
       "      <th>16230</th>\n",
       "      <td>Sanofi</td>\n",
       "      <td>Clinical Research Senior Director, Early Devel...</td>\n",
       "      <td>Cambridge, MA</td>\n",
       "      <td>None</td>\n",
       "    </tr>\n",
       "    <tr>\n",
       "      <th>16231</th>\n",
       "      <td>Broad Institute</td>\n",
       "      <td>Software Engineer</td>\n",
       "      <td>Boston, MA</td>\n",
       "      <td>None</td>\n",
       "    </tr>\n",
       "    <tr>\n",
       "      <th>16232</th>\n",
       "      <td>Concert Pharmaceuticals, Inc.</td>\n",
       "      <td>Clinical Scientist</td>\n",
       "      <td>Lexington, MA 02421</td>\n",
       "      <td>None</td>\n",
       "    </tr>\n",
       "    <tr>\n",
       "      <th>16233</th>\n",
       "      <td>Epizyme</td>\n",
       "      <td>Senior Scientist / Principal Scientist, DMPK</td>\n",
       "      <td>Cambridge, MA 02139 (Area IV area)</td>\n",
       "      <td>None</td>\n",
       "    </tr>\n",
       "    <tr>\n",
       "      <th>16234</th>\n",
       "      <td>EverQuote</td>\n",
       "      <td>Software Engineer (Python)</td>\n",
       "      <td>Cambridge, MA</td>\n",
       "      <td>None</td>\n",
       "    </tr>\n",
       "    <tr>\n",
       "      <th>16235</th>\n",
       "      <td>Elemental Machines</td>\n",
       "      <td>QA Engineer</td>\n",
       "      <td>Cambridge, MA 02138 (West Cambridge area)</td>\n",
       "      <td>None</td>\n",
       "    </tr>\n",
       "    <tr>\n",
       "      <th>16236</th>\n",
       "      <td>McKinsey &amp; Company</td>\n",
       "      <td>Data Scientist - Geospatial Analytics</td>\n",
       "      <td>Waltham, MA</td>\n",
       "      <td>None</td>\n",
       "    </tr>\n",
       "    <tr>\n",
       "      <th>16237</th>\n",
       "      <td>Pfizer Inc.</td>\n",
       "      <td>Senior Scientist in Project Progression and Bi...</td>\n",
       "      <td>Andover, MA</td>\n",
       "      <td>None</td>\n",
       "    </tr>\n",
       "    <tr>\n",
       "      <th>16238</th>\n",
       "      <td>Beckman Coulter, Inc.</td>\n",
       "      <td>Field Service Engineer</td>\n",
       "      <td>Boston, MA</td>\n",
       "      <td>None</td>\n",
       "    </tr>\n",
       "    <tr>\n",
       "      <th>16239</th>\n",
       "      <td>Blackbird Technical Staffing</td>\n",
       "      <td>Data Architect/Engineer (LOCAL CANDIDATES ONLY)</td>\n",
       "      <td>Boston, MA</td>\n",
       "      <td>None</td>\n",
       "    </tr>\n",
       "    <tr>\n",
       "      <th>16240</th>\n",
       "      <td>Indeed Prime</td>\n",
       "      <td>Data Scientist</td>\n",
       "      <td>Boston, MA</td>\n",
       "      <td>None</td>\n",
       "    </tr>\n",
       "    <tr>\n",
       "      <th>16241</th>\n",
       "      <td>Sarepta Therapeutics</td>\n",
       "      <td>Clinical Research Scientist, Translational Dev...</td>\n",
       "      <td>Cambridge, MA 02142</td>\n",
       "      <td>None</td>\n",
       "    </tr>\n",
       "    <tr>\n",
       "      <th>16242</th>\n",
       "      <td>IBM</td>\n",
       "      <td>Watson Health - Data Scientist</td>\n",
       "      <td>Cambridge, MA</td>\n",
       "      <td>None</td>\n",
       "    </tr>\n",
       "    <tr>\n",
       "      <th>16243</th>\n",
       "      <td>State Street</td>\n",
       "      <td>Data Scientist</td>\n",
       "      <td>Boston, MA</td>\n",
       "      <td>None</td>\n",
       "    </tr>\n",
       "    <tr>\n",
       "      <th>16244</th>\n",
       "      <td>Sarepta Therapeutics</td>\n",
       "      <td>Clinical Research Scientist, Translational Dev...</td>\n",
       "      <td>Cambridge, MA 02142</td>\n",
       "      <td>None</td>\n",
       "    </tr>\n",
       "    <tr>\n",
       "      <th>16245</th>\n",
       "      <td>MONSANTO</td>\n",
       "      <td>Protein Optimization Research Associate</td>\n",
       "      <td>Cambridge, MA 02142 (East Cambridge area)</td>\n",
       "      <td>None</td>\n",
       "    </tr>\n",
       "    <tr>\n",
       "      <th>16246</th>\n",
       "      <td>Procter &amp; Gamble</td>\n",
       "      <td>Research and Development - Gillette Research T...</td>\n",
       "      <td>Boston, MA 02199 (Back Bay-Beacon Hill area)</td>\n",
       "      <td>None</td>\n",
       "    </tr>\n",
       "    <tr>\n",
       "      <th>16247</th>\n",
       "      <td>McLean Hospital(MCL)</td>\n",
       "      <td>Clinical Research Asst</td>\n",
       "      <td>Belmont, MA</td>\n",
       "      <td>None</td>\n",
       "    </tr>\n",
       "    <tr>\n",
       "      <th>16248</th>\n",
       "      <td>Panjiva</td>\n",
       "      <td>Software Engineer - Front-end</td>\n",
       "      <td>Cambridge, MA</td>\n",
       "      <td>None</td>\n",
       "    </tr>\n",
       "    <tr>\n",
       "      <th>16249</th>\n",
       "      <td>Strategic Employment Partners</td>\n",
       "      <td>Data Scientist</td>\n",
       "      <td>Cambridge, MA</td>\n",
       "      <td>$105,000 - $120,000 a year</td>\n",
       "    </tr>\n",
       "    <tr>\n",
       "      <th>16250</th>\n",
       "      <td>Shire</td>\n",
       "      <td>Associate Director, Clinical Scientist</td>\n",
       "      <td>Cambridge, MA</td>\n",
       "      <td>None</td>\n",
       "    </tr>\n",
       "    <tr>\n",
       "      <th>16251</th>\n",
       "      <td>Biogen</td>\n",
       "      <td>Director Associate Director, Bioassay Group</td>\n",
       "      <td>Cambridge, MA 02142 (East Cambridge area)</td>\n",
       "      <td>None</td>\n",
       "    </tr>\n",
       "    <tr>\n",
       "      <th>16252</th>\n",
       "      <td>Brigham &amp; Women's Hospital(BWH)</td>\n",
       "      <td>TECHNICAL RESEARCH ASSISTANT / PER DIEM / DAY ...</td>\n",
       "      <td>Boston, MA</td>\n",
       "      <td>None</td>\n",
       "    </tr>\n",
       "    <tr>\n",
       "      <th>16253</th>\n",
       "      <td>VWR International, LLC</td>\n",
       "      <td>Lab Support Technician</td>\n",
       "      <td>Cambridge, MA</td>\n",
       "      <td>None</td>\n",
       "    </tr>\n",
       "    <tr>\n",
       "      <th>16254</th>\n",
       "      <td>Takeda Pharmaceuticals</td>\n",
       "      <td>Statistician - Safety Stats</td>\n",
       "      <td>Cambridge, MA 02139 (Area IV area)</td>\n",
       "      <td>None</td>\n",
       "    </tr>\n",
       "    <tr>\n",
       "      <th>16255</th>\n",
       "      <td>Indeed Prime</td>\n",
       "      <td>Data Scientist</td>\n",
       "      <td>Boston, MA</td>\n",
       "      <td>None</td>\n",
       "    </tr>\n",
       "    <tr>\n",
       "      <th>16256</th>\n",
       "      <td>Cognius</td>\n",
       "      <td>Quantitative Data Analyst</td>\n",
       "      <td>Cambridge, MA</td>\n",
       "      <td>None</td>\n",
       "    </tr>\n",
       "    <tr>\n",
       "      <th>16257</th>\n",
       "      <td>IBM</td>\n",
       "      <td>Watson Health - Data Scientist</td>\n",
       "      <td>Cambridge, MA</td>\n",
       "      <td>None</td>\n",
       "    </tr>\n",
       "  </tbody>\n",
       "</table>\n",
       "<p>16258 rows × 4 columns</p>\n",
       "</div>"
      ],
      "text/plain": [
       "                                     Company Name  \\\n",
       "0                                 MobileDev Power   \n",
       "1                                       Honeywell   \n",
       "2                                         Equifax   \n",
       "3                                           Infor   \n",
       "4                                Pivotal Software   \n",
       "5                                          Macy's   \n",
       "6                               Vesta Corporation   \n",
       "7                                  Cox Automotive   \n",
       "8                                      LexisNexis   \n",
       "9                                          Turner   \n",
       "10                                  Reed Elsevier   \n",
       "11                                     Home Depot   \n",
       "12                          Strive Consulting LLC   \n",
       "13                                     Home Depot   \n",
       "14                             Predictive Science   \n",
       "15                                      Honeywell   \n",
       "16                                     Home Depot   \n",
       "17                                        Equifax   \n",
       "18                         eTek IT Services, Inc.   \n",
       "19     Centers for Disease Control and Prevention   \n",
       "20                                       ASSURANT   \n",
       "21                                       Deloitte   \n",
       "22                                           KPMG   \n",
       "23                            Analytic Recruiting   \n",
       "24                                Lockheed Martin   \n",
       "25                             McKinsey & Company   \n",
       "26                                           KPMG   \n",
       "27     Centers for Disease Control and Prevention   \n",
       "28                             Predictive Science   \n",
       "29                                MobileDev Power   \n",
       "...                                           ...   \n",
       "16228                                State Street   \n",
       "16229                                     Cognius   \n",
       "16230                                      Sanofi   \n",
       "16231                             Broad Institute   \n",
       "16232               Concert Pharmaceuticals, Inc.   \n",
       "16233                                     Epizyme   \n",
       "16234                                   EverQuote   \n",
       "16235                          Elemental Machines   \n",
       "16236                          McKinsey & Company   \n",
       "16237                                 Pfizer Inc.   \n",
       "16238                       Beckman Coulter, Inc.   \n",
       "16239                Blackbird Technical Staffing   \n",
       "16240                                Indeed Prime   \n",
       "16241                        Sarepta Therapeutics   \n",
       "16242                                         IBM   \n",
       "16243                                State Street   \n",
       "16244                        Sarepta Therapeutics   \n",
       "16245                                    MONSANTO   \n",
       "16246                            Procter & Gamble   \n",
       "16247                        McLean Hospital(MCL)   \n",
       "16248                                     Panjiva   \n",
       "16249               Strategic Employment Partners   \n",
       "16250                                       Shire   \n",
       "16251                                      Biogen   \n",
       "16252             Brigham & Women's Hospital(BWH)   \n",
       "16253                      VWR International, LLC   \n",
       "16254                      Takeda Pharmaceuticals   \n",
       "16255                                Indeed Prime   \n",
       "16256                                     Cognius   \n",
       "16257                                         IBM   \n",
       "\n",
       "                                               Job Title  \\\n",
       "0                Data Scientist With Predictive Modeling   \n",
       "1                 Principal Data Scientist - Atlanta, GA   \n",
       "2                     Data Scientist, Identity & Linking   \n",
       "3                                     Sr. Data Scientist   \n",
       "4                                     Sr. Data Scientist   \n",
       "5                                     Sr. Data Scientist   \n",
       "6                                  Senior Data Scientist   \n",
       "7                                  Senior Data Scientist   \n",
       "8                          Associate Statistical Modeler   \n",
       "9      Manager, Consumer Insights & Statistical Analysis   \n",
       "10                         Associate Statistical Modeler   \n",
       "11        Financial Analyst/Data Scientist, Supply Chain   \n",
       "12                                 Mid/Sr Data Scientist   \n",
       "13                                        DATA SCIENTIST   \n",
       "14                                        Data Scientist   \n",
       "15                Principal Data Scientist - Atlanta, GA   \n",
       "16                                        DATA SCIENTIST   \n",
       "17                    Data Scientist, Identity & Linking   \n",
       "18                                     Big Data Engineer   \n",
       "19                                 Statistician (Health)   \n",
       "20                             Sr Data Scientist - Fraud   \n",
       "21     Federal Mission Analytics Data Scientist - Sen...   \n",
       "22                         Sr Associate - Data Scientist   \n",
       "23                                 Junior Data Scientist   \n",
       "24                                    Research Scientist   \n",
       "25               Senior Personnel Data Scientist/Analyst   \n",
       "26                       Manager - Health Care Analytics   \n",
       "27                                  Behavioral Scientist   \n",
       "28                                        Data Scientist   \n",
       "29               Data Scientist With Predictive Modeling   \n",
       "...                                                  ...   \n",
       "16228                                     Data Scientist   \n",
       "16229                          Quantitative Data Analyst   \n",
       "16230  Clinical Research Senior Director, Early Devel...   \n",
       "16231                                  Software Engineer   \n",
       "16232                                 Clinical Scientist   \n",
       "16233       Senior Scientist / Principal Scientist, DMPK   \n",
       "16234                         Software Engineer (Python)   \n",
       "16235                                        QA Engineer   \n",
       "16236              Data Scientist - Geospatial Analytics   \n",
       "16237  Senior Scientist in Project Progression and Bi...   \n",
       "16238                             Field Service Engineer   \n",
       "16239    Data Architect/Engineer (LOCAL CANDIDATES ONLY)   \n",
       "16240                                     Data Scientist   \n",
       "16241  Clinical Research Scientist, Translational Dev...   \n",
       "16242                     Watson Health - Data Scientist   \n",
       "16243                                     Data Scientist   \n",
       "16244  Clinical Research Scientist, Translational Dev...   \n",
       "16245            Protein Optimization Research Associate   \n",
       "16246  Research and Development - Gillette Research T...   \n",
       "16247                             Clinical Research Asst   \n",
       "16248                      Software Engineer - Front-end   \n",
       "16249                                     Data Scientist   \n",
       "16250             Associate Director, Clinical Scientist   \n",
       "16251        Director Associate Director, Bioassay Group   \n",
       "16252  TECHNICAL RESEARCH ASSISTANT / PER DIEM / DAY ...   \n",
       "16253                             Lab Support Technician   \n",
       "16254                        Statistician - Safety Stats   \n",
       "16255                                     Data Scientist   \n",
       "16256                          Quantitative Data Analyst   \n",
       "16257                     Watson Health - Data Scientist   \n",
       "\n",
       "                                                Location  \\\n",
       "0                                      Atlanta, GA 30305   \n",
       "1                                            Atlanta, GA   \n",
       "2                                         Alpharetta, GA   \n",
       "3                                            Atlanta, GA   \n",
       "4                                            Atlanta, GA   \n",
       "5                                            Atlanta, GA   \n",
       "6                   Atlanta, GA 30303 (Five Points area)   \n",
       "7                                            Atlanta, GA   \n",
       "8                                   Alpharetta, GA 30005   \n",
       "9                                      Atlanta, GA 30319   \n",
       "10                                        Alpharetta, GA   \n",
       "11     Atlanta, GA 30354 (Lakewood Heights-Southeaste...   \n",
       "12                                           Atlanta, GA   \n",
       "13                                     Atlanta, GA 30354   \n",
       "14                                         United States   \n",
       "15                                           Atlanta, GA   \n",
       "16                                     Atlanta, GA 30354   \n",
       "17                                        Alpharetta, GA   \n",
       "18                                           Atlanta, GA   \n",
       "19                                           Atlanta, GA   \n",
       "20                                     Atlanta, GA 30339   \n",
       "21                                           Atlanta, GA   \n",
       "22                                     Atlanta, GA 30338   \n",
       "23                                        Alpharetta, GA   \n",
       "24                                    Marietta, GA 30063   \n",
       "25                     Atlanta, GA 30318 (Rockdale area)   \n",
       "26                                     Atlanta, GA 30338   \n",
       "27                                           Atlanta, GA   \n",
       "28                                         United States   \n",
       "29                                     Atlanta, GA 30305   \n",
       "...                                                  ...   \n",
       "16228                                         Boston, MA   \n",
       "16229                                      Cambridge, MA   \n",
       "16230                                      Cambridge, MA   \n",
       "16231                                         Boston, MA   \n",
       "16232                                Lexington, MA 02421   \n",
       "16233                 Cambridge, MA 02139 (Area IV area)   \n",
       "16234                                      Cambridge, MA   \n",
       "16235          Cambridge, MA 02138 (West Cambridge area)   \n",
       "16236                                        Waltham, MA   \n",
       "16237                                        Andover, MA   \n",
       "16238                                         Boston, MA   \n",
       "16239                                         Boston, MA   \n",
       "16240                                         Boston, MA   \n",
       "16241                                Cambridge, MA 02142   \n",
       "16242                                      Cambridge, MA   \n",
       "16243                                         Boston, MA   \n",
       "16244                                Cambridge, MA 02142   \n",
       "16245          Cambridge, MA 02142 (East Cambridge area)   \n",
       "16246       Boston, MA 02199 (Back Bay-Beacon Hill area)   \n",
       "16247                                        Belmont, MA   \n",
       "16248                                      Cambridge, MA   \n",
       "16249                                      Cambridge, MA   \n",
       "16250                                      Cambridge, MA   \n",
       "16251          Cambridge, MA 02142 (East Cambridge area)   \n",
       "16252                                         Boston, MA   \n",
       "16253                                      Cambridge, MA   \n",
       "16254                 Cambridge, MA 02139 (Area IV area)   \n",
       "16255                                         Boston, MA   \n",
       "16256                                      Cambridge, MA   \n",
       "16257                                      Cambridge, MA   \n",
       "\n",
       "                           Salary  \n",
       "0                            None  \n",
       "1                            None  \n",
       "2                            None  \n",
       "3                            None  \n",
       "4                            None  \n",
       "5                            None  \n",
       "6                            None  \n",
       "7                            None  \n",
       "8                            None  \n",
       "9                            None  \n",
       "10                           None  \n",
       "11                           None  \n",
       "12                           None  \n",
       "13                           None  \n",
       "14                           None  \n",
       "15                           None  \n",
       "16                           None  \n",
       "17                           None  \n",
       "18                    $67 an hour  \n",
       "19      $88,305 - $114,802 a year  \n",
       "20                           None  \n",
       "21                           None  \n",
       "22                           None  \n",
       "23       $75,000 - $90,000 a year  \n",
       "24                           None  \n",
       "25                           None  \n",
       "26                           None  \n",
       "27       $74,260 - $96,538 a year  \n",
       "28                           None  \n",
       "29                           None  \n",
       "...                           ...  \n",
       "16228                        None  \n",
       "16229                        None  \n",
       "16230                        None  \n",
       "16231                        None  \n",
       "16232                        None  \n",
       "16233                        None  \n",
       "16234                        None  \n",
       "16235                        None  \n",
       "16236                        None  \n",
       "16237                        None  \n",
       "16238                        None  \n",
       "16239                        None  \n",
       "16240                        None  \n",
       "16241                        None  \n",
       "16242                        None  \n",
       "16243                        None  \n",
       "16244                        None  \n",
       "16245                        None  \n",
       "16246                        None  \n",
       "16247                        None  \n",
       "16248                        None  \n",
       "16249  $105,000 - $120,000 a year  \n",
       "16250                        None  \n",
       "16251                        None  \n",
       "16252                        None  \n",
       "16253                        None  \n",
       "16254                        None  \n",
       "16255                        None  \n",
       "16256                        None  \n",
       "16257                        None  \n",
       "\n",
       "[16258 rows x 4 columns]"
      ]
     },
     "execution_count": 9,
     "metadata": {},
     "output_type": "execute_result"
    }
   ],
   "source": [
    "# import pandas as pd\n",
    "# url_template = \"http://www.indeed.com/jobs?q=data+scientist+%2420%2C000&l={}&start={}\"\n",
    "# YOUR_CITY=['Atlanta','Alpharetta','San+Francisco','Mountain+View','Palo+Alto','Santa+Clara','New+York',\n",
    "#              'Jacksonville','Miami','Charlotte','Washington','Seattle','Austin','Houston','Denver','Baltimore','Arlington',\n",
    "#              'Charlottesville','Cincinnati','Cleveland','Boston','Cambridge']\n",
    "\n",
    "# #results = []\n",
    "# df= pd.DataFrame()\n",
    "# for city in YOUR_CITY:\n",
    "#     for i in range(0,500,10):\n",
    "#         LINK = url_template.format(city,i)\n",
    "#         r= requests.get(LINK)\n",
    "#         soup = BeautifulSoup(r.content)\n",
    "#         results = soup.find_all(\"div\", {\"class\" : \"result\"})\n",
    "    \n",
    "#         for result in results:\n",
    "#             if result:\n",
    "#                 company=get_company_from_result(result)\n",
    "#                 title=get_title_from_result(result)\n",
    "#                 location=get_location_from_result(result)\n",
    "#                 salary=get_salary_from_result(result)\n",
    "            \n",
    "\n",
    "#                 df= df.append({'Company Name':company, \"Job Title\":title,'Location':location, 'Salary':salary}, ignore_index =True)\n",
    "# df\n",
    "\n",
    "# df= pd.DataFrame()\n",
    "# for city in YOUR_CITY:\n",
    "#     for i in range(0,500,10):\n",
    "#         LINK = url_template.format(city,i)\n",
    "#         r= requests.get(LINK)\n",
    "#         soup = BeautifulSoup(r.content)\n",
    "#         data = soup.find_all(\"div\", {\"class\" : \"result\"})\n",
    "    \n",
    "#         for element in range(len(data)):\n",
    "#             Name = data[element].find(\"span\", {\"class\": 'company'}).get_text().strip()\n",
    "#             #if Name != None:\n",
    "#                 #Name2 =Name.get_text().strip()\n",
    "#             City = data[element].find(\"span\", {\"class\": 'location'}).get_text().strip()\n",
    "#             #if City != None:\n",
    "#                 #City2 =City.get_text().strip()\n",
    "#             Summary = data[element].find('span', {'class' : 'summary'}).get_text().strip()\n",
    "            \n",
    "#             JobTitle= data[element].find('a', {'data-tn-element' : 'jobTitle'}).get_text().strip()\n",
    "    \n",
    "        \n",
    "#             Salary = data[element].find(\"td\", {\"class\": 'snip'}).get_text().strip()\n",
    "            \n",
    "\n",
    "#             df= df.append({'Name':Name, \"City\":City,'Summary':Summary,\"JobTitle\":JobTitle, 'Salary':Salary}, ignore_index =True)\n",
    "# df"
   ]
  },
  {
   "cell_type": "code",
   "execution_count": 10,
   "metadata": {
    "collapsed": false,
    "scrolled": false
   },
   "outputs": [
    {
     "data": {
      "text/plain": [
       "(16258, 4)"
      ]
     },
     "execution_count": 10,
     "metadata": {},
     "output_type": "execute_result"
    }
   ],
   "source": [
    "# df.shape"
   ]
  },
  {
   "cell_type": "markdown",
   "metadata": {},
   "source": [
    "you should eventually categorize your salary ( example midSalary > 100,000 => 1 ) once you are ready, this would be a good target/response/label for your model"
   ]
  },
  {
   "cell_type": "markdown",
   "metadata": {},
   "source": [
    "be sure to remove any noisey characters on columns that you want to be floats or integers\n",
    "\n",
    "i.e sallary\n",
    " \n",
    "df[“salary”] = df.salary.apply(lambda x: x.replace(“$”, “” ) ) # example\n",
    "  \n",
    "you will have more than that to parse out tho\n",
    "\n",
    "so make a function for cleaning that up"
   ]
  },
  {
   "cell_type": "code",
   "execution_count": 37,
   "metadata": {
    "collapsed": false
   },
   "outputs": [
    {
     "data": {
      "text/html": [
       "<div>\n",
       "<table border=\"1\" class=\"dataframe\">\n",
       "  <thead>\n",
       "    <tr style=\"text-align: right;\">\n",
       "      <th></th>\n",
       "      <th>Company Name</th>\n",
       "      <th>Job Title</th>\n",
       "      <th>Location</th>\n",
       "      <th>Salary</th>\n",
       "    </tr>\n",
       "  </thead>\n",
       "  <tbody>\n",
       "    <tr>\n",
       "      <th>0</th>\n",
       "      <td>MobileDev Power</td>\n",
       "      <td>Data Scientist With Predictive Modeling</td>\n",
       "      <td>Atlanta, GA 30305</td>\n",
       "      <td>None</td>\n",
       "    </tr>\n",
       "    <tr>\n",
       "      <th>1</th>\n",
       "      <td>Honeywell</td>\n",
       "      <td>Principal Data Scientist - Atlanta, GA</td>\n",
       "      <td>Atlanta, GA</td>\n",
       "      <td>None</td>\n",
       "    </tr>\n",
       "    <tr>\n",
       "      <th>2</th>\n",
       "      <td>Equifax</td>\n",
       "      <td>Data Scientist, Identity &amp; Linking</td>\n",
       "      <td>Alpharetta, GA</td>\n",
       "      <td>None</td>\n",
       "    </tr>\n",
       "    <tr>\n",
       "      <th>3</th>\n",
       "      <td>Infor</td>\n",
       "      <td>Sr. Data Scientist</td>\n",
       "      <td>Atlanta, GA</td>\n",
       "      <td>None</td>\n",
       "    </tr>\n",
       "    <tr>\n",
       "      <th>4</th>\n",
       "      <td>Pivotal Software</td>\n",
       "      <td>Sr. Data Scientist</td>\n",
       "      <td>Atlanta, GA</td>\n",
       "      <td>None</td>\n",
       "    </tr>\n",
       "  </tbody>\n",
       "</table>\n",
       "</div>"
      ],
      "text/plain": [
       "       Company Name                                Job Title  \\\n",
       "0   MobileDev Power  Data Scientist With Predictive Modeling   \n",
       "1         Honeywell   Principal Data Scientist - Atlanta, GA   \n",
       "2           Equifax       Data Scientist, Identity & Linking   \n",
       "3             Infor                       Sr. Data Scientist   \n",
       "4  Pivotal Software                       Sr. Data Scientist   \n",
       "\n",
       "            Location Salary  \n",
       "0  Atlanta, GA 30305   None  \n",
       "1        Atlanta, GA   None  \n",
       "2     Alpharetta, GA   None  \n",
       "3        Atlanta, GA   None  \n",
       "4        Atlanta, GA   None  "
      ]
     },
     "execution_count": 37,
     "metadata": {},
     "output_type": "execute_result"
    }
   ],
   "source": [
    "# df.head()"
   ]
  },
  {
   "cell_type": "code",
   "execution_count": 38,
   "metadata": {
    "collapsed": true
   },
   "outputs": [],
   "source": [
    "# df2=df.drop_duplicates().copy()\n"
   ]
  },
  {
   "cell_type": "code",
   "execution_count": 39,
   "metadata": {
    "collapsed": false
   },
   "outputs": [
    {
     "data": {
      "text/plain": [
       "(4731, 4)"
      ]
     },
     "execution_count": 39,
     "metadata": {},
     "output_type": "execute_result"
    }
   ],
   "source": [
    "# df2.shape"
   ]
  },
  {
   "cell_type": "code",
   "execution_count": 40,
   "metadata": {
    "collapsed": false
   },
   "outputs": [
    {
     "data": {
      "text/plain": [
       "Company Name    object\n",
       "Job Title       object\n",
       "Location        object\n",
       "Salary          object\n",
       "dtype: object"
      ]
     },
     "execution_count": 40,
     "metadata": {},
     "output_type": "execute_result"
    }
   ],
   "source": [
    "# df.dtypes"
   ]
  },
  {
   "cell_type": "markdown",
   "metadata": {},
   "source": [
    "#create a dataframe and replace no entry with none for  salary no bolean\n"
   ]
  },
  {
   "cell_type": "code",
   "execution_count": 41,
   "metadata": {
    "collapsed": false
   },
   "outputs": [
    {
     "name": "stderr",
     "output_type": "stream",
     "text": [
      "/anaconda/lib/python2.7/site-packages/ipykernel/__main__.py:1: UserWarning: Boolean Series key will be reindexed to match DataFrame index.\n",
      "  if __name__ == '__main__':\n"
     ]
    },
    {
     "data": {
      "text/html": [
       "<div>\n",
       "<table border=\"1\" class=\"dataframe\">\n",
       "  <thead>\n",
       "    <tr style=\"text-align: right;\">\n",
       "      <th></th>\n",
       "      <th>Company Name</th>\n",
       "      <th>Job Title</th>\n",
       "      <th>Location</th>\n",
       "      <th>Salary</th>\n",
       "    </tr>\n",
       "  </thead>\n",
       "  <tbody>\n",
       "    <tr>\n",
       "      <th>0</th>\n",
       "      <td>MobileDev Power</td>\n",
       "      <td>Data Scientist With Predictive Modeling</td>\n",
       "      <td>Atlanta, GA 30305</td>\n",
       "      <td>None</td>\n",
       "    </tr>\n",
       "    <tr>\n",
       "      <th>1</th>\n",
       "      <td>Honeywell</td>\n",
       "      <td>Principal Data Scientist - Atlanta, GA</td>\n",
       "      <td>Atlanta, GA</td>\n",
       "      <td>None</td>\n",
       "    </tr>\n",
       "    <tr>\n",
       "      <th>2</th>\n",
       "      <td>Equifax</td>\n",
       "      <td>Data Scientist, Identity &amp; Linking</td>\n",
       "      <td>Alpharetta, GA</td>\n",
       "      <td>None</td>\n",
       "    </tr>\n",
       "    <tr>\n",
       "      <th>3</th>\n",
       "      <td>Infor</td>\n",
       "      <td>Sr. Data Scientist</td>\n",
       "      <td>Atlanta, GA</td>\n",
       "      <td>None</td>\n",
       "    </tr>\n",
       "    <tr>\n",
       "      <th>4</th>\n",
       "      <td>Pivotal Software</td>\n",
       "      <td>Sr. Data Scientist</td>\n",
       "      <td>Atlanta, GA</td>\n",
       "      <td>None</td>\n",
       "    </tr>\n",
       "  </tbody>\n",
       "</table>\n",
       "</div>"
      ],
      "text/plain": [
       "       Company Name                                Job Title  \\\n",
       "0   MobileDev Power  Data Scientist With Predictive Modeling   \n",
       "1         Honeywell   Principal Data Scientist - Atlanta, GA   \n",
       "2           Equifax       Data Scientist, Identity & Linking   \n",
       "3             Infor                       Sr. Data Scientist   \n",
       "4  Pivotal Software                       Sr. Data Scientist   \n",
       "\n",
       "            Location Salary  \n",
       "0  Atlanta, GA 30305   None  \n",
       "1        Atlanta, GA   None  \n",
       "2     Alpharetta, GA   None  \n",
       "3        Atlanta, GA   None  \n",
       "4        Atlanta, GA   None  "
      ]
     },
     "execution_count": 41,
     "metadata": {},
     "output_type": "execute_result"
    }
   ],
   "source": [
    "# df_no_salary=df2[df['Salary'].isnull()].copy()\n",
    "# df_no_salary.head()"
   ]
  },
  {
   "cell_type": "code",
   "execution_count": 42,
   "metadata": {
    "collapsed": false
   },
   "outputs": [
    {
     "data": {
      "text/html": [
       "<div>\n",
       "<table border=\"1\" class=\"dataframe\">\n",
       "  <thead>\n",
       "    <tr style=\"text-align: right;\">\n",
       "      <th></th>\n",
       "      <th>Company Name</th>\n",
       "      <th>Job Title</th>\n",
       "      <th>Location</th>\n",
       "      <th>Salary</th>\n",
       "    </tr>\n",
       "  </thead>\n",
       "  <tbody>\n",
       "    <tr>\n",
       "      <th>0</th>\n",
       "      <td>MobileDev Power</td>\n",
       "      <td>Data Scientist With Predictive Modeling</td>\n",
       "      <td>Atlanta, GA 30305</td>\n",
       "      <td>None</td>\n",
       "    </tr>\n",
       "    <tr>\n",
       "      <th>1</th>\n",
       "      <td>Honeywell</td>\n",
       "      <td>Principal Data Scientist - Atlanta, GA</td>\n",
       "      <td>Atlanta, GA</td>\n",
       "      <td>None</td>\n",
       "    </tr>\n",
       "    <tr>\n",
       "      <th>2</th>\n",
       "      <td>Equifax</td>\n",
       "      <td>Data Scientist, Identity &amp; Linking</td>\n",
       "      <td>Alpharetta, GA</td>\n",
       "      <td>None</td>\n",
       "    </tr>\n",
       "    <tr>\n",
       "      <th>3</th>\n",
       "      <td>Infor</td>\n",
       "      <td>Sr. Data Scientist</td>\n",
       "      <td>Atlanta, GA</td>\n",
       "      <td>None</td>\n",
       "    </tr>\n",
       "    <tr>\n",
       "      <th>4</th>\n",
       "      <td>Pivotal Software</td>\n",
       "      <td>Sr. Data Scientist</td>\n",
       "      <td>Atlanta, GA</td>\n",
       "      <td>None</td>\n",
       "    </tr>\n",
       "  </tbody>\n",
       "</table>\n",
       "</div>"
      ],
      "text/plain": [
       "       Company Name                                Job Title  \\\n",
       "0   MobileDev Power  Data Scientist With Predictive Modeling   \n",
       "1         Honeywell   Principal Data Scientist - Atlanta, GA   \n",
       "2           Equifax       Data Scientist, Identity & Linking   \n",
       "3             Infor                       Sr. Data Scientist   \n",
       "4  Pivotal Software                       Sr. Data Scientist   \n",
       "\n",
       "            Location Salary  \n",
       "0  Atlanta, GA 30305   None  \n",
       "1        Atlanta, GA   None  \n",
       "2     Alpharetta, GA   None  \n",
       "3        Atlanta, GA   None  \n",
       "4        Atlanta, GA   None  "
      ]
     },
     "execution_count": 42,
     "metadata": {},
     "output_type": "execute_result"
    }
   ],
   "source": [
    "# df2.head()"
   ]
  },
  {
   "cell_type": "code",
   "execution_count": 43,
   "metadata": {
    "collapsed": false
   },
   "outputs": [],
   "source": [
    "#drop the none values\n",
    "# df2.dropna(inplace =True)"
   ]
  },
  {
   "cell_type": "code",
   "execution_count": 44,
   "metadata": {
    "collapsed": false
   },
   "outputs": [
    {
     "data": {
      "text/html": [
       "<div>\n",
       "<table border=\"1\" class=\"dataframe\">\n",
       "  <thead>\n",
       "    <tr style=\"text-align: right;\">\n",
       "      <th></th>\n",
       "      <th>Company Name</th>\n",
       "      <th>Job Title</th>\n",
       "      <th>Location</th>\n",
       "      <th>Salary</th>\n",
       "    </tr>\n",
       "  </thead>\n",
       "  <tbody>\n",
       "    <tr>\n",
       "      <th>18</th>\n",
       "      <td>eTek IT Services, Inc.</td>\n",
       "      <td>Big Data Engineer</td>\n",
       "      <td>Atlanta, GA</td>\n",
       "      <td>$67 an hour</td>\n",
       "    </tr>\n",
       "    <tr>\n",
       "      <th>19</th>\n",
       "      <td>Centers for Disease Control and Prevention</td>\n",
       "      <td>Statistician (Health)</td>\n",
       "      <td>Atlanta, GA</td>\n",
       "      <td>$88,305 - $114,802 a year</td>\n",
       "    </tr>\n",
       "    <tr>\n",
       "      <th>23</th>\n",
       "      <td>Analytic Recruiting</td>\n",
       "      <td>Junior Data Scientist</td>\n",
       "      <td>Alpharetta, GA</td>\n",
       "      <td>$75,000 - $90,000 a year</td>\n",
       "    </tr>\n",
       "    <tr>\n",
       "      <th>27</th>\n",
       "      <td>Centers for Disease Control and Prevention</td>\n",
       "      <td>Behavioral Scientist</td>\n",
       "      <td>Atlanta, GA</td>\n",
       "      <td>$74,260 - $96,538 a year</td>\n",
       "    </tr>\n",
       "    <tr>\n",
       "      <th>54</th>\n",
       "      <td>Stackfolio</td>\n",
       "      <td>Lead Data Scientist</td>\n",
       "      <td>Atlanta, GA 30308 (Old Fourth Ward area)</td>\n",
       "      <td>$80,000 a year</td>\n",
       "    </tr>\n",
       "  </tbody>\n",
       "</table>\n",
       "</div>"
      ],
      "text/plain": [
       "                                  Company Name              Job Title  \\\n",
       "18                      eTek IT Services, Inc.      Big Data Engineer   \n",
       "19  Centers for Disease Control and Prevention  Statistician (Health)   \n",
       "23                         Analytic Recruiting  Junior Data Scientist   \n",
       "27  Centers for Disease Control and Prevention   Behavioral Scientist   \n",
       "54                                  Stackfolio    Lead Data Scientist   \n",
       "\n",
       "                                    Location                     Salary  \n",
       "18                               Atlanta, GA                $67 an hour  \n",
       "19                               Atlanta, GA  $88,305 - $114,802 a year  \n",
       "23                            Alpharetta, GA   $75,000 - $90,000 a year  \n",
       "27                               Atlanta, GA   $74,260 - $96,538 a year  \n",
       "54  Atlanta, GA 30308 (Old Fourth Ward area)             $80,000 a year  "
      ]
     },
     "execution_count": 44,
     "metadata": {},
     "output_type": "execute_result"
    }
   ],
   "source": [
    "df2.head()"
   ]
  },
  {
   "cell_type": "code",
   "execution_count": 51,
   "metadata": {
    "collapsed": false
   },
   "outputs": [
    {
     "data": {
      "text/plain": [
       "(280, 4)"
      ]
     },
     "execution_count": 51,
     "metadata": {},
     "output_type": "execute_result"
    }
   ],
   "source": [
    "# df2.shape"
   ]
  },
  {
   "cell_type": "code",
   "execution_count": 35,
   "metadata": {
    "collapsed": true
   },
   "outputs": [],
   "source": [
    "# df2.to_csv('indeedsoup_file.csv', encoding='utf-8')"
   ]
  },
  {
   "cell_type": "code",
   "execution_count": 17,
   "metadata": {
    "collapsed": true
   },
   "outputs": [],
   "source": [
    "# categorical = df.dtypes[df.dtypes == \"object\"].index\n",
    "# df[categorical].describe()"
   ]
  },
  {
   "cell_type": "code",
   "execution_count": null,
   "metadata": {
    "collapsed": true
   },
   "outputs": [],
   "source": []
  },
  {
   "cell_type": "code",
   "execution_count": 18,
   "metadata": {
    "collapsed": true
   },
   "outputs": [],
   "source": [
    "# mergedDF = [df, df2]\n",
    "# df2 = pd.concat(mergedDF)\n",
    "# df2 = df2.reset_index()\n",
    "# del df2['index']"
   ]
  },
  {
   "cell_type": "code",
   "execution_count": null,
   "metadata": {
    "collapsed": true
   },
   "outputs": [],
   "source": []
  },
  {
   "cell_type": "markdown",
   "metadata": {
    "focus": false,
    "id": "10eb5902-4727-4947-a167-2531aa12a427"
   },
   "source": [
    "#### Use the functions you wrote above to parse out the 4 fields - location, title, company and salary. Create a dataframe from the results with those 4 columns."
   ]
  },
  {
   "cell_type": "markdown",
   "metadata": {},
   "source": [
    "ALREADY BEEN DONE(SEE ABOVE)"
   ]
  },
  {
   "cell_type": "code",
   "execution_count": 19,
   "metadata": {
    "collapsed": false,
    "focus": false,
    "id": "d601ff2f-fbdf-4c4f-8bbe-10c4a3132cc8"
   },
   "outputs": [],
   "source": [
    "# # combine data into dictionaries\n",
    "# rows = []\n",
    "# for result in results:\n",
    "#     if result:\n",
    "#         row = {}\n",
    "\n",
    "# # create dataframe\n",
    "# import pandas as pd\n",
    "\n"
   ]
  },
  {
   "cell_type": "markdown",
   "metadata": {
    "focus": false,
    "id": "faac26dc-392a-4f90-a397-144a070702cb"
   },
   "source": [
    "Lastly, we need to clean up salary data. \n",
    "\n",
    "1. Only a small number of the scraped results have salary information - only these will be used for modeling.\n",
    "1. Some of the salaries are not yearly but hourly or weekly, these will not be useful to us for now\n",
    "1. Some of the entries may be duplicated\n",
    "1. The salaries are given as text and usually with ranges.\n",
    "\n",
    "#### Find the entries with annual salary entries, by filtering the entries without salaries or salaries that are not yearly (filter those that refer to hour or week). Also, remove duplicate entries"
   ]
  },
  {
   "cell_type": "code",
   "execution_count": 55,
   "metadata": {
    "collapsed": false,
    "focus": false,
    "id": "58ff72c5-eef2-4a86-93ac-22f84ed9b752"
   },
   "outputs": [],
   "source": [
    "# Filter to only the rows that have salary entries\n",
    "\n",
    "# Remove duplicates\n",
    "\n",
    "# # Filter out salary entries referring to week, hour or month\n",
    "# df2 = df2[~(df2.Salary.astype('str').str.contains('hr'))] # example\n",
    "# df2 = df2[~(df2.Salary.astype('str').str.contains('hour'))] \n",
    "# df2 = df2[~(df2.Salary.astype('str').str.contains('day'))] \n",
    "# df2 = df2[~(df2.Salary.astype('str').str.contains('week'))] \n",
    "# df2 = df2[~(df2.Salary.astype('str').str.contains('month'))] "
   ]
  },
  {
   "cell_type": "markdown",
   "metadata": {
    "focus": false,
    "id": "e1f58de9-78a7-49c1-b1ff-145a8f983790"
   },
   "source": [
    "#### Write a function that takes a salary string and converts it to a number, averaging a salary range if necessary"
   ]
  },
  {
   "cell_type": "code",
   "execution_count": 56,
   "metadata": {
    "collapsed": true,
    "focus": false,
    "id": "f2eaea83-8f84-48d3-af17-037538d06601"
   },
   "outputs": [],
   "source": [
    "# import re\n",
    "# import numpy as np\n",
    "# def extract_salary_average(salary_string):\n",
    "#     regex = r'\\$([0-9]+,[0-9]+)'\n",
    "#     matches = re.findall(regex, salary_string)\n",
    "#     return np.mean([float(salary.replace(',', '')) for salary in matches ])"
   ]
  },
  {
   "cell_type": "code",
   "execution_count": null,
   "metadata": {
    "collapsed": true
   },
   "outputs": [],
   "source": [
    "# use '.map' or apply to transform salary to new feature"
   ]
  },
  {
   "cell_type": "code",
   "execution_count": 57,
   "metadata": {
    "collapsed": false,
    "scrolled": true
   },
   "outputs": [
    {
     "data": {
      "text/html": [
       "<div>\n",
       "<table border=\"1\" class=\"dataframe\">\n",
       "  <thead>\n",
       "    <tr style=\"text-align: right;\">\n",
       "      <th></th>\n",
       "      <th>Company Name</th>\n",
       "      <th>Job Title</th>\n",
       "      <th>Location</th>\n",
       "      <th>Salary</th>\n",
       "      <th>average_salary</th>\n",
       "    </tr>\n",
       "  </thead>\n",
       "  <tbody>\n",
       "    <tr>\n",
       "      <th>19</th>\n",
       "      <td>Centers for Disease Control and Prevention</td>\n",
       "      <td>Statistician (Health)</td>\n",
       "      <td>Atlanta, GA</td>\n",
       "      <td>$88,305 - $114,802 a year</td>\n",
       "      <td>101553.5</td>\n",
       "    </tr>\n",
       "    <tr>\n",
       "      <th>23</th>\n",
       "      <td>Analytic Recruiting</td>\n",
       "      <td>Junior Data Scientist</td>\n",
       "      <td>Alpharetta, GA</td>\n",
       "      <td>$75,000 - $90,000 a year</td>\n",
       "      <td>82500.0</td>\n",
       "    </tr>\n",
       "    <tr>\n",
       "      <th>27</th>\n",
       "      <td>Centers for Disease Control and Prevention</td>\n",
       "      <td>Behavioral Scientist</td>\n",
       "      <td>Atlanta, GA</td>\n",
       "      <td>$74,260 - $96,538 a year</td>\n",
       "      <td>85399.0</td>\n",
       "    </tr>\n",
       "    <tr>\n",
       "      <th>54</th>\n",
       "      <td>Stackfolio</td>\n",
       "      <td>Lead Data Scientist</td>\n",
       "      <td>Atlanta, GA 30308 (Old Fourth Ward area)</td>\n",
       "      <td>$80,000 a year</td>\n",
       "      <td>80000.0</td>\n",
       "    </tr>\n",
       "    <tr>\n",
       "      <th>57</th>\n",
       "      <td>Analytic Recruiting</td>\n",
       "      <td>Senior Data Scientist</td>\n",
       "      <td>Atlanta, GA</td>\n",
       "      <td>$100,000 - $125,000 a year</td>\n",
       "      <td>112500.0</td>\n",
       "    </tr>\n",
       "  </tbody>\n",
       "</table>\n",
       "</div>"
      ],
      "text/plain": [
       "                                  Company Name              Job Title  \\\n",
       "19  Centers for Disease Control and Prevention  Statistician (Health)   \n",
       "23                         Analytic Recruiting  Junior Data Scientist   \n",
       "27  Centers for Disease Control and Prevention   Behavioral Scientist   \n",
       "54                                  Stackfolio    Lead Data Scientist   \n",
       "57                         Analytic Recruiting  Senior Data Scientist   \n",
       "\n",
       "                                    Location                      Salary  \\\n",
       "19                               Atlanta, GA   $88,305 - $114,802 a year   \n",
       "23                            Alpharetta, GA    $75,000 - $90,000 a year   \n",
       "27                               Atlanta, GA    $74,260 - $96,538 a year   \n",
       "54  Atlanta, GA 30308 (Old Fourth Ward area)              $80,000 a year   \n",
       "57                               Atlanta, GA  $100,000 - $125,000 a year   \n",
       "\n",
       "    average_salary  \n",
       "19        101553.5  \n",
       "23         82500.0  \n",
       "27         85399.0  \n",
       "54         80000.0  \n",
       "57        112500.0  "
      ]
     },
     "execution_count": 57,
     "metadata": {},
     "output_type": "execute_result"
    }
   ],
   "source": [
    "# df2['average_salary'] = df2['Salary'].apply(lambda x: extract_salary_average(x))\n",
    "# df2.head()"
   ]
  },
  {
   "cell_type": "code",
   "execution_count": 59,
   "metadata": {
    "collapsed": false
   },
   "outputs": [
    {
     "data": {
      "text/plain": [
       "(241, 5)"
      ]
     },
     "execution_count": 59,
     "metadata": {},
     "output_type": "execute_result"
    }
   ],
   "source": [
    "# df2.shape"
   ]
  },
  {
   "cell_type": "code",
   "execution_count": null,
   "metadata": {
    "collapsed": true
   },
   "outputs": [],
   "source": [
    "# df2=dfcleanMonthlydata\n"
   ]
  },
  {
   "cell_type": "code",
   "execution_count": 63,
   "metadata": {
    "collapsed": false
   },
   "outputs": [],
   "source": [
    "# def city_extract(word):\n",
    "    return word.split(',')[0].split('.')[0].strip()"
   ]
  },
  {
   "cell_type": "code",
   "execution_count": 74,
   "metadata": {
    "collapsed": true
   },
   "outputs": [],
   "source": [
    "# def state_extract(word):\n",
    "    return word.split(',')[1].split(' ')[1]"
   ]
  },
  {
   "cell_type": "code",
   "execution_count": 75,
   "metadata": {
    "collapsed": false
   },
   "outputs": [],
   "source": [
    "# df2['city']=pd.DataFrame({'city':df2['Location'].apply(city_extract)})"
   ]
  },
  {
   "cell_type": "code",
   "execution_count": 76,
   "metadata": {
    "collapsed": false
   },
   "outputs": [],
   "source": [
    "# df2['state']=pd.DataFrame({'state':df2['Location'].apply(state_extract)})"
   ]
  },
  {
   "cell_type": "code",
   "execution_count": 77,
   "metadata": {
    "collapsed": false
   },
   "outputs": [
    {
     "data": {
      "text/html": [
       "<div>\n",
       "<table border=\"1\" class=\"dataframe\">\n",
       "  <thead>\n",
       "    <tr style=\"text-align: right;\">\n",
       "      <th></th>\n",
       "      <th>Company Name</th>\n",
       "      <th>Job Title</th>\n",
       "      <th>Location</th>\n",
       "      <th>Salary</th>\n",
       "      <th>average_salary</th>\n",
       "      <th>city</th>\n",
       "      <th>state</th>\n",
       "    </tr>\n",
       "  </thead>\n",
       "  <tbody>\n",
       "    <tr>\n",
       "      <th>19</th>\n",
       "      <td>Centers for Disease Control and Prevention</td>\n",
       "      <td>Statistician (Health)</td>\n",
       "      <td>Atlanta, GA</td>\n",
       "      <td>$88,305 - $114,802 a year</td>\n",
       "      <td>101553.5</td>\n",
       "      <td>Atlanta</td>\n",
       "      <td>GA</td>\n",
       "    </tr>\n",
       "    <tr>\n",
       "      <th>23</th>\n",
       "      <td>Analytic Recruiting</td>\n",
       "      <td>Junior Data Scientist</td>\n",
       "      <td>Alpharetta, GA</td>\n",
       "      <td>$75,000 - $90,000 a year</td>\n",
       "      <td>82500.0</td>\n",
       "      <td>Alpharetta</td>\n",
       "      <td>GA</td>\n",
       "    </tr>\n",
       "    <tr>\n",
       "      <th>27</th>\n",
       "      <td>Centers for Disease Control and Prevention</td>\n",
       "      <td>Behavioral Scientist</td>\n",
       "      <td>Atlanta, GA</td>\n",
       "      <td>$74,260 - $96,538 a year</td>\n",
       "      <td>85399.0</td>\n",
       "      <td>Atlanta</td>\n",
       "      <td>GA</td>\n",
       "    </tr>\n",
       "    <tr>\n",
       "      <th>54</th>\n",
       "      <td>Stackfolio</td>\n",
       "      <td>Lead Data Scientist</td>\n",
       "      <td>Atlanta, GA 30308 (Old Fourth Ward area)</td>\n",
       "      <td>$80,000 a year</td>\n",
       "      <td>80000.0</td>\n",
       "      <td>Atlanta</td>\n",
       "      <td>GA</td>\n",
       "    </tr>\n",
       "    <tr>\n",
       "      <th>57</th>\n",
       "      <td>Analytic Recruiting</td>\n",
       "      <td>Senior Data Scientist</td>\n",
       "      <td>Atlanta, GA</td>\n",
       "      <td>$100,000 - $125,000 a year</td>\n",
       "      <td>112500.0</td>\n",
       "      <td>Atlanta</td>\n",
       "      <td>GA</td>\n",
       "    </tr>\n",
       "  </tbody>\n",
       "</table>\n",
       "</div>"
      ],
      "text/plain": [
       "                                  Company Name              Job Title  \\\n",
       "19  Centers for Disease Control and Prevention  Statistician (Health)   \n",
       "23                         Analytic Recruiting  Junior Data Scientist   \n",
       "27  Centers for Disease Control and Prevention   Behavioral Scientist   \n",
       "54                                  Stackfolio    Lead Data Scientist   \n",
       "57                         Analytic Recruiting  Senior Data Scientist   \n",
       "\n",
       "                                    Location                      Salary  \\\n",
       "19                               Atlanta, GA   $88,305 - $114,802 a year   \n",
       "23                            Alpharetta, GA    $75,000 - $90,000 a year   \n",
       "27                               Atlanta, GA    $74,260 - $96,538 a year   \n",
       "54  Atlanta, GA 30308 (Old Fourth Ward area)              $80,000 a year   \n",
       "57                               Atlanta, GA  $100,000 - $125,000 a year   \n",
       "\n",
       "    average_salary        city state  \n",
       "19        101553.5     Atlanta    GA  \n",
       "23         82500.0  Alpharetta    GA  \n",
       "27         85399.0     Atlanta    GA  \n",
       "54         80000.0     Atlanta    GA  \n",
       "57        112500.0     Atlanta    GA  "
      ]
     },
     "execution_count": 77,
     "metadata": {},
     "output_type": "execute_result"
    }
   ],
   "source": [
    "# df2.head()"
   ]
  },
  {
   "cell_type": "code",
   "execution_count": 84,
   "metadata": {
    "collapsed": false
   },
   "outputs": [],
   "source": [
    "# df2 = df2.drop('Location', 1)\n",
    "# del df2(['Location'])"
   ]
  },
  {
   "cell_type": "code",
   "execution_count": 85,
   "metadata": {
    "collapsed": true
   },
   "outputs": [],
   "source": [
    "# df2 = df2.drop('Salary', 1)"
   ]
  },
  {
   "cell_type": "code",
   "execution_count": 86,
   "metadata": {
    "collapsed": false
   },
   "outputs": [
    {
     "data": {
      "text/html": [
       "<div>\n",
       "<table border=\"1\" class=\"dataframe\">\n",
       "  <thead>\n",
       "    <tr style=\"text-align: right;\">\n",
       "      <th></th>\n",
       "      <th>Company Name</th>\n",
       "      <th>Job Title</th>\n",
       "      <th>average_salary</th>\n",
       "      <th>city</th>\n",
       "      <th>state</th>\n",
       "    </tr>\n",
       "  </thead>\n",
       "  <tbody>\n",
       "    <tr>\n",
       "      <th>19</th>\n",
       "      <td>Centers for Disease Control and Prevention</td>\n",
       "      <td>Statistician (Health)</td>\n",
       "      <td>101553.5</td>\n",
       "      <td>Atlanta</td>\n",
       "      <td>GA</td>\n",
       "    </tr>\n",
       "    <tr>\n",
       "      <th>23</th>\n",
       "      <td>Analytic Recruiting</td>\n",
       "      <td>Junior Data Scientist</td>\n",
       "      <td>82500.0</td>\n",
       "      <td>Alpharetta</td>\n",
       "      <td>GA</td>\n",
       "    </tr>\n",
       "    <tr>\n",
       "      <th>27</th>\n",
       "      <td>Centers for Disease Control and Prevention</td>\n",
       "      <td>Behavioral Scientist</td>\n",
       "      <td>85399.0</td>\n",
       "      <td>Atlanta</td>\n",
       "      <td>GA</td>\n",
       "    </tr>\n",
       "    <tr>\n",
       "      <th>54</th>\n",
       "      <td>Stackfolio</td>\n",
       "      <td>Lead Data Scientist</td>\n",
       "      <td>80000.0</td>\n",
       "      <td>Atlanta</td>\n",
       "      <td>GA</td>\n",
       "    </tr>\n",
       "    <tr>\n",
       "      <th>57</th>\n",
       "      <td>Analytic Recruiting</td>\n",
       "      <td>Senior Data Scientist</td>\n",
       "      <td>112500.0</td>\n",
       "      <td>Atlanta</td>\n",
       "      <td>GA</td>\n",
       "    </tr>\n",
       "  </tbody>\n",
       "</table>\n",
       "</div>"
      ],
      "text/plain": [
       "                                  Company Name              Job Title  \\\n",
       "19  Centers for Disease Control and Prevention  Statistician (Health)   \n",
       "23                         Analytic Recruiting  Junior Data Scientist   \n",
       "27  Centers for Disease Control and Prevention   Behavioral Scientist   \n",
       "54                                  Stackfolio    Lead Data Scientist   \n",
       "57                         Analytic Recruiting  Senior Data Scientist   \n",
       "\n",
       "    average_salary        city state  \n",
       "19        101553.5     Atlanta    GA  \n",
       "23         82500.0  Alpharetta    GA  \n",
       "27         85399.0     Atlanta    GA  \n",
       "54         80000.0     Atlanta    GA  \n",
       "57        112500.0     Atlanta    GA  "
      ]
     },
     "execution_count": 86,
     "metadata": {},
     "output_type": "execute_result"
    }
   ],
   "source": [
    "# df2.head()"
   ]
  },
  {
   "cell_type": "code",
   "execution_count": 87,
   "metadata": {
    "collapsed": false,
    "focus": false,
    "id": "5d66eb8a-a032-43f7-8e87-8f37612c2ce5"
   },
   "outputs": [],
   "source": [
    "# save scraped results as a CSV for Tableau/external viz\n",
    "# df2.to_csv('indeedsoup_file.csv', encoding='utf-8')"
   ]
  },
  {
   "cell_type": "markdown",
   "metadata": {
    "focus": false,
    "id": "6e8a5a1c-1580-4845-a9b6-482bc00c73cd"
   },
   "source": [
    "## Predicting salaries using Logistic Regression"
   ]
  },
  {
   "cell_type": "code",
   "execution_count": 125,
   "metadata": {
    "collapsed": false
   },
   "outputs": [],
   "source": [
    "import pandas as pd\n",
    "import numpy as np\n",
    "\n",
    "# sys.setdefaultencoding('utf-8')\n",
    "import pylab as pl\n",
    "import matplotlib.pyplot as plt\n",
    "import statsmodels.formula.api as sm\n",
    "from sklearn.linear_model import LogisticRegression,LogisticRegressionCV\n",
    "from sklearn.cross_validation import cross_val_score, train_test_split\n",
    "from sklearn.preprocessing import scale\n",
    "from sklearn.metrics import confusion_matrix\n",
    "from sklearn.preprocessing import StandardScaler\n",
    "from patsy import dmatrix\n",
    "\n",
    "\n"
   ]
  },
  {
   "cell_type": "code",
   "execution_count": 120,
   "metadata": {
    "collapsed": false,
    "focus": false,
    "id": "634ab7c1-c76f-4b04-a36e-5ff3cb1f9eb2"
   },
   "outputs": [
    {
     "data": {
      "text/html": [
       "<div>\n",
       "<table border=\"1\" class=\"dataframe\">\n",
       "  <thead>\n",
       "    <tr style=\"text-align: right;\">\n",
       "      <th></th>\n",
       "      <th>Unnamed: 0</th>\n",
       "      <th>Company Name</th>\n",
       "      <th>Job Title</th>\n",
       "      <th>average_salary</th>\n",
       "      <th>city</th>\n",
       "      <th>state</th>\n",
       "    </tr>\n",
       "  </thead>\n",
       "  <tbody>\n",
       "    <tr>\n",
       "      <th>0</th>\n",
       "      <td>19</td>\n",
       "      <td>Centers for Disease Control and Prevention</td>\n",
       "      <td>Statistician (Health)</td>\n",
       "      <td>101553.5</td>\n",
       "      <td>Atlanta</td>\n",
       "      <td>GA</td>\n",
       "    </tr>\n",
       "    <tr>\n",
       "      <th>1</th>\n",
       "      <td>23</td>\n",
       "      <td>Analytic Recruiting</td>\n",
       "      <td>Junior Data Scientist</td>\n",
       "      <td>82500.0</td>\n",
       "      <td>Alpharetta</td>\n",
       "      <td>GA</td>\n",
       "    </tr>\n",
       "    <tr>\n",
       "      <th>2</th>\n",
       "      <td>27</td>\n",
       "      <td>Centers for Disease Control and Prevention</td>\n",
       "      <td>Behavioral Scientist</td>\n",
       "      <td>85399.0</td>\n",
       "      <td>Atlanta</td>\n",
       "      <td>GA</td>\n",
       "    </tr>\n",
       "    <tr>\n",
       "      <th>3</th>\n",
       "      <td>54</td>\n",
       "      <td>Stackfolio</td>\n",
       "      <td>Lead Data Scientist</td>\n",
       "      <td>80000.0</td>\n",
       "      <td>Atlanta</td>\n",
       "      <td>GA</td>\n",
       "    </tr>\n",
       "    <tr>\n",
       "      <th>4</th>\n",
       "      <td>57</td>\n",
       "      <td>Analytic Recruiting</td>\n",
       "      <td>Senior Data Scientist</td>\n",
       "      <td>112500.0</td>\n",
       "      <td>Atlanta</td>\n",
       "      <td>GA</td>\n",
       "    </tr>\n",
       "  </tbody>\n",
       "</table>\n",
       "</div>"
      ],
      "text/plain": [
       "   Unnamed: 0                                Company Name  \\\n",
       "0          19  Centers for Disease Control and Prevention   \n",
       "1          23                         Analytic Recruiting   \n",
       "2          27  Centers for Disease Control and Prevention   \n",
       "3          54                                  Stackfolio   \n",
       "4          57                         Analytic Recruiting   \n",
       "\n",
       "               Job Title  average_salary        city state  \n",
       "0  Statistician (Health)        101553.5     Atlanta    GA  \n",
       "1  Junior Data Scientist         82500.0  Alpharetta    GA  \n",
       "2   Behavioral Scientist         85399.0     Atlanta    GA  \n",
       "3    Lead Data Scientist         80000.0     Atlanta    GA  \n",
       "4  Senior Data Scientist        112500.0     Atlanta    GA  "
      ]
     },
     "execution_count": 120,
     "metadata": {},
     "output_type": "execute_result"
    }
   ],
   "source": [
    "# load in the the data of scraped salaries\n",
    "df3=pd.read_csv(\"indeedsoup_file.csv\")\n",
    "df3.head()"
   ]
  },
  {
   "cell_type": "markdown",
   "metadata": {
    "focus": false,
    "id": "c3ed6de7-8fe0-4cf4-abbd-abb2a188e05b"
   },
   "source": [
    "#### We want to predict a binary variable - whether the salary was low or high. Compute the median salary and create a new binary variable that is true when the salary is high (above the median)"
   ]
  },
  {
   "cell_type": "code",
   "execution_count": 121,
   "metadata": {
    "collapsed": false,
    "focus": false,
    "id": "073e3f3e-21bc-4ab7-ae2e-272be0a409cc"
   },
   "outputs": [
    {
     "data": {
      "text/plain": [
       "97500.0"
      ]
     },
     "execution_count": 121,
     "metadata": {},
     "output_type": "execute_result"
    }
   ],
   "source": [
    "# calculate median and create feature with 1 as high salary\n",
    "df3['average_salary'].median()"
   ]
  },
  {
   "cell_type": "code",
   "execution_count": 122,
   "metadata": {
    "collapsed": false
   },
   "outputs": [],
   "source": [
    "df3['high_salary']= [1 if x > df3['average_salary'].median() else 0 for x in df3['average_salary']]"
   ]
  },
  {
   "cell_type": "code",
   "execution_count": 123,
   "metadata": {
    "collapsed": false
   },
   "outputs": [
    {
     "data": {
      "text/html": [
       "<div>\n",
       "<table border=\"1\" class=\"dataframe\">\n",
       "  <thead>\n",
       "    <tr style=\"text-align: right;\">\n",
       "      <th></th>\n",
       "      <th>Unnamed: 0</th>\n",
       "      <th>Company Name</th>\n",
       "      <th>Job Title</th>\n",
       "      <th>average_salary</th>\n",
       "      <th>city</th>\n",
       "      <th>state</th>\n",
       "      <th>high_salary</th>\n",
       "    </tr>\n",
       "  </thead>\n",
       "  <tbody>\n",
       "    <tr>\n",
       "      <th>0</th>\n",
       "      <td>19</td>\n",
       "      <td>Centers for Disease Control and Prevention</td>\n",
       "      <td>Statistician (Health)</td>\n",
       "      <td>101553.5</td>\n",
       "      <td>Atlanta</td>\n",
       "      <td>GA</td>\n",
       "      <td>1</td>\n",
       "    </tr>\n",
       "    <tr>\n",
       "      <th>1</th>\n",
       "      <td>23</td>\n",
       "      <td>Analytic Recruiting</td>\n",
       "      <td>Junior Data Scientist</td>\n",
       "      <td>82500.0</td>\n",
       "      <td>Alpharetta</td>\n",
       "      <td>GA</td>\n",
       "      <td>0</td>\n",
       "    </tr>\n",
       "    <tr>\n",
       "      <th>2</th>\n",
       "      <td>27</td>\n",
       "      <td>Centers for Disease Control and Prevention</td>\n",
       "      <td>Behavioral Scientist</td>\n",
       "      <td>85399.0</td>\n",
       "      <td>Atlanta</td>\n",
       "      <td>GA</td>\n",
       "      <td>0</td>\n",
       "    </tr>\n",
       "    <tr>\n",
       "      <th>3</th>\n",
       "      <td>54</td>\n",
       "      <td>Stackfolio</td>\n",
       "      <td>Lead Data Scientist</td>\n",
       "      <td>80000.0</td>\n",
       "      <td>Atlanta</td>\n",
       "      <td>GA</td>\n",
       "      <td>0</td>\n",
       "    </tr>\n",
       "    <tr>\n",
       "      <th>4</th>\n",
       "      <td>57</td>\n",
       "      <td>Analytic Recruiting</td>\n",
       "      <td>Senior Data Scientist</td>\n",
       "      <td>112500.0</td>\n",
       "      <td>Atlanta</td>\n",
       "      <td>GA</td>\n",
       "      <td>1</td>\n",
       "    </tr>\n",
       "  </tbody>\n",
       "</table>\n",
       "</div>"
      ],
      "text/plain": [
       "   Unnamed: 0                                Company Name  \\\n",
       "0          19  Centers for Disease Control and Prevention   \n",
       "1          23                         Analytic Recruiting   \n",
       "2          27  Centers for Disease Control and Prevention   \n",
       "3          54                                  Stackfolio   \n",
       "4          57                         Analytic Recruiting   \n",
       "\n",
       "               Job Title  average_salary        city state  high_salary  \n",
       "0  Statistician (Health)        101553.5     Atlanta    GA            1  \n",
       "1  Junior Data Scientist         82500.0  Alpharetta    GA            0  \n",
       "2   Behavioral Scientist         85399.0     Atlanta    GA            0  \n",
       "3    Lead Data Scientist         80000.0     Atlanta    GA            0  \n",
       "4  Senior Data Scientist        112500.0     Atlanta    GA            1  "
      ]
     },
     "execution_count": 123,
     "metadata": {},
     "output_type": "execute_result"
    }
   ],
   "source": [
    "df3.head()"
   ]
  },
  {
   "cell_type": "code",
   "execution_count": 130,
   "metadata": {
    "collapsed": false
   },
   "outputs": [
    {
     "name": "stdout",
     "output_type": "stream",
     "text": [
      "Optimization terminated successfully.\n",
      "         Current function value: 0.536198\n",
      "         Iterations: 12\n",
      "         Function evaluations: 13\n",
      "         Gradient evaluations: 24\n",
      "         Hessian evaluations: 12\n"
     ]
    }
   ],
   "source": [
    "\n",
    "import patsy\n",
    "y,X =patsy.dmatrices('high_salary~state',data=df3)\n",
    "\n",
    "logit=sm.Logit(y,X)\n",
    "\n",
    "#fit the model\n",
    "result=logit.fit(method='ncg')"
   ]
  },
  {
   "cell_type": "code",
   "execution_count": 127,
   "metadata": {
    "collapsed": false
   },
   "outputs": [
    {
     "data": {
      "text/html": [
       "<table class=\"simpletable\">\n",
       "<caption>Logit Regression Results</caption>\n",
       "<tr>\n",
       "  <th>Dep. Variable:</th>    <td>high_salary</td>   <th>  No. Observations:  </th>  <td>   241</td>  \n",
       "</tr>\n",
       "<tr>\n",
       "  <th>Model:</th>               <td>Logit</td>      <th>  Df Residuals:      </th>  <td>   227</td>  \n",
       "</tr>\n",
       "<tr>\n",
       "  <th>Method:</th>               <td>MLE</td>       <th>  Df Model:          </th>  <td>    13</td>  \n",
       "</tr>\n",
       "<tr>\n",
       "  <th>Date:</th>          <td>Mon, 21 Nov 2016</td> <th>  Pseudo R-squ.:     </th>  <td>0.2260</td>  \n",
       "</tr>\n",
       "<tr>\n",
       "  <th>Time:</th>              <td>19:20:45</td>     <th>  Log-Likelihood:    </th> <td> -129.22</td> \n",
       "</tr>\n",
       "<tr>\n",
       "  <th>converged:</th>           <td>False</td>      <th>  LL-Null:           </th> <td> -166.95</td> \n",
       "</tr>\n",
       "<tr>\n",
       "  <th> </th>                      <td> </td>        <th>  LLR p-value:       </th> <td>7.862e-11</td>\n",
       "</tr>\n",
       "</table>\n",
       "<table class=\"simpletable\">\n",
       "<tr>\n",
       "       <td></td>          <th>coef</th>     <th>std err</th>      <th>z</th>      <th>P>|z|</th> <th>[95.0% Conf. Int.]</th> \n",
       "</tr>\n",
       "<tr>\n",
       "  <th>Intercept</th>   <td>    1.7047</td> <td>    0.544</td> <td>    3.136</td> <td> 0.002</td> <td>    0.639     2.770</td>\n",
       "</tr>\n",
       "<tr>\n",
       "  <th>state[T.CO]</th> <td>   -2.6210</td> <td>    0.803</td> <td>   -3.262</td> <td> 0.001</td> <td>   -4.196    -1.046</td>\n",
       "</tr>\n",
       "<tr>\n",
       "  <th>state[T.DC]</th> <td>   -0.8575</td> <td>    0.730</td> <td>   -1.174</td> <td> 0.240</td> <td>   -2.289     0.574</td>\n",
       "</tr>\n",
       "<tr>\n",
       "  <th>state[T.FL]</th> <td>   -3.5766</td> <td>    0.934</td> <td>   -3.829</td> <td> 0.000</td> <td>   -5.407    -1.746</td>\n",
       "</tr>\n",
       "<tr>\n",
       "  <th>state[T.GA]</th> <td>   -2.7163</td> <td>    0.798</td> <td>   -3.405</td> <td> 0.001</td> <td>   -4.280    -1.153</td>\n",
       "</tr>\n",
       "<tr>\n",
       "  <th>state[T.MA]</th> <td>   -1.0761</td> <td>    0.698</td> <td>   -1.542</td> <td> 0.123</td> <td>   -2.444     0.292</td>\n",
       "</tr>\n",
       "<tr>\n",
       "  <th>state[T.MD]</th> <td>   -4.3074</td> <td>    0.912</td> <td>   -4.721</td> <td> 0.000</td> <td>   -6.096    -2.519</td>\n",
       "</tr>\n",
       "<tr>\n",
       "  <th>state[T.NC]</th> <td>   27.0190</td> <td> 7.05e+05</td> <td> 3.83e-05</td> <td> 1.000</td> <td>-1.38e+06  1.38e+06</td>\n",
       "</tr>\n",
       "<tr>\n",
       "  <th>state[T.NJ]</th> <td>   -2.3979</td> <td>    1.340</td> <td>   -1.790</td> <td> 0.074</td> <td>   -5.024     0.228</td>\n",
       "</tr>\n",
       "<tr>\n",
       "  <th>state[T.NY]</th> <td>   -1.1100</td> <td>    0.626</td> <td>   -1.772</td> <td> 0.076</td> <td>   -2.338     0.118</td>\n",
       "</tr>\n",
       "<tr>\n",
       "  <th>state[T.OH]</th> <td>   -1.9924</td> <td>    0.937</td> <td>   -2.125</td> <td> 0.034</td> <td>   -3.830    -0.155</td>\n",
       "</tr>\n",
       "<tr>\n",
       "  <th>state[T.TX]</th> <td>   -2.3979</td> <td>    0.739</td> <td>   -3.247</td> <td> 0.001</td> <td>   -3.845    -0.950</td>\n",
       "</tr>\n",
       "<tr>\n",
       "  <th>state[T.VA]</th> <td>   -2.3979</td> <td>    0.892</td> <td>   -2.689</td> <td> 0.007</td> <td>   -4.146    -0.650</td>\n",
       "</tr>\n",
       "<tr>\n",
       "  <th>state[T.WA]</th> <td>   -1.5224</td> <td>    0.814</td> <td>   -1.871</td> <td> 0.061</td> <td>   -3.117     0.072</td>\n",
       "</tr>\n",
       "</table>"
      ],
      "text/plain": [
       "<class 'statsmodels.iolib.summary.Summary'>\n",
       "\"\"\"\n",
       "                           Logit Regression Results                           \n",
       "==============================================================================\n",
       "Dep. Variable:            high_salary   No. Observations:                  241\n",
       "Model:                          Logit   Df Residuals:                      227\n",
       "Method:                           MLE   Df Model:                           13\n",
       "Date:                Mon, 21 Nov 2016   Pseudo R-squ.:                  0.2260\n",
       "Time:                        19:20:45   Log-Likelihood:                -129.22\n",
       "converged:                      False   LL-Null:                       -166.95\n",
       "                                        LLR p-value:                 7.862e-11\n",
       "===============================================================================\n",
       "                  coef    std err          z      P>|z|      [95.0% Conf. Int.]\n",
       "-------------------------------------------------------------------------------\n",
       "Intercept       1.7047      0.544      3.136      0.002         0.639     2.770\n",
       "state[T.CO]    -2.6210      0.803     -3.262      0.001        -4.196    -1.046\n",
       "state[T.DC]    -0.8575      0.730     -1.174      0.240        -2.289     0.574\n",
       "state[T.FL]    -3.5766      0.934     -3.829      0.000        -5.407    -1.746\n",
       "state[T.GA]    -2.7163      0.798     -3.405      0.001        -4.280    -1.153\n",
       "state[T.MA]    -1.0761      0.698     -1.542      0.123        -2.444     0.292\n",
       "state[T.MD]    -4.3074      0.912     -4.721      0.000        -6.096    -2.519\n",
       "state[T.NC]    27.0190   7.05e+05   3.83e-05      1.000     -1.38e+06  1.38e+06\n",
       "state[T.NJ]    -2.3979      1.340     -1.790      0.074        -5.024     0.228\n",
       "state[T.NY]    -1.1100      0.626     -1.772      0.076        -2.338     0.118\n",
       "state[T.OH]    -1.9924      0.937     -2.125      0.034        -3.830    -0.155\n",
       "state[T.TX]    -2.3979      0.739     -3.247      0.001        -3.845    -0.950\n",
       "state[T.VA]    -2.3979      0.892     -2.689      0.007        -4.146    -0.650\n",
       "state[T.WA]    -1.5224      0.814     -1.871      0.061        -3.117     0.072\n",
       "===============================================================================\n",
       "\"\"\""
      ]
     },
     "execution_count": 127,
     "metadata": {},
     "output_type": "execute_result"
    }
   ],
   "source": [
    "result.summary()"
   ]
  },
  {
   "cell_type": "markdown",
   "metadata": {
    "focus": false,
    "id": "3c7ec3d2-87a0-4290-9d83-a6f4a9ae7e9c"
   },
   "source": [
    "### Q: What is the baseline accuracy for this model?"
   ]
  },
  {
   "cell_type": "markdown",
   "metadata": {
    "collapsed": true,
    "focus": false,
    "id": "987666b2-d8e6-4715-b499-c9d314fb70ce"
   },
   "source": [
    "It is 50% if we guess randomly, half the salaries will be below the median and half will be above."
   ]
  },
  {
   "cell_type": "markdown",
   "metadata": {
    "focus": false,
    "id": "ea7e00cb-9956-44ec-b585-7b95f4d6284c"
   },
   "source": [
    "#### Create a Logistic Regression model to predict High/Low salary using statsmodel. Start by ONLY using the location as a feature. Display the coefficients and write a short summary of what they mean."
   ]
  },
  {
   "cell_type": "code",
   "execution_count": null,
   "metadata": {
    "collapsed": true
   },
   "outputs": [],
   "source": [
    "df3=pd.read_csv(\"indeedsoup_file.csv\")\n",
    "df4=df3[['city','average_salary Index']]\n",
    "dummies = pd.get_dummies( df5[\"city\"], prefix = \"city\" )\n",
    "dummies['Intercept']=1\n",
    "\n",
    "dummies.columns=['Mountain View','Palo Alto','Santa Clara''Boston', 'Chicago','New York','San Francisco','Intercept']\n",
    "y=df3['average_salary Index']\n",
    "X=dummies[['Mountain View','Palo Alto','Santa Clara','Boston', 'Chicago','New York','San Francisco','San Francisco']]\n",
    "# split data randomly into datasets, 70% train, 30% test using test train split\n",
    "X_train, X_test, y_train, y_test = train_test_split( X, y, test_size=0.30, random_state=30)"
   ]
  },
  {
   "cell_type": "code",
   "execution_count": null,
   "metadata": {
    "collapsed": false,
    "focus": false,
    "id": "ce9161b3-eff3-475c-a087-a2be38d7f626"
   },
   "outputs": [],
   "source": [
    "# create statsmodel and summary\n",
    "import statsmodels.formula.api as sm\n"
   ]
  },
  {
   "cell_type": "code",
   "execution_count": null,
   "metadata": {
    "collapsed": true
   },
   "outputs": [],
   "source": [
    "logit = sm.Logit(y_train, X_train)\n",
    "result = logit.fit()\n",
    "result.summary()"
   ]
  },
  {
   "cell_type": "markdown",
   "metadata": {
    "focus": false,
    "id": "1ecd7811-d200-44bc-942f-4beb76d2689c"
   },
   "source": [
    "#### Create a few new variables in your dataframe to represent interesting features of a job title.\n",
    "- For example, create a feature that represents whether 'Senior' or 'Manager' is in the title \n",
    "- Then build a new Logistic Regression model with these features. Do they add any value? \n"
   ]
  },
  {
   "cell_type": "code",
   "execution_count": 136,
   "metadata": {
    "collapsed": false,
    "focus": false,
    "id": "b847f46e-1626-4340-86fb-08dea8c31a84"
   },
   "outputs": [],
   "source": [
    "# create senior, director, and manager dummies\n",
    "df3['is_junior'] = df3['Job Title'].str.contains('Junior').astype(int)\n",
    "df3['is_senior'] = df3['Job Title'].str.contains('Senior').astype(int)\n",
    "df3['is_lead'] = df3['Job Title'].str.contains('Lead').astype(int)\n",
    "df3['is_director'] = df3['Job Title'].str.contains('Director').astype(int)\n",
    "df3['is_manager'] = df3['Job Title'].str.contains('Manager').astype(int)"
   ]
  },
  {
   "cell_type": "code",
   "execution_count": 138,
   "metadata": {
    "collapsed": false
   },
   "outputs": [
    {
     "data": {
      "text/html": [
       "<div>\n",
       "<table border=\"1\" class=\"dataframe\">\n",
       "  <thead>\n",
       "    <tr style=\"text-align: right;\">\n",
       "      <th></th>\n",
       "      <th>Unnamed: 0</th>\n",
       "      <th>Company Name</th>\n",
       "      <th>Job Title</th>\n",
       "      <th>average_salary</th>\n",
       "      <th>city</th>\n",
       "      <th>state</th>\n",
       "      <th>high_salary</th>\n",
       "      <th>is_senior</th>\n",
       "      <th>is_director</th>\n",
       "      <th>is_manager</th>\n",
       "      <th>is_junior</th>\n",
       "      <th>is_lead</th>\n",
       "    </tr>\n",
       "  </thead>\n",
       "  <tbody>\n",
       "    <tr>\n",
       "      <th>0</th>\n",
       "      <td>19</td>\n",
       "      <td>Centers for Disease Control and Prevention</td>\n",
       "      <td>Statistician (Health)</td>\n",
       "      <td>101553.5</td>\n",
       "      <td>Atlanta</td>\n",
       "      <td>GA</td>\n",
       "      <td>1</td>\n",
       "      <td>0</td>\n",
       "      <td>0</td>\n",
       "      <td>0</td>\n",
       "      <td>0</td>\n",
       "      <td>0</td>\n",
       "    </tr>\n",
       "    <tr>\n",
       "      <th>1</th>\n",
       "      <td>23</td>\n",
       "      <td>Analytic Recruiting</td>\n",
       "      <td>Junior Data Scientist</td>\n",
       "      <td>82500.0</td>\n",
       "      <td>Alpharetta</td>\n",
       "      <td>GA</td>\n",
       "      <td>0</td>\n",
       "      <td>0</td>\n",
       "      <td>0</td>\n",
       "      <td>0</td>\n",
       "      <td>1</td>\n",
       "      <td>0</td>\n",
       "    </tr>\n",
       "    <tr>\n",
       "      <th>2</th>\n",
       "      <td>27</td>\n",
       "      <td>Centers for Disease Control and Prevention</td>\n",
       "      <td>Behavioral Scientist</td>\n",
       "      <td>85399.0</td>\n",
       "      <td>Atlanta</td>\n",
       "      <td>GA</td>\n",
       "      <td>0</td>\n",
       "      <td>0</td>\n",
       "      <td>0</td>\n",
       "      <td>0</td>\n",
       "      <td>0</td>\n",
       "      <td>0</td>\n",
       "    </tr>\n",
       "    <tr>\n",
       "      <th>3</th>\n",
       "      <td>54</td>\n",
       "      <td>Stackfolio</td>\n",
       "      <td>Lead Data Scientist</td>\n",
       "      <td>80000.0</td>\n",
       "      <td>Atlanta</td>\n",
       "      <td>GA</td>\n",
       "      <td>0</td>\n",
       "      <td>0</td>\n",
       "      <td>0</td>\n",
       "      <td>0</td>\n",
       "      <td>0</td>\n",
       "      <td>1</td>\n",
       "    </tr>\n",
       "    <tr>\n",
       "      <th>4</th>\n",
       "      <td>57</td>\n",
       "      <td>Analytic Recruiting</td>\n",
       "      <td>Senior Data Scientist</td>\n",
       "      <td>112500.0</td>\n",
       "      <td>Atlanta</td>\n",
       "      <td>GA</td>\n",
       "      <td>1</td>\n",
       "      <td>1</td>\n",
       "      <td>0</td>\n",
       "      <td>0</td>\n",
       "      <td>0</td>\n",
       "      <td>0</td>\n",
       "    </tr>\n",
       "  </tbody>\n",
       "</table>\n",
       "</div>"
      ],
      "text/plain": [
       "   Unnamed: 0                                Company Name  \\\n",
       "0          19  Centers for Disease Control and Prevention   \n",
       "1          23                         Analytic Recruiting   \n",
       "2          27  Centers for Disease Control and Prevention   \n",
       "3          54                                  Stackfolio   \n",
       "4          57                         Analytic Recruiting   \n",
       "\n",
       "               Job Title  average_salary        city state  high_salary  \\\n",
       "0  Statistician (Health)        101553.5     Atlanta    GA            1   \n",
       "1  Junior Data Scientist         82500.0  Alpharetta    GA            0   \n",
       "2   Behavioral Scientist         85399.0     Atlanta    GA            0   \n",
       "3    Lead Data Scientist         80000.0     Atlanta    GA            0   \n",
       "4  Senior Data Scientist        112500.0     Atlanta    GA            1   \n",
       "\n",
       "   is_senior  is_director  is_manager  is_junior  is_lead  \n",
       "0          0            0           0          0        0  \n",
       "1          0            0           0          1        0  \n",
       "2          0            0           0          0        0  \n",
       "3          0            0           0          0        1  \n",
       "4          1            0           0          0        0  "
      ]
     },
     "execution_count": 138,
     "metadata": {},
     "output_type": "execute_result"
    }
   ],
   "source": [
    "df3.head()"
   ]
  },
  {
   "cell_type": "markdown",
   "metadata": {
    "focus": false,
    "id": "7ca5cfdd-958c-4199-aafa-3d3f6c5ba3c4"
   },
   "source": [
    "#### Rebuild this model with scikit-learn.\n",
    "- You can either create the dummy features manually or use the `dmatrix` function from `patsy`\n",
    "- Remember to scale the feature variables as well!\n"
   ]
  },
  {
   "cell_type": "code",
   "execution_count": null,
   "metadata": {
    "collapsed": true
   },
   "outputs": [],
   "source": [
    "X_train, X_test, y_train, y_test = train_test_split( X, y, test_size=0.30, random_state=30)\n",
    "model2 = LogisticRegression()\n",
    "model2.fit(X_train, y_train)"
   ]
  },
  {
   "cell_type": "code",
   "execution_count": null,
   "metadata": {
    "collapsed": true
   },
   "outputs": [],
   "source": []
  },
  {
   "cell_type": "code",
   "execution_count": null,
   "metadata": {
    "collapsed": true
   },
   "outputs": [],
   "source": [
    "dfTest2=X_test\n",
    "dfTest2['predictedSalary'] = model2.predict(X_test)\n",
    "dfTest2[\"actualSalary\"] = y_test"
   ]
  },
  {
   "cell_type": "code",
   "execution_count": null,
   "metadata": {
    "collapsed": true
   },
   "outputs": [],
   "source": [
    "print metrics.accuracy_score(y_test, dfTest2['predictedSalary'])\n",
    "print pd.crosstab(y_test, dfTest2['predictedSalary'], rownames=['Actual'])"
   ]
  },
  {
   "cell_type": "code",
   "execution_count": null,
   "metadata": {
    "collapsed": true
   },
   "outputs": [],
   "source": []
  },
  {
   "cell_type": "code",
   "execution_count": 147,
   "metadata": {
    "collapsed": false
   },
   "outputs": [
    {
     "name": "stdout",
     "output_type": "stream",
     "text": [
      "[[ 0.06037511 -0.9102577   0.61436203 -1.37009204 -0.92125299  0.30660574\n",
      "  -1.96393779  0.98046526 -0.33772756  0.17146832 -0.38960065 -1.06625577\n",
      "  -0.65518351 -0.07073589 -0.6936382   1.37906831  0.15529609  1.18927939\n",
      "   0.54116463]]\n",
      "0.742738589212\n"
     ]
    }
   ],
   "source": [
    "# import patsy\n",
    "# X =patsy.dmatrix('~state + is_junior + is_senior + is_lead + is_director + is_manager',data=df3)\n",
    "# y=df3['high_salary']\n",
    "# logreg = LogisticRegression(random_state=5)\n",
    "# logreg.fit(X, y)\n",
    "# Y_pred = logreg.predict(X)\n",
    "# print logreg.coef_\n",
    "# print logreg.score(X,y)\n",
    "# #fit the model\n",
    "# #result2=logit.fit(method='ncg')"
   ]
  },
  {
   "cell_type": "code",
   "execution_count": null,
   "metadata": {
    "collapsed": true
   },
   "outputs": [],
   "source": [
    "# sf_crime['Category'].value_counts().plot(kind ='bar',figsize = (10,6))\n",
    "# plt.show()"
   ]
  },
  {
   "cell_type": "code",
   "execution_count": null,
   "metadata": {
    "collapsed": true
   },
   "outputs": [],
   "source": [
    "# clf = LogisticRegressionCV(Cs = 15, cv = 5, solver ='liblinear', penalty = 'l1') # penalty = \"l1\" make it lasso regul\n",
    "# clf.fit(X_train,Y_train)"
   ]
  },
  {
   "cell_type": "code",
   "execution_count": null,
   "metadata": {
    "collapsed": true
   },
   "outputs": [],
   "source": []
  },
  {
   "cell_type": "code",
   "execution_count": null,
   "metadata": {
    "collapsed": true
   },
   "outputs": [],
   "source": []
  },
  {
   "cell_type": "code",
   "execution_count": null,
   "metadata": {
    "collapsed": true
   },
   "outputs": [],
   "source": [
    "# split for train and test\n",
    "# X_train, X_test, Y_train, Y_test = train_test_split(X, Y, test_size=0.33, stratify=Y, random_state=77)"
   ]
  },
  {
   "cell_type": "code",
   "execution_count": null,
   "metadata": {
    "collapsed": true
   },
   "outputs": [],
   "source": [
    "# fit regular logit model to 'DRUG/NARCOTIC' and 'BURGLARY' classes\n",
    "# use lasso penalty"
   ]
  },
  {
   "cell_type": "code",
   "execution_count": null,
   "metadata": {
    "collapsed": true
   },
   "outputs": [],
   "source": [
    "# logreg_1= LogisticRegression(C=3.7275937203149381, penalty ='l1', solver =\"liblinear\")\n",
    "# logreg_1.fit(X_train,Y_train)"
   ]
  },
  {
   "cell_type": "code",
   "execution_count": null,
   "metadata": {
    "collapsed": true
   },
   "outputs": [],
   "source": []
  },
  {
   "cell_type": "code",
   "execution_count": null,
   "metadata": {
    "collapsed": false,
    "focus": false,
    "id": "c75a97f1-f30c-48b3-97cb-eaf7d525c734"
   },
   "outputs": [],
   "source": [
    "# scale, (patsy optional), and fit\n",
    "from sklearn.linear_model import LogisticRegression\n",
    "from sklearn.preprocessing import StandardScaler\n",
    "from patsy import dmatrix\n",
    "\n",
    "scaler = StandardScaler()\n",
    "model = LogisticRegression(penalty = 'l2', C=0.1 , solver='liblinear')\n"
   ]
  },
  {
   "cell_type": "code",
   "execution_count": null,
   "metadata": {
    "collapsed": true
   },
   "outputs": [],
   "source": [
    "# build confusion matrices for the models above\n",
    "Y_1_pred = logreg_1.predict(X_train)\n",
    "Y_2_pred = logreg_2.predict(X_train)\n",
    "\n",
    "conmat_1 = confusion_matrix(Y_train, Y_1_pred, labels=logreg_1.classes_)\n",
    "conmat_1 = pd.DataFrame(conmat_1, columns=logreg_1.classes_, index=logreg_1.classes_)\n",
    "\n",
    "conmat_2 = confusion_matrix(Y_train, Y_2_pred, labels=logreg_2.classes_)\n",
    "conmat_2 = pd.DataFrame(conmat_2, columns=logreg_2.classes_, index=logreg_2.classes_)"
   ]
  },
  {
   "cell_type": "markdown",
   "metadata": {
    "focus": false,
    "id": "1e6c6902-2b4a-49f0-b4c7-935a26577d22"
   },
   "source": [
    "#### Use cross-validation in scikit-learn to evaluate the model above. \n",
    "- Evaluate the accuracy, AUC, precision and recall of the model. \n",
    "- Discuss the differences and explain when you want a high-recall or a high-precision model in this scenario."
   ]
  },
  {
   "cell_type": "code",
   "execution_count": null,
   "metadata": {
    "collapsed": true
   },
   "outputs": [],
   "source": [
    "scores = cross_val_score(LogisticRegression(), X, y, scoring='accuracy', cv=10)\n",
    "print scores\n",
    "print scores.mean()"
   ]
  },
  {
   "cell_type": "code",
   "execution_count": null,
   "metadata": {
    "collapsed": false,
    "focus": false,
    "id": "3667427c-6534-4dcd-8770-f492b0e3a39e"
   },
   "outputs": [],
   "source": [
    "from sklearn.cross_validation import cross_val_score\n",
    "\n",
    "for metric in ['accuracy', 'precision', 'recall', 'roc_auc']: # example\n",
    "    "
   ]
  },
  {
   "cell_type": "code",
   "execution_count": null,
   "metadata": {
    "collapsed": true
   },
   "outputs": [],
   "source": []
  },
  {
   "cell_type": "code",
   "execution_count": null,
   "metadata": {
    "collapsed": true
   },
   "outputs": [],
   "source": [
    "from sklearn.metrics import roc_curve, auc\n",
    "import matplotlib.pyplot as plt\n",
    "plt.style.use('seaborn-white')\n",
    "%matplotlib inline\n",
    "\n",
    "\n",
    "Y_score = logreg.decision_function(X_test)\n",
    "\n",
    "FPR = dict()\n",
    "TPR = dict()\n",
    "ROC_AUC = dict()\n",
    "\n",
    "# For class 1, find the area under the curve\n",
    "FPR[1], TPR[1], _ = roc_curve(Y_test, Y_score)\n",
    "ROC_AUC[1] = auc(FPR[1], TPR[1])\n",
    "\n",
    "# Plot of a ROC curve for class 1 (has_cancer)\n",
    "plt.figure(figsize=[11,9])\n",
    "plt.plot(FPR[1], TPR[1], label='ROC curve (area = %0.2f)' % ROC_AUC[1], linewidth=4)\n",
    "plt.plot([0, 1], [0, 1], 'k--', linewidth=4)\n",
    "plt.xlim([0.0, 1.0])\n",
    "plt.ylim([0.0, 1.05])\n",
    "plt.xlabel('False Positive Rate', fontsize=18)\n",
    "plt.ylabel('True Positive Rate', fontsize=18)\n",
    "plt.title('Receiver operating characteristic for cancer detection', fontsize=18)\n",
    "plt.legend(loc=\"lower right\")\n",
    "plt.show()"
   ]
  },
  {
   "cell_type": "markdown",
   "metadata": {},
   "source": [
    "What is the intuition for the ROC curve?\n",
    "\n",
    "As the class assignment threshold increases for the positive class (has cancer), the false positive rate and true positive rate necessarily increase. For a classifier performing at chance, this would be the diagonal dotted line: an equal chance of false positives and true positives. \n",
    "\n",
    "The greater the area under the curve, the higher the ratio of true positives to false positives as the threshold becomes more lenient. Thus, the greater the area under the curve, the higher the quality of the classification model. In the Wisconsin breast cancer data the area under the curve is 0.99, indicating a nearly perfect model. Most classification problems will never get close to this!"
   ]
  },
  {
   "cell_type": "code",
   "execution_count": null,
   "metadata": {
    "collapsed": true
   },
   "outputs": [],
   "source": []
  },
  {
   "cell_type": "markdown",
   "metadata": {},
   "source": [
    "Split into 66% training set and 33% testing set"
   ]
  },
  {
   "cell_type": "code",
   "execution_count": null,
   "metadata": {
    "collapsed": true
   },
   "outputs": [],
   "source": [
    "#metrics_pct = np.array(bcw.metrics_pct.values)\n",
    "#metrics_pct = metrics_pct[:, np.newaxis]\n",
    "X_train, X_test, Y_train, Y_test = train_test_split(features_df, target_df, test_size=0.33, random_state=5)"
   ]
  },
  {
   "cell_type": "markdown",
   "metadata": {},
   "source": [
    "Fit the logistic regression on the training data"
   ]
  },
  {
   "cell_type": "code",
   "execution_count": null,
   "metadata": {
    "collapsed": true
   },
   "outputs": [],
   "source": [
    "logreg = LogisticRegression(random_state=5)\n",
    "logreg.fit(X_train, Y_train)\n",
    "Y_pred = logreg.predict(X_test)"
   ]
  },
  {
   "cell_type": "code",
   "execution_count": null,
   "metadata": {
    "collapsed": true
   },
   "outputs": [],
   "source": []
  },
  {
   "cell_type": "markdown",
   "metadata": {},
   "source": [
    "Look at the confusion matrix"
   ]
  },
  {
   "cell_type": "code",
   "execution_count": null,
   "metadata": {
    "collapsed": true
   },
   "outputs": [],
   "source": [
    "from sklearn.metrics import confusion_matrix\n",
    "# the input format is almost always (test, predict), but always check with documentation!\n",
    "conmat = np.array(confusion_matrix(Y_test, Y_pred))\n",
    "\n",
    "confusion = pd.DataFrame(conmat, index=['is_healthy', 'has_cancer'],\n",
    "                         columns=['predicted_healthy', 'predicted_cancer'])\n",
    "\n",
    "print(confusion)"
   ]
  },
  {
   "cell_type": "code",
   "execution_count": null,
   "metadata": {
    "collapsed": true
   },
   "outputs": [],
   "source": []
  },
  {
   "cell_type": "code",
   "execution_count": null,
   "metadata": {
    "collapsed": true
   },
   "outputs": [],
   "source": []
  },
  {
   "cell_type": "markdown",
   "metadata": {
    "focus": false,
    "id": "4263b1c0-bfde-42bf-ab45-71c7cd798835"
   },
   "source": [
    "### Compare L1 and L2 regularization for this logistic regression model. What effect does this have on the coefficients learned?"
   ]
  },
  {
   "cell_type": "code",
   "execution_count": null,
   "metadata": {
    "collapsed": true
   },
   "outputs": [],
   "source": [
    "X_train, X_test, y_train, y_test = train_test_split( X, y, test_size=0.30, random_state=30)\n",
    "L1Model= LogisticRegression(penalty='l1')\n",
    "L1Model.fit(X_train, y_train)\n",
    "dfTest3=X_test\n",
    "dfTest3['predictedSalary'] = L1Model.predict(X_test)\n",
    "dfTest3[\"actualSalary\"] = y_test\n",
    "print metrics.accuracy_score(y_test, dfTest3['predictedSalary'])\n",
    "print pd.crosstab(y_test, dfTest3['predictedSalary'], rownames=['Actual'"
   ]
  },
  {
   "cell_type": "code",
   "execution_count": null,
   "metadata": {
    "collapsed": true
   },
   "outputs": [],
   "source": [
    "X_train, X_test, y_train, y_test = train_test_split( X, y, test_size=0.30, random_state=30)\n",
    "L2Model= LogisticRegression(penalty='l2')\n",
    "L2Model.fit(X_train, y_train)\n",
    "dfTest4=X_test\n",
    "dfTest4['predictedSalary'] = L2Model.predict(X_test)\n",
    "dfTest4[\"actualSalary\"] = y_test\n",
    "print metrics.accuracy_score(y_test, dfTest4['predictedSalary'])\n",
    "print pd.crosstab(y_test, dfTest4['predictedSalary'], rownames=['Actual'])"
   ]
  },
  {
   "cell_type": "code",
   "execution_count": null,
   "metadata": {
    "collapsed": false,
    "focus": false,
    "id": "2e7d6a29-a515-468a-9953-9d73a0f81de0"
   },
   "outputs": [],
   "source": [
    "model = LogisticRegression(penalty = 'l1', C=1.0)\n",
    "\n",
    "for metric in ['accuracy', 'precision', 'recall', 'roc_auc']:\n",
    "    "
   ]
  },
  {
   "cell_type": "code",
   "execution_count": null,
   "metadata": {
    "collapsed": false,
    "focus": false,
    "id": "32d908a3-89d2-474c-a7f0-199bfae6da7e"
   },
   "outputs": [],
   "source": [
    "model.fit(X_scaled, y)\n",
    "\n",
    "df = pd.DataFrame({'features' : X.design_info.column_names, 'coef': model.coef_[0,:]})\n",
    "df.sort_values('coef', ascending=False, inplace=True)\n",
    "df"
   ]
  },
  {
   "cell_type": "markdown",
   "metadata": {
    "focus": true,
    "id": "82f16f60-6c8b-4376-b3ec-b8ec61a0cde7"
   },
   "source": [
    "#### Optional: Continue to incorporate other text features from the title or summary that you believe will predict the salary and examine their coefficients. Take ~100 scraped entries with salaries. Convert them to use with your model and predict the salary. Which entries have the highest predicted salaries?"
   ]
  },
  {
   "cell_type": "markdown",
   "metadata": {
    "focus": false,
    "id": "3f242a55-4518-4c95-ae90-6888c68077d3"
   },
   "source": [
    "# Bonus Section: Use Count Vectorizer from scikit-learn to create features from the text summaries. \n",
    "- Examine using count or binary features in the model\n",
    "- Re-evaluate the logistic regression model using these. Does this improve the model performance? \n",
    "- What text features are most valuable? "
   ]
  },
  {
   "cell_type": "code",
   "execution_count": null,
   "metadata": {
    "collapsed": false,
    "focus": false,
    "id": "757205dc-443d-4754-9d23-e591e0921c02"
   },
   "outputs": [],
   "source": [
    "from sklearn.feature_extraction.text import CountVectorizer\n",
    "\n",
    "vectorizer = CountVectorizer()\n",
    "X = vectorizer.fit_transform()\n",
    "\n",
    "for metric in ['accuracy', 'precision', 'recall', 'roc_auc']:\n",
    "    scores = cross_val_score(model, X_scaled, y, cv=3, scoring=metric)\n",
    "    print(metric, scores.mean(), scores.std())"
   ]
  },
  {
   "cell_type": "code",
   "execution_count": null,
   "metadata": {
    "collapsed": false,
    "focus": false,
    "id": "f44df3c1-cf82-4271-8660-fdd0052097b6"
   },
   "outputs": [],
   "source": [
    "model.fit(X_scaled, y)\n",
    "\n",
    "df = pd.DataFrame({'features' : vectorizer.get_feature_names(), 'coef': model.coef_[0,:]})\n",
    "df.sort_values('coef', ascending=False, inplace=True)"
   ]
  },
  {
   "cell_type": "code",
   "execution_count": null,
   "metadata": {
    "collapsed": false,
    "focus": false,
    "id": "e182bbe4-2a72-4e75-a3e8-c117688cb8a6"
   },
   "outputs": [],
   "source": [
    "df.head()"
   ]
  },
  {
   "cell_type": "code",
   "execution_count": null,
   "metadata": {
    "collapsed": false,
    "focus": false,
    "id": "a15ef8ea-3130-4c08-a165-ac34d2a8d829"
   },
   "outputs": [],
   "source": [
    "df.tail()"
   ]
  },
  {
   "cell_type": "code",
   "execution_count": null,
   "metadata": {
    "collapsed": false,
    "focus": false,
    "id": "b8a13337-0cde-4117-a928-ffae14661453"
   },
   "outputs": [],
   "source": [
    "# retest L1 and L2 regularization\n",
    "from sklearn.linear_model import LogisticRegressionCV\n",
    "\n",
    "model = LogisticRegressionCV()\n"
   ]
  },
  {
   "cell_type": "markdown",
   "metadata": {
    "collapsed": true,
    "focus": false,
    "id": "936cd752-6b3f-450f-bfb6-1659c6e71539"
   },
   "source": [
    "Score: | /24\n",
    "------|-------\n",
    "Identify: Problem Statement and Hypothesis | \n",
    "Acquire: Import Data using BeautifulSoup| \n",
    "Parse: Clean and Organize Data| \n",
    "Model: Perform Logistic Regression| \n",
    "Evaluate: Logistic Regression Results\t|\n",
    "Present: Blog Report with Findings and Recommendations\t\t| \n",
    "Interactive Tableau visualizations | \n",
    "Regularization |\n",
    "Bonus: Countvectorizer  | "
   ]
  }
 ],
 "metadata": {
  "anaconda-cloud": {},
  "kernelspec": {
   "display_name": "Python [default]",
   "language": "python",
   "name": "python2"
  },
  "language_info": {
   "codemirror_mode": {
    "name": "ipython",
    "version": 2
   },
   "file_extension": ".py",
   "mimetype": "text/x-python",
   "name": "python",
   "nbconvert_exporter": "python",
   "pygments_lexer": "ipython2",
   "version": "2.7.12"
  }
 },
 "nbformat": 4,
 "nbformat_minor": 0
}
