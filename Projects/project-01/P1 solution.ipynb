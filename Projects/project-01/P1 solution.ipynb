{
 "cells": [
  {
   "cell_type": "markdown",
   "metadata": {},
   "source": [
    "# Project 1\n",
    "\n",
    "## Step 1: Open the `sat_scores.csv` file. Investigate the data, and answer the questions below.\n"
   ]
  },
  {
   "cell_type": "markdown",
   "metadata": {},
   "source": [
    "##### 1. What does the data describe?"
   ]
  },
  {
   "cell_type": "markdown",
   "metadata": {},
   "source": []
  },
  {
   "cell_type": "markdown",
   "metadata": {},
   "source": [
    "##### 2. Does the data look complete? Are there any obvious issues with the observations?"
   ]
  },
  {
   "cell_type": "markdown",
   "metadata": {},
   "source": []
  },
  {
   "cell_type": "markdown",
   "metadata": {},
   "source": [
    "##### 3. Create a data dictionary for the dataset."
   ]
  },
  {
   "cell_type": "markdown",
   "metadata": {
    "collapsed": true
   },
   "source": []
  },
  {
   "cell_type": "markdown",
   "metadata": {},
   "source": [
    "## Step 2: Load the data."
   ]
  },
  {
   "cell_type": "markdown",
   "metadata": {},
   "source": [
    "##### 4. Load the data into a list of lists"
   ]
  },
  {
   "cell_type": "code",
   "execution_count": 128,
   "metadata": {
    "collapsed": false
   },
   "outputs": [],
   "source": [
    "import numpy as np\n",
    "import scipy.stats as stats\n",
    "import csv\n",
    "import seaborn as sns\n",
    "import pandas as pd\n",
    "import math\n",
    "%matplotlib inline\n",
    "\n",
    "scores_csv_path = 'assets/sat_scores.csv'\n",
    "\n",
    "import csv\n",
    "rows = []\n",
    "with open(scores_csv_path, 'rU') as f:\n",
    "    reader = csv.reader(f)\n",
    "    for row in reader:\n",
    "        rows.append(row)\n",
    "\n",
    "\n"
   ]
  },
  {
   "cell_type": "markdown",
   "metadata": {},
   "source": [
    "##### 5. Print the data"
   ]
  },
  {
   "cell_type": "code",
   "execution_count": 150,
   "metadata": {
    "collapsed": false
   },
   "outputs": [
    {
     "data": {
      "text/plain": [
       "[['State', 'Rate', 'Verbal', 'Math'],\n",
       " ['CT', '82', '509', '510'],\n",
       " ['NJ', '81', '499', '513'],\n",
       " ['MA', '79', '511', '515'],\n",
       " ['NY', '77', '495', '505'],\n",
       " ['NH', '72', '520', '516'],\n",
       " ['RI', '71', '501', '499'],\n",
       " ['PA', '71', '500', '499'],\n",
       " ['VT', '69', '511', '506'],\n",
       " ['ME', '69', '506', '500'],\n",
       " ['VA', '68', '510', '501'],\n",
       " ['DE', '67', '501', '499'],\n",
       " ['MD', '65', '508', '510'],\n",
       " ['NC', '65', '493', '499'],\n",
       " ['GA', '63', '491', '489'],\n",
       " ['IN', '60', '499', '501'],\n",
       " ['SC', '57', '486', '488'],\n",
       " ['DC', '56', '482', '474'],\n",
       " ['OR', '55', '526', '526'],\n",
       " ['FL', '54', '498', '499'],\n",
       " ['WA', '53', '527', '527'],\n",
       " ['TX', '53', '493', '499'],\n",
       " ['HI', '52', '485', '515'],\n",
       " ['AK', '51', '514', '510'],\n",
       " ['CA', '51', '498', '517'],\n",
       " ['AZ', '34', '523', '525'],\n",
       " ['NV', '33', '509', '515'],\n",
       " ['CO', '31', '539', '542'],\n",
       " ['OH', '26', '534', '439'],\n",
       " ['MT', '23', '539', '539'],\n",
       " ['WV', '18', '527', '512'],\n",
       " ['ID', '17', '543', '542'],\n",
       " ['TN', '13', '562', '553'],\n",
       " ['NM', '13', '551', '542'],\n",
       " ['IL', '12', '576', '589'],\n",
       " ['KY', '12', '550', '550'],\n",
       " ['WY', '11', '547', '545'],\n",
       " ['MI', '11', '561', '572'],\n",
       " ['MN', '9', '580', '589'],\n",
       " ['KS', '9', '577', '580'],\n",
       " ['AL', '9', '559', '554'],\n",
       " ['NE', '8', '562', '568'],\n",
       " ['OK', '8', '567', '561'],\n",
       " ['MO', '8', '577', '577'],\n",
       " ['LA', '7', '564', '562'],\n",
       " ['WI', '6', '584', '596'],\n",
       " ['AR', '6', '562', '550'],\n",
       " ['UT', '5', '575', '570'],\n",
       " ['IA', '5', '593', '603'],\n",
       " ['SD', '4', '577', '582'],\n",
       " ['ND', '4', '592', '599'],\n",
       " ['MS', '4', '566', '551'],\n",
       " ['All', '45', '506', '514']]"
      ]
     },
     "execution_count": 150,
     "metadata": {},
     "output_type": "execute_result"
    }
   ],
   "source": [
    "rows"
   ]
  },
  {
   "cell_type": "markdown",
   "metadata": {
    "collapsed": true
   },
   "source": [
    "##### 6. Extract a list of the labels from the data, and remove them from the data."
   ]
  },
  {
   "cell_type": "code",
   "execution_count": 154,
   "metadata": {
    "collapsed": false
   },
   "outputs": [
    {
     "data": {
      "text/plain": [
       "[['CT', '82', '509', '510'],\n",
       " ['NJ', '81', '499', '513'],\n",
       " ['MA', '79', '511', '515'],\n",
       " ['NY', '77', '495', '505'],\n",
       " ['NH', '72', '520', '516'],\n",
       " ['RI', '71', '501', '499'],\n",
       " ['PA', '71', '500', '499'],\n",
       " ['VT', '69', '511', '506'],\n",
       " ['ME', '69', '506', '500'],\n",
       " ['VA', '68', '510', '501'],\n",
       " ['DE', '67', '501', '499'],\n",
       " ['MD', '65', '508', '510'],\n",
       " ['NC', '65', '493', '499'],\n",
       " ['GA', '63', '491', '489'],\n",
       " ['IN', '60', '499', '501'],\n",
       " ['SC', '57', '486', '488'],\n",
       " ['DC', '56', '482', '474'],\n",
       " ['OR', '55', '526', '526'],\n",
       " ['FL', '54', '498', '499'],\n",
       " ['WA', '53', '527', '527'],\n",
       " ['TX', '53', '493', '499'],\n",
       " ['HI', '52', '485', '515'],\n",
       " ['AK', '51', '514', '510'],\n",
       " ['CA', '51', '498', '517'],\n",
       " ['AZ', '34', '523', '525'],\n",
       " ['NV', '33', '509', '515'],\n",
       " ['CO', '31', '539', '542'],\n",
       " ['OH', '26', '534', '439'],\n",
       " ['MT', '23', '539', '539'],\n",
       " ['WV', '18', '527', '512'],\n",
       " ['ID', '17', '543', '542'],\n",
       " ['TN', '13', '562', '553'],\n",
       " ['NM', '13', '551', '542'],\n",
       " ['IL', '12', '576', '589'],\n",
       " ['KY', '12', '550', '550'],\n",
       " ['WY', '11', '547', '545'],\n",
       " ['MI', '11', '561', '572'],\n",
       " ['MN', '9', '580', '589'],\n",
       " ['KS', '9', '577', '580'],\n",
       " ['AL', '9', '559', '554'],\n",
       " ['NE', '8', '562', '568'],\n",
       " ['OK', '8', '567', '561'],\n",
       " ['MO', '8', '577', '577'],\n",
       " ['LA', '7', '564', '562'],\n",
       " ['WI', '6', '584', '596'],\n",
       " ['AR', '6', '562', '550'],\n",
       " ['UT', '5', '575', '570'],\n",
       " ['IA', '5', '593', '603'],\n",
       " ['SD', '4', '577', '582'],\n",
       " ['ND', '4', '592', '599'],\n",
       " ['MS', '4', '566', '551'],\n",
       " ['All', '45', '506', '514']]"
      ]
     },
     "execution_count": 154,
     "metadata": {},
     "output_type": "execute_result"
    }
   ],
   "source": [
    "#create a dataframe\n",
    "#df = pd.read_csv(scores_csv_path)\n",
    "#df[0:5]\n",
    "#list_labels = list(df.columns.values)\n",
    "#list_labels\n",
    "#remove_labels = df[1:]\n",
    "#remove_labels\n",
    "#df[df.columns[1:]]\n",
    "#x1=df.drop(df.columns[1:], axis=1)\n",
    "#x1\n",
    "#axis=1 works on columns --not rows\n",
    "list_labels = rows[0]\n",
    "list_labels\n",
    "remove_labels = rows[1:]\n",
    "remove_labels"
   ]
  },
  {
   "cell_type": "code",
   "execution_count": null,
   "metadata": {
    "collapsed": true
   },
   "outputs": [],
   "source": [
    "# 7. Create a list of State names extracted from the data. (Hint: use the list of labels to index on the State column)"
   ]
  },
  {
   "cell_type": "code",
   "execution_count": 124,
   "metadata": {
    "collapsed": false
   },
   "outputs": [
    {
     "name": "stdout",
     "output_type": "stream",
     "text": [
      "['NJ', 'MA', 'NY', 'NH', 'RI', 'PA', 'VT', 'ME', 'VA', 'DE', 'MD', 'NC', 'GA', 'IN', 'SC', 'DC', 'OR', 'FL', 'WA', 'TX', 'HI', 'AK', 'CA', 'AZ', 'NV', 'CO', 'OH', 'MT', 'WV', 'ID', 'TN', 'NM', 'IL', 'KY', 'WY', 'MI', 'MN', 'KS', 'AL', 'NE', 'OK', 'MO', 'LA', 'WI', 'AR', 'UT', 'IA', 'SD', 'ND', 'MS', 'All']\n"
     ]
    }
   ],
   "source": [
    "#indexed_df = df.set_index(['State'])\n",
    "#indexed_df\n",
    "\n",
    "#rows= np.array(rows)\n",
    "\n",
    "list1 = []\n",
    "for i in rows:\n",
    "    list1.append((i[0]))\n",
    "    \n",
    "print(list1)"
   ]
  },
  {
   "cell_type": "markdown",
   "metadata": {},
   "source": [
    "##### 8. Print the types of each column"
   ]
  },
  {
   "cell_type": "code",
   "execution_count": 149,
   "metadata": {
    "collapsed": false
   },
   "outputs": [
    {
     "data": {
      "text/plain": [
       "list"
      ]
     },
     "execution_count": 149,
     "metadata": {},
     "output_type": "execute_result"
    }
   ],
   "source": [
    "x1=type(rows[0])\n",
    "x1"
   ]
  },
  {
   "cell_type": "markdown",
   "metadata": {},
   "source": [
    "##### 9. Do any types need to be reassigned? If so, go ahead and do it."
   ]
  },
  {
   "cell_type": "code",
   "execution_count": null,
   "metadata": {
    "collapsed": false
   },
   "outputs": [],
   "source": []
  },
  {
   "cell_type": "markdown",
   "metadata": {},
   "source": [
    "##### 10. Create a dictionary for each column mapping the State to its respective value for that column. "
   ]
  },
  {
   "cell_type": "code",
   "execution_count": 148,
   "metadata": {
    "collapsed": false
   },
   "outputs": [
    {
     "ename": "IndentationError",
     "evalue": "expected an indented block (<ipython-input-148-13dc399bfbeb>, line 5)",
     "output_type": "error",
     "traceback": [
      "\u001b[0;36m  File \u001b[0;32m\"<ipython-input-148-13dc399bfbeb>\"\u001b[0;36m, line \u001b[0;32m5\u001b[0m\n\u001b[0;31m    sales_data[column_name].append(row[index])\u001b[0m\n\u001b[0m             ^\u001b[0m\n\u001b[0;31mIndentationError\u001b[0m\u001b[0;31m:\u001b[0m expected an indented block\n"
     ]
    }
   ],
   "source": [
    " sales_data ={}\n",
    "for index,column_name in enumerate(header):\n",
    "    sales_data[column_name] = []\n",
    "    for row in rows:\n",
    "    sales_data[column_name].append(row[index])"
   ]
  },
  {
   "cell_type": "markdown",
   "metadata": {},
   "source": [
    "##### 11. Create a dictionary with the values for each of the numeric columns"
   ]
  },
  {
   "cell_type": "code",
   "execution_count": null,
   "metadata": {
    "collapsed": false
   },
   "outputs": [],
   "source": []
  },
  {
   "cell_type": "markdown",
   "metadata": {},
   "source": [
    "## Step 3: Describe the data"
   ]
  },
  {
   "cell_type": "markdown",
   "metadata": {},
   "source": [
    "##### 12. Print the min and max of each column"
   ]
  },
  {
   "cell_type": "code",
   "execution_count": 129,
   "metadata": {
    "collapsed": false
   },
   "outputs": [
    {
     "ename": "AttributeError",
     "evalue": "'module' object has no attribute 'max'",
     "output_type": "error",
     "traceback": [
      "\u001b[0;31m---------------------------------------------------------------------------\u001b[0m",
      "\u001b[0;31mAttributeError\u001b[0m                            Traceback (most recent call last)",
      "\u001b[0;32m<ipython-input-129-80ec88e8243a>\u001b[0m in \u001b[0;36m<module>\u001b[0;34m()\u001b[0m\n\u001b[0;32m----> 1\u001b[0;31m \u001b[0mmax1\u001b[0m\u001b[0;34m=\u001b[0m \u001b[0mmath\u001b[0m\u001b[0;34m.\u001b[0m\u001b[0mmax\u001b[0m\u001b[0;34m(\u001b[0m\u001b[0mrows\u001b[0m\u001b[0;34m)\u001b[0m\u001b[0;34m\u001b[0m\u001b[0m\n\u001b[0m",
      "\u001b[0;31mAttributeError\u001b[0m: 'module' object has no attribute 'max'"
     ]
    }
   ],
   "source": [
    "max1= math.max(rows)"
   ]
  },
  {
   "cell_type": "markdown",
   "metadata": {},
   "source": [
    "##### 13. Write a function using only list comprehensions, no loops, to compute Standard Deviation. Print the Standard Deviation of each numeric column."
   ]
  },
  {
   "cell_type": "code",
   "execution_count": null,
   "metadata": {
    "collapsed": false
   },
   "outputs": [],
   "source": []
  },
  {
   "cell_type": "markdown",
   "metadata": {},
   "source": [
    "## Step 4: Visualize the data"
   ]
  },
  {
   "cell_type": "markdown",
   "metadata": {
    "collapsed": true
   },
   "source": [
    "##### 14. Using MatPlotLib and PyPlot, plot the distribution of the Rate using histograms."
   ]
  },
  {
   "cell_type": "code",
   "execution_count": null,
   "metadata": {
    "collapsed": false
   },
   "outputs": [],
   "source": []
  },
  {
   "cell_type": "markdown",
   "metadata": {},
   "source": [
    "##### 15. Plot the Math distribution"
   ]
  },
  {
   "cell_type": "code",
   "execution_count": null,
   "metadata": {
    "collapsed": false
   },
   "outputs": [],
   "source": []
  },
  {
   "cell_type": "markdown",
   "metadata": {},
   "source": [
    "##### 16. Plot the Verbal distribution"
   ]
  },
  {
   "cell_type": "code",
   "execution_count": null,
   "metadata": {
    "collapsed": false
   },
   "outputs": [],
   "source": []
  },
  {
   "cell_type": "markdown",
   "metadata": {},
   "source": [
    "##### 17. What is the typical assumption for data distribution?"
   ]
  },
  {
   "cell_type": "code",
   "execution_count": null,
   "metadata": {
    "collapsed": false
   },
   "outputs": [],
   "source": []
  },
  {
   "cell_type": "markdown",
   "metadata": {},
   "source": [
    "##### 18. Does that distribution hold true for our data?"
   ]
  },
  {
   "cell_type": "code",
   "execution_count": null,
   "metadata": {
    "collapsed": false
   },
   "outputs": [],
   "source": []
  },
  {
   "cell_type": "markdown",
   "metadata": {},
   "source": [
    "##### 19. Plot some scatterplots. **BONUS**: Use a PyPlot `figure` to present multiple plots at once."
   ]
  },
  {
   "cell_type": "code",
   "execution_count": null,
   "metadata": {
    "collapsed": false
   },
   "outputs": [],
   "source": []
  },
  {
   "cell_type": "markdown",
   "metadata": {},
   "source": [
    "##### 20. Are there any interesting relationships to note?"
   ]
  },
  {
   "cell_type": "code",
   "execution_count": null,
   "metadata": {
    "collapsed": false
   },
   "outputs": [],
   "source": []
  },
  {
   "cell_type": "markdown",
   "metadata": {},
   "source": [
    "##### 21. Create box plots for each variable. "
   ]
  },
  {
   "cell_type": "code",
   "execution_count": null,
   "metadata": {
    "collapsed": false
   },
   "outputs": [],
   "source": []
  },
  {
   "cell_type": "markdown",
   "metadata": {},
   "source": [
    "##### BONUS: Using Tableau, create a heat map for each variable using a map of the US. "
   ]
  },
  {
   "cell_type": "code",
   "execution_count": null,
   "metadata": {
    "collapsed": true
   },
   "outputs": [],
   "source": []
  }
 ],
 "metadata": {
  "anaconda-cloud": {},
  "kernelspec": {
   "display_name": "Python [default]",
   "language": "python",
   "name": "python2"
  },
  "language_info": {
   "codemirror_mode": {
    "name": "ipython",
    "version": 2
   },
   "file_extension": ".py",
   "mimetype": "text/x-python",
   "name": "python",
   "nbconvert_exporter": "python",
   "pygments_lexer": "ipython2",
   "version": "2.7.12"
  }
 },
 "nbformat": 4,
 "nbformat_minor": 0
}
